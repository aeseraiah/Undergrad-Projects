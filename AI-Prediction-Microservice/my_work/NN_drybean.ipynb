{
  "cells": [
    {
      "cell_type": "code",
      "execution_count": null,
      "metadata": {
        "id": "peHhCUDbHQrb",
        "trusted": true
      },
      "outputs": [],
      "source": [
        "%matplotlib inline"
      ]
    },
    {
      "cell_type": "code",
      "execution_count": 2,
      "metadata": {
        "id": "jYzWNZWUL3xH"
      },
      "outputs": [
        {
          "ename": "ModuleNotFoundError",
          "evalue": "No module named 'tensorflow'",
          "output_type": "error",
          "traceback": [
            "\u001b[1;31m---------------------------------------------------------------------------\u001b[0m",
            "\u001b[1;31mModuleNotFoundError\u001b[0m                       Traceback (most recent call last)",
            "\u001b[1;32mc:\\Users\\7teal\\Coding Projects\\Undergrad-Projects\\AI-Prediction-Microservice\\my_work\\NN_drybean.ipynb Cell 2'\u001b[0m in \u001b[0;36m<cell line: 1>\u001b[1;34m()\u001b[0m\n\u001b[1;32m----> <a href='vscode-notebook-cell:/c%3A/Users/7teal/Coding%20Projects/Undergrad-Projects/AI-Prediction-Microservice/my_work/NN_drybean.ipynb#ch0000001?line=0'>1</a>\u001b[0m \u001b[39mimport\u001b[39;00m \u001b[39mtensorflow\u001b[39;00m \u001b[39mas\u001b[39;00m \u001b[39mtf\u001b[39;00m\n\u001b[0;32m      <a href='vscode-notebook-cell:/c%3A/Users/7teal/Coding%20Projects/Undergrad-Projects/AI-Prediction-Microservice/my_work/NN_drybean.ipynb#ch0000001?line=1'>2</a>\u001b[0m \u001b[39mimport\u001b[39;00m \u001b[39mmatplotlib\u001b[39;00m\u001b[39m.\u001b[39;00m\u001b[39mpyplot\u001b[39;00m \u001b[39mas\u001b[39;00m \u001b[39mplt\u001b[39;00m\n\u001b[0;32m      <a href='vscode-notebook-cell:/c%3A/Users/7teal/Coding%20Projects/Undergrad-Projects/AI-Prediction-Microservice/my_work/NN_drybean.ipynb#ch0000001?line=2'>3</a>\u001b[0m \u001b[39mimport\u001b[39;00m \u001b[39mseaborn\u001b[39;00m \u001b[39mas\u001b[39;00m \u001b[39msns\u001b[39;00m\n",
            "\u001b[1;31mModuleNotFoundError\u001b[0m: No module named 'tensorflow'"
          ]
        }
      ],
      "source": [
        "import tensorflow as tf\n",
        "import matplotlib.pyplot as plt\n",
        "import seaborn as sns\n",
        "import numpy as np\n",
        "import pandas as pd\n",
        "\n",
        "from sklearn import linear_model\n",
        "from sklearn.ensemble import RandomForestClassifier\n",
        "from sklearn.model_selection import GridSearchCV\n",
        "from tensorflow.keras.utils import to_categorical\n",
        "from sklearn import datasets\n",
        "from sklearn.pipeline import Pipeline\n",
        "from joblib import dump,load\n",
        "from tensorflow.keras.models import Sequential\n",
        "from tensorflow.keras.layers import Input, Dense, Dropout\n",
        "from sklearn.ensemble import RandomForestClassifier, AdaBoostClassifier\n",
        "from imblearn.over_sampling import SMOTE\n",
        "from sklearn.preprocessing import LabelEncoder\n",
        "from sklearn.model_selection import train_test_split, GridSearchCV\n",
        "from sklearn.svm import SVC\n",
        "from sklearn.ensemble import RandomForestClassifier, AdaBoostClassifier\n",
        "from sklearn.metrics import accuracy_score, f1_score, classification_report, confusion_matrix, make_scorer"
      ]
    },
    {
      "cell_type": "code",
      "execution_count": 3,
      "metadata": {
        "colab": {
          "base_uri": "https://localhost:8080/"
        },
        "id": "KP28mtz1H9JB",
        "outputId": "fe192627-375e-4b3e-d620-832fdfdce360"
      },
      "outputs": [
        {
          "name": "stdout",
          "output_type": "stream",
          "text": [
            "Mounted at /content/gdrive\n"
          ]
        }
      ],
      "source": [
        "from google.colab import drive\n",
        "drive.mount('/content/gdrive')"
      ]
    },
    {
      "cell_type": "code",
      "execution_count": 4,
      "metadata": {
        "colab": {
          "base_uri": "https://localhost:8080/"
        },
        "id": "xOKaVzQ1IEDR",
        "outputId": "15f850e7-b064-42d9-d253-e23cb111f78d"
      },
      "outputs": [
        {
          "name": "stdout",
          "output_type": "stream",
          "text": [
            "gdrive\tsample_data\n",
            "/content/gdrive/MyDrive/E222_project/DryBeanDataset\n"
          ]
        }
      ],
      "source": [
        "!ls\n",
        "%cd /content/gdrive/MyDrive/E222_project/DryBeanDataset/"
      ]
    },
    {
      "cell_type": "code",
      "execution_count": 5,
      "metadata": {
        "id": "VJqesar1IIVS"
      },
      "outputs": [],
      "source": [
        "import pandas as pd\n",
        "dry_beans_dataset = pd.read_excel(r'Dry_Bean_Dataset.xlsx')"
      ]
    },
    {
      "cell_type": "code",
      "execution_count": 6,
      "metadata": {
        "id": "YwCMSidXHQrn",
        "trusted": true
      },
      "outputs": [],
      "source": [
        "dry_beans_dataset.rename(columns = {\"Area\": \"area\", \"Perimeter\": \"perimeter\", \"MajorAxisLength\": \"major_axis_length\", \"MinorAxisLength\": \"minor_axis_length\", \"AspectRation\": \"aspect_ratio\", \"Eccentricity\": \"eccentricity\", \"ConvexArea\": \"convex_area\", \"EquivDiameter\": \"equiv_diameter\", \"Extent\": \"extent\", \"Solidity\": \"solidity\", \"roundness\": \"roundness\", \"Compactness\": \"compactness\", \"ShapeFactor1\": \"shape_factor_1\", \"ShapeFactor2\": \"shape_factor_2\", \"ShapeFactor3\": \"shape_factor_3\", \"ShapeFactor4\": \"shape_factor_4\", \"Class\": \"Class\"}, inplace = True)"
      ]
    },
    {
      "cell_type": "code",
      "execution_count": 7,
      "metadata": {
        "id": "waolio8sHQrv",
        "trusted": true
      },
      "outputs": [],
      "source": [
        "def separate_features_from_labels(dataset):\n",
        "    \"\"\"\n",
        "    Function: separates features from labels (classes).\n",
        "    \n",
        "    Parameters: dataset.\n",
        "    \n",
        "    Returns: tuple of features and labels as np.array.\n",
        "    \"\"\"\n",
        "    return (dataset.drop(\"Class\", axis = 1).values, dataset[\"Class\"].values)"
      ]
    },
    {
      "cell_type": "code",
      "execution_count": null,
      "metadata": {
        "id": "WpAmLVIyHQrw",
        "trusted": true
      },
      "outputs": [],
      "source": [
        "(features, labels) = separate_features_from_labels(dry_beans_dataset)"
      ]
    },
    {
      "cell_type": "code",
      "execution_count": 10,
      "metadata": {
        "id": "EAIbKp-CHQrw",
        "trusted": true
      },
      "outputs": [],
      "source": [
        "#testing data = 10%, validation data = 10%, training data = 80% \n",
        "trval_features, test_features, trval_labels, test_labels = train_test_split(features, labels, test_size = 0.10, stratify = labels, random_state = 42)\n",
        "\n",
        "train_features, val_features, train_labels, val_labels = train_test_split(trval_features, trval_labels, test_size = len(test_labels), stratify = trval_labels, random_state = 42)"
      ]
    },
    {
      "cell_type": "code",
      "execution_count": null,
      "metadata": {
        "id": "Gq7lq4mbBXu1"
      },
      "outputs": [],
      "source": [
        "print(len(test_labels))\n",
        "print(len(test_features))\n",
        "print(len(trval_features))\n",
        "print(len(val_features))"
      ]
    },
    {
      "cell_type": "code",
      "execution_count": 10,
      "metadata": {
        "colab": {
          "base_uri": "https://localhost:8080/"
        },
        "id": "EYOXGmF0HQrx",
        "outputId": "4124a72b-64cd-4e4d-8650-7c6f103357d0",
        "trusted": true
      },
      "outputs": [
        {
          "data": {
            "text/plain": [
              "((10887, 16), (10887,), (1362, 16), (1362,), (1362, 16), (1362,))"
            ]
          },
          "execution_count": 10,
          "metadata": {},
          "output_type": "execute_result"
        }
      ],
      "source": [
        "#proving the 80, 10, 10\n",
        "train_features.shape, train_labels.shape, val_features.shape, val_labels.shape, test_features.shape, test_labels.shape"
      ]
    },
    {
      "cell_type": "code",
      "execution_count": 11,
      "metadata": {
        "id": "FT3VclSTHQrz",
        "trusted": true
      },
      "outputs": [],
      "source": [
        "def min_max_scaler(features):\n",
        "    \"\"\"\n",
        "    Function: scales values betweeb 0 and 1.\n",
        "    \n",
        "    Parameters: dataset as an NumPy array.\n",
        "    \n",
        "    Returns: scaled NumPy array in float32 dtype.\n",
        "    \"\"\"\n",
        "    max_n = np.max(features)\n",
        "    min_n = np.min(features)\n",
        "    features_scaled = np.array([(x - min_n) / (max_n - min_n) for x in features])\n",
        "    return features_scaled.astype(\"float32\")"
      ]
    },
    {
      "cell_type": "code",
      "execution_count": 12,
      "metadata": {
        "id": "IgF4mm9pHQr0",
        "trusted": true
      },
      "outputs": [],
      "source": [
        "train_features = min_max_scaler(train_features)\n",
        "val_features = min_max_scaler(val_features)\n",
        "test_features = min_max_scaler(test_features)"
      ]
    },
    {
      "cell_type": "code",
      "execution_count": 13,
      "metadata": {
        "colab": {
          "base_uri": "https://localhost:8080/"
        },
        "id": "Z1fg3eJiHQr0",
        "outputId": "d569b42f-6e67-4471-e125-f73e85ac2203",
        "trusted": true
      },
      "outputs": [
        {
          "data": {
            "text/plain": [
              "(0.0, 1.0, dtype('float32'))"
            ]
          },
          "execution_count": 13,
          "metadata": {},
          "output_type": "execute_result"
        }
      ],
      "source": [
        "train_features.min(), train_features.max(), train_features.dtype"
      ]
    },
    {
      "cell_type": "code",
      "execution_count": 14,
      "metadata": {
        "id": "qms5BMqKHQr0",
        "trusted": true
      },
      "outputs": [],
      "source": [
        "train_labels_np = pd.get_dummies(train_labels).to_numpy()\n",
        "val_labels_np = pd.get_dummies(val_labels).to_numpy()\n",
        "test_labels_np = pd.get_dummies(test_labels).to_numpy()"
      ]
    },
    {
      "cell_type": "code",
      "execution_count": null,
      "metadata": {
        "id": "65mI-ju5FIUP"
      },
      "outputs": [],
      "source": [
        "print(val_labels_np)"
      ]
    },
    {
      "cell_type": "code",
      "execution_count": null,
      "metadata": {
        "id": "gqHD3BLcHQr1",
        "trusted": true
      },
      "outputs": [],
      "source": [
        "print(train_labels_np)"
      ]
    },
    {
      "cell_type": "code",
      "execution_count": null,
      "metadata": {
        "id": "xcLPWNiKrv24"
      },
      "outputs": [],
      "source": [
        "print(labels)"
      ]
    },
    {
      "cell_type": "code",
      "execution_count": null,
      "metadata": {
        "id": "F9614jrFHJMO"
      },
      "outputs": [],
      "source": [
        "print(test_labels_np)"
      ]
    },
    {
      "cell_type": "code",
      "execution_count": 15,
      "metadata": {
        "id": "Xru4xYn0HQr1",
        "trusted": true
      },
      "outputs": [],
      "source": [
        "le = LabelEncoder()"
      ]
    },
    {
      "cell_type": "code",
      "execution_count": 16,
      "metadata": {
        "id": "gLReE44nHQr1",
        "trusted": true
      },
      "outputs": [],
      "source": [
        "train_labels_enc = le.fit_transform(train_labels)\n",
        "val_labels_enc = le.fit_transform(val_labels)\n",
        "test_labels_enc = le.fit_transform(test_labels)"
      ]
    },
    {
      "cell_type": "code",
      "execution_count": null,
      "metadata": {
        "id": "H5DIIs_NN4bP"
      },
      "outputs": [],
      "source": [
        "#NEWLINE\n",
        "labels_enc = le.fit_transform(labels)\n",
        "print(labels_enc)"
      ]
    },
    {
      "cell_type": "code",
      "execution_count": null,
      "metadata": {
        "id": "aurbWgSZHQr1",
        "trusted": true
      },
      "outputs": [],
      "source": [
        "print(train_labels_enc)"
      ]
    },
    {
      "cell_type": "code",
      "execution_count": null,
      "metadata": {
        "id": "LTsbhd3RHZul"
      },
      "outputs": [],
      "source": [
        "print(test_labels_enc)"
      ]
    },
    {
      "cell_type": "code",
      "execution_count": null,
      "metadata": {
        "id": "dul8VxJpHdld"
      },
      "outputs": [],
      "source": [
        "print(val_labels_enc)"
      ]
    },
    {
      "cell_type": "code",
      "execution_count": 20,
      "metadata": {
        "id": "Y8A0qTuEHQr2",
        "trusted": true
      },
      "outputs": [],
      "source": [
        "tf.keras.backend.clear_session()"
      ]
    },
    {
      "cell_type": "code",
      "execution_count": 21,
      "metadata": {
        "id": "HxYKtamMHQr2",
        "trusted": true
      },
      "outputs": [],
      "source": [
        "input_shape = train_features.shape[1]"
      ]
    },
    {
      "cell_type": "code",
      "execution_count": 22,
      "metadata": {
        "id": "_SekWKWfHQr2",
        "trusted": true
      },
      "outputs": [],
      "source": [
        "model = Sequential([\n",
        "    Input(input_shape),\n",
        "    Dense(64, activation = \"relu\"),\n",
        "    Dropout(0.1),\n",
        "    Dense(128, activation = \"relu\"),\n",
        "    Dropout(0.1),\n",
        "    Dense(256, activation = \"relu\"),\n",
        "    Dropout(0.1),\n",
        "    Dense(512, activation = \"relu\"),\n",
        "    Dropout(0.1),\n",
        "    Dense(256, activation = \"relu\"),\n",
        "    Dropout(0.1),\n",
        "    Dense(128, activation = \"relu\"),\n",
        "    Dropout(0.1),\n",
        "    Dense(64, activation = \"relu\"),\n",
        "    Dense(7, activation = \"softmax\")\n",
        "])"
      ]
    },
    {
      "cell_type": "code",
      "execution_count": null,
      "metadata": {
        "id": "mjF3Wod-HQr3",
        "trusted": true
      },
      "outputs": [],
      "source": [
        "model.summary()"
      ]
    },
    {
      "cell_type": "code",
      "execution_count": null,
      "metadata": {
        "id": "KFxEqz_iHQr3",
        "trusted": true
      },
      "outputs": [],
      "source": [
        "model.compile(loss = \"categorical_crossentropy\",\n",
        "             optimizer = tf.keras.optimizers.Adam(learning_rate = 0.00001),\n",
        "             metrics = [\"accuracy\"])"
      ]
    },
    {
      "cell_type": "code",
      "execution_count": null,
      "metadata": {
        "id": "QOMlC026HQr3",
        "trusted": true
      },
      "outputs": [],
      "source": [
        "history = model.fit(train_features, train_labels_np,\n",
        "         epochs = 50,\n",
        "         validation_data = (val_features, val_labels_np), verbose = 0)"
      ]
    },
    {
      "cell_type": "code",
      "execution_count": null,
      "metadata": {
        "id": "1umlKCR6lrV0"
      },
      "outputs": [],
      "source": [
        "history = ada.fit(train_features, train_labels_np,\n",
        "         epochs = 50,\n",
        "         validation_data = (val_features, val_labels_np), verbose = 0)"
      ]
    },
    {
      "cell_type": "code",
      "execution_count": null,
      "metadata": {
        "id": "0V24najJHQr4",
        "trusted": true
      },
      "outputs": [],
      "source": [
        "# Plot loss dynamics \n",
        "plt.plot(history.history[\"loss\"], label = \"loss\")\n",
        "plt.plot(history.history[\"val_loss\"], label = \"validation loss\")\n",
        "plt.xlabel(\"Epochs\")\n",
        "plt.ylabel(\"Loss\")\n",
        "plt.legend()\n",
        "plt.title(\"Change of training and validation loss over time\")\n",
        "plt.show()"
      ]
    },
    {
      "cell_type": "code",
      "execution_count": null,
      "metadata": {
        "colab": {
          "base_uri": "https://localhost:8080/",
          "height": 295
        },
        "id": "60HScMm8HQr4",
        "outputId": "1813abe8-8150-4140-84c4-5024b1b91c2e",
        "trusted": true
      },
      "outputs": [
        {
          "data": {
            "image/png": "[encoded data removed]",
            "text/plain": [
              "<Figure size 432x288 with 1 Axes>"
            ]
          },
          "metadata": {
            "needs_background": "light"
          },
          "output_type": "display_data"
        }
      ],
      "source": [
        "# Plot accuracy dynamics\n",
        "plt.plot(history.history[\"accuracy\"], label = \"accuracy\")\n",
        "plt.plot(history.history[\"val_accuracy\"], label = \"validation accuracy\")\n",
        "plt.xlabel(\"Epochs\")\n",
        "plt.ylabel(\"Accuracy\")\n",
        "plt.legend()\n",
        "plt.title(\"Change of training and validation accuracy over time\")\n",
        "plt.show()"
      ]
    },
    {
      "cell_type": "code",
      "execution_count": null,
      "metadata": {
        "id": "hB8TsfCgHQr5",
        "trusted": true
      },
      "outputs": [],
      "source": [
        "model_performance = model.evaluate(test_features, test_labels_np)"
      ]
    },
    {
      "cell_type": "code",
      "execution_count": null,
      "metadata": {
        "colab": {
          "base_uri": "https://localhost:8080/"
        },
        "id": "HhEpaHVvHQr5",
        "outputId": "55073d18-55c4-4574-a5f2-137be03c1df2",
        "trusted": true
      },
      "outputs": [
        {
          "name": "stdout",
          "output_type": "stream",
          "text": [
            "Model loss on testing data is 1.0262809991836548\n",
            "Model accuracy on testing data is 56.02055788040161%\n"
          ]
        }
      ],
      "source": [
        "print(f\"Model loss on testing data is {model_performance[0]}\")\n",
        "print(f\"Model accuracy on testing data is {model_performance[1]*100}%\")"
      ]
    },
    {
      "cell_type": "code",
      "execution_count": null,
      "metadata": {
        "id": "pJfo4DgKHQr6",
        "trusted": true
      },
      "outputs": [],
      "source": [
        "f1 = make_scorer(f1_score , average = \"weighted\")"
      ]
    },
    {
      "cell_type": "code",
      "execution_count": null,
      "metadata": {
        "id": "sqkK36aMHQr6",
        "trusted": true
      },
      "outputs": [],
      "source": [
        "params_ada = {\n",
        "    \"n_estimators\": [5, 10, 15, 20],\n",
        "    \"learning_rate\": [0.4, 0.6, 0.8, 1.0]\n",
        "}"
      ]
    },
    {
      "cell_type": "code",
      "execution_count": null,
      "metadata": {
        "id": "AHv8jck3HQr6",
        "trusted": true
      },
      "outputs": [],
      "source": [
        "gs_ada = GridSearchCV(AdaBoostClassifier(base_estimator = RandomForestClassifier(max_depth = 10, n_estimators = 20, random_state = 42)), param_grid = params_ada, scoring = f1, cv = 4, n_jobs = -1)"
      ]
    },
    {
      "cell_type": "code",
      "execution_count": null,
      "metadata": {
        "id": "I7UGPZ-wHQr7",
        "trusted": true
      },
      "outputs": [],
      "source": [
        "gs_ada.fit(train_features, train_labels_enc)"
      ]
    },
    {
      "cell_type": "code",
      "execution_count": null,
      "metadata": {
        "id": "VxNCMhmeHQr7",
        "trusted": true
      },
      "outputs": [],
      "source": [
        "gs_ada.cv_results_"
      ]
    },
    {
      "cell_type": "code",
      "execution_count": null,
      "metadata": {
        "colab": {
          "base_uri": "https://localhost:8080/"
        },
        "id": "XsZvQ5CdHQr7",
        "outputId": "f3669ce7-7204-4a29-da66-4987c70b3aa4",
        "trusted": true
      },
      "outputs": [
        {
          "data": {
            "text/plain": [
              "{'learning_rate': 1.0, 'n_estimators': 5}"
            ]
          },
          "execution_count": 104,
          "metadata": {},
          "output_type": "execute_result"
        }
      ],
      "source": [
        "gs_ada.best_params_"
      ]
    },
    {
      "cell_type": "code",
      "execution_count": 32,
      "metadata": {
        "id": "_yDXZ0L7HQr8",
        "trusted": true
      },
      "outputs": [],
      "source": [
        "ada = AdaBoostClassifier(base_estimator = RandomForestClassifier(max_depth = 10, n_estimators = 20, random_state = 42), n_estimators = 20, learning_rate = 0.6, random_state = 42).fit(train_features, train_labels_enc)"
      ]
    },
    {
      "cell_type": "code",
      "execution_count": null,
      "metadata": {
        "colab": {
          "base_uri": "https://localhost:8080/"
        },
        "id": "826Fvy4HhYW4",
        "outputId": "5e555446-9951-4048-bc58-9b6326079979"
      },
      "outputs": [
        {
          "data": {
            "text/plain": [
              "['ada_model.pkl']"
            ]
          },
          "execution_count": 24,
          "metadata": {},
          "output_type": "execute_result"
        }
      ],
      "source": [
        "dump(ada, 'ada_model.pkl')"
      ]
    },
    {
      "cell_type": "code",
      "execution_count": 24,
      "metadata": {
        "id": "vmlpa6KuHQr8",
        "trusted": true
      },
      "outputs": [],
      "source": [
        "def classification_task(estimator, attributes, labels):\n",
        "    \"\"\"\n",
        "    Function: \"fit\", \"predict\" and \"score\" values of an estimator.\n",
        "    \n",
        "    Parameters: estimator, attributes (X) and labels (y).\n",
        "    \n",
        "    Returns: model's performance measured as accuracy and f1_score.\n",
        "    \"\"\"\n",
        "    estimator.fit(attributes, labels)\n",
        "    predictions = estimator.predict(attributes)\n",
        "    \n",
        "    #print(f\"Accuracy: {accuracy_score(labels, predictions)}\")\n",
        "    Accuracy = accuracy_score(labels, predictions)\n",
        "    print(Accuracy)\n",
        "    print(f\"F1 score: {f1_score(labels, predictions, average = 'weighted')}\")"
      ]
    },
    {
      "cell_type": "code",
      "execution_count": null,
      "metadata": {
        "id": "Sk1_CMoICnA_"
      },
      "outputs": [],
      "source": [
        "# Model performance on testing data\n",
        "classification_task(ada, test_features, test_labels_enc)"
      ]
    },
    {
      "cell_type": "code",
      "execution_count": 26,
      "metadata": {
        "colab": {
          "base_uri": "https://localhost:8080/"
        },
        "id": "nca-ByWpHQr8",
        "outputId": "6b163789-fb5b-465d-cf8e-a97556149113",
        "trusted": true
      },
      "outputs": [
        {
          "name": "stdout",
          "output_type": "stream",
          "text": [
            "0.9634426380086342\n",
            "F1 score: 0.9634454571448137\n"
          ]
        }
      ],
      "source": [
        "# Model performance on training data\n",
        "classification_task(ada, train_features, train_labels_enc)"
      ]
    },
    {
      "cell_type": "code",
      "execution_count": null,
      "metadata": {
        "id": "xSxY9o5de6O2"
      },
      "outputs": [],
      "source": [
        "ada.fit(train_features, train_labels_enc)\n",
        "train_prediction = ada.predict(train_features_1)\n",
        "var = accuracy_score(train_labels_enc, train_prediction)\n",
        "print(var)"
      ]
    },
    {
      "cell_type": "code",
      "execution_count": 25,
      "metadata": {
        "id": "sQGIVdJ1-3M4"
      },
      "outputs": [],
      "source": [
        "ada.fit(train_features, train_labels_enc)\n",
        "train_predictions = ada.predict(train_features)"
      ]
    },
    {
      "cell_type": "code",
      "execution_count": 26,
      "metadata": {
        "colab": {
          "base_uri": "https://localhost:8080/"
        },
        "id": "au3Tt_Uz8XBc",
        "outputId": "bbc2d8f5-1fc6-4e8b-9791-26d9c7e03f10"
      },
      "outputs": [
        {
          "name": "stdout",
          "output_type": "stream",
          "text": [
            "0.9634426380086342\n"
          ]
        }
      ],
      "source": [
        "var = accuracy_score(train_labels_enc, train_predictions)\n",
        "print(var)\n"
      ]
    },
    {
      "cell_type": "code",
      "execution_count": 42,
      "metadata": {
        "colab": {
          "base_uri": "https://localhost:8080/",
          "height": 680
        },
        "id": "XQ0J14HTQSc7",
        "outputId": "1297b8c8-fa8a-4cde-e901-cc709e5727c0"
      },
      "outputs": [
        {
          "name": "stderr",
          "output_type": "stream",
          "text": [
            "/usr/local/lib/python3.7/dist-packages/sklearn/base.py:444: UserWarning: X has feature names, but AdaBoostClassifier was fitted without feature names\n",
            "  f\"X has feature names, but {self.__class__.__name__} was fitted without\"\n"
          ]
        },
        {
          "data": {
            "text/plain": [
              "['[[104, 0, 28, 0, 0, 0, 0], [0, 52, 0, 0, 0, 0, 0], [15, 0, 146, 0, 2, 0, 0], [3, 0, 0, 83, 6, 39, 223], [3, 0, 27, 0, 161, 0, 2], [53, 0, 0, 0, 0, 147, 3], [126, 0, 29, 0, 33, 4, 72]]',\n",
              " '[[1011, 0, 43, 0, 1, 0, 3], [0, 418, 0, 0, 0, 0, 0], [22, 0, 1278, 0, 4, 0, 0], [0, 0, 0, 2720, 1, 27, 88], [3, 0, 7, 9, 1511, 0, 12], [0, 0, 0, 19, 0, 1590, 12], [0, 0, 0, 136, 4, 7, 1960]]',\n",
              " '0.56208670095518',\n",
              " '0.9634392798089289',\n",
              " 'hello',\n",
              " 'Again hello']"
            ]
          },
          "execution_count": 42,
          "metadata": {},
          "output_type": "execute_result"
        },
        {
          "data": {
            "image/png": "[encoded data removed]",
            "text/plain": [
              "<Figure size 432x288 with 2 Axes>"
            ]
          },
          "metadata": {
            "needs_background": "light"
          },
          "output_type": "display_data"
        },
        {
          "data": {
            "image/png": "[encoded data removed]",
            "text/plain": [
              "<Figure size 432x288 with 2 Axes>"
            ]
          },
          "metadata": {
            "needs_background": "light"
          },
          "output_type": "display_data"
        }
      ],
      "source": [
        "import numpy as np\n",
        "from joblib import load\n",
        "import json\n",
        "from sklearn import datasets\n",
        "import pandas as pd\n",
        "import os\n",
        "from flask import jsonify, render_template, request, redirect, url_for\n",
        "from flask import send_file\n",
        "from sklearn.metrics import accuracy_score, f1_score, confusion_matrix\n",
        "from sklearn.metrics import ConfusionMatrixDisplay\n",
        "import matplotlib.pyplot as plt\n",
        "\n",
        "UPLOAD_FOLDER='.'\n",
        "\n",
        "bean_label_data = pd.read_csv(\"class_labels_new.csv\", header=None)\n",
        "labels = bean_label_data.to_numpy()\n",
        "\n",
        "labels_csv = pd.read_csv(\"labels_new.csv\")\n",
        "labels_1 = labels_csv.to_numpy()\n",
        "\n",
        "test_labels_np = pd.read_csv(\"test_labels_np.csv\")\n",
        "test_labels_np_1 = test_labels_np.to_numpy()\n",
        "\n",
        "test_labels_enc = pd.read_csv(\"test_labels_enc.csv\")\n",
        "test_labels_enc_1 = test_labels_enc.to_numpy()\n",
        "\n",
        "train_labels_enc = pd.read_csv(\"train_labels_enc.csv\")\n",
        "train_labels_enc_1 = test_labels_enc.to_numpy()\n",
        "\n",
        "train_features = pd.read_csv(\"train_features.csv\")\n",
        "train_features_1 = train_features.to_numpy()\n",
        "\n",
        "\n",
        "\n",
        "def model_explanation(file_name):\n",
        "  my_model = load('ada_model.pkl')\n",
        "  missing_value=[\"Undefined\"]\n",
        "  user_arry = pd.read_csv(file_name, na_values=missing_value)\n",
        "  test_prediction = my_model.predict(user_arry)\n",
        "  train_prediction = my_model.predict(train_features_1)\n",
        "  test_accuracy = accuracy_score(test_labels_enc_1, test_prediction)\n",
        "  train_accuracy = accuracy_score(train_labels_enc, train_prediction)\n",
        "  train_accuracy = train_accuracy.tolist()\n",
        "  test_accuracy = test_accuracy.tolist()\n",
        "  train_scores_str = json.dumps(train_accuracy)\n",
        "  test_scores_str = json.dumps(test_accuracy)\n",
        "\n",
        "  test_results = confusion_matrix(test_labels_enc_1, test_prediction)\n",
        "  cm_display = ConfusionMatrixDisplay(test_results).plot()\n",
        "  plt.savefig(\"testing_cm.png\")\n",
        "  test_results = test_results.tolist()\n",
        "  cm_test_str = json.dumps(test_results)\n",
        " \n",
        "  train_results = confusion_matrix(train_labels_enc, train_prediction)\n",
        "  cm_display = ConfusionMatrixDisplay(train_results).plot()\n",
        "  plt.savefig(\"training_cm.png\")\n",
        "  train_results = train_results.tolist()\n",
        "  cm_train_str = json.dumps(train_results)\n",
        "  \n",
        "  \n",
        "\n",
        "  all_results = [cm_test_str, cm_train_str, test_scores_str, train_scores_str, \"hello\", \"Again hello\"]\n",
        "  return all_results\n",
        "  df = pd.DataFrame(all_results)\n",
        "  a = df.to_csv(\"input_and_training_results.csv\")\n",
        "  new_json = df.to_json\n",
        "  return new_json\n",
        "  path = os.path.join(UPLOAD_FLDER, a)\n",
        "  return send_file(path, as_attachment=True)\n",
        "\n",
        "model_explanation(\"temp_features.csv\")"
      ]
    },
    {
      "cell_type": "code",
      "execution_count": null,
      "metadata": {
        "colab": {
          "base_uri": "https://localhost:8080/"
        },
        "id": "3wP6L7b4HQr9",
        "outputId": "ba9f2d9d-ffe5-492b-f816-577a1605517a",
        "trusted": true
      },
      "outputs": [
        {
          "name": "stdout",
          "output_type": "stream",
          "text": [
            "0.9963289280469897\n",
            "F1 score: 0.9963286163312866\n"
          ]
        }
      ],
      "source": [
        "# Model performance on validation data\n",
        "classification_task(ada, val_features, val_labels_enc)"
      ]
    },
    {
      "cell_type": "code",
      "execution_count": null,
      "metadata": {
        "colab": {
          "base_uri": "https://localhost:8080/"
        },
        "id": "ibBev6ZAHQr9",
        "outputId": "55c63f72-a24b-4182-d900-9e75fd20ef6e",
        "trusted": true
      },
      "outputs": [
        {
          "name": "stdout",
          "output_type": "stream",
          "text": [
            "Accuracy: 0.9963289280469897\n",
            "F1 score: 0.9963306032353164\n"
          ]
        }
      ],
      "source": [
        "# Model performance on testing data\n",
        "classification_task(ada, test_features, test_labels_enc)"
      ]
    },
    {
      "cell_type": "code",
      "execution_count": null,
      "metadata": {
        "id": "ew3jS51NSPbo"
      },
      "outputs": [],
      "source": [
        "#saving all labels to csv\n",
        "Y = dry_beans_dataset.Class.unique()\n",
        "a = np.asarray(Y)\n",
        "pd.DataFrame(a).to_csv('class_labels_new.csv',index=False, header=False)\n",
        "bean_label_data = pd.read_csv(\"class_labels_new.csv\", header=None)\n",
        "labels = bean_label_data.to_numpy()\n",
        "print(\"class_labels_new.csv = labels\\nlabels:\\n\", a)\n",
        "\n",
        "#saving all features to csv\n",
        "new_test = np.transpose(test_features[0])\n",
        "new_test = new_test[None,...]\n",
        "a = np.asarray(new_test)\n",
        "pd.DataFrame(a).to_csv('features_xtest.csv',index=False, header=False)\n",
        "bean_feature_data = pd.read_csv(\"features_xtest.csv\")\n",
        "print(\"\\nfeatures_xtest.csv = first row/bean\\nfirst row:\\n\", a)\n",
        "\n",
        "#saving all test features to csv\n",
        "a = np.asarray(test_features)\n",
        "pd.DataFrame(a).to_csv('temp_features.csv',index=False, header=False)\n",
        "bean_feature_data = pd.read_csv(\"temp_features.csv\")\n",
        "print(\"\\ntest_features.csv = all features\\ntest features:\\n\", a)\n",
        "\n",
        "\n",
        "#saving test_labels_np to csv\n",
        "a = np.asarray(test_labels_np)\n",
        "pd.DataFrame(a).to_csv('test_labels_np.csv',index=False, header=False)\n",
        "test_labels_np_1 = pd.read_csv(\"test_labels_np.csv\")\n",
        "print(\"\\ntest_labels_np.csv = test_labels_np\\ntest_labels_np:\\n\", a)\n",
        "\n",
        "#saving test_labels_np to csv\n",
        "a = np.asarray(test_labels_enc)\n",
        "pd.DataFrame(a).to_csv('test_labels_enc.csv',index=False, header=False)\n",
        "test_labels_np_1 = pd.read_csv(\"test_labels_enc.csv\")\n",
        "print(\"\\ntest_labels_np.csv = test_labels_enc\\ntest_labels_enc:\\n\", a)\n",
        "\n",
        "\n",
        "a = np.asarray(train_labels_enc)\n",
        "pd.DataFrame(a).to_csv('train_labels_enc.csv',index=False, header=False)\n",
        "train_labels_enc_1 = pd.read_csv(\"train_labels_enc.csv\")\n",
        "\n",
        "\n",
        "\n",
        "a = np.asarray(train_features)\n",
        "pd.DataFrame(a).to_csv('train_features.csv',index=False, header=False)\n",
        "train_features_1 = pd.read_csv(\"train_features.csv\")\n",
        "\n",
        "#saving afirst two rows to csv\n",
        "a = np.asarray(test_features[:2])\n",
        "pd.DataFrame(a).to_csv('test.csv',index=False, header=False)\n",
        "bean_feature_data = pd.read_csv(\"test.csv\")\n",
        "\n",
        "\n",
        "#if i create csv with [:1], will it make a difference\n",
        "#saving all features to csv\n",
        "#test to see if deault is 20 rows\n",
        "a = np.asarray(test_features[:1])\n",
        "pd.DataFrame(a).to_csv('test2.csv',index=False, header=False)\n",
        "bean_feature_data = pd.read_csv(\"test2.csv\") "
      ]
    },
    {
      "cell_type": "code",
      "execution_count": null,
      "metadata": {
        "id": "Cpmrygi9WYXW"
      },
      "outputs": [],
      "source": [
        "#PLOTTING CONFUSION MATRIX/DONT NEED:\n",
        "def plot_confusion_matrix(y_true, y_pred, classes,\n",
        "                          normalize=False,\n",
        "                          title=None,\n",
        "                          cmap=plt.cm.Blues):\n",
        "    #remove parameters to function \n",
        "    my_model = load('ada_model.pkl')\n",
        "    missing_value=[\"Undefined\"]\n",
        "    user_arry = pd.read_csv(file_name, na_values=missing_value)\n",
        "    test_prediction = my_model.predict(user_arry)\n",
        "  \n",
        "    normalize=False\n",
        "    title=None\n",
        "    cmap=plt.cm.Blues\n",
        "    y_test = test_labels_enc_1\n",
        "    y_pred = test_prediction\n",
        "    classes = labels\n",
        "    \n",
        "    \"\"\"\n",
        "    This function prints and plots the confusion matrix.\n",
        "    Normalization can be applied by setting `normalize=True`.\n",
        "    \"\"\"\n",
        "    if not title:\n",
        "        if normalize:\n",
        "            title = 'Normalized confusion matrix'\n",
        "        else:\n",
        "            title = 'Confusion matrix, without normalization'\n",
        "\n",
        "    # Compute confusion matrix    \n",
        "    cm = confusion_matrix(y_true,y_pred)\n",
        "    # Only use the labels that appear in the data\n",
        "    classes = classes[unique_labels(y_true, y_pred)]\n",
        "    if normalize:\n",
        "        cm = cm.astype('float') / cm.sum(axis=1)[:, np.newaxis]\n",
        "        print(\"Normalized confusion matrix\")\n",
        "    else:\n",
        "        print('Confusion matrix, without normalization')\n",
        "\n",
        "    print(cm)\n",
        "\n",
        "    fig, ax = plt.subplots()\n",
        "    im = ax.imshow(cm, interpolation='nearest', cmap=cmap)\n",
        "    ax.figure.colorbar(im, ax=ax)\n",
        "    # We want to show all ticks...\n",
        "    ax.set(xticks=np.arange(cm.shape[1]),\n",
        "           yticks=np.arange(cm.shape[0]),\n",
        "           # ... and label them with the respective list entries\n",
        "           xticklabels=classes, yticklabels=classes,\n",
        "           title=title,\n",
        "           ylabel='True label',\n",
        "           xlabel='Predicted label')\n",
        "\n",
        "    # Rotate the tick labels and set their alignment.\n",
        "    plt.setp(ax.get_xticklabels(), rotation=45, ha=\"right\",\n",
        "             rotation_mode=\"anchor\")\n",
        "\n",
        "    # Loop over data dimensions and create text annotations.\n",
        "    fmt = '.2f' if normalize else 'd'\n",
        "    thresh = cm.max() / 2.\n",
        "    for i in range(cm.shape[0]):\n",
        "        for j in range(cm.shape[1]):\n",
        "            ax.text(j, i, format(cm[i, j], fmt),\n",
        "                    ha=\"center\", va=\"center\",\n",
        "                    color=\"white\" if cm[i, j] > thresh else \"black\")\n",
        "    fig.tight_layout()\n",
        "    bytes_image = io.BytesIO()\n",
        "    plt.savefig(bytes_image, format='png')\n",
        "    bytes_image.seek(0)\n",
        "    return bytes_image\n",
        "  \n",
        "  \n",
        "def gen_cof_mat(file_name):#norm1):\n",
        "    my_model = load('ada_model.pkl')\n",
        "    missing_value=[\"Undefined\"]\n",
        "    user_arry = pd.read_csv(file_name, na_values=missing_value)\n",
        "    test_prediction = my_model.predict(user_arry)\n",
        "    y_pred = test_prediction\n",
        "    np.set_printoptions(precision=2)\n",
        "    # Plot non-normalized confusion matrix\n",
        "    # Plot normalized confusion matrix\n",
        "    bytes_obj = plot_confusion_matrix(y_test, y_pred, classes=labels)#, normalize=norm1)\n",
        "\n",
        "    return send_file(bytes_obj,\n",
        "                     attachment_filename='plot.png',\n",
        "                     mimetype='image/png')\n"
      ]
    }
  ],
  "metadata": {
    "colab": {
      "collapsed_sections": [],
      "name": "NN_drybean.ipynb",
      "provenance": []
    },
    "interpreter": {
      "hash": "0bc03f4611f9f1cf222cf31a3ec989e31d66928311b591a3bc37774f607f5889"
    },
    "kernelspec": {
      "display_name": "Python 3.9.12 64-bit (windows store)",
      "language": "python",
      "name": "python3"
    },
    "language_info": {
      "codemirror_mode": {
        "name": "ipython",
        "version": 3
      },
      "file_extension": ".py",
      "mimetype": "text/x-python",
      "name": "python",
      "nbconvert_exporter": "python",
      "pygments_lexer": "ipython3",
      "version": "3.9.12"
    }
  },
  "nbformat": 4,
  "nbformat_minor": 0
}
