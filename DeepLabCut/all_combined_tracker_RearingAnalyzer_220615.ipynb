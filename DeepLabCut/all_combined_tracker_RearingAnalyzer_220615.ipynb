{
  "cells": [
    {
      "cell_type": "markdown",
      "metadata": {
        "id": "LLqn1IZHDSQe"
      },
      "source": [
        "All-in-One rearing analyzer\n",
        "\n",
        "\n",
        " by max vaglica\n",
        "https://github.com/Guillermo-Hidalgo-Gadea/UQOAB/blob/main/First%20DLC%20project/.ipynb_checkpoints/partII-checkpoint.ipynb\n",
        "\n"
      ]
    },
    {
      "cell_type": "markdown",
      "metadata": {
        "id": "MRCD2motb2Zs"
      },
      "source": [
        "Run and restart runtime when prompted\n",
        " ,make sure runtime type is 'GPU'\n",
        "\n"
      ]
    },
    {
      "cell_type": "markdown",
      "metadata": {
        "id": "4_M-f053z9ws"
      },
      "source": [
        "# INITIALIZE DEEPLABCUT SESSION"
      ]
    },
    {
      "cell_type": "markdown",
      "metadata": {
        "id": "BXqazggOsX9c"
      },
      "source": [
        "Next three code blocks MUST be run everytime no matter whether you are training a new network, scoring videos with a trained network, or extracting new outlier frames."
      ]
    },
    {
      "cell_type": "code",
      "execution_count": null,
      "metadata": {
        "id": "xUOQzM6GDRrh"
      },
      "outputs": [],
      "source": [
        "!pip install statsmodels==0.13.1\n",
        "!pip install deeplabcut"
      ]
    },
    {
      "cell_type": "code",
      "execution_count": null,
      "metadata": {
        "id": "th12JAR0gylV"
      },
      "outputs": [],
      "source": [
        "!pip install tables==3.5.1\n",
        "!pip install tensorboard==2.7.0\n",
        "!pip install tensorflow==2.7.0"
      ]
    },
    {
      "cell_type": "markdown",
      "metadata": {
        "id": "k1XUX8MHb68O"
      },
      "source": [
        "After restarting the runtime, Import all and mount the memlab@iu.edu \n",
        "google drive. You may need to close and reopen your browser to login. Copy the code after allowing access to the google drive & paste it into the box."
      ]
    },
    {
      "cell_type": "code",
      "execution_count": null,
      "metadata": {
        "id": "SMIUn6io1aYR"
      },
      "outputs": [],
      "source": [
        "%tensorflow_version 2.x\n",
        "import os\n",
        "os.environ[\"DLClight\"]=\"True\"\n",
        "import deeplabcut\n",
        "from google.colab import drive\n",
        "drive.mount('/content/drive', force_remount=True)"
      ]
    },
    {
      "cell_type": "code",
      "execution_count": null,
      "metadata": {
        "id": "iwk-D3K3eABH"
      },
      "outputs": [],
      "source": [
        "ProjectFolderName = 'all_combined_tracker-aes-2022-06-22'\n",
        "VideoType = 'mp4' \n",
        "#videofile_path = ['/content/drive/My Drive/Projects/DeepLabCut/'+ProjectFolderName+'/videos/']\n",
        "path_config_file = '/content/drive/My Drive/Projects/DeepLabCut/'+ProjectFolderName+'/config.yaml'\n",
        "testVideo_path = ['/content/drive/My Drive/Projects/DeepLabCut/'+ProjectFolderName+'/videos/']\n",
        "analyze_video_path = ['/content/drive/My Drive/Projects/DeepLabCut/jump_analysis_vids/combined_tracker_squash']\n",
        "second_analyze_video_path = ['/content/drive/My Drive/Projects/DeepLabCut/jump_analysis_vids/combined_tracker']\n",
        "!ls '/content/drive/My Drive/Projects/DeepLabCut/all_combined_tracker-aes-2022-06-22/config.yaml'"
      ]
    },
    {
      "cell_type": "markdown",
      "metadata": {
        "id": "5yqgniBqsyzk"
      },
      "source": [
        "# TRAIN A NEW NETWORK"
      ]
    },
    {
      "cell_type": "markdown",
      "metadata": {
        "id": "MBuaMj0_1y6e"
      },
      "source": [
        "Be sure that the variables above match the path of your training videos\n",
        "\n",
        "The following code will create the training dataset for the network.\n",
        "\n",
        "\"After running this script the training dataset is created and saved in the project directory under the subdirectory 'training-datasets'\n",
        "\n",
        "This function also creates new subdirectories under dlc-models and appends the project config.yaml file with the correct path to the training and testing pose configuration file. **These files hold the parameters for training the network.**\" \n",
        "\n",
        "**The pose_cfg.yaml file will store all configuration for training, edit these parameters to change training settings"
      ]
    },
    {
      "cell_type": "code",
      "execution_count": null,
      "metadata": {
        "id": "q48S4qe41xg6"
      },
      "outputs": [],
      "source": [
        "deeplabcut.create_training_dataset(path_config_file, net_type='resnet_50', augmenter_type='imgaug')"
      ]
    },
    {
      "cell_type": "markdown",
      "metadata": {
        "id": "JSC9nRma2ujY"
      },
      "source": [
        "Below begins actual training on the network. You want at least 400,000 iterations. saveiters will save a network every 4500 iterations, this can be changed to any amount. Trained networks are saved as 3 'snapshot' files in the same directory. Change the initial learning to a previous snapshot to continue training from save, in the same format I have done in the yaml file. A checkpoint file is updated and saved for the entire training. All 4 of these files are needed to evaluate the network and analyze new videos."
      ]
    },
    {
      "cell_type": "code",
      "execution_count": null,
      "metadata": {
        "id": "bm8b7mIc2ses"
      },
      "outputs": [],
      "source": [
        "deeplabcut.train_network(path_config_file, shuffle=1,displayiters=100,saveiters=2000)"
      ]
    },
    {
      "cell_type": "markdown",
      "metadata": {
        "id": "9oVlFKfRs6j4"
      },
      "source": [
        "# EVALUATE A TRAINED NETWORK"
      ]
    },
    {
      "cell_type": "markdown",
      "metadata": {
        "id": "SbzirKpj3h83"
      },
      "source": [
        "This funtion evaluates a trained model for a specific shuffle/shuffles at a particular state or all the states on the data set (images) and stores the results as .csv file in a subdirectory under evaluation-results"
      ]
    },
    {
      "cell_type": "code",
      "execution_count": null,
      "metadata": {
        "id": "ejFAX2CJ3kPg"
      },
      "outputs": [],
      "source": [
        "%matplotlib notebook\n",
        "deeplabcut.evaluate_network(path_config_file,plotting=False)"
      ]
    },
    {
      "cell_type": "markdown",
      "metadata": {
        "id": "v342H6Bbyv7R"
      },
      "source": [
        "To store the coordinates for each body part in a csv file, run the store_coordinates(video_name) function. csv will be located with rest of file."
      ]
    },
    {
      "cell_type": "markdown",
      "metadata": {
        "id": "TUM6bGQatBIi"
      },
      "source": [
        "# REFINE A TRAINED NETWORK\n"
      ]
    },
    {
      "cell_type": "code",
      "execution_count": null,
      "metadata": {
        "id": "6c-p6GjYrzPs"
      },
      "outputs": [],
      "source": [
        "deeplabcut.extract_outlier_frames(path_config_file,testVideo_path,videotype='mp4', automatic=True)"
      ]
    },
    {
      "cell_type": "markdown",
      "metadata": {
        "id": "lge_Qt2nukyk"
      },
      "source": [
        "**That was step 1. Now. . .**\n",
        "Now you will need to go back to a computer with GUI capability (i.e., not Colab; e.g., Skywalker or your laptop) and 'refine_labels'. This is done with the GUI. Specifically-\n",
        "\n",
        "\n",
        "*   Open the GUI\n",
        "*   Select the config file for this project and load the project\n",
        "*   Click on the last tab\n",
        "*   Click LAUNCH\n",
        "*   Click on 'Load labels' (button bottom left of pop-up)\n",
        "*   Choose a folder in the 'labeled_videos' folder, select the 'machinelabels*.h5' file.\n",
        "*   Continue like you were labeling the videos the first time. There will already be labels placed by the network. Most of the time one or more will be wrong. Your job is to fix them. Be sure to hit save (often and) when you're done.\n",
        "\n",
        "\n"
      ]
    },
    {
      "cell_type": "code",
      "execution_count": null,
      "metadata": {
        "id": "Cgu5UjHnuZ0L"
      },
      "outputs": [],
      "source": [
        "deeplabcut.merge_datasets(path_config_file)"
      ]
    },
    {
      "cell_type": "code",
      "execution_count": null,
      "metadata": {
        "id": "rlb8KMptQM2B"
      },
      "outputs": [],
      "source": [
        "deeplabcut.create_training_dataset(path_config_file, net_type='resnet_50', augmenter_type='imgaug')"
      ]
    },
    {
      "cell_type": "markdown",
      "metadata": {
        "id": "VxMASEWSCUaO"
      },
      "source": [
        "If you want to pick up training from where you left off before - \n",
        "*    Find the train subdirectory within the dlc-models directory and look for the latest snapshot. Open the pose_cfg.yaml file within the same folder and edit the parameter init_weights: '-snapshot-10000' without any filetype ending\n",
        "*   It probably previously said /Users/ehren/opt/anaconda3/envs/DEEPLABCUT_M1/lib/python3.7/site-packages/deeplabcut/pose_estimation_tensorflow/models/pretrained/resnet_v1_50.ckpt"
      ]
    },
    {
      "cell_type": "code",
      "execution_count": null,
      "metadata": {
        "id": "2AduKTZsDWVr"
      },
      "outputs": [],
      "source": [
        "deeplabcut.train_network(path_config_file, shuffle=1,displayiters=100,saveiters=2000)"
      ]
    },
    {
      "cell_type": "markdown",
      "metadata": {
        "id": "Q_ZZU4TemajC"
      },
      "source": [
        "# PUT THAT NETWORK TO WORK!!"
      ]
    },
    {
      "cell_type": "markdown",
      "metadata": {
        "id": "t-WFK7zAmYra"
      },
      "source": [
        "You did it! Really! If you made it this far, your network should be working nicely. If not, repeat the last two blocks until you are happy with the way it is working. Once you are happy with it, now you can use the following commands to label your videos. . .\n",
        "\n",
        "If you're wondering if it is working well, try the following lines out. Look at the labeled videos and analyze the csv file coordinates. If the video is accurately labelled and the coordinates in the csv file are stable (i.e., don't jump around) then your network is likely working well! Just watch for when the rat does strange things, the networks struggle most with these. . . "
      ]
    },
    {
      "cell_type": "markdown",
      "metadata": {
        "id": "K7EdyGryoJ5g"
      },
      "source": [
        "**Instructions**:\n",
        "\n",
        "\n",
        "*   Put your videos that you want analyzed into the folder pointed to by 'testVideo_path'. This is likely the folder called 'videos' in your project folder. \n",
        "*   Call the following two commands. Technically, only the first is required. This creates the csv file that matlab will use to analyze the data. The second, however, is useful if you want to preview how well the network labeled the video: it will re-create the video with little dots superimposed on it showing where the network thought each body part was.\n",
        "\n",
        "*   These commands will put their output files (the csv and labeled video) into the same folder as where you put your videos to be analyzed. \n",
        "*    Once each video has been processed, you can remove them from the Google Drive folder and put them back in the appropriate place on the Dropbox file system (e.g., in your project folder or with the original video)."
      ]
    },
    {
      "cell_type": "code",
      "execution_count": null,
      "metadata": {
        "id": "joSkxuFMn2Si"
      },
      "outputs": [],
      "source": [
        "deeplabcut.analyze_videos(path_config_file,testVideo_path, videotype='mp4', save_as_csv=True)"
      ]
    },
    {
      "cell_type": "code",
      "source": [
        "deeplabcut.create_labeled_video(path_config_file,testVideo_path, videotype='mp4',draw_skeleton=False,save_frames=False)"
      ],
      "metadata": {
        "id": "tHU08G6KE30Q"
      },
      "execution_count": null,
      "outputs": []
    }
  ],
  "metadata": {
    "accelerator": "GPU",
    "colab": {
      "collapsed_sections": [],
      "name": "all_combined_tracker_RearingAnalyzer_220615.ipynb",
      "provenance": []
    },
    "kernelspec": {
      "display_name": "Python 3",
      "name": "python3"
    },
    "language_info": {
      "name": "python"
    }
  },
  "nbformat": 4,
  "nbformat_minor": 0
}