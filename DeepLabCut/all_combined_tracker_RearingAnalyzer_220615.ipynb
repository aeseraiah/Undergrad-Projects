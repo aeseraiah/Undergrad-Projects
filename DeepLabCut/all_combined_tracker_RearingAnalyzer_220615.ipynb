{
  "cells": [
    {
      "cell_type": "markdown",
      "metadata": {
        "id": "LLqn1IZHDSQe"
      },
      "source": [
        "All-in-One rearing analyzer\n",
        "\n",
        "\n",
        " by max vaglica\n",
        "https://github.com/Guillermo-Hidalgo-Gadea/UQOAB/blob/main/First%20DLC%20project/.ipynb_checkpoints/partII-checkpoint.ipynb\n",
        "\n"
      ]
    },
    {
      "cell_type": "markdown",
      "metadata": {
        "id": "MRCD2motb2Zs"
      },
      "source": [
        "Run and restart runtime when prompted\n",
        " ,make sure runtime type is 'GPU'\n",
        "\n"
      ]
    },
    {
      "cell_type": "markdown",
      "metadata": {
        "id": "4_M-f053z9ws"
      },
      "source": [
        "# INITIALIZE DEEPLABCUT SESSION"
      ]
    },
    {
      "cell_type": "markdown",
      "metadata": {
        "id": "BXqazggOsX9c"
      },
      "source": [
        "Next three code blocks MUST be run everytime no matter whether you are training a new network, scoring videos with a trained network, or extracting new outlier frames."
      ]
    },
    {
      "cell_type": "code",
      "execution_count": null,
      "metadata": {
        "colab": {
          "base_uri": "https://localhost:8080/"
        },
        "id": "xUOQzM6GDRrh",
        "outputId": "8475f0c7-653e-44e1-ebe6-354d9143ef92"
      },
      "outputs": [
        {
          "name": "stdout",
          "output_type": "stream",
          "text": [
            "Looking in indexes: https://pypi.org/simple, https://us-python.pkg.dev/colab-wheels/public/simple/\n",
            "Requirement already satisfied: statsmodels==0.13.1 in /usr/local/lib/python3.7/dist-packages (0.13.1)\n",
            "Requirement already satisfied: numpy>=1.17 in /usr/local/lib/python3.7/dist-packages (from statsmodels==0.13.1) (1.21.6)\n",
            "Requirement already satisfied: patsy>=0.5.2 in /usr/local/lib/python3.7/dist-packages (from statsmodels==0.13.1) (0.5.2)\n",
            "Requirement already satisfied: pandas>=0.25 in /usr/local/lib/python3.7/dist-packages (from statsmodels==0.13.1) (1.3.5)\n",
            "Requirement already satisfied: scipy>=1.3 in /usr/local/lib/python3.7/dist-packages (from statsmodels==0.13.1) (1.4.1)\n",
            "Requirement already satisfied: python-dateutil>=2.7.3 in /usr/local/lib/python3.7/dist-packages (from pandas>=0.25->statsmodels==0.13.1) (2.8.2)\n",
            "Requirement already satisfied: pytz>=2017.3 in /usr/local/lib/python3.7/dist-packages (from pandas>=0.25->statsmodels==0.13.1) (2022.1)\n",
            "Requirement already satisfied: six in /usr/local/lib/python3.7/dist-packages (from patsy>=0.5.2->statsmodels==0.13.1) (1.15.0)\n",
            "Looking in indexes: https://pypi.org/simple, https://us-python.pkg.dev/colab-wheels/public/simple/\n",
            "Requirement already satisfied: deeplabcut in /usr/local/lib/python3.7/dist-packages (2.2.1.1)\n",
            "Requirement already satisfied: matplotlib>=3.3 in /usr/local/lib/python3.7/dist-packages (from deeplabcut) (3.5.2)\n",
            "Requirement already satisfied: statsmodels!=0.13.2,>=0.11 in /usr/local/lib/python3.7/dist-packages (from deeplabcut) (0.13.1)\n",
            "Requirement already satisfied: tensorpack>=0.11 in /usr/local/lib/python3.7/dist-packages (from deeplabcut) (0.11)\n",
            "Requirement already satisfied: pyyaml in /usr/local/lib/python3.7/dist-packages (from deeplabcut) (3.13)\n",
            "Requirement already satisfied: numpy>=1.18.5 in /usr/local/lib/python3.7/dist-packages (from deeplabcut) (1.21.6)\n",
            "Requirement already satisfied: tf-slim>=1.1.0 in /usr/local/lib/python3.7/dist-packages (from deeplabcut) (1.1.0)\n",
            "Requirement already satisfied: tensorflow>=2.0 in /usr/local/lib/python3.7/dist-packages (from deeplabcut) (2.8.2+zzzcolab20220527125636)\n",
            "Requirement already satisfied: scipy>=1.4 in /usr/local/lib/python3.7/dist-packages (from deeplabcut) (1.4.1)\n",
            "Requirement already satisfied: scikit-learn>=1.0 in /usr/local/lib/python3.7/dist-packages (from deeplabcut) (1.0.2)\n",
            "Requirement already satisfied: scikit-image<=1.0.0,>=0.17 in /usr/local/lib/python3.7/dist-packages (from deeplabcut) (0.18.3)\n",
            "Requirement already satisfied: tqdm in /usr/local/lib/python3.7/dist-packages (from deeplabcut) (4.64.0)\n",
            "Requirement already satisfied: numba>=0.54 in /usr/local/lib/python3.7/dist-packages (from deeplabcut) (0.55.2)\n",
            "Requirement already satisfied: networkx>=2.6 in /usr/local/lib/python3.7/dist-packages (from deeplabcut) (2.6.3)\n",
            "Requirement already satisfied: filterpy>=1.4.4 in /usr/local/lib/python3.7/dist-packages (from deeplabcut) (1.4.5)\n",
            "Requirement already satisfied: imgaug>=0.4.0 in /usr/local/lib/python3.7/dist-packages (from deeplabcut) (0.4.0)\n",
            "Requirement already satisfied: Pillow>=7.1 in /usr/local/lib/python3.7/dist-packages (from deeplabcut) (7.1.2)\n",
            "Requirement already satisfied: ruamel.yaml>=0.15.0 in /usr/local/lib/python3.7/dist-packages (from deeplabcut) (0.17.21)\n",
            "Requirement already satisfied: tables>=3.7.0 in /usr/local/lib/python3.7/dist-packages (from deeplabcut) (3.7.0)\n",
            "Requirement already satisfied: pandas>=1.0.1 in /usr/local/lib/python3.7/dist-packages (from deeplabcut) (1.3.5)\n",
            "Requirement already satisfied: opencv-python in /usr/local/lib/python3.7/dist-packages (from imgaug>=0.4.0->deeplabcut) (4.1.2.30)\n",
            "Requirement already satisfied: six in /usr/local/lib/python3.7/dist-packages (from imgaug>=0.4.0->deeplabcut) (1.15.0)\n",
            "Requirement already satisfied: Shapely in /usr/local/lib/python3.7/dist-packages (from imgaug>=0.4.0->deeplabcut) (1.8.2)\n",
            "Requirement already satisfied: imageio in /usr/local/lib/python3.7/dist-packages (from imgaug>=0.4.0->deeplabcut) (2.4.1)\n",
            "Requirement already satisfied: pyparsing>=2.2.1 in /usr/local/lib/python3.7/dist-packages (from matplotlib>=3.3->deeplabcut) (3.0.9)\n",
            "Requirement already satisfied: kiwisolver>=1.0.1 in /usr/local/lib/python3.7/dist-packages (from matplotlib>=3.3->deeplabcut) (1.4.3)\n",
            "Requirement already satisfied: fonttools>=4.22.0 in /usr/local/lib/python3.7/dist-packages (from matplotlib>=3.3->deeplabcut) (4.33.3)\n",
            "Requirement already satisfied: cycler>=0.10 in /usr/local/lib/python3.7/dist-packages (from matplotlib>=3.3->deeplabcut) (0.11.0)\n",
            "Requirement already satisfied: packaging>=20.0 in /usr/local/lib/python3.7/dist-packages (from matplotlib>=3.3->deeplabcut) (21.3)\n",
            "Requirement already satisfied: python-dateutil>=2.7 in /usr/local/lib/python3.7/dist-packages (from matplotlib>=3.3->deeplabcut) (2.8.2)\n",
            "Requirement already satisfied: typing-extensions in /usr/local/lib/python3.7/dist-packages (from kiwisolver>=1.0.1->matplotlib>=3.3->deeplabcut) (4.1.1)\n",
            "Requirement already satisfied: llvmlite<0.39,>=0.38.0rc1 in /usr/local/lib/python3.7/dist-packages (from numba>=0.54->deeplabcut) (0.38.1)\n",
            "Requirement already satisfied: setuptools in /usr/local/lib/python3.7/dist-packages (from numba>=0.54->deeplabcut) (57.4.0)\n",
            "Requirement already satisfied: pytz>=2017.3 in /usr/local/lib/python3.7/dist-packages (from pandas>=1.0.1->deeplabcut) (2022.1)\n",
            "Requirement already satisfied: ruamel.yaml.clib>=0.2.6 in /usr/local/lib/python3.7/dist-packages (from ruamel.yaml>=0.15.0->deeplabcut) (0.2.6)\n",
            "Requirement already satisfied: PyWavelets>=1.1.1 in /usr/local/lib/python3.7/dist-packages (from scikit-image<=1.0.0,>=0.17->deeplabcut) (1.3.0)\n",
            "Requirement already satisfied: tifffile>=2019.7.26 in /usr/local/lib/python3.7/dist-packages (from scikit-image<=1.0.0,>=0.17->deeplabcut) (2021.11.2)\n",
            "Requirement already satisfied: threadpoolctl>=2.0.0 in /usr/local/lib/python3.7/dist-packages (from scikit-learn>=1.0->deeplabcut) (3.1.0)\n",
            "Requirement already satisfied: joblib>=0.11 in /usr/local/lib/python3.7/dist-packages (from scikit-learn>=1.0->deeplabcut) (1.1.0)\n",
            "Requirement already satisfied: patsy>=0.5.2 in /usr/local/lib/python3.7/dist-packages (from statsmodels!=0.13.2,>=0.11->deeplabcut) (0.5.2)\n",
            "Requirement already satisfied: numexpr>=2.6.2 in /usr/local/lib/python3.7/dist-packages (from tables>=3.7.0->deeplabcut) (2.8.1)\n",
            "Requirement already satisfied: wrapt>=1.11.0 in /usr/local/lib/python3.7/dist-packages (from tensorflow>=2.0->deeplabcut) (1.14.1)\n",
            "Requirement already satisfied: opt-einsum>=2.3.2 in /usr/local/lib/python3.7/dist-packages (from tensorflow>=2.0->deeplabcut) (3.3.0)\n",
            "Requirement already satisfied: protobuf<3.20,>=3.9.2 in /usr/local/lib/python3.7/dist-packages (from tensorflow>=2.0->deeplabcut) (3.17.3)\n",
            "Requirement already satisfied: gast>=0.2.1 in /usr/local/lib/python3.7/dist-packages (from tensorflow>=2.0->deeplabcut) (0.5.3)\n",
            "Requirement already satisfied: google-pasta>=0.1.1 in /usr/local/lib/python3.7/dist-packages (from tensorflow>=2.0->deeplabcut) (0.2.0)\n",
            "Requirement already satisfied: tensorflow-estimator<2.9,>=2.8 in /usr/local/lib/python3.7/dist-packages (from tensorflow>=2.0->deeplabcut) (2.8.0)\n",
            "Requirement already satisfied: tensorboard<2.9,>=2.8 in /usr/local/lib/python3.7/dist-packages (from tensorflow>=2.0->deeplabcut) (2.8.0)\n",
            "Requirement already satisfied: keras-preprocessing>=1.1.1 in /usr/local/lib/python3.7/dist-packages (from tensorflow>=2.0->deeplabcut) (1.1.2)\n",
            "Requirement already satisfied: absl-py>=0.4.0 in /usr/local/lib/python3.7/dist-packages (from tensorflow>=2.0->deeplabcut) (1.1.0)\n",
            "Requirement already satisfied: termcolor>=1.1.0 in /usr/local/lib/python3.7/dist-packages (from tensorflow>=2.0->deeplabcut) (1.1.0)\n",
            "Requirement already satisfied: h5py>=2.9.0 in /usr/local/lib/python3.7/dist-packages (from tensorflow>=2.0->deeplabcut) (3.1.0)\n",
            "Requirement already satisfied: keras<2.9,>=2.8.0rc0 in /usr/local/lib/python3.7/dist-packages (from tensorflow>=2.0->deeplabcut) (2.8.0)\n",
            "Requirement already satisfied: flatbuffers>=1.12 in /usr/local/lib/python3.7/dist-packages (from tensorflow>=2.0->deeplabcut) (2.0)\n",
            "Requirement already satisfied: tensorflow-io-gcs-filesystem>=0.23.1 in /usr/local/lib/python3.7/dist-packages (from tensorflow>=2.0->deeplabcut) (0.26.0)\n",
            "Requirement already satisfied: grpcio<2.0,>=1.24.3 in /usr/local/lib/python3.7/dist-packages (from tensorflow>=2.0->deeplabcut) (1.46.3)\n",
            "Requirement already satisfied: libclang>=9.0.1 in /usr/local/lib/python3.7/dist-packages (from tensorflow>=2.0->deeplabcut) (14.0.1)\n",
            "Requirement already satisfied: astunparse>=1.6.0 in /usr/local/lib/python3.7/dist-packages (from tensorflow>=2.0->deeplabcut) (1.6.3)\n",
            "Requirement already satisfied: wheel<1.0,>=0.23.0 in /usr/local/lib/python3.7/dist-packages (from astunparse>=1.6.0->tensorflow>=2.0->deeplabcut) (0.37.1)\n",
            "Requirement already satisfied: cached-property in /usr/local/lib/python3.7/dist-packages (from h5py>=2.9.0->tensorflow>=2.0->deeplabcut) (1.5.2)\n",
            "Requirement already satisfied: markdown>=2.6.8 in /usr/local/lib/python3.7/dist-packages (from tensorboard<2.9,>=2.8->tensorflow>=2.0->deeplabcut) (3.3.7)\n",
            "Requirement already satisfied: tensorboard-plugin-wit>=1.6.0 in /usr/local/lib/python3.7/dist-packages (from tensorboard<2.9,>=2.8->tensorflow>=2.0->deeplabcut) (1.8.1)\n",
            "Requirement already satisfied: google-auth-oauthlib<0.5,>=0.4.1 in /usr/local/lib/python3.7/dist-packages (from tensorboard<2.9,>=2.8->tensorflow>=2.0->deeplabcut) (0.4.6)\n",
            "Requirement already satisfied: tensorboard-data-server<0.7.0,>=0.6.0 in /usr/local/lib/python3.7/dist-packages (from tensorboard<2.9,>=2.8->tensorflow>=2.0->deeplabcut) (0.6.1)\n",
            "Requirement already satisfied: google-auth<3,>=1.6.3 in /usr/local/lib/python3.7/dist-packages (from tensorboard<2.9,>=2.8->tensorflow>=2.0->deeplabcut) (1.35.0)\n",
            "Requirement already satisfied: requests<3,>=2.21.0 in /usr/local/lib/python3.7/dist-packages (from tensorboard<2.9,>=2.8->tensorflow>=2.0->deeplabcut) (2.23.0)\n",
            "Requirement already satisfied: werkzeug>=0.11.15 in /usr/local/lib/python3.7/dist-packages (from tensorboard<2.9,>=2.8->tensorflow>=2.0->deeplabcut) (1.0.1)\n",
            "Requirement already satisfied: pyasn1-modules>=0.2.1 in /usr/local/lib/python3.7/dist-packages (from google-auth<3,>=1.6.3->tensorboard<2.9,>=2.8->tensorflow>=2.0->deeplabcut) (0.2.8)\n",
            "Requirement already satisfied: cachetools<5.0,>=2.0.0 in /usr/local/lib/python3.7/dist-packages (from google-auth<3,>=1.6.3->tensorboard<2.9,>=2.8->tensorflow>=2.0->deeplabcut) (4.2.4)\n",
            "Requirement already satisfied: rsa<5,>=3.1.4 in /usr/local/lib/python3.7/dist-packages (from google-auth<3,>=1.6.3->tensorboard<2.9,>=2.8->tensorflow>=2.0->deeplabcut) (4.8)\n",
            "Requirement already satisfied: requests-oauthlib>=0.7.0 in /usr/local/lib/python3.7/dist-packages (from google-auth-oauthlib<0.5,>=0.4.1->tensorboard<2.9,>=2.8->tensorflow>=2.0->deeplabcut) (1.3.1)\n",
            "Requirement already satisfied: importlib-metadata>=4.4 in /usr/local/lib/python3.7/dist-packages (from markdown>=2.6.8->tensorboard<2.9,>=2.8->tensorflow>=2.0->deeplabcut) (4.11.4)\n",
            "Requirement already satisfied: zipp>=0.5 in /usr/local/lib/python3.7/dist-packages (from importlib-metadata>=4.4->markdown>=2.6.8->tensorboard<2.9,>=2.8->tensorflow>=2.0->deeplabcut) (3.8.0)\n",
            "Requirement already satisfied: pyasn1<0.5.0,>=0.4.6 in /usr/local/lib/python3.7/dist-packages (from pyasn1-modules>=0.2.1->google-auth<3,>=1.6.3->tensorboard<2.9,>=2.8->tensorflow>=2.0->deeplabcut) (0.4.8)\n",
            "Requirement already satisfied: chardet<4,>=3.0.2 in /usr/local/lib/python3.7/dist-packages (from requests<3,>=2.21.0->tensorboard<2.9,>=2.8->tensorflow>=2.0->deeplabcut) (3.0.4)\n",
            "Requirement already satisfied: urllib3!=1.25.0,!=1.25.1,<1.26,>=1.21.1 in /usr/local/lib/python3.7/dist-packages (from requests<3,>=2.21.0->tensorboard<2.9,>=2.8->tensorflow>=2.0->deeplabcut) (1.24.3)\n",
            "Requirement already satisfied: certifi>=2017.4.17 in /usr/local/lib/python3.7/dist-packages (from requests<3,>=2.21.0->tensorboard<2.9,>=2.8->tensorflow>=2.0->deeplabcut) (2022.6.15)\n",
            "Requirement already satisfied: idna<3,>=2.5 in /usr/local/lib/python3.7/dist-packages (from requests<3,>=2.21.0->tensorboard<2.9,>=2.8->tensorflow>=2.0->deeplabcut) (2.10)\n",
            "Requirement already satisfied: oauthlib>=3.0.0 in /usr/local/lib/python3.7/dist-packages (from requests-oauthlib>=0.7.0->google-auth-oauthlib<0.5,>=0.4.1->tensorboard<2.9,>=2.8->tensorflow>=2.0->deeplabcut) (3.2.0)\n",
            "Requirement already satisfied: tabulate>=0.7.7 in /usr/local/lib/python3.7/dist-packages (from tensorpack>=0.11->deeplabcut) (0.8.9)\n",
            "Requirement already satisfied: psutil>=5 in /usr/local/lib/python3.7/dist-packages (from tensorpack>=0.11->deeplabcut) (5.4.8)\n",
            "Requirement already satisfied: msgpack-numpy>=0.4.4.2 in /usr/local/lib/python3.7/dist-packages (from tensorpack>=0.11->deeplabcut) (0.4.8)\n",
            "Requirement already satisfied: msgpack>=0.5.2 in /usr/local/lib/python3.7/dist-packages (from tensorpack>=0.11->deeplabcut) (1.0.4)\n",
            "Requirement already satisfied: pyzmq>=16 in /usr/local/lib/python3.7/dist-packages (from tensorpack>=0.11->deeplabcut) (23.1.0)\n"
          ]
        }
      ],
      "source": [
        "!pip install statsmodels==0.13.1\n",
        "!pip install deeplabcut"
      ]
    },
    {
      "cell_type": "code",
      "execution_count": null,
      "metadata": {
        "colab": {
          "base_uri": "https://localhost:8080/"
        },
        "id": "th12JAR0gylV",
        "outputId": "468ff396-26dc-49e1-e122-bf8189ea5330"
      },
      "outputs": [
        {
          "name": "stdout",
          "output_type": "stream",
          "text": [
            "Looking in indexes: https://pypi.org/simple, https://us-python.pkg.dev/colab-wheels/public/simple/\n",
            "Collecting tables==3.5.1\n",
            "  Downloading tables-3.5.1-cp37-cp37m-manylinux1_x86_64.whl (4.3 MB)\n",
            "\u001b[K     |████████████████████████████████| 4.3 MB 7.0 MB/s \n",
            "\u001b[?25hRequirement already satisfied: six>=1.9.0 in /usr/local/lib/python3.7/dist-packages (from tables==3.5.1) (1.15.0)\n",
            "Collecting mock>=2.0\n",
            "  Downloading mock-4.0.3-py3-none-any.whl (28 kB)\n",
            "Requirement already satisfied: numexpr>=2.6.2 in /usr/local/lib/python3.7/dist-packages (from tables==3.5.1) (2.8.1)\n",
            "Requirement already satisfied: numpy>=1.9.3 in /usr/local/lib/python3.7/dist-packages (from tables==3.5.1) (1.21.6)\n",
            "Requirement already satisfied: packaging in /usr/local/lib/python3.7/dist-packages (from numexpr>=2.6.2->tables==3.5.1) (21.3)\n",
            "Requirement already satisfied: pyparsing!=3.0.5,>=2.0.2 in /usr/local/lib/python3.7/dist-packages (from packaging->numexpr>=2.6.2->tables==3.5.1) (3.0.9)\n",
            "Installing collected packages: mock, tables\n",
            "  Attempting uninstall: tables\n",
            "    Found existing installation: tables 3.7.0\n",
            "    Uninstalling tables-3.7.0:\n",
            "      Successfully uninstalled tables-3.7.0\n",
            "\u001b[31mERROR: pip's dependency resolver does not currently take into account all the packages that are installed. This behaviour is the source of the following dependency conflicts.\n",
            "deeplabcut 2.2.1.1 requires tables>=3.7.0, but you have tables 3.5.1 which is incompatible.\u001b[0m\n",
            "Successfully installed mock-4.0.3 tables-3.5.1\n",
            "Looking in indexes: https://pypi.org/simple, https://us-python.pkg.dev/colab-wheels/public/simple/\n",
            "Collecting tensorboard==2.7.0\n",
            "  Downloading tensorboard-2.7.0-py3-none-any.whl (5.8 MB)\n",
            "\u001b[K     |████████████████████████████████| 5.8 MB 8.3 MB/s \n",
            "\u001b[?25hRequirement already satisfied: numpy>=1.12.0 in /usr/local/lib/python3.7/dist-packages (from tensorboard==2.7.0) (1.21.6)\n",
            "Requirement already satisfied: requests<3,>=2.21.0 in /usr/local/lib/python3.7/dist-packages (from tensorboard==2.7.0) (2.23.0)\n",
            "Requirement already satisfied: werkzeug>=0.11.15 in /usr/local/lib/python3.7/dist-packages (from tensorboard==2.7.0) (1.0.1)\n",
            "Requirement already satisfied: markdown>=2.6.8 in /usr/local/lib/python3.7/dist-packages (from tensorboard==2.7.0) (3.3.7)\n",
            "Requirement already satisfied: wheel>=0.26 in /usr/local/lib/python3.7/dist-packages (from tensorboard==2.7.0) (0.37.1)\n",
            "Requirement already satisfied: grpcio>=1.24.3 in /usr/local/lib/python3.7/dist-packages (from tensorboard==2.7.0) (1.46.3)\n",
            "Requirement already satisfied: absl-py>=0.4 in /usr/local/lib/python3.7/dist-packages (from tensorboard==2.7.0) (1.1.0)\n",
            "Requirement already satisfied: tensorboard-plugin-wit>=1.6.0 in /usr/local/lib/python3.7/dist-packages (from tensorboard==2.7.0) (1.8.1)\n",
            "Requirement already satisfied: google-auth<3,>=1.6.3 in /usr/local/lib/python3.7/dist-packages (from tensorboard==2.7.0) (1.35.0)\n",
            "Requirement already satisfied: tensorboard-data-server<0.7.0,>=0.6.0 in /usr/local/lib/python3.7/dist-packages (from tensorboard==2.7.0) (0.6.1)\n",
            "Requirement already satisfied: protobuf>=3.6.0 in /usr/local/lib/python3.7/dist-packages (from tensorboard==2.7.0) (3.17.3)\n",
            "Requirement already satisfied: google-auth-oauthlib<0.5,>=0.4.1 in /usr/local/lib/python3.7/dist-packages (from tensorboard==2.7.0) (0.4.6)\n",
            "Requirement already satisfied: setuptools>=41.0.0 in /usr/local/lib/python3.7/dist-packages (from tensorboard==2.7.0) (57.4.0)\n",
            "Requirement already satisfied: pyasn1-modules>=0.2.1 in /usr/local/lib/python3.7/dist-packages (from google-auth<3,>=1.6.3->tensorboard==2.7.0) (0.2.8)\n",
            "Requirement already satisfied: rsa<5,>=3.1.4 in /usr/local/lib/python3.7/dist-packages (from google-auth<3,>=1.6.3->tensorboard==2.7.0) (4.8)\n",
            "Requirement already satisfied: six>=1.9.0 in /usr/local/lib/python3.7/dist-packages (from google-auth<3,>=1.6.3->tensorboard==2.7.0) (1.15.0)\n",
            "Requirement already satisfied: cachetools<5.0,>=2.0.0 in /usr/local/lib/python3.7/dist-packages (from google-auth<3,>=1.6.3->tensorboard==2.7.0) (4.2.4)\n",
            "Requirement already satisfied: requests-oauthlib>=0.7.0 in /usr/local/lib/python3.7/dist-packages (from google-auth-oauthlib<0.5,>=0.4.1->tensorboard==2.7.0) (1.3.1)\n",
            "Requirement already satisfied: importlib-metadata>=4.4 in /usr/local/lib/python3.7/dist-packages (from markdown>=2.6.8->tensorboard==2.7.0) (4.11.4)\n",
            "Requirement already satisfied: typing-extensions>=3.6.4 in /usr/local/lib/python3.7/dist-packages (from importlib-metadata>=4.4->markdown>=2.6.8->tensorboard==2.7.0) (4.1.1)\n",
            "Requirement already satisfied: zipp>=0.5 in /usr/local/lib/python3.7/dist-packages (from importlib-metadata>=4.4->markdown>=2.6.8->tensorboard==2.7.0) (3.8.0)\n",
            "Requirement already satisfied: pyasn1<0.5.0,>=0.4.6 in /usr/local/lib/python3.7/dist-packages (from pyasn1-modules>=0.2.1->google-auth<3,>=1.6.3->tensorboard==2.7.0) (0.4.8)\n",
            "Requirement already satisfied: certifi>=2017.4.17 in /usr/local/lib/python3.7/dist-packages (from requests<3,>=2.21.0->tensorboard==2.7.0) (2022.6.15)\n",
            "Requirement already satisfied: urllib3!=1.25.0,!=1.25.1,<1.26,>=1.21.1 in /usr/local/lib/python3.7/dist-packages (from requests<3,>=2.21.0->tensorboard==2.7.0) (1.24.3)\n",
            "Requirement already satisfied: chardet<4,>=3.0.2 in /usr/local/lib/python3.7/dist-packages (from requests<3,>=2.21.0->tensorboard==2.7.0) (3.0.4)\n",
            "Requirement already satisfied: idna<3,>=2.5 in /usr/local/lib/python3.7/dist-packages (from requests<3,>=2.21.0->tensorboard==2.7.0) (2.10)\n",
            "Requirement already satisfied: oauthlib>=3.0.0 in /usr/local/lib/python3.7/dist-packages (from requests-oauthlib>=0.7.0->google-auth-oauthlib<0.5,>=0.4.1->tensorboard==2.7.0) (3.2.0)\n",
            "Installing collected packages: tensorboard\n",
            "  Attempting uninstall: tensorboard\n",
            "    Found existing installation: tensorboard 2.8.0\n",
            "    Uninstalling tensorboard-2.8.0:\n",
            "      Successfully uninstalled tensorboard-2.8.0\n",
            "\u001b[31mERROR: pip's dependency resolver does not currently take into account all the packages that are installed. This behaviour is the source of the following dependency conflicts.\n",
            "tensorflow 2.8.2+zzzcolab20220527125636 requires tensorboard<2.9,>=2.8, but you have tensorboard 2.7.0 which is incompatible.\n",
            "deeplabcut 2.2.1.1 requires tables>=3.7.0, but you have tables 3.5.1 which is incompatible.\u001b[0m\n",
            "Successfully installed tensorboard-2.7.0\n",
            "Looking in indexes: https://pypi.org/simple, https://us-python.pkg.dev/colab-wheels/public/simple/\n",
            "Collecting tensorflow==2.7.0\n",
            "  Downloading https://us-python.pkg.dev/colab-wheels/public/tensorflow/tensorflow-2.7.0%2Bzzzcolab20220506150900-cp37-cp37m-linux_x86_64.whl\n",
            "\u001b[K     \\ 665.5 MB 402 kB/s\n",
            "\u001b[?25hRequirement already satisfied: opt-einsum>=2.3.2 in /usr/local/lib/python3.7/dist-packages (from tensorflow==2.7.0) (3.3.0)\n",
            "Requirement already satisfied: google-pasta>=0.1.1 in /usr/local/lib/python3.7/dist-packages (from tensorflow==2.7.0) (0.2.0)\n",
            "Requirement already satisfied: wrapt>=1.11.0 in /usr/local/lib/python3.7/dist-packages (from tensorflow==2.7.0) (1.14.1)\n",
            "Requirement already satisfied: grpcio<2.0,>=1.24.3 in /usr/local/lib/python3.7/dist-packages (from tensorflow==2.7.0) (1.46.3)\n",
            "Requirement already satisfied: protobuf>=3.9.2 in /usr/local/lib/python3.7/dist-packages (from tensorflow==2.7.0) (3.17.3)\n",
            "Requirement already satisfied: libclang>=9.0.1 in /usr/local/lib/python3.7/dist-packages (from tensorflow==2.7.0) (14.0.1)\n",
            "Collecting gast<0.5.0,>=0.2.1\n",
            "  Downloading gast-0.4.0-py3-none-any.whl (9.8 kB)\n",
            "Requirement already satisfied: termcolor>=1.1.0 in /usr/local/lib/python3.7/dist-packages (from tensorflow==2.7.0) (1.1.0)\n",
            "Requirement already satisfied: wheel<1.0,>=0.32.0 in /usr/local/lib/python3.7/dist-packages (from tensorflow==2.7.0) (0.37.1)\n",
            "Requirement already satisfied: typing-extensions>=3.6.6 in /usr/local/lib/python3.7/dist-packages (from tensorflow==2.7.0) (4.1.1)\n",
            "Collecting keras<2.8,>=2.7.0rc0\n",
            "  Downloading keras-2.7.0-py2.py3-none-any.whl (1.3 MB)\n",
            "\u001b[K     |████████████████████████████████| 1.3 MB 8.6 MB/s \n",
            "\u001b[?25hRequirement already satisfied: keras-preprocessing>=1.1.1 in /usr/local/lib/python3.7/dist-packages (from tensorflow==2.7.0) (1.1.2)\n",
            "Requirement already satisfied: absl-py>=0.4.0 in /usr/local/lib/python3.7/dist-packages (from tensorflow==2.7.0) (1.1.0)\n",
            "Requirement already satisfied: h5py>=2.9.0 in /usr/local/lib/python3.7/dist-packages (from tensorflow==2.7.0) (3.1.0)\n",
            "Requirement already satisfied: tensorflow-io-gcs-filesystem>=0.21.0 in /usr/local/lib/python3.7/dist-packages (from tensorflow==2.7.0) (0.26.0)\n",
            "Requirement already satisfied: tensorboard~=2.6 in /usr/local/lib/python3.7/dist-packages (from tensorflow==2.7.0) (2.7.0)\n",
            "Requirement already satisfied: numpy>=1.14.5 in /usr/local/lib/python3.7/dist-packages (from tensorflow==2.7.0) (1.21.6)\n",
            "Requirement already satisfied: flatbuffers<3.0,>=1.12 in /usr/local/lib/python3.7/dist-packages (from tensorflow==2.7.0) (2.0)\n",
            "Requirement already satisfied: six>=1.12.0 in /usr/local/lib/python3.7/dist-packages (from tensorflow==2.7.0) (1.15.0)\n",
            "Requirement already satisfied: astunparse>=1.6.0 in /usr/local/lib/python3.7/dist-packages (from tensorflow==2.7.0) (1.6.3)\n",
            "Collecting tensorflow-estimator<2.8,~=2.7.0rc0\n",
            "  Downloading tensorflow_estimator-2.7.0-py2.py3-none-any.whl (463 kB)\n",
            "\u001b[K     |████████████████████████████████| 463 kB 66.7 MB/s \n",
            "\u001b[?25hRequirement already satisfied: cached-property in /usr/local/lib/python3.7/dist-packages (from h5py>=2.9.0->tensorflow==2.7.0) (1.5.2)\n",
            "Requirement already satisfied: tensorboard-plugin-wit>=1.6.0 in /usr/local/lib/python3.7/dist-packages (from tensorboard~=2.6->tensorflow==2.7.0) (1.8.1)\n",
            "Requirement already satisfied: werkzeug>=0.11.15 in /usr/local/lib/python3.7/dist-packages (from tensorboard~=2.6->tensorflow==2.7.0) (1.0.1)\n",
            "Requirement already satisfied: google-auth<3,>=1.6.3 in /usr/local/lib/python3.7/dist-packages (from tensorboard~=2.6->tensorflow==2.7.0) (1.35.0)\n",
            "Requirement already satisfied: setuptools>=41.0.0 in /usr/local/lib/python3.7/dist-packages (from tensorboard~=2.6->tensorflow==2.7.0) (57.4.0)\n",
            "Requirement already satisfied: markdown>=2.6.8 in /usr/local/lib/python3.7/dist-packages (from tensorboard~=2.6->tensorflow==2.7.0) (3.3.7)\n",
            "Requirement already satisfied: google-auth-oauthlib<0.5,>=0.4.1 in /usr/local/lib/python3.7/dist-packages (from tensorboard~=2.6->tensorflow==2.7.0) (0.4.6)\n",
            "Requirement already satisfied: tensorboard-data-server<0.7.0,>=0.6.0 in /usr/local/lib/python3.7/dist-packages (from tensorboard~=2.6->tensorflow==2.7.0) (0.6.1)\n",
            "Requirement already satisfied: requests<3,>=2.21.0 in /usr/local/lib/python3.7/dist-packages (from tensorboard~=2.6->tensorflow==2.7.0) (2.23.0)\n",
            "Requirement already satisfied: pyasn1-modules>=0.2.1 in /usr/local/lib/python3.7/dist-packages (from google-auth<3,>=1.6.3->tensorboard~=2.6->tensorflow==2.7.0) (0.2.8)\n",
            "Requirement already satisfied: cachetools<5.0,>=2.0.0 in /usr/local/lib/python3.7/dist-packages (from google-auth<3,>=1.6.3->tensorboard~=2.6->tensorflow==2.7.0) (4.2.4)\n",
            "Requirement already satisfied: rsa<5,>=3.1.4 in /usr/local/lib/python3.7/dist-packages (from google-auth<3,>=1.6.3->tensorboard~=2.6->tensorflow==2.7.0) (4.8)\n",
            "Requirement already satisfied: requests-oauthlib>=0.7.0 in /usr/local/lib/python3.7/dist-packages (from google-auth-oauthlib<0.5,>=0.4.1->tensorboard~=2.6->tensorflow==2.7.0) (1.3.1)\n",
            "Requirement already satisfied: importlib-metadata>=4.4 in /usr/local/lib/python3.7/dist-packages (from markdown>=2.6.8->tensorboard~=2.6->tensorflow==2.7.0) (4.11.4)\n",
            "Requirement already satisfied: zipp>=0.5 in /usr/local/lib/python3.7/dist-packages (from importlib-metadata>=4.4->markdown>=2.6.8->tensorboard~=2.6->tensorflow==2.7.0) (3.8.0)\n",
            "Requirement already satisfied: pyasn1<0.5.0,>=0.4.6 in /usr/local/lib/python3.7/dist-packages (from pyasn1-modules>=0.2.1->google-auth<3,>=1.6.3->tensorboard~=2.6->tensorflow==2.7.0) (0.4.8)\n",
            "Requirement already satisfied: idna<3,>=2.5 in /usr/local/lib/python3.7/dist-packages (from requests<3,>=2.21.0->tensorboard~=2.6->tensorflow==2.7.0) (2.10)\n",
            "Requirement already satisfied: chardet<4,>=3.0.2 in /usr/local/lib/python3.7/dist-packages (from requests<3,>=2.21.0->tensorboard~=2.6->tensorflow==2.7.0) (3.0.4)\n",
            "Requirement already satisfied: urllib3!=1.25.0,!=1.25.1,<1.26,>=1.21.1 in /usr/local/lib/python3.7/dist-packages (from requests<3,>=2.21.0->tensorboard~=2.6->tensorflow==2.7.0) (1.24.3)\n",
            "Requirement already satisfied: certifi>=2017.4.17 in /usr/local/lib/python3.7/dist-packages (from requests<3,>=2.21.0->tensorboard~=2.6->tensorflow==2.7.0) (2022.6.15)\n",
            "Requirement already satisfied: oauthlib>=3.0.0 in /usr/local/lib/python3.7/dist-packages (from requests-oauthlib>=0.7.0->google-auth-oauthlib<0.5,>=0.4.1->tensorboard~=2.6->tensorflow==2.7.0) (3.2.0)\n",
            "Installing collected packages: tensorflow-estimator, keras, gast, tensorflow\n",
            "  Attempting uninstall: tensorflow-estimator\n",
            "    Found existing installation: tensorflow-estimator 2.8.0\n",
            "    Uninstalling tensorflow-estimator-2.8.0:\n",
            "      Successfully uninstalled tensorflow-estimator-2.8.0\n",
            "  Attempting uninstall: keras\n",
            "    Found existing installation: keras 2.8.0\n",
            "    Uninstalling keras-2.8.0:\n",
            "      Successfully uninstalled keras-2.8.0\n",
            "  Attempting uninstall: gast\n",
            "    Found existing installation: gast 0.5.3\n",
            "    Uninstalling gast-0.5.3:\n",
            "      Successfully uninstalled gast-0.5.3\n",
            "  Attempting uninstall: tensorflow\n",
            "    Found existing installation: tensorflow 2.8.2+zzzcolab20220527125636\n",
            "    Uninstalling tensorflow-2.8.2+zzzcolab20220527125636:\n",
            "      Successfully uninstalled tensorflow-2.8.2+zzzcolab20220527125636\n",
            "\u001b[31mERROR: pip's dependency resolver does not currently take into account all the packages that are installed. This behaviour is the source of the following dependency conflicts.\n",
            "deeplabcut 2.2.1.1 requires tables>=3.7.0, but you have tables 3.5.1 which is incompatible.\u001b[0m\n",
            "Successfully installed gast-0.4.0 keras-2.7.0 tensorflow-2.7.0+zzzcolab20220506150900 tensorflow-estimator-2.7.0\n"
          ]
        }
      ],
      "source": [
        "!pip install tables==3.5.1\n",
        "!pip install tensorboard==2.7.0\n",
        "!pip install tensorflow==2.7.0"
      ]
    },
    {
      "cell_type": "markdown",
      "metadata": {
        "id": "k1XUX8MHb68O"
      },
      "source": [
        "After restarting the runtime, Import all and mount the memlab@iu.edu \n",
        "google drive. You may need to close and reopen your browser to login. Copy the code after allowing access to the google drive & paste it into the box."
      ]
    },
    {
      "cell_type": "code",
      "execution_count": null,
      "metadata": {
        "colab": {
          "base_uri": "https://localhost:8080/"
        },
        "id": "SMIUn6io1aYR",
        "outputId": "518a5455-936e-47f3-c9ac-800a7941c513"
      },
      "outputs": [
        {
          "name": "stdout",
          "output_type": "stream",
          "text": [
            "TensorFlow 1.x selected.\n",
            "Loading DLC 2.2.1.1...\n",
            "DLC loaded in light mode; you cannot use any GUI (labeling, relabeling and standalone GUI)\n",
            "Mounted at /content/drive\n"
          ]
        }
      ],
      "source": [
        "%tensorflow_version 1.x\n",
        "import os\n",
        "os.environ[\"DLClight\"]=\"True\"\n",
        "import deeplabcut\n",
        "from google.colab import drive\n",
        "drive.mount('/content/drive', force_remount=True)"
      ]
    },
    {
      "cell_type": "code",
      "execution_count": null,
      "metadata": {
        "colab": {
          "base_uri": "https://localhost:8080/"
        },
        "id": "iwk-D3K3eABH",
        "outputId": "34aab659-4f85-4fd3-986c-cc85ee290dad"
      },
      "outputs": [
        {
          "name": "stdout",
          "output_type": "stream",
          "text": [
            "'/content/drive/My Drive/Projects/DeepLabCut/all_combined_tracker-aes-2022-06-22/config.yaml'\n"
          ]
        }
      ],
      "source": [
        "ProjectFolderName = 'all_combined_tracker-aes-2022-06-22'\n",
        "VideoType = 'mp4' \n",
        "#videofile_path = ['/content/drive/My Drive/Projects/DeepLabCut/'+ProjectFolderName+'/videos/']\n",
        "path_config_file = '/content/drive/My Drive/Projects/DeepLabCut/'+ProjectFolderName+'/config.yaml'\n",
        "testVideo_path = ['/content/drive/My Drive/Projects/DeepLabCut/'+ProjectFolderName+'/videos/']\n",
        "!ls '/content/drive/My Drive/Projects/DeepLabCut/all_combined_tracker-aes-2022-06-22/config.yaml'"
      ]
    },
    {
      "cell_type": "markdown",
      "metadata": {
        "id": "5yqgniBqsyzk"
      },
      "source": [
        "# TRAIN A NEW NETWORK"
      ]
    },
    {
      "cell_type": "markdown",
      "metadata": {
        "id": "MBuaMj0_1y6e"
      },
      "source": [
        "Be sure that the variables above match the path of your training videos\n",
        "\n",
        "The following code will create the training dataset for the network.\n",
        "\n",
        "\"After running this script the training dataset is created and saved in the project directory under the subdirectory 'training-datasets'\n",
        "\n",
        "This function also creates new subdirectories under dlc-models and appends the project config.yaml file with the correct path to the training and testing pose configuration file. **These files hold the parameters for training the network.**\" \n",
        "\n",
        "**The pose_cfg.yaml file will store all configuration for training, edit these parameters to change training settings"
      ]
    },
    {
      "cell_type": "code",
      "execution_count": null,
      "metadata": {
        "colab": {
          "base_uri": "https://localhost:8080/"
        },
        "id": "8CC5DbEhnwAj",
        "outputId": "fc9ac189-6706-4f7f-fa58-7746503c0944"
      },
      "outputs": [
        {
          "name": "stdout",
          "output_type": "stream",
          "text": [
            "Attention: /content/drive/My Drive/Projects/DeepLabCut/all_combined_tracker-aes-2022-06-22/labeled-data/G:\\My Drive\\Projects\\DeepLabCut\\all_combined_tracker-aes-2022-06-22\\videos\\MS opto 22 07.30.2021 retrain (1 of 2) does not appear to have labeled data!\n",
            "Attention: /content/drive/My Drive/Projects/DeepLabCut/all_combined_tracker-aes-2022-06-22/labeled-data/G:\\My Drive\\Projects\\DeepLabCut\\all_combined_tracker-aes-2022-06-22\\videos\\MS opto 23 07.28.2021 retrain (1 of 2) does not appear to have labeled data!\n",
            "Attention: /content/drive/My Drive/Projects/DeepLabCut/all_combined_tracker-aes-2022-06-22/labeled-data/G:\\My Drive\\Projects\\DeepLabCut\\all_combined_tracker-aes-2022-06-22\\videos\\MS opto 24 07.28.2021 retrain (1 of 2) does not appear to have labeled data!\n",
            "Attention: /content/drive/My Drive/Projects/DeepLabCut/all_combined_tracker-aes-2022-06-22/labeled-data/G:\\My Drive\\Projects\\DeepLabCut\\all_combined_tracker-aes-2022-06-22\\videos\\MsOpto 23 03.11.2021 (1of2) does not appear to have labeled data!\n",
            "Attention: /content/drive/My Drive/Projects/DeepLabCut/all_combined_tracker-aes-2022-06-22/labeled-data/G:\\My Drive\\Projects\\DeepLabCut\\all_combined_tracker-aes-2022-06-22\\videos\\MsOpto 23 04.28.2021 (1of2) does not appear to have labeled data!\n",
            "Attention: /content/drive/My Drive/Projects/DeepLabCut/all_combined_tracker-aes-2022-06-22/labeled-data/G:\\My Drive\\Projects\\DeepLabCut\\all_combined_tracker-aes-2022-06-22\\videos\\MsOpto 23 05.18.2021 (1of2) does not appear to have labeled data!\n",
            "Attention: /content/drive/My Drive/Projects/DeepLabCut/all_combined_tracker-aes-2022-06-22/labeled-data/G:\\My Drive\\Projects\\DeepLabCut\\all_combined_tracker-aes-2022-06-22\\videos\\MsOpto 24 02.15.2021 (1of2) does not appear to have labeled data!\n",
            "Attention: /content/drive/My Drive/Projects/DeepLabCut/all_combined_tracker-aes-2022-06-22/labeled-data/G:\\My Drive\\Projects\\DeepLabCut\\all_combined_tracker-aes-2022-06-22\\videos\\MsOpto 24 05.19.2021 (1of2) does not appear to have labeled data!\n",
            "Attention: /content/drive/My Drive/Projects/DeepLabCut/all_combined_tracker-aes-2022-06-22/labeled-data/G:\\My Drive\\Projects\\DeepLabCut\\all_combined_tracker-aes-2022-06-22\\videos\\MsOpto 24 08.13.2021 (1of2) Retrain does not appear to have labeled data!\n",
            "Attention: /content/drive/My Drive/Projects/DeepLabCut/all_combined_tracker-aes-2022-06-22/labeled-data/G:\\My Drive\\Projects\\DeepLabCut\\all_combined_tracker-aes-2022-06-22\\videos\\MsOpto 25 04.28.2021 (1of2) does not appear to have labeled data!\n",
            "Attention: /content/drive/My Drive/Projects/DeepLabCut/all_combined_tracker-aes-2022-06-22/labeled-data/G:\\My Drive\\Projects\\DeepLabCut\\all_combined_tracker-aes-2022-06-22\\videos\\MsOpto 25 05.26.2021 (1of2) does not appear to have labeled data!\n",
            "Attention: /content/drive/My Drive/Projects/DeepLabCut/all_combined_tracker-aes-2022-06-22/labeled-data/G:\\My Drive\\Projects\\DeepLabCut\\all_combined_tracker-aes-2022-06-22\\videos\\MsOpto 25 06.11.2021 (1of2) does not appear to have labeled data!\n",
            "Attention: /content/drive/My Drive/Projects/DeepLabCut/all_combined_tracker-aes-2022-06-22/labeled-data/G:\\My Drive\\Projects\\DeepLabCut\\all_combined_tracker-aes-2022-06-22\\videos\\MsOpto 25 07.01.2021 (1of2) Retrain does not appear to have labeled data!\n",
            "Attention: /content/drive/My Drive/Projects/DeepLabCut/all_combined_tracker-aes-2022-06-22/labeled-data/G:\\My Drive\\Projects\\DeepLabCut\\all_combined_tracker-aes-2022-06-22\\videos\\RC3_220124_1of2 does not appear to have labeled data!\n",
            "Attention: /content/drive/My Drive/Projects/DeepLabCut/all_combined_tracker-aes-2022-06-22/labeled-data/G:\\My Drive\\Projects\\DeepLabCut\\all_combined_tracker-aes-2022-06-22\\videos\\RC3_220125_1of2 does not appear to have labeled data!\n",
            "Attention: /content/drive/My Drive/Projects/DeepLabCut/all_combined_tracker-aes-2022-06-22/labeled-data/G:\\My Drive\\Projects\\DeepLabCut\\all_combined_tracker-aes-2022-06-22\\videos\\RC3_220126_1of2 does not appear to have labeled data!\n",
            "Attention: /content/drive/My Drive/Projects/DeepLabCut/all_combined_tracker-aes-2022-06-22/labeled-data/G:\\My Drive\\Projects\\DeepLabCut\\all_combined_tracker-aes-2022-06-22\\videos\\RC3_220127_1of2 does not appear to have labeled data!\n",
            "Attention: /content/drive/My Drive/Projects/DeepLabCut/all_combined_tracker-aes-2022-06-22/labeled-data/G:\\My Drive\\Projects\\DeepLabCut\\all_combined_tracker-aes-2022-06-22\\videos\\RC4_220118_1of2 does not appear to have labeled data!\n",
            "Attention: /content/drive/My Drive/Projects/DeepLabCut/all_combined_tracker-aes-2022-06-22/labeled-data/G:\\My Drive\\Projects\\DeepLabCut\\all_combined_tracker-aes-2022-06-22\\videos\\RC4_220124_1of2 does not appear to have labeled data!\n",
            "Attention: /content/drive/My Drive/Projects/DeepLabCut/all_combined_tracker-aes-2022-06-22/labeled-data/G:\\My Drive\\Projects\\DeepLabCut\\all_combined_tracker-aes-2022-06-22\\videos\\RC4_220209_1of2 does not appear to have labeled data!\n",
            "Attention: /content/drive/My Drive/Projects/DeepLabCut/all_combined_tracker-aes-2022-06-22/labeled-data/G:\\My Drive\\Projects\\DeepLabCut\\all_combined_tracker-aes-2022-06-22\\videos\\RC4_220211_1of2 does not appear to have labeled data!\n",
            "Attention: /content/drive/My Drive/Projects/DeepLabCut/all_combined_tracker-aes-2022-06-22/labeled-data/G:\\My Drive\\Projects\\DeepLabCut\\all_combined_tracker-aes-2022-06-22\\videos\\RC5_220118_1of2 does not appear to have labeled data!\n",
            "Attention: /content/drive/My Drive/Projects/DeepLabCut/all_combined_tracker-aes-2022-06-22/labeled-data/G:\\My Drive\\Projects\\DeepLabCut\\all_combined_tracker-aes-2022-06-22\\videos\\RC5_220121_1of2 does not appear to have labeled data!\n",
            "Attention: /content/drive/My Drive/Projects/DeepLabCut/all_combined_tracker-aes-2022-06-22/labeled-data/G:\\My Drive\\Projects\\DeepLabCut\\all_combined_tracker-aes-2022-06-22\\videos\\RC5_220127_1of2 does not appear to have labeled data!\n",
            "Attention: /content/drive/My Drive/Projects/DeepLabCut/all_combined_tracker-aes-2022-06-22/labeled-data/G:\\My Drive\\Projects\\DeepLabCut\\all_combined_tracker-aes-2022-06-22\\videos\\RC5_220202_1of2 does not appear to have labeled data!\n",
            "Attention: /content/drive/My Drive/Projects/DeepLabCut/all_combined_tracker-aes-2022-06-22/labeled-data/G:\\My Drive\\Projects\\DeepLabCut\\all_combined_tracker-aes-2022-06-22\\videos\\RC6_220210_1of2 does not appear to have labeled data!\n",
            "Attention: /content/drive/My Drive/Projects/DeepLabCut/all_combined_tracker-aes-2022-06-22/labeled-data/G:\\My Drive\\Projects\\DeepLabCut\\all_combined_tracker-aes-2022-06-22\\videos\\RC6_220215_1of2 does not appear to have labeled data!\n",
            "Attention: /content/drive/My Drive/Projects/DeepLabCut/all_combined_tracker-aes-2022-06-22/labeled-data/G:\\My Drive\\Projects\\DeepLabCut\\all_combined_tracker-aes-2022-06-22\\videos\\RC6_220217_1of2 does not appear to have labeled data!\n",
            "Attention: /content/drive/My Drive/Projects/DeepLabCut/all_combined_tracker-aes-2022-06-22/labeled-data/G:\\My Drive\\Projects\\DeepLabCut\\all_combined_tracker-aes-2022-06-22\\videos\\RC6_220218_1of2 does not appear to have labeled data!\n",
            "Attention: /content/drive/My Drive/Projects/DeepLabCut/all_combined_tracker-aes-2022-06-22/labeled-data/G:\\My Drive\\Projects\\DeepLabCut\\all_combined_tracker-aes-2022-06-22\\videos\\RC7_220124_1of2 does not appear to have labeled data!\n",
            "Attention: /content/drive/My Drive/Projects/DeepLabCut/all_combined_tracker-aes-2022-06-22/labeled-data/G:\\My Drive\\Projects\\DeepLabCut\\all_combined_tracker-aes-2022-06-22\\videos\\RC7_220126_1of2 does not appear to have labeled data!\n",
            "Attention: /content/drive/My Drive/Projects/DeepLabCut/all_combined_tracker-aes-2022-06-22/labeled-data/G:\\My Drive\\Projects\\DeepLabCut\\all_combined_tracker-aes-2022-06-22\\videos\\RC7_220131_1of2 does not appear to have labeled data!\n",
            "Attention: /content/drive/My Drive/Projects/DeepLabCut/all_combined_tracker-aes-2022-06-22/labeled-data/G:\\My Drive\\Projects\\DeepLabCut\\all_combined_tracker-aes-2022-06-22\\videos\\RC7_220201_1of2 does not appear to have labeled data!\n",
            "Attention: /content/drive/My Drive/Projects/DeepLabCut/all_combined_tracker-aes-2022-06-22/labeled-data/G:\\My Drive\\Projects\\DeepLabCut\\all_combined_tracker-aes-2022-06-22\\videos\\RC8_220122_1of2 does not appear to have labeled data!\n",
            "Attention: /content/drive/My Drive/Projects/DeepLabCut/all_combined_tracker-aes-2022-06-22/labeled-data/G:\\My Drive\\Projects\\DeepLabCut\\all_combined_tracker-aes-2022-06-22\\videos\\RC8_220201_1of2 does not appear to have labeled data!\n",
            "Attention: /content/drive/My Drive/Projects/DeepLabCut/all_combined_tracker-aes-2022-06-22/labeled-data/G:\\My Drive\\Projects\\DeepLabCut\\all_combined_tracker-aes-2022-06-22\\videos\\RC8_220208_1of2 does not appear to have labeled data!\n",
            "Attention: /content/drive/My Drive/Projects/DeepLabCut/all_combined_tracker-aes-2022-06-22/labeled-data/G:\\My Drive\\Projects\\DeepLabCut\\all_combined_tracker-aes-2022-06-22\\videos\\RC8_220214_1of2 does not appear to have labeled data!\n",
            "Attention: /content/drive/My Drive/Projects/DeepLabCut/all_combined_tracker-aes-2022-06-22/labeled-data/G:\\My Drive\\Projects\\DeepLabCut\\all_combined_tracker-aes-2022-06-22\\videos\\RC9_220124_1of2 does not appear to have labeled data!\n",
            "Attention: /content/drive/My Drive/Projects/DeepLabCut/all_combined_tracker-aes-2022-06-22/labeled-data/G:\\My Drive\\Projects\\DeepLabCut\\all_combined_tracker-aes-2022-06-22\\videos\\RC9_220131_1of2 does not appear to have labeled data!\n",
            "Attention: /content/drive/My Drive/Projects/DeepLabCut/all_combined_tracker-aes-2022-06-22/labeled-data/G:\\My Drive\\Projects\\DeepLabCut\\all_combined_tracker-aes-2022-06-22\\videos\\RC9_220202_1of2 does not appear to have labeled data!\n",
            "Attention: /content/drive/My Drive/Projects/DeepLabCut/all_combined_tracker-aes-2022-06-22/labeled-data/G:\\My Drive\\Projects\\DeepLabCut\\all_combined_tracker-aes-2022-06-22\\videos\\RC9_220208_1of2 does not appear to have labeled data!\n",
            "Attention: /content/drive/My Drive/Projects/DeepLabCut/all_combined_tracker-aes-2022-06-22/labeled-data/G:\\My Drive\\Projects\\DeepLabCut\\all_combined_tracker-aes-2022-06-22\\videos\\RC10_220125_1of2 does not appear to have labeled data!\n",
            "Attention: /content/drive/My Drive/Projects/DeepLabCut/all_combined_tracker-aes-2022-06-22/labeled-data/G:\\My Drive\\Projects\\DeepLabCut\\all_combined_tracker-aes-2022-06-22\\videos\\RC10_220127_1of2 does not appear to have labeled data!\n",
            "Attention: /content/drive/My Drive/Projects/DeepLabCut/all_combined_tracker-aes-2022-06-22/labeled-data/G:\\My Drive\\Projects\\DeepLabCut\\all_combined_tracker-aes-2022-06-22\\videos\\RC10_220202_1of2 does not appear to have labeled data!\n",
            "Attention: /content/drive/My Drive/Projects/DeepLabCut/all_combined_tracker-aes-2022-06-22/labeled-data/G:\\My Drive\\Projects\\DeepLabCut\\all_combined_tracker-aes-2022-06-22\\videos\\RC10_220210_1of2 does not appear to have labeled data!\n",
            "Attention: /content/drive/My Drive/Projects/DeepLabCut/all_combined_tracker-aes-2022-06-22/labeled-data/G:\\My Drive\\Projects\\DeepLabCut\\all_combined_tracker-aes-2022-06-22\\videos\\Rear 1 08.03.21 (1of 2) does not appear to have labeled data!\n",
            "Attention: /content/drive/My Drive/Projects/DeepLabCut/all_combined_tracker-aes-2022-06-22/labeled-data/G:\\My Drive\\Projects\\DeepLabCut\\all_combined_tracker-aes-2022-06-22\\videos\\Rear1 06.30.2021 (1of2) does not appear to have labeled data!\n",
            "Attention: /content/drive/My Drive/Projects/DeepLabCut/all_combined_tracker-aes-2022-06-22/labeled-data/G:\\My Drive\\Projects\\DeepLabCut\\all_combined_tracker-aes-2022-06-22\\videos\\Rear1 07.21.2021 (1of2) does not appear to have labeled data!\n",
            "Attention: /content/drive/My Drive/Projects/DeepLabCut/all_combined_tracker-aes-2022-06-22/labeled-data/G:\\My Drive\\Projects\\DeepLabCut\\all_combined_tracker-aes-2022-06-22\\videos\\Rear1 07.023.2021 (1of2) does not appear to have labeled data!\n",
            "Attention: /content/drive/My Drive/Projects/DeepLabCut/all_combined_tracker-aes-2022-06-22/labeled-data/G:\\My Drive\\Projects\\DeepLabCut\\all_combined_tracker-aes-2022-06-22\\videos\\Rear 2 08.09.2021 (1of2) Retrain does not appear to have labeled data!\n",
            "Attention: /content/drive/My Drive/Projects/DeepLabCut/all_combined_tracker-aes-2022-06-22/labeled-data/G:\\My Drive\\Projects\\DeepLabCut\\all_combined_tracker-aes-2022-06-22\\videos\\Rear2 06.28.2021 (1of2) does not appear to have labeled data!\n",
            "Attention: /content/drive/My Drive/Projects/DeepLabCut/all_combined_tracker-aes-2022-06-22/labeled-data/G:\\My Drive\\Projects\\DeepLabCut\\all_combined_tracker-aes-2022-06-22\\videos\\Rear2 07.06.2021 (1of2) does not appear to have labeled data!\n",
            "Attention: /content/drive/My Drive/Projects/DeepLabCut/all_combined_tracker-aes-2022-06-22/labeled-data/G:\\My Drive\\Projects\\DeepLabCut\\all_combined_tracker-aes-2022-06-22\\videos\\Rear2 08.13.2021 (1of2) Retrain does not appear to have labeled data!\n",
            "Attention: /content/drive/My Drive/Projects/DeepLabCut/all_combined_tracker-aes-2022-06-22/labeled-data/G:\\My Drive\\Projects\\DeepLabCut\\all_combined_tracker-aes-2022-06-22\\videos\\Rear 3 08.03.2021 (1of2) Retrain does not appear to have labeled data!\n",
            "Attention: /content/drive/My Drive/Projects/DeepLabCut/all_combined_tracker-aes-2022-06-22/labeled-data/G:\\My Drive\\Projects\\DeepLabCut\\all_combined_tracker-aes-2022-06-22\\videos\\Rear 3 08.04.2021 (1of2) Retrain does not appear to have labeled data!\n",
            "Attention: /content/drive/My Drive/Projects/DeepLabCut/all_combined_tracker-aes-2022-06-22/labeled-data/G:\\My Drive\\Projects\\DeepLabCut\\all_combined_tracker-aes-2022-06-22\\videos\\Rear 4 08.04.2021 (1of2) does not appear to have labeled data!\n",
            "Attention: /content/drive/My Drive/Projects/DeepLabCut/all_combined_tracker-aes-2022-06-22/labeled-data/G:\\My Drive\\Projects\\DeepLabCut\\all_combined_tracker-aes-2022-06-22\\videos\\Rear 4 08.18.2021 (1of2) does not appear to have labeled data!\n",
            "Attention: /content/drive/My Drive/Projects/DeepLabCut/all_combined_tracker-aes-2022-06-22/labeled-data/G:\\My Drive\\Projects\\DeepLabCut\\all_combined_tracker-aes-2022-06-22\\videos\\Rear 4 09.24.2021 (1of2) does not appear to have labeled data!\n",
            "Attention: /content/drive/My Drive/Projects/DeepLabCut/all_combined_tracker-aes-2022-06-22/labeled-data/G:\\My Drive\\Projects\\DeepLabCut\\all_combined_tracker-aes-2022-06-22\\videos\\Rear 4 10.04.2021 (1of2) does not appear to have labeled data!\n",
            "Attention: /content/drive/My Drive/Projects/DeepLabCut/all_combined_tracker-aes-2022-06-22/labeled-data/G:\\My Drive\\Projects\\DeepLabCut\\all_combined_tracker-aes-2022-06-22\\videos\\Rear 6 08.03.2021 (1of2) does not appear to have labeled data!\n",
            "Attention: /content/drive/My Drive/Projects/DeepLabCut/all_combined_tracker-aes-2022-06-22/labeled-data/G:\\My Drive\\Projects\\DeepLabCut\\all_combined_tracker-aes-2022-06-22\\videos\\Rear 6 09.13.2021 (1of2) does not appear to have labeled data!\n",
            "Attention: /content/drive/My Drive/Projects/DeepLabCut/all_combined_tracker-aes-2022-06-22/labeled-data/G:\\My Drive\\Projects\\DeepLabCut\\all_combined_tracker-aes-2022-06-22\\videos\\Rear 6 10.01.2021 (1of2) retrain does not appear to have labeled data!\n",
            "Attention: /content/drive/My Drive/Projects/DeepLabCut/all_combined_tracker-aes-2022-06-22/labeled-data/G:\\My Drive\\Projects\\DeepLabCut\\all_combined_tracker-aes-2022-06-22\\videos\\Rear 6 10.21.2021 (1of2) retrain does not appear to have labeled data!\n"
          ]
        }
      ],
      "source": [
        "deeplabcut.convertcsv2h5(path_config_file, userfeedback=False)"
      ]
    },
    {
      "cell_type": "code",
      "execution_count": null,
      "metadata": {
        "colab": {
          "base_uri": "https://localhost:8080/"
        },
        "id": "q48S4qe41xg6",
        "outputId": "9c2d1889-a414-4d84-8774-4fa53e9e44a4"
      },
      "outputs": [
        {
          "name": "stdout",
          "output_type": "stream",
          "text": [
            "The training dataset is successfully created. Use the function 'train_network' to start training. Happy training!\n"
          ]
        },
        {
          "data": {
            "text/plain": [
              "[(0.95,\n",
              "  1,\n",
              "  (array([808, 908, 223, ..., 990, 572, 841]),\n",
              "   array([ 796,  460,  668,  801,  539, 1156,  508, 1096, 1076,  944,  219,\n",
              "          1211,  516,  404,  911, 1222,  855, 1073, 1094,  635,  900,  817,\n",
              "           575,  311,  741,  121,  458,  229,  674,  950,  494,  651, 1128,\n",
              "           876,  557,  755, 1207,  295,  444,  743, 1116,  669,  880,  497,\n",
              "          1198,  964, 1126,  238,  248, 1075,  818, 1091, 1228, 1159, 1135,\n",
              "           789, 1018,  429, 1077, 1021,  305,  565])))]"
            ]
          },
          "execution_count": 64,
          "metadata": {},
          "output_type": "execute_result"
        }
      ],
      "source": [
        "deeplabcut.create_training_dataset(path_config_file, net_type='resnet_50', augmenter_type='imgaug')"
      ]
    },
    {
      "cell_type": "markdown",
      "metadata": {
        "id": "JSC9nRma2ujY"
      },
      "source": [
        "Below begins actual training on the network. You want at least 400,000 iterations. saveiters will save a network every 4500 iterations, this can be changed to any amount. Trained networks are saved as 3 'snapshot' files in the same directory. Change the initial learning to a previous snapshot to continue training from save, in the same format I have done in the yaml file. A checkpoint file is updated and saved for the entire training. All 4 of these files are needed to evaluate the network and analyze new videos."
      ]
    },
    {
      "cell_type": "code",
      "execution_count": null,
      "metadata": {
        "colab": {
          "base_uri": "https://localhost:8080/"
        },
        "id": "bm8b7mIc2ses",
        "outputId": "e95a1a47-a8c9-4817-d84e-19b9c926d5a3"
      },
      "outputs": [
        {
          "name": "stderr",
          "output_type": "stream",
          "text": [
            "Config:\n",
            "{'all_joints': [[0], [1], [2], [3]],\n",
            " 'all_joints_names': ['bodypart1', 'bodypart2', 'bodypart3', 'objectA'],\n",
            " 'alpha_r': 0.02,\n",
            " 'apply_prob': 0.5,\n",
            " 'batch_size': 1,\n",
            " 'clahe': True,\n",
            " 'claheratio': 0.1,\n",
            " 'crop_pad': 0,\n",
            " 'cropratio': 0.4,\n",
            " 'dataset': 'training-datasets/iteration-0/UnaugmentedDataSet_all_combined_trackerJun22/all_combined_tracker_jic95shuffle1.mat',\n",
            " 'dataset_type': 'imgaug',\n",
            " 'decay_steps': 30000,\n",
            " 'deterministic': False,\n",
            " 'display_iters': 1000,\n",
            " 'edge': False,\n",
            " 'emboss': {'alpha': [0.0, 1.0], 'embossratio': 0.1, 'strength': [0.5, 1.5]},\n",
            " 'fg_fraction': 0.25,\n",
            " 'global_scale': 0.8,\n",
            " 'histeq': True,\n",
            " 'histeqratio': 0.1,\n",
            " 'init_weights': '/usr/local/lib/python3.7/dist-packages/deeplabcut/pose_estimation_tensorflow/models/pretrained/resnet_v1_50.ckpt',\n",
            " 'intermediate_supervision': False,\n",
            " 'intermediate_supervision_layer': 12,\n",
            " 'location_refinement': True,\n",
            " 'locref_huber_loss': True,\n",
            " 'locref_loss_weight': 0.05,\n",
            " 'locref_stdev': 7.2801,\n",
            " 'log_dir': 'log',\n",
            " 'lr_init': 0.0005,\n",
            " 'max_input_size': 1500,\n",
            " 'mean_pixel': [123.68, 116.779, 103.939],\n",
            " 'metadataset': 'training-datasets/iteration-0/UnaugmentedDataSet_all_combined_trackerJun22/Documentation_data-all_combined_tracker_95shuffle1.pickle',\n",
            " 'min_input_size': 64,\n",
            " 'mirror': False,\n",
            " 'multi_stage': False,\n",
            " 'multi_step': [[0.005, 10000],\n",
            "                [0.02, 430000],\n",
            "                [0.002, 730000],\n",
            "                [0.001, 1030000]],\n",
            " 'net_type': 'resnet_50',\n",
            " 'num_joints': 4,\n",
            " 'optimizer': 'sgd',\n",
            " 'pairwise_huber_loss': False,\n",
            " 'pairwise_predict': False,\n",
            " 'partaffinityfield_predict': False,\n",
            " 'pos_dist_thresh': 17,\n",
            " 'project_path': '/content/drive/My '\n",
            "                 'Drive/Projects/DeepLabCut/all_combined_tracker-aes-2022-06-22',\n",
            " 'regularize': False,\n",
            " 'rotation': 25,\n",
            " 'rotratio': 0.4,\n",
            " 'save_iters': 50000,\n",
            " 'scale_jitter_lo': 0.5,\n",
            " 'scale_jitter_up': 1.25,\n",
            " 'scoremap_dir': 'test',\n",
            " 'sharpen': False,\n",
            " 'sharpenratio': 0.3,\n",
            " 'shuffle': True,\n",
            " 'snapshot_prefix': '/content/drive/My '\n",
            "                    'Drive/Projects/DeepLabCut/all_combined_tracker-aes-2022-06-22/dlc-models/iteration-0/all_combined_trackerJun22-trainset95shuffle1/train/snapshot',\n",
            " 'stride': 8.0,\n",
            " 'weigh_negatives': False,\n",
            " 'weigh_only_present_joints': False,\n",
            " 'weigh_part_predictions': False,\n",
            " 'weight_decay': 0.0001}\n"
          ]
        },
        {
          "name": "stdout",
          "output_type": "stream",
          "text": [
            "Selecting single-animal trainer\n",
            "Batch Size is 1\n",
            "Loading ImageNet-pretrained resnet_50\n",
            "Display_iters overwritten as 100\n",
            "Save_iters overwritten as 2000\n",
            "Training parameter:\n",
            "{'stride': 8.0, 'weigh_part_predictions': False, 'weigh_negatives': False, 'fg_fraction': 0.25, 'mean_pixel': [123.68, 116.779, 103.939], 'shuffle': True, 'snapshot_prefix': '/content/drive/My Drive/Projects/DeepLabCut/all_combined_tracker-aes-2022-06-22/dlc-models/iteration-0/all_combined_trackerJun22-trainset95shuffle1/train/snapshot', 'log_dir': 'log', 'global_scale': 0.8, 'location_refinement': True, 'locref_stdev': 7.2801, 'locref_loss_weight': 0.05, 'locref_huber_loss': True, 'optimizer': 'sgd', 'intermediate_supervision': False, 'intermediate_supervision_layer': 12, 'regularize': False, 'weight_decay': 0.0001, 'crop_pad': 0, 'scoremap_dir': 'test', 'batch_size': 1, 'dataset_type': 'imgaug', 'deterministic': False, 'mirror': False, 'pairwise_huber_loss': False, 'weigh_only_present_joints': False, 'partaffinityfield_predict': False, 'pairwise_predict': False, 'all_joints': [[0], [1], [2], [3]], 'all_joints_names': ['bodypart1', 'bodypart2', 'bodypart3', 'objectA'], 'alpha_r': 0.02, 'apply_prob': 0.5, 'clahe': True, 'claheratio': 0.1, 'cropratio': 0.4, 'dataset': 'training-datasets/iteration-0/UnaugmentedDataSet_all_combined_trackerJun22/all_combined_tracker_jic95shuffle1.mat', 'decay_steps': 30000, 'display_iters': 1000, 'edge': False, 'emboss': {'alpha': [0.0, 1.0], 'embossratio': 0.1, 'strength': [0.5, 1.5]}, 'histeq': True, 'histeqratio': 0.1, 'init_weights': '/usr/local/lib/python3.7/dist-packages/deeplabcut/pose_estimation_tensorflow/models/pretrained/resnet_v1_50.ckpt', 'lr_init': 0.0005, 'max_input_size': 1500, 'metadataset': 'training-datasets/iteration-0/UnaugmentedDataSet_all_combined_trackerJun22/Documentation_data-all_combined_tracker_95shuffle1.pickle', 'min_input_size': 64, 'multi_stage': False, 'multi_step': [[0.005, 10000], [0.02, 430000], [0.002, 730000], [0.001, 1030000]], 'net_type': 'resnet_50', 'num_joints': 4, 'pos_dist_thresh': 17, 'project_path': '/content/drive/My Drive/Projects/DeepLabCut/all_combined_tracker-aes-2022-06-22', 'rotation': 25, 'rotratio': 0.4, 'save_iters': 50000, 'scale_jitter_lo': 0.5, 'scale_jitter_up': 1.25, 'sharpen': False, 'sharpenratio': 0.3, 'covering': True, 'elastic_transform': True, 'motion_blur': True, 'motion_blur_params': {'k': 7, 'angle': (-90, 90)}}\n",
            "Starting training....\n"
          ]
        },
        {
          "name": "stderr",
          "output_type": "stream",
          "text": [
            "iteration: 100 loss: 0.0564 lr: 0.005\n",
            "iteration: 200 loss: 0.0194 lr: 0.005\n",
            "iteration: 300 loss: 0.0202 lr: 0.005\n",
            "iteration: 400 loss: 0.0181 lr: 0.005\n",
            "iteration: 500 loss: 0.0177 lr: 0.005\n",
            "iteration: 600 loss: 0.0180 lr: 0.005\n",
            "iteration: 700 loss: 0.0167 lr: 0.005\n",
            "iteration: 800 loss: 0.0153 lr: 0.005\n",
            "iteration: 900 loss: 0.0156 lr: 0.005\n",
            "iteration: 1000 loss: 0.0146 lr: 0.005\n",
            "iteration: 1100 loss: 0.0146 lr: 0.005\n",
            "iteration: 1200 loss: 0.0130 lr: 0.005\n",
            "iteration: 1300 loss: 0.0141 lr: 0.005\n",
            "iteration: 1400 loss: 0.0147 lr: 0.005\n",
            "iteration: 1500 loss: 0.0131 lr: 0.005\n",
            "iteration: 1600 loss: 0.0121 lr: 0.005\n",
            "iteration: 1700 loss: 0.0129 lr: 0.005\n",
            "iteration: 1800 loss: 0.0123 lr: 0.005\n",
            "iteration: 1900 loss: 0.0120 lr: 0.005\n",
            "iteration: 2000 loss: 0.0119 lr: 0.005\n",
            "iteration: 2100 loss: 0.0114 lr: 0.005\n",
            "iteration: 2200 loss: 0.0114 lr: 0.005\n",
            "iteration: 2300 loss: 0.0106 lr: 0.005\n",
            "iteration: 2400 loss: 0.0111 lr: 0.005\n",
            "iteration: 2500 loss: 0.0110 lr: 0.005\n",
            "iteration: 2600 loss: 0.0103 lr: 0.005\n",
            "iteration: 2700 loss: 0.0107 lr: 0.005\n",
            "iteration: 2800 loss: 0.0099 lr: 0.005\n",
            "iteration: 2900 loss: 0.0101 lr: 0.005\n",
            "iteration: 3000 loss: 0.0099 lr: 0.005\n",
            "iteration: 3100 loss: 0.0092 lr: 0.005\n",
            "iteration: 3200 loss: 0.0097 lr: 0.005\n",
            "iteration: 3300 loss: 0.0092 lr: 0.005\n",
            "iteration: 3400 loss: 0.0095 lr: 0.005\n",
            "iteration: 3500 loss: 0.0094 lr: 0.005\n",
            "iteration: 3600 loss: 0.0083 lr: 0.005\n",
            "iteration: 3700 loss: 0.0086 lr: 0.005\n",
            "iteration: 3800 loss: 0.0086 lr: 0.005\n",
            "iteration: 3900 loss: 0.0086 lr: 0.005\n",
            "iteration: 4000 loss: 0.0092 lr: 0.005\n",
            "iteration: 4100 loss: 0.0086 lr: 0.005\n",
            "iteration: 4200 loss: 0.0081 lr: 0.005\n",
            "iteration: 4300 loss: 0.0088 lr: 0.005\n",
            "iteration: 4400 loss: 0.0084 lr: 0.005\n",
            "iteration: 4500 loss: 0.0079 lr: 0.005\n",
            "iteration: 4600 loss: 0.0082 lr: 0.005\n",
            "iteration: 4700 loss: 0.0080 lr: 0.005\n",
            "iteration: 4800 loss: 0.0083 lr: 0.005\n",
            "iteration: 4900 loss: 0.0078 lr: 0.005\n",
            "iteration: 5000 loss: 0.0077 lr: 0.005\n",
            "iteration: 5100 loss: 0.0072 lr: 0.005\n",
            "iteration: 5200 loss: 0.0074 lr: 0.005\n",
            "iteration: 5300 loss: 0.0072 lr: 0.005\n",
            "iteration: 5400 loss: 0.0076 lr: 0.005\n",
            "iteration: 5500 loss: 0.0071 lr: 0.005\n",
            "iteration: 5600 loss: 0.0072 lr: 0.005\n",
            "iteration: 5700 loss: 0.0074 lr: 0.005\n",
            "iteration: 5800 loss: 0.0075 lr: 0.005\n",
            "iteration: 5900 loss: 0.0072 lr: 0.005\n",
            "iteration: 6000 loss: 0.0070 lr: 0.005\n",
            "iteration: 6100 loss: 0.0070 lr: 0.005\n",
            "iteration: 6200 loss: 0.0074 lr: 0.005\n",
            "iteration: 6300 loss: 0.0064 lr: 0.005\n",
            "iteration: 6400 loss: 0.0070 lr: 0.005\n",
            "iteration: 6500 loss: 0.0064 lr: 0.005\n",
            "iteration: 6600 loss: 0.0060 lr: 0.005\n",
            "iteration: 6700 loss: 0.0063 lr: 0.005\n",
            "iteration: 6800 loss: 0.0063 lr: 0.005\n",
            "iteration: 6900 loss: 0.0068 lr: 0.005\n",
            "iteration: 7000 loss: 0.0066 lr: 0.005\n",
            "iteration: 7100 loss: 0.0060 lr: 0.005\n",
            "iteration: 7200 loss: 0.0067 lr: 0.005\n",
            "iteration: 7300 loss: 0.0063 lr: 0.005\n",
            "iteration: 7400 loss: 0.0059 lr: 0.005\n",
            "iteration: 7500 loss: 0.0061 lr: 0.005\n",
            "iteration: 7600 loss: 0.0062 lr: 0.005\n",
            "iteration: 7700 loss: 0.0059 lr: 0.005\n",
            "iteration: 7800 loss: 0.0054 lr: 0.005\n",
            "iteration: 7900 loss: 0.0060 lr: 0.005\n",
            "iteration: 8000 loss: 0.0055 lr: 0.005\n",
            "iteration: 8100 loss: 0.0055 lr: 0.005\n",
            "iteration: 8200 loss: 0.0055 lr: 0.005\n",
            "iteration: 8300 loss: 0.0055 lr: 0.005\n",
            "iteration: 8400 loss: 0.0057 lr: 0.005\n",
            "iteration: 8500 loss: 0.0056 lr: 0.005\n",
            "iteration: 8600 loss: 0.0054 lr: 0.005\n",
            "iteration: 8700 loss: 0.0053 lr: 0.005\n",
            "iteration: 8800 loss: 0.0060 lr: 0.005\n",
            "iteration: 8900 loss: 0.0057 lr: 0.005\n",
            "iteration: 9000 loss: 0.0060 lr: 0.005\n",
            "iteration: 9100 loss: 0.0053 lr: 0.005\n",
            "iteration: 9200 loss: 0.0054 lr: 0.005\n",
            "iteration: 9300 loss: 0.0057 lr: 0.005\n",
            "iteration: 9400 loss: 0.0054 lr: 0.005\n",
            "iteration: 9500 loss: 0.0051 lr: 0.005\n",
            "iteration: 9600 loss: 0.0050 lr: 0.005\n",
            "iteration: 9700 loss: 0.0053 lr: 0.005\n",
            "iteration: 9800 loss: 0.0054 lr: 0.005\n",
            "iteration: 9900 loss: 0.0052 lr: 0.005\n",
            "iteration: 10000 loss: 0.0051 lr: 0.005\n",
            "iteration: 10100 loss: 0.0087 lr: 0.02\n",
            "iteration: 10200 loss: 0.0084 lr: 0.02\n",
            "iteration: 10300 loss: 0.0080 lr: 0.02\n",
            "iteration: 10400 loss: 0.0085 lr: 0.02\n",
            "iteration: 10500 loss: 0.0075 lr: 0.02\n",
            "iteration: 10600 loss: 0.0073 lr: 0.02\n",
            "iteration: 10700 loss: 0.0086 lr: 0.02\n",
            "iteration: 10800 loss: 0.0078 lr: 0.02\n",
            "iteration: 10900 loss: 0.0078 lr: 0.02\n",
            "iteration: 11000 loss: 0.0072 lr: 0.02\n",
            "iteration: 11100 loss: 0.0063 lr: 0.02\n",
            "iteration: 11200 loss: 0.0067 lr: 0.02\n",
            "iteration: 11300 loss: 0.0061 lr: 0.02\n",
            "iteration: 11400 loss: 0.0062 lr: 0.02\n",
            "iteration: 11500 loss: 0.0065 lr: 0.02\n",
            "iteration: 11600 loss: 0.0070 lr: 0.02\n",
            "iteration: 11700 loss: 0.0058 lr: 0.02\n",
            "iteration: 11800 loss: 0.0060 lr: 0.02\n",
            "iteration: 11900 loss: 0.0060 lr: 0.02\n",
            "iteration: 12000 loss: 0.0057 lr: 0.02\n",
            "iteration: 12100 loss: 0.0054 lr: 0.02\n",
            "iteration: 12200 loss: 0.0056 lr: 0.02\n",
            "iteration: 12300 loss: 0.0056 lr: 0.02\n",
            "iteration: 12400 loss: 0.0059 lr: 0.02\n",
            "iteration: 12500 loss: 0.0051 lr: 0.02\n",
            "iteration: 12600 loss: 0.0051 lr: 0.02\n",
            "iteration: 12700 loss: 0.0057 lr: 0.02\n",
            "iteration: 12800 loss: 0.0048 lr: 0.02\n",
            "iteration: 12900 loss: 0.0052 lr: 0.02\n",
            "iteration: 13000 loss: 0.0047 lr: 0.02\n",
            "iteration: 13100 loss: 0.0048 lr: 0.02\n",
            "iteration: 13200 loss: 0.0052 lr: 0.02\n",
            "iteration: 13300 loss: 0.0046 lr: 0.02\n",
            "iteration: 13400 loss: 0.0046 lr: 0.02\n",
            "iteration: 13500 loss: 0.0051 lr: 0.02\n",
            "iteration: 13600 loss: 0.0050 lr: 0.02\n",
            "iteration: 13700 loss: 0.0050 lr: 0.02\n",
            "iteration: 13800 loss: 0.0048 lr: 0.02\n",
            "iteration: 13900 loss: 0.0064 lr: 0.02\n",
            "iteration: 14000 loss: 0.0049 lr: 0.02\n",
            "iteration: 14100 loss: 0.0050 lr: 0.02\n",
            "iteration: 14200 loss: 0.0048 lr: 0.02\n",
            "iteration: 14300 loss: 0.0045 lr: 0.02\n",
            "iteration: 14400 loss: 0.0047 lr: 0.02\n",
            "iteration: 14500 loss: 0.0047 lr: 0.02\n",
            "iteration: 14600 loss: 0.0047 lr: 0.02\n",
            "iteration: 14700 loss: 0.0049 lr: 0.02\n",
            "iteration: 14800 loss: 0.0040 lr: 0.02\n",
            "iteration: 14900 loss: 0.0045 lr: 0.02\n",
            "iteration: 15000 loss: 0.0043 lr: 0.02\n",
            "iteration: 15100 loss: 0.0046 lr: 0.02\n",
            "iteration: 15200 loss: 0.0044 lr: 0.02\n",
            "iteration: 15300 loss: 0.0038 lr: 0.02\n",
            "iteration: 15400 loss: 0.0038 lr: 0.02\n",
            "iteration: 15500 loss: 0.0041 lr: 0.02\n",
            "iteration: 15600 loss: 0.0039 lr: 0.02\n",
            "iteration: 15700 loss: 0.0040 lr: 0.02\n",
            "iteration: 15800 loss: 0.0038 lr: 0.02\n",
            "iteration: 15900 loss: 0.0040 lr: 0.02\n",
            "iteration: 16000 loss: 0.0041 lr: 0.02\n",
            "iteration: 16100 loss: 0.0036 lr: 0.02\n",
            "iteration: 16200 loss: 0.0039 lr: 0.02\n",
            "iteration: 16300 loss: 0.0041 lr: 0.02\n",
            "iteration: 16400 loss: 0.0040 lr: 0.02\n",
            "iteration: 16500 loss: 0.0038 lr: 0.02\n",
            "iteration: 16600 loss: 0.0042 lr: 0.02\n",
            "iteration: 16700 loss: 0.0038 lr: 0.02\n",
            "iteration: 16800 loss: 0.0039 lr: 0.02\n",
            "iteration: 16900 loss: 0.0038 lr: 0.02\n",
            "iteration: 17000 loss: 0.0037 lr: 0.02\n",
            "iteration: 17100 loss: 0.0034 lr: 0.02\n",
            "iteration: 17200 loss: 0.0037 lr: 0.02\n",
            "iteration: 17300 loss: 0.0034 lr: 0.02\n",
            "iteration: 17400 loss: 0.0035 lr: 0.02\n",
            "iteration: 17500 loss: 0.0035 lr: 0.02\n",
            "iteration: 17600 loss: 0.0037 lr: 0.02\n",
            "iteration: 17700 loss: 0.0038 lr: 0.02\n",
            "iteration: 17800 loss: 0.0035 lr: 0.02\n",
            "iteration: 17900 loss: 0.0037 lr: 0.02\n",
            "iteration: 18000 loss: 0.0034 lr: 0.02\n",
            "iteration: 18100 loss: 0.0034 lr: 0.02\n",
            "iteration: 18200 loss: 0.0034 lr: 0.02\n",
            "iteration: 18300 loss: 0.0034 lr: 0.02\n",
            "iteration: 18400 loss: 0.0033 lr: 0.02\n",
            "iteration: 18500 loss: 0.0036 lr: 0.02\n",
            "iteration: 18600 loss: 0.0032 lr: 0.02\n",
            "iteration: 18700 loss: 0.0035 lr: 0.02\n",
            "iteration: 18800 loss: 0.0037 lr: 0.02\n",
            "iteration: 18900 loss: 0.0036 lr: 0.02\n",
            "iteration: 19000 loss: 0.0034 lr: 0.02\n",
            "iteration: 19100 loss: 0.0036 lr: 0.02\n",
            "iteration: 19200 loss: 0.0034 lr: 0.02\n",
            "iteration: 19300 loss: 0.0033 lr: 0.02\n",
            "iteration: 19400 loss: 0.0032 lr: 0.02\n",
            "iteration: 19500 loss: 0.0032 lr: 0.02\n",
            "iteration: 19600 loss: 0.0032 lr: 0.02\n",
            "iteration: 19700 loss: 0.0033 lr: 0.02\n",
            "iteration: 19800 loss: 0.0031 lr: 0.02\n",
            "iteration: 19900 loss: 0.0031 lr: 0.02\n",
            "iteration: 20000 loss: 0.0031 lr: 0.02\n",
            "iteration: 20100 loss: 0.0034 lr: 0.02\n",
            "iteration: 20200 loss: 0.0031 lr: 0.02\n",
            "iteration: 20300 loss: 0.0029 lr: 0.02\n",
            "iteration: 20400 loss: 0.0032 lr: 0.02\n",
            "iteration: 20500 loss: 0.0049 lr: 0.02\n",
            "iteration: 20600 loss: 0.0034 lr: 0.02\n",
            "iteration: 20700 loss: 0.0035 lr: 0.02\n",
            "iteration: 20800 loss: 0.0033 lr: 0.02\n",
            "iteration: 20900 loss: 0.0033 lr: 0.02\n",
            "iteration: 21000 loss: 0.0031 lr: 0.02\n",
            "iteration: 21100 loss: 0.0035 lr: 0.02\n",
            "iteration: 21200 loss: 0.0032 lr: 0.02\n",
            "iteration: 21300 loss: 0.0031 lr: 0.02\n",
            "iteration: 21400 loss: 0.0032 lr: 0.02\n",
            "iteration: 21500 loss: 0.0032 lr: 0.02\n",
            "iteration: 21600 loss: 0.0028 lr: 0.02\n",
            "iteration: 21700 loss: 0.0030 lr: 0.02\n",
            "iteration: 21800 loss: 0.0031 lr: 0.02\n",
            "iteration: 21900 loss: 0.0031 lr: 0.02\n",
            "iteration: 22000 loss: 0.0030 lr: 0.02\n",
            "iteration: 22100 loss: 0.0030 lr: 0.02\n",
            "iteration: 22200 loss: 0.0032 lr: 0.02\n",
            "iteration: 22300 loss: 0.0030 lr: 0.02\n",
            "iteration: 22400 loss: 0.0030 lr: 0.02\n",
            "iteration: 22500 loss: 0.0030 lr: 0.02\n",
            "iteration: 22600 loss: 0.0028 lr: 0.02\n",
            "iteration: 22700 loss: 0.0028 lr: 0.02\n",
            "iteration: 22800 loss: 0.0028 lr: 0.02\n",
            "iteration: 22900 loss: 0.0028 lr: 0.02\n",
            "iteration: 23000 loss: 0.0029 lr: 0.02\n",
            "iteration: 23100 loss: 0.0030 lr: 0.02\n",
            "iteration: 23200 loss: 0.0032 lr: 0.02\n",
            "iteration: 23300 loss: 0.0031 lr: 0.02\n",
            "iteration: 23400 loss: 0.0027 lr: 0.02\n",
            "iteration: 23500 loss: 0.0027 lr: 0.02\n",
            "iteration: 23600 loss: 0.0026 lr: 0.02\n",
            "iteration: 23700 loss: 0.0028 lr: 0.02\n",
            "iteration: 23800 loss: 0.0027 lr: 0.02\n",
            "iteration: 23900 loss: 0.0029 lr: 0.02\n",
            "iteration: 24000 loss: 0.0028 lr: 0.02\n",
            "iteration: 24100 loss: 0.0028 lr: 0.02\n",
            "iteration: 24200 loss: 0.0028 lr: 0.02\n",
            "iteration: 24300 loss: 0.0026 lr: 0.02\n",
            "iteration: 24400 loss: 0.0026 lr: 0.02\n",
            "iteration: 24500 loss: 0.0030 lr: 0.02\n",
            "iteration: 24600 loss: 0.0026 lr: 0.02\n",
            "iteration: 24700 loss: 0.0027 lr: 0.02\n",
            "iteration: 24800 loss: 0.0031 lr: 0.02\n",
            "iteration: 24900 loss: 0.0027 lr: 0.02\n",
            "iteration: 25000 loss: 0.0025 lr: 0.02\n",
            "iteration: 25100 loss: 0.0026 lr: 0.02\n",
            "iteration: 25200 loss: 0.0026 lr: 0.02\n",
            "iteration: 25300 loss: 0.0029 lr: 0.02\n",
            "iteration: 25400 loss: 0.0027 lr: 0.02\n",
            "iteration: 25500 loss: 0.0026 lr: 0.02\n",
            "iteration: 25600 loss: 0.0026 lr: 0.02\n",
            "iteration: 25700 loss: 0.0026 lr: 0.02\n",
            "iteration: 25800 loss: 0.0028 lr: 0.02\n",
            "iteration: 25900 loss: 0.0028 lr: 0.02\n",
            "iteration: 26000 loss: 0.0031 lr: 0.02\n",
            "iteration: 26100 loss: 0.0028 lr: 0.02\n",
            "iteration: 26200 loss: 0.0027 lr: 0.02\n",
            "iteration: 26300 loss: 0.0025 lr: 0.02\n",
            "iteration: 26400 loss: 0.0026 lr: 0.02\n",
            "iteration: 26500 loss: 0.0026 lr: 0.02\n",
            "iteration: 26600 loss: 0.0025 lr: 0.02\n",
            "iteration: 26700 loss: 0.0025 lr: 0.02\n",
            "iteration: 26800 loss: 0.0028 lr: 0.02\n",
            "iteration: 26900 loss: 0.0027 lr: 0.02\n",
            "iteration: 27000 loss: 0.0027 lr: 0.02\n",
            "iteration: 27100 loss: 0.0025 lr: 0.02\n",
            "iteration: 27200 loss: 0.0025 lr: 0.02\n",
            "iteration: 27300 loss: 0.0025 lr: 0.02\n",
            "iteration: 27400 loss: 0.0025 lr: 0.02\n",
            "iteration: 27500 loss: 0.0024 lr: 0.02\n",
            "iteration: 27600 loss: 0.0027 lr: 0.02\n",
            "iteration: 27700 loss: 0.0027 lr: 0.02\n",
            "iteration: 27800 loss: 0.0025 lr: 0.02\n",
            "iteration: 27900 loss: 0.0026 lr: 0.02\n",
            "iteration: 28000 loss: 0.0025 lr: 0.02\n",
            "iteration: 28100 loss: 0.0023 lr: 0.02\n",
            "iteration: 28200 loss: 0.0025 lr: 0.02\n",
            "iteration: 28300 loss: 0.0027 lr: 0.02\n",
            "iteration: 28400 loss: 0.0026 lr: 0.02\n",
            "iteration: 28500 loss: 0.0025 lr: 0.02\n",
            "iteration: 28600 loss: 0.0024 lr: 0.02\n",
            "iteration: 28700 loss: 0.0024 lr: 0.02\n",
            "iteration: 28800 loss: 0.0024 lr: 0.02\n",
            "iteration: 28900 loss: 0.0022 lr: 0.02\n",
            "iteration: 29000 loss: 0.0025 lr: 0.02\n",
            "iteration: 29100 loss: 0.0023 lr: 0.02\n",
            "iteration: 29200 loss: 0.0025 lr: 0.02\n",
            "iteration: 29300 loss: 0.0024 lr: 0.02\n",
            "iteration: 29400 loss: 0.0024 lr: 0.02\n",
            "iteration: 29500 loss: 0.0025 lr: 0.02\n",
            "iteration: 29600 loss: 0.0024 lr: 0.02\n",
            "iteration: 29700 loss: 0.0027 lr: 0.02\n",
            "iteration: 29800 loss: 0.0023 lr: 0.02\n",
            "iteration: 29900 loss: 0.0025 lr: 0.02\n",
            "iteration: 30000 loss: 0.0023 lr: 0.02\n",
            "iteration: 30100 loss: 0.0024 lr: 0.02\n",
            "iteration: 30200 loss: 0.0027 lr: 0.02\n",
            "iteration: 30300 loss: 0.0023 lr: 0.02\n",
            "iteration: 30400 loss: 0.0026 lr: 0.02\n",
            "iteration: 30500 loss: 0.0025 lr: 0.02\n",
            "iteration: 30600 loss: 0.0022 lr: 0.02\n",
            "iteration: 30700 loss: 0.0021 lr: 0.02\n",
            "iteration: 30800 loss: 0.0026 lr: 0.02\n",
            "iteration: 30900 loss: 0.0024 lr: 0.02\n",
            "iteration: 31000 loss: 0.0022 lr: 0.02\n",
            "iteration: 31100 loss: 0.0023 lr: 0.02\n",
            "iteration: 31200 loss: 0.0022 lr: 0.02\n",
            "iteration: 31300 loss: 0.0024 lr: 0.02\n",
            "iteration: 31400 loss: 0.0025 lr: 0.02\n",
            "iteration: 31500 loss: 0.0026 lr: 0.02\n",
            "iteration: 31600 loss: 0.0025 lr: 0.02\n",
            "iteration: 31700 loss: 0.0025 lr: 0.02\n",
            "iteration: 31800 loss: 0.0023 lr: 0.02\n",
            "iteration: 31900 loss: 0.0021 lr: 0.02\n",
            "iteration: 32000 loss: 0.0021 lr: 0.02\n",
            "iteration: 32100 loss: 0.0024 lr: 0.02\n",
            "iteration: 32200 loss: 0.0023 lr: 0.02\n",
            "iteration: 32300 loss: 0.0022 lr: 0.02\n",
            "iteration: 32400 loss: 0.0025 lr: 0.02\n",
            "iteration: 32500 loss: 0.0023 lr: 0.02\n",
            "iteration: 32600 loss: 0.0023 lr: 0.02\n",
            "iteration: 32700 loss: 0.0023 lr: 0.02\n",
            "iteration: 32800 loss: 0.0021 lr: 0.02\n",
            "iteration: 32900 loss: 0.0024 lr: 0.02\n",
            "iteration: 33000 loss: 0.0024 lr: 0.02\n",
            "iteration: 33100 loss: 0.0021 lr: 0.02\n",
            "iteration: 33200 loss: 0.0023 lr: 0.02\n",
            "iteration: 33300 loss: 0.0021 lr: 0.02\n",
            "iteration: 33400 loss: 0.0022 lr: 0.02\n",
            "iteration: 33500 loss: 0.0025 lr: 0.02\n",
            "iteration: 33600 loss: 0.0021 lr: 0.02\n",
            "iteration: 33700 loss: 0.0021 lr: 0.02\n",
            "iteration: 33800 loss: 0.0024 lr: 0.02\n",
            "iteration: 33900 loss: 0.0024 lr: 0.02\n",
            "iteration: 34000 loss: 0.0021 lr: 0.02\n",
            "iteration: 34100 loss: 0.0024 lr: 0.02\n",
            "iteration: 34200 loss: 0.0022 lr: 0.02\n",
            "iteration: 34300 loss: 0.0022 lr: 0.02\n",
            "iteration: 34400 loss: 0.0020 lr: 0.02\n",
            "iteration: 34500 loss: 0.0021 lr: 0.02\n",
            "iteration: 34600 loss: 0.0022 lr: 0.02\n",
            "iteration: 34700 loss: 0.0024 lr: 0.02\n",
            "iteration: 34800 loss: 0.0022 lr: 0.02\n",
            "iteration: 34900 loss: 0.0024 lr: 0.02\n",
            "iteration: 35000 loss: 0.0023 lr: 0.02\n",
            "iteration: 35100 loss: 0.0022 lr: 0.02\n",
            "iteration: 35200 loss: 0.0024 lr: 0.02\n",
            "iteration: 35300 loss: 0.0021 lr: 0.02\n",
            "iteration: 35400 loss: 0.0022 lr: 0.02\n",
            "iteration: 35500 loss: 0.0023 lr: 0.02\n",
            "iteration: 35600 loss: 0.0024 lr: 0.02\n",
            "iteration: 35700 loss: 0.0020 lr: 0.02\n",
            "iteration: 35800 loss: 0.0023 lr: 0.02\n",
            "iteration: 35900 loss: 0.0023 lr: 0.02\n",
            "iteration: 36000 loss: 0.0024 lr: 0.02\n",
            "iteration: 36100 loss: 0.0021 lr: 0.02\n",
            "iteration: 36200 loss: 0.0024 lr: 0.02\n",
            "iteration: 36300 loss: 0.0023 lr: 0.02\n",
            "iteration: 36400 loss: 0.0021 lr: 0.02\n",
            "iteration: 36500 loss: 0.0023 lr: 0.02\n",
            "iteration: 36600 loss: 0.0023 lr: 0.02\n",
            "iteration: 36700 loss: 0.0021 lr: 0.02\n",
            "iteration: 36800 loss: 0.0023 lr: 0.02\n",
            "iteration: 36900 loss: 0.0021 lr: 0.02\n",
            "iteration: 37000 loss: 0.0021 lr: 0.02\n",
            "iteration: 37100 loss: 0.0023 lr: 0.02\n",
            "iteration: 37200 loss: 0.0022 lr: 0.02\n",
            "iteration: 37300 loss: 0.0023 lr: 0.02\n",
            "iteration: 37400 loss: 0.0022 lr: 0.02\n",
            "iteration: 37500 loss: 0.0022 lr: 0.02\n",
            "iteration: 37600 loss: 0.0022 lr: 0.02\n",
            "iteration: 37700 loss: 0.0021 lr: 0.02\n",
            "iteration: 37800 loss: 0.0020 lr: 0.02\n",
            "iteration: 37900 loss: 0.0019 lr: 0.02\n",
            "iteration: 38000 loss: 0.0020 lr: 0.02\n",
            "iteration: 38100 loss: 0.0019 lr: 0.02\n",
            "iteration: 38200 loss: 0.0021 lr: 0.02\n",
            "iteration: 38300 loss: 0.0019 lr: 0.02\n",
            "iteration: 38400 loss: 0.0022 lr: 0.02\n",
            "iteration: 38500 loss: 0.0021 lr: 0.02\n",
            "iteration: 38600 loss: 0.0021 lr: 0.02\n",
            "iteration: 38700 loss: 0.0021 lr: 0.02\n",
            "iteration: 38800 loss: 0.0020 lr: 0.02\n",
            "iteration: 38900 loss: 0.0022 lr: 0.02\n",
            "iteration: 39000 loss: 0.0022 lr: 0.02\n",
            "iteration: 39100 loss: 0.0020 lr: 0.02\n",
            "iteration: 39200 loss: 0.0021 lr: 0.02\n",
            "iteration: 39300 loss: 0.0022 lr: 0.02\n",
            "iteration: 39400 loss: 0.0019 lr: 0.02\n",
            "iteration: 39500 loss: 0.0021 lr: 0.02\n",
            "iteration: 39600 loss: 0.0020 lr: 0.02\n",
            "iteration: 39700 loss: 0.0021 lr: 0.02\n",
            "iteration: 39800 loss: 0.0020 lr: 0.02\n",
            "iteration: 39900 loss: 0.0020 lr: 0.02\n",
            "iteration: 40000 loss: 0.0019 lr: 0.02\n",
            "iteration: 40100 loss: 0.0021 lr: 0.02\n",
            "iteration: 40200 loss: 0.0020 lr: 0.02\n",
            "iteration: 40300 loss: 0.0020 lr: 0.02\n",
            "iteration: 40400 loss: 0.0019 lr: 0.02\n",
            "iteration: 40500 loss: 0.0021 lr: 0.02\n",
            "iteration: 40600 loss: 0.0020 lr: 0.02\n",
            "iteration: 40700 loss: 0.0019 lr: 0.02\n",
            "iteration: 40800 loss: 0.0021 lr: 0.02\n",
            "iteration: 40900 loss: 0.0020 lr: 0.02\n",
            "iteration: 41000 loss: 0.0020 lr: 0.02\n",
            "iteration: 41100 loss: 0.0021 lr: 0.02\n",
            "iteration: 41200 loss: 0.0020 lr: 0.02\n",
            "iteration: 41300 loss: 0.0019 lr: 0.02\n",
            "iteration: 41400 loss: 0.0021 lr: 0.02\n",
            "iteration: 41500 loss: 0.0022 lr: 0.02\n",
            "iteration: 41600 loss: 0.0020 lr: 0.02\n",
            "iteration: 41700 loss: 0.0019 lr: 0.02\n",
            "iteration: 41800 loss: 0.0020 lr: 0.02\n",
            "iteration: 41900 loss: 0.0021 lr: 0.02\n",
            "iteration: 42000 loss: 0.0021 lr: 0.02\n",
            "iteration: 42100 loss: 0.0019 lr: 0.02\n",
            "iteration: 42200 loss: 0.0022 lr: 0.02\n",
            "iteration: 42300 loss: 0.0020 lr: 0.02\n",
            "iteration: 42400 loss: 0.0021 lr: 0.02\n",
            "iteration: 42500 loss: 0.0021 lr: 0.02\n",
            "iteration: 42600 loss: 0.0020 lr: 0.02\n",
            "iteration: 42700 loss: 0.0021 lr: 0.02\n",
            "iteration: 42800 loss: 0.0024 lr: 0.02\n",
            "iteration: 42900 loss: 0.0022 lr: 0.02\n",
            "iteration: 43000 loss: 0.0020 lr: 0.02\n",
            "iteration: 43100 loss: 0.0019 lr: 0.02\n",
            "iteration: 43200 loss: 0.0020 lr: 0.02\n",
            "iteration: 43300 loss: 0.0021 lr: 0.02\n",
            "iteration: 43400 loss: 0.0021 lr: 0.02\n",
            "iteration: 43500 loss: 0.0019 lr: 0.02\n",
            "iteration: 43600 loss: 0.0021 lr: 0.02\n",
            "iteration: 43700 loss: 0.0020 lr: 0.02\n",
            "iteration: 43800 loss: 0.0019 lr: 0.02\n",
            "iteration: 43900 loss: 0.0020 lr: 0.02\n",
            "iteration: 44000 loss: 0.0020 lr: 0.02\n",
            "iteration: 44100 loss: 0.0019 lr: 0.02\n",
            "iteration: 44200 loss: 0.0020 lr: 0.02\n",
            "iteration: 44300 loss: 0.0021 lr: 0.02\n",
            "iteration: 44400 loss: 0.0019 lr: 0.02\n",
            "iteration: 44500 loss: 0.0019 lr: 0.02\n",
            "iteration: 44600 loss: 0.0020 lr: 0.02\n",
            "iteration: 44700 loss: 0.0019 lr: 0.02\n",
            "iteration: 44800 loss: 0.0019 lr: 0.02\n",
            "iteration: 44900 loss: 0.0019 lr: 0.02\n",
            "iteration: 45000 loss: 0.0020 lr: 0.02\n",
            "iteration: 45100 loss: 0.0019 lr: 0.02\n",
            "iteration: 45200 loss: 0.0017 lr: 0.02\n",
            "iteration: 45300 loss: 0.0019 lr: 0.02\n",
            "iteration: 45400 loss: 0.0019 lr: 0.02\n",
            "iteration: 45500 loss: 0.0018 lr: 0.02\n",
            "iteration: 45600 loss: 0.0019 lr: 0.02\n",
            "iteration: 45700 loss: 0.0019 lr: 0.02\n",
            "iteration: 45800 loss: 0.0018 lr: 0.02\n",
            "iteration: 45900 loss: 0.0020 lr: 0.02\n",
            "iteration: 46000 loss: 0.0019 lr: 0.02\n",
            "iteration: 46100 loss: 0.0018 lr: 0.02\n",
            "iteration: 46200 loss: 0.0021 lr: 0.02\n",
            "iteration: 46300 loss: 0.0019 lr: 0.02\n",
            "iteration: 46400 loss: 0.0018 lr: 0.02\n",
            "iteration: 46500 loss: 0.0020 lr: 0.02\n",
            "iteration: 46600 loss: 0.0019 lr: 0.02\n",
            "iteration: 46700 loss: 0.0018 lr: 0.02\n",
            "iteration: 46800 loss: 0.0019 lr: 0.02\n",
            "iteration: 46900 loss: 0.0019 lr: 0.02\n",
            "iteration: 47000 loss: 0.0020 lr: 0.02\n",
            "iteration: 47100 loss: 0.0019 lr: 0.02\n",
            "iteration: 47200 loss: 0.0018 lr: 0.02\n",
            "iteration: 47300 loss: 0.0019 lr: 0.02\n",
            "iteration: 47400 loss: 0.0018 lr: 0.02\n",
            "iteration: 47500 loss: 0.0023 lr: 0.02\n",
            "iteration: 47600 loss: 0.0019 lr: 0.02\n",
            "iteration: 47700 loss: 0.0020 lr: 0.02\n",
            "iteration: 47800 loss: 0.0019 lr: 0.02\n",
            "iteration: 47900 loss: 0.0018 lr: 0.02\n",
            "iteration: 48000 loss: 0.0020 lr: 0.02\n",
            "iteration: 48100 loss: 0.0018 lr: 0.02\n",
            "iteration: 48200 loss: 0.0019 lr: 0.02\n",
            "iteration: 48300 loss: 0.0020 lr: 0.02\n",
            "iteration: 48400 loss: 0.0018 lr: 0.02\n",
            "iteration: 48500 loss: 0.0020 lr: 0.02\n",
            "iteration: 48600 loss: 0.0018 lr: 0.02\n",
            "iteration: 48700 loss: 0.0017 lr: 0.02\n",
            "iteration: 48800 loss: 0.0018 lr: 0.02\n",
            "iteration: 48900 loss: 0.0019 lr: 0.02\n",
            "iteration: 49000 loss: 0.0018 lr: 0.02\n",
            "iteration: 49100 loss: 0.0018 lr: 0.02\n",
            "iteration: 49200 loss: 0.0016 lr: 0.02\n",
            "iteration: 49300 loss: 0.0018 lr: 0.02\n",
            "iteration: 49400 loss: 0.0017 lr: 0.02\n",
            "iteration: 49500 loss: 0.0018 lr: 0.02\n",
            "iteration: 49600 loss: 0.0022 lr: 0.02\n",
            "iteration: 49700 loss: 0.0018 lr: 0.02\n",
            "iteration: 49800 loss: 0.0017 lr: 0.02\n",
            "iteration: 49900 loss: 0.0019 lr: 0.02\n",
            "iteration: 50000 loss: 0.0018 lr: 0.02\n",
            "iteration: 50100 loss: 0.0019 lr: 0.02\n",
            "iteration: 50200 loss: 0.0019 lr: 0.02\n",
            "iteration: 50300 loss: 0.0019 lr: 0.02\n",
            "iteration: 50400 loss: 0.0019 lr: 0.02\n",
            "iteration: 50500 loss: 0.0019 lr: 0.02\n",
            "iteration: 50600 loss: 0.0018 lr: 0.02\n",
            "iteration: 50700 loss: 0.0018 lr: 0.02\n",
            "iteration: 50800 loss: 0.0018 lr: 0.02\n",
            "iteration: 50900 loss: 0.0019 lr: 0.02\n",
            "iteration: 51000 loss: 0.0017 lr: 0.02\n",
            "iteration: 51100 loss: 0.0018 lr: 0.02\n",
            "iteration: 51200 loss: 0.0018 lr: 0.02\n",
            "iteration: 51300 loss: 0.0018 lr: 0.02\n",
            "iteration: 51400 loss: 0.0018 lr: 0.02\n",
            "iteration: 51500 loss: 0.0019 lr: 0.02\n",
            "iteration: 51600 loss: 0.0018 lr: 0.02\n",
            "iteration: 51700 loss: 0.0018 lr: 0.02\n",
            "iteration: 51800 loss: 0.0018 lr: 0.02\n",
            "iteration: 51900 loss: 0.0018 lr: 0.02\n",
            "iteration: 52000 loss: 0.0017 lr: 0.02\n",
            "iteration: 52100 loss: 0.0018 lr: 0.02\n",
            "iteration: 52200 loss: 0.0018 lr: 0.02\n",
            "iteration: 52300 loss: 0.0018 lr: 0.02\n",
            "iteration: 52400 loss: 0.0018 lr: 0.02\n",
            "iteration: 52500 loss: 0.0019 lr: 0.02\n",
            "iteration: 52600 loss: 0.0021 lr: 0.02\n",
            "iteration: 52700 loss: 0.0018 lr: 0.02\n",
            "iteration: 52800 loss: 0.0018 lr: 0.02\n",
            "iteration: 52900 loss: 0.0018 lr: 0.02\n",
            "iteration: 53000 loss: 0.0018 lr: 0.02\n",
            "iteration: 53100 loss: 0.0017 lr: 0.02\n",
            "iteration: 53200 loss: 0.0017 lr: 0.02\n",
            "iteration: 53300 loss: 0.0018 lr: 0.02\n",
            "iteration: 53400 loss: 0.0019 lr: 0.02\n",
            "iteration: 53500 loss: 0.0018 lr: 0.02\n",
            "iteration: 53600 loss: 0.0018 lr: 0.02\n",
            "iteration: 53700 loss: 0.0018 lr: 0.02\n",
            "iteration: 53800 loss: 0.0018 lr: 0.02\n",
            "iteration: 53900 loss: 0.0016 lr: 0.02\n",
            "iteration: 54000 loss: 0.0017 lr: 0.02\n",
            "iteration: 54100 loss: 0.0018 lr: 0.02\n",
            "iteration: 54200 loss: 0.0019 lr: 0.02\n",
            "iteration: 54300 loss: 0.0018 lr: 0.02\n",
            "iteration: 54400 loss: 0.0017 lr: 0.02\n",
            "iteration: 54500 loss: 0.0019 lr: 0.02\n",
            "iteration: 54600 loss: 0.0019 lr: 0.02\n",
            "iteration: 54700 loss: 0.0018 lr: 0.02\n",
            "iteration: 54800 loss: 0.0016 lr: 0.02\n",
            "iteration: 54900 loss: 0.0017 lr: 0.02\n",
            "iteration: 55000 loss: 0.0016 lr: 0.02\n",
            "iteration: 55100 loss: 0.0017 lr: 0.02\n",
            "iteration: 55200 loss: 0.0017 lr: 0.02\n",
            "iteration: 55300 loss: 0.0017 lr: 0.02\n",
            "iteration: 55400 loss: 0.0017 lr: 0.02\n",
            "iteration: 55500 loss: 0.0016 lr: 0.02\n",
            "iteration: 55600 loss: 0.0017 lr: 0.02\n",
            "iteration: 55700 loss: 0.0017 lr: 0.02\n",
            "iteration: 55800 loss: 0.0016 lr: 0.02\n",
            "iteration: 55900 loss: 0.0019 lr: 0.02\n",
            "iteration: 56000 loss: 0.0019 lr: 0.02\n",
            "iteration: 56100 loss: 0.0017 lr: 0.02\n",
            "iteration: 56200 loss: 0.0019 lr: 0.02\n",
            "iteration: 56300 loss: 0.0017 lr: 0.02\n",
            "iteration: 56400 loss: 0.0017 lr: 0.02\n",
            "iteration: 56500 loss: 0.0017 lr: 0.02\n",
            "iteration: 56600 loss: 0.0017 lr: 0.02\n",
            "iteration: 56700 loss: 0.0018 lr: 0.02\n",
            "iteration: 56800 loss: 0.0019 lr: 0.02\n",
            "iteration: 56900 loss: 0.0019 lr: 0.02\n",
            "iteration: 57000 loss: 0.0018 lr: 0.02\n",
            "iteration: 57100 loss: 0.0017 lr: 0.02\n",
            "iteration: 57200 loss: 0.0018 lr: 0.02\n",
            "iteration: 57300 loss: 0.0017 lr: 0.02\n",
            "iteration: 57400 loss: 0.0017 lr: 0.02\n",
            "iteration: 57500 loss: 0.0018 lr: 0.02\n",
            "iteration: 57600 loss: 0.0018 lr: 0.02\n",
            "iteration: 57700 loss: 0.0018 lr: 0.02\n",
            "iteration: 57800 loss: 0.0018 lr: 0.02\n",
            "iteration: 57900 loss: 0.0016 lr: 0.02\n",
            "iteration: 58000 loss: 0.0017 lr: 0.02\n",
            "iteration: 58100 loss: 0.0018 lr: 0.02\n",
            "iteration: 58200 loss: 0.0018 lr: 0.02\n",
            "iteration: 58300 loss: 0.0018 lr: 0.02\n",
            "iteration: 58400 loss: 0.0019 lr: 0.02\n",
            "iteration: 58500 loss: 0.0017 lr: 0.02\n",
            "iteration: 58600 loss: 0.0017 lr: 0.02\n",
            "iteration: 58700 loss: 0.0017 lr: 0.02\n",
            "iteration: 58800 loss: 0.0018 lr: 0.02\n",
            "iteration: 58900 loss: 0.0017 lr: 0.02\n",
            "iteration: 59000 loss: 0.0017 lr: 0.02\n",
            "iteration: 59100 loss: 0.0017 lr: 0.02\n",
            "iteration: 59200 loss: 0.0017 lr: 0.02\n",
            "iteration: 59300 loss: 0.0016 lr: 0.02\n",
            "iteration: 59400 loss: 0.0018 lr: 0.02\n",
            "iteration: 59500 loss: 0.0017 lr: 0.02\n",
            "iteration: 59600 loss: 0.0017 lr: 0.02\n",
            "iteration: 59700 loss: 0.0017 lr: 0.02\n",
            "iteration: 59800 loss: 0.0016 lr: 0.02\n",
            "iteration: 59900 loss: 0.0016 lr: 0.02\n",
            "iteration: 60000 loss: 0.0017 lr: 0.02\n",
            "iteration: 60100 loss: 0.0017 lr: 0.02\n",
            "iteration: 60200 loss: 0.0017 lr: 0.02\n",
            "iteration: 60300 loss: 0.0017 lr: 0.02\n",
            "iteration: 60400 loss: 0.0017 lr: 0.02\n",
            "iteration: 60500 loss: 0.0016 lr: 0.02\n",
            "iteration: 60600 loss: 0.0016 lr: 0.02\n",
            "iteration: 60700 loss: 0.0017 lr: 0.02\n",
            "iteration: 60800 loss: 0.0018 lr: 0.02\n",
            "iteration: 60900 loss: 0.0016 lr: 0.02\n",
            "iteration: 61000 loss: 0.0017 lr: 0.02\n",
            "iteration: 61100 loss: 0.0017 lr: 0.02\n",
            "iteration: 61200 loss: 0.0016 lr: 0.02\n",
            "iteration: 61300 loss: 0.0017 lr: 0.02\n",
            "iteration: 61400 loss: 0.0017 lr: 0.02\n",
            "iteration: 61500 loss: 0.0017 lr: 0.02\n",
            "iteration: 61600 loss: 0.0017 lr: 0.02\n",
            "iteration: 61700 loss: 0.0017 lr: 0.02\n",
            "iteration: 61800 loss: 0.0018 lr: 0.02\n",
            "iteration: 61900 loss: 0.0017 lr: 0.02\n",
            "iteration: 62000 loss: 0.0017 lr: 0.02\n",
            "iteration: 62100 loss: 0.0017 lr: 0.02\n",
            "iteration: 62200 loss: 0.0016 lr: 0.02\n",
            "iteration: 62300 loss: 0.0016 lr: 0.02\n",
            "iteration: 62400 loss: 0.0017 lr: 0.02\n",
            "iteration: 62500 loss: 0.0018 lr: 0.02\n",
            "iteration: 62600 loss: 0.0018 lr: 0.02\n",
            "iteration: 62700 loss: 0.0017 lr: 0.02\n",
            "iteration: 62800 loss: 0.0016 lr: 0.02\n",
            "iteration: 62900 loss: 0.0018 lr: 0.02\n",
            "iteration: 63000 loss: 0.0018 lr: 0.02\n",
            "iteration: 63100 loss: 0.0016 lr: 0.02\n",
            "iteration: 63200 loss: 0.0018 lr: 0.02\n",
            "iteration: 63300 loss: 0.0017 lr: 0.02\n",
            "iteration: 63400 loss: 0.0018 lr: 0.02\n",
            "iteration: 63500 loss: 0.0017 lr: 0.02\n",
            "iteration: 63600 loss: 0.0017 lr: 0.02\n",
            "iteration: 63700 loss: 0.0017 lr: 0.02\n",
            "iteration: 63800 loss: 0.0017 lr: 0.02\n",
            "iteration: 63900 loss: 0.0015 lr: 0.02\n",
            "iteration: 64000 loss: 0.0018 lr: 0.02\n",
            "iteration: 64100 loss: 0.0017 lr: 0.02\n",
            "iteration: 64200 loss: 0.0018 lr: 0.02\n",
            "iteration: 64300 loss: 0.0017 lr: 0.02\n",
            "iteration: 64400 loss: 0.0016 lr: 0.02\n",
            "iteration: 64500 loss: 0.0016 lr: 0.02\n",
            "iteration: 64600 loss: 0.0016 lr: 0.02\n",
            "iteration: 64700 loss: 0.0016 lr: 0.02\n",
            "iteration: 64800 loss: 0.0017 lr: 0.02\n",
            "iteration: 64900 loss: 0.0017 lr: 0.02\n",
            "iteration: 65000 loss: 0.0016 lr: 0.02\n",
            "iteration: 65100 loss: 0.0016 lr: 0.02\n",
            "iteration: 65200 loss: 0.0016 lr: 0.02\n",
            "iteration: 65300 loss: 0.0017 lr: 0.02\n",
            "iteration: 65400 loss: 0.0016 lr: 0.02\n",
            "iteration: 65500 loss: 0.0018 lr: 0.02\n",
            "iteration: 65600 loss: 0.0017 lr: 0.02\n",
            "iteration: 65700 loss: 0.0016 lr: 0.02\n",
            "iteration: 65800 loss: 0.0016 lr: 0.02\n",
            "iteration: 65900 loss: 0.0017 lr: 0.02\n",
            "iteration: 66000 loss: 0.0016 lr: 0.02\n",
            "iteration: 66100 loss: 0.0016 lr: 0.02\n",
            "iteration: 66200 loss: 0.0016 lr: 0.02\n",
            "iteration: 66300 loss: 0.0018 lr: 0.02\n",
            "iteration: 66400 loss: 0.0016 lr: 0.02\n",
            "iteration: 66500 loss: 0.0016 lr: 0.02\n",
            "iteration: 66600 loss: 0.0018 lr: 0.02\n",
            "iteration: 66700 loss: 0.0016 lr: 0.02\n",
            "iteration: 66800 loss: 0.0018 lr: 0.02\n",
            "iteration: 66900 loss: 0.0015 lr: 0.02\n",
            "iteration: 67000 loss: 0.0016 lr: 0.02\n",
            "iteration: 67100 loss: 0.0017 lr: 0.02\n",
            "iteration: 67200 loss: 0.0017 lr: 0.02\n",
            "iteration: 67300 loss: 0.0018 lr: 0.02\n",
            "iteration: 67400 loss: 0.0015 lr: 0.02\n",
            "iteration: 67500 loss: 0.0015 lr: 0.02\n",
            "iteration: 67600 loss: 0.0017 lr: 0.02\n",
            "iteration: 67700 loss: 0.0017 lr: 0.02\n",
            "iteration: 67800 loss: 0.0016 lr: 0.02\n",
            "iteration: 67900 loss: 0.0016 lr: 0.02\n",
            "iteration: 68000 loss: 0.0015 lr: 0.02\n",
            "iteration: 68100 loss: 0.0016 lr: 0.02\n",
            "iteration: 68200 loss: 0.0017 lr: 0.02\n",
            "iteration: 68300 loss: 0.0018 lr: 0.02\n",
            "iteration: 68400 loss: 0.0016 lr: 0.02\n",
            "iteration: 68500 loss: 0.0016 lr: 0.02\n",
            "iteration: 68600 loss: 0.0017 lr: 0.02\n",
            "iteration: 68700 loss: 0.0015 lr: 0.02\n",
            "iteration: 68800 loss: 0.0016 lr: 0.02\n",
            "iteration: 68900 loss: 0.0016 lr: 0.02\n",
            "iteration: 69000 loss: 0.0015 lr: 0.02\n",
            "iteration: 69100 loss: 0.0018 lr: 0.02\n",
            "iteration: 69200 loss: 0.0016 lr: 0.02\n",
            "iteration: 69300 loss: 0.0016 lr: 0.02\n",
            "iteration: 69400 loss: 0.0018 lr: 0.02\n",
            "iteration: 69500 loss: 0.0017 lr: 0.02\n",
            "iteration: 69600 loss: 0.0016 lr: 0.02\n",
            "iteration: 69700 loss: 0.0017 lr: 0.02\n",
            "iteration: 69800 loss: 0.0016 lr: 0.02\n",
            "iteration: 69900 loss: 0.0017 lr: 0.02\n",
            "iteration: 70000 loss: 0.0015 lr: 0.02\n",
            "iteration: 70100 loss: 0.0016 lr: 0.02\n",
            "iteration: 70200 loss: 0.0017 lr: 0.02\n",
            "iteration: 70300 loss: 0.0016 lr: 0.02\n",
            "iteration: 70400 loss: 0.0019 lr: 0.02\n",
            "iteration: 70500 loss: 0.0018 lr: 0.02\n",
            "iteration: 70600 loss: 0.0016 lr: 0.02\n",
            "iteration: 70700 loss: 0.0016 lr: 0.02\n",
            "iteration: 70800 loss: 0.0016 lr: 0.02\n",
            "iteration: 70900 loss: 0.0017 lr: 0.02\n",
            "iteration: 71000 loss: 0.0016 lr: 0.02\n",
            "iteration: 71100 loss: 0.0016 lr: 0.02\n",
            "iteration: 71200 loss: 0.0015 lr: 0.02\n",
            "iteration: 71300 loss: 0.0016 lr: 0.02\n",
            "iteration: 71400 loss: 0.0015 lr: 0.02\n",
            "iteration: 71500 loss: 0.0015 lr: 0.02\n",
            "iteration: 71600 loss: 0.0015 lr: 0.02\n",
            "iteration: 71700 loss: 0.0016 lr: 0.02\n",
            "iteration: 71800 loss: 0.0016 lr: 0.02\n",
            "iteration: 71900 loss: 0.0016 lr: 0.02\n",
            "iteration: 72000 loss: 0.0017 lr: 0.02\n",
            "iteration: 72100 loss: 0.0015 lr: 0.02\n",
            "iteration: 72200 loss: 0.0016 lr: 0.02\n",
            "iteration: 72300 loss: 0.0016 lr: 0.02\n",
            "iteration: 72400 loss: 0.0016 lr: 0.02\n",
            "iteration: 72500 loss: 0.0017 lr: 0.02\n",
            "iteration: 72600 loss: 0.0015 lr: 0.02\n",
            "iteration: 72700 loss: 0.0016 lr: 0.02\n",
            "iteration: 72800 loss: 0.0017 lr: 0.02\n",
            "iteration: 72900 loss: 0.0016 lr: 0.02\n",
            "iteration: 73000 loss: 0.0017 lr: 0.02\n",
            "iteration: 73100 loss: 0.0017 lr: 0.02\n",
            "iteration: 73200 loss: 0.0015 lr: 0.02\n",
            "iteration: 73300 loss: 0.0017 lr: 0.02\n",
            "iteration: 73400 loss: 0.0016 lr: 0.02\n",
            "iteration: 73500 loss: 0.0016 lr: 0.02\n",
            "iteration: 73600 loss: 0.0017 lr: 0.02\n",
            "iteration: 73700 loss: 0.0015 lr: 0.02\n",
            "iteration: 73800 loss: 0.0015 lr: 0.02\n",
            "iteration: 73900 loss: 0.0016 lr: 0.02\n",
            "iteration: 74000 loss: 0.0016 lr: 0.02\n",
            "iteration: 74100 loss: 0.0015 lr: 0.02\n",
            "iteration: 74200 loss: 0.0016 lr: 0.02\n",
            "iteration: 74300 loss: 0.0016 lr: 0.02\n",
            "iteration: 74400 loss: 0.0017 lr: 0.02\n",
            "iteration: 74500 loss: 0.0014 lr: 0.02\n",
            "iteration: 74600 loss: 0.0016 lr: 0.02\n",
            "iteration: 74700 loss: 0.0016 lr: 0.02\n",
            "iteration: 74800 loss: 0.0015 lr: 0.02\n",
            "iteration: 74900 loss: 0.0015 lr: 0.02\n",
            "iteration: 75000 loss: 0.0015 lr: 0.02\n",
            "iteration: 75100 loss: 0.0016 lr: 0.02\n",
            "iteration: 75200 loss: 0.0017 lr: 0.02\n",
            "iteration: 75300 loss: 0.0015 lr: 0.02\n",
            "iteration: 75400 loss: 0.0016 lr: 0.02\n",
            "iteration: 75500 loss: 0.0017 lr: 0.02\n",
            "iteration: 75600 loss: 0.0017 lr: 0.02\n",
            "iteration: 75700 loss: 0.0017 lr: 0.02\n",
            "iteration: 75800 loss: 0.0016 lr: 0.02\n",
            "iteration: 75900 loss: 0.0016 lr: 0.02\n",
            "iteration: 76000 loss: 0.0016 lr: 0.02\n",
            "iteration: 76100 loss: 0.0015 lr: 0.02\n",
            "iteration: 76200 loss: 0.0015 lr: 0.02\n",
            "iteration: 76300 loss: 0.0016 lr: 0.02\n",
            "iteration: 76400 loss: 0.0017 lr: 0.02\n",
            "iteration: 76500 loss: 0.0015 lr: 0.02\n",
            "iteration: 76600 loss: 0.0017 lr: 0.02\n",
            "iteration: 76700 loss: 0.0016 lr: 0.02\n",
            "iteration: 76800 loss: 0.0015 lr: 0.02\n",
            "iteration: 76900 loss: 0.0015 lr: 0.02\n",
            "iteration: 77000 loss: 0.0015 lr: 0.02\n",
            "iteration: 77100 loss: 0.0016 lr: 0.02\n",
            "iteration: 77200 loss: 0.0015 lr: 0.02\n",
            "iteration: 77300 loss: 0.0016 lr: 0.02\n",
            "iteration: 77400 loss: 0.0014 lr: 0.02\n",
            "iteration: 77500 loss: 0.0016 lr: 0.02\n",
            "iteration: 77600 loss: 0.0017 lr: 0.02\n",
            "iteration: 77700 loss: 0.0017 lr: 0.02\n",
            "iteration: 77800 loss: 0.0015 lr: 0.02\n",
            "iteration: 77900 loss: 0.0017 lr: 0.02\n",
            "iteration: 78000 loss: 0.0016 lr: 0.02\n",
            "iteration: 78100 loss: 0.0015 lr: 0.02\n",
            "iteration: 78200 loss: 0.0015 lr: 0.02\n",
            "iteration: 78300 loss: 0.0014 lr: 0.02\n",
            "iteration: 78400 loss: 0.0016 lr: 0.02\n",
            "iteration: 78500 loss: 0.0016 lr: 0.02\n",
            "iteration: 78600 loss: 0.0016 lr: 0.02\n",
            "iteration: 78700 loss: 0.0018 lr: 0.02\n",
            "iteration: 78800 loss: 0.0015 lr: 0.02\n",
            "iteration: 78900 loss: 0.0015 lr: 0.02\n",
            "iteration: 79000 loss: 0.0016 lr: 0.02\n",
            "iteration: 79100 loss: 0.0015 lr: 0.02\n",
            "iteration: 79200 loss: 0.0016 lr: 0.02\n",
            "iteration: 79300 loss: 0.0015 lr: 0.02\n",
            "iteration: 79400 loss: 0.0018 lr: 0.02\n",
            "iteration: 79500 loss: 0.0017 lr: 0.02\n",
            "iteration: 79600 loss: 0.0016 lr: 0.02\n",
            "iteration: 79700 loss: 0.0015 lr: 0.02\n",
            "iteration: 79800 loss: 0.0015 lr: 0.02\n",
            "iteration: 79900 loss: 0.0016 lr: 0.02\n",
            "iteration: 80000 loss: 0.0015 lr: 0.02\n",
            "iteration: 80100 loss: 0.0017 lr: 0.02\n",
            "iteration: 80200 loss: 0.0016 lr: 0.02\n",
            "iteration: 80300 loss: 0.0016 lr: 0.02\n",
            "iteration: 80400 loss: 0.0015 lr: 0.02\n",
            "iteration: 80500 loss: 0.0016 lr: 0.02\n",
            "iteration: 80600 loss: 0.0015 lr: 0.02\n",
            "iteration: 80700 loss: 0.0014 lr: 0.02\n",
            "iteration: 80800 loss: 0.0016 lr: 0.02\n",
            "iteration: 80900 loss: 0.0016 lr: 0.02\n",
            "iteration: 81000 loss: 0.0014 lr: 0.02\n",
            "iteration: 81100 loss: 0.0017 lr: 0.02\n",
            "iteration: 81200 loss: 0.0016 lr: 0.02\n",
            "iteration: 81300 loss: 0.0016 lr: 0.02\n",
            "iteration: 81400 loss: 0.0016 lr: 0.02\n",
            "iteration: 81500 loss: 0.0015 lr: 0.02\n",
            "iteration: 81600 loss: 0.0015 lr: 0.02\n",
            "iteration: 81700 loss: 0.0016 lr: 0.02\n",
            "iteration: 81800 loss: 0.0015 lr: 0.02\n",
            "iteration: 81900 loss: 0.0015 lr: 0.02\n",
            "iteration: 82000 loss: 0.0016 lr: 0.02\n",
            "iteration: 82100 loss: 0.0015 lr: 0.02\n",
            "iteration: 82200 loss: 0.0015 lr: 0.02\n",
            "iteration: 82300 loss: 0.0015 lr: 0.02\n",
            "iteration: 82400 loss: 0.0015 lr: 0.02\n",
            "iteration: 82500 loss: 0.0015 lr: 0.02\n",
            "iteration: 82600 loss: 0.0015 lr: 0.02\n",
            "iteration: 82700 loss: 0.0016 lr: 0.02\n",
            "iteration: 82800 loss: 0.0015 lr: 0.02\n",
            "iteration: 82900 loss: 0.0015 lr: 0.02\n",
            "iteration: 83000 loss: 0.0015 lr: 0.02\n",
            "iteration: 83100 loss: 0.0016 lr: 0.02\n",
            "iteration: 83200 loss: 0.0015 lr: 0.02\n",
            "iteration: 83300 loss: 0.0017 lr: 0.02\n",
            "iteration: 83400 loss: 0.0015 lr: 0.02\n",
            "iteration: 83500 loss: 0.0015 lr: 0.02\n",
            "iteration: 83600 loss: 0.0015 lr: 0.02\n",
            "iteration: 83700 loss: 0.0015 lr: 0.02\n",
            "iteration: 83800 loss: 0.0015 lr: 0.02\n",
            "iteration: 83900 loss: 0.0015 lr: 0.02\n",
            "iteration: 84000 loss: 0.0014 lr: 0.02\n",
            "iteration: 84100 loss: 0.0016 lr: 0.02\n",
            "iteration: 84200 loss: 0.0015 lr: 0.02\n",
            "iteration: 84300 loss: 0.0015 lr: 0.02\n",
            "iteration: 84400 loss: 0.0015 lr: 0.02\n",
            "iteration: 84500 loss: 0.0016 lr: 0.02\n",
            "iteration: 84600 loss: 0.0015 lr: 0.02\n",
            "iteration: 84700 loss: 0.0015 lr: 0.02\n",
            "iteration: 84800 loss: 0.0015 lr: 0.02\n",
            "iteration: 84900 loss: 0.0014 lr: 0.02\n",
            "iteration: 85000 loss: 0.0015 lr: 0.02\n",
            "iteration: 85100 loss: 0.0015 lr: 0.02\n",
            "iteration: 85200 loss: 0.0015 lr: 0.02\n",
            "iteration: 85300 loss: 0.0015 lr: 0.02\n",
            "iteration: 85400 loss: 0.0016 lr: 0.02\n",
            "iteration: 85500 loss: 0.0016 lr: 0.02\n",
            "iteration: 85600 loss: 0.0015 lr: 0.02\n",
            "iteration: 85700 loss: 0.0018 lr: 0.02\n",
            "iteration: 85800 loss: 0.0015 lr: 0.02\n",
            "iteration: 85900 loss: 0.0015 lr: 0.02\n",
            "iteration: 86000 loss: 0.0016 lr: 0.02\n",
            "iteration: 86100 loss: 0.0015 lr: 0.02\n",
            "iteration: 86200 loss: 0.0016 lr: 0.02\n",
            "iteration: 86300 loss: 0.0015 lr: 0.02\n",
            "iteration: 86400 loss: 0.0014 lr: 0.02\n",
            "iteration: 86500 loss: 0.0014 lr: 0.02\n",
            "iteration: 86600 loss: 0.0016 lr: 0.02\n",
            "iteration: 86700 loss: 0.0016 lr: 0.02\n",
            "iteration: 86800 loss: 0.0015 lr: 0.02\n",
            "iteration: 86900 loss: 0.0015 lr: 0.02\n",
            "iteration: 87000 loss: 0.0015 lr: 0.02\n",
            "iteration: 87100 loss: 0.0017 lr: 0.02\n",
            "iteration: 87200 loss: 0.0015 lr: 0.02\n",
            "iteration: 87300 loss: 0.0017 lr: 0.02\n",
            "iteration: 87400 loss: 0.0015 lr: 0.02\n",
            "iteration: 87500 loss: 0.0015 lr: 0.02\n",
            "iteration: 87600 loss: 0.0014 lr: 0.02\n",
            "iteration: 87700 loss: 0.0016 lr: 0.02\n",
            "iteration: 87800 loss: 0.0014 lr: 0.02\n",
            "iteration: 87900 loss: 0.0014 lr: 0.02\n",
            "iteration: 88000 loss: 0.0015 lr: 0.02\n",
            "iteration: 88100 loss: 0.0014 lr: 0.02\n",
            "iteration: 88200 loss: 0.0014 lr: 0.02\n",
            "iteration: 88300 loss: 0.0015 lr: 0.02\n",
            "iteration: 88400 loss: 0.0017 lr: 0.02\n",
            "iteration: 88500 loss: 0.0015 lr: 0.02\n",
            "iteration: 88600 loss: 0.0015 lr: 0.02\n",
            "iteration: 88700 loss: 0.0014 lr: 0.02\n",
            "iteration: 88800 loss: 0.0014 lr: 0.02\n",
            "iteration: 88900 loss: 0.0015 lr: 0.02\n",
            "iteration: 89000 loss: 0.0016 lr: 0.02\n",
            "iteration: 89100 loss: 0.0015 lr: 0.02\n",
            "iteration: 89200 loss: 0.0015 lr: 0.02\n",
            "iteration: 89300 loss: 0.0015 lr: 0.02\n",
            "iteration: 89400 loss: 0.0015 lr: 0.02\n",
            "iteration: 89500 loss: 0.0014 lr: 0.02\n",
            "iteration: 89600 loss: 0.0015 lr: 0.02\n",
            "iteration: 89700 loss: 0.0015 lr: 0.02\n",
            "iteration: 89800 loss: 0.0016 lr: 0.02\n",
            "iteration: 89900 loss: 0.0015 lr: 0.02\n",
            "iteration: 90000 loss: 0.0015 lr: 0.02\n",
            "iteration: 90100 loss: 0.0016 lr: 0.02\n",
            "iteration: 90200 loss: 0.0015 lr: 0.02\n",
            "iteration: 90300 loss: 0.0014 lr: 0.02\n",
            "iteration: 90400 loss: 0.0015 lr: 0.02\n",
            "iteration: 90500 loss: 0.0015 lr: 0.02\n",
            "iteration: 90600 loss: 0.0016 lr: 0.02\n",
            "iteration: 90700 loss: 0.0016 lr: 0.02\n",
            "iteration: 90800 loss: 0.0015 lr: 0.02\n",
            "iteration: 90900 loss: 0.0016 lr: 0.02\n",
            "iteration: 91000 loss: 0.0015 lr: 0.02\n",
            "iteration: 91100 loss: 0.0016 lr: 0.02\n",
            "iteration: 91200 loss: 0.0016 lr: 0.02\n",
            "iteration: 91300 loss: 0.0014 lr: 0.02\n",
            "iteration: 91400 loss: 0.0015 lr: 0.02\n",
            "iteration: 91500 loss: 0.0015 lr: 0.02\n",
            "iteration: 91600 loss: 0.0014 lr: 0.02\n",
            "iteration: 91700 loss: 0.0015 lr: 0.02\n",
            "iteration: 91800 loss: 0.0015 lr: 0.02\n",
            "iteration: 91900 loss: 0.0015 lr: 0.02\n",
            "iteration: 92000 loss: 0.0014 lr: 0.02\n",
            "iteration: 92100 loss: 0.0015 lr: 0.02\n",
            "iteration: 92200 loss: 0.0015 lr: 0.02\n",
            "iteration: 92300 loss: 0.0015 lr: 0.02\n",
            "iteration: 92400 loss: 0.0015 lr: 0.02\n",
            "iteration: 92500 loss: 0.0014 lr: 0.02\n",
            "iteration: 92600 loss: 0.0014 lr: 0.02\n",
            "iteration: 92700 loss: 0.0015 lr: 0.02\n",
            "iteration: 92800 loss: 0.0014 lr: 0.02\n",
            "iteration: 92900 loss: 0.0014 lr: 0.02\n",
            "iteration: 93000 loss: 0.0014 lr: 0.02\n",
            "iteration: 93100 loss: 0.0014 lr: 0.02\n",
            "iteration: 93200 loss: 0.0014 lr: 0.02\n",
            "iteration: 93300 loss: 0.0015 lr: 0.02\n",
            "iteration: 93400 loss: 0.0015 lr: 0.02\n",
            "iteration: 93500 loss: 0.0013 lr: 0.02\n",
            "iteration: 93600 loss: 0.0015 lr: 0.02\n",
            "iteration: 93700 loss: 0.0013 lr: 0.02\n",
            "iteration: 93800 loss: 0.0016 lr: 0.02\n",
            "iteration: 93900 loss: 0.0015 lr: 0.02\n",
            "iteration: 94000 loss: 0.0015 lr: 0.02\n",
            "iteration: 94100 loss: 0.0014 lr: 0.02\n",
            "iteration: 94200 loss: 0.0015 lr: 0.02\n",
            "iteration: 94300 loss: 0.0015 lr: 0.02\n",
            "iteration: 94400 loss: 0.0015 lr: 0.02\n",
            "iteration: 94500 loss: 0.0013 lr: 0.02\n",
            "iteration: 94600 loss: 0.0014 lr: 0.02\n",
            "iteration: 94700 loss: 0.0015 lr: 0.02\n",
            "iteration: 94800 loss: 0.0016 lr: 0.02\n",
            "iteration: 94900 loss: 0.0014 lr: 0.02\n",
            "iteration: 95000 loss: 0.0015 lr: 0.02\n",
            "iteration: 95100 loss: 0.0014 lr: 0.02\n",
            "iteration: 95200 loss: 0.0014 lr: 0.02\n",
            "iteration: 95300 loss: 0.0015 lr: 0.02\n",
            "iteration: 95400 loss: 0.0013 lr: 0.02\n",
            "iteration: 95500 loss: 0.0014 lr: 0.02\n",
            "iteration: 95600 loss: 0.0015 lr: 0.02\n",
            "iteration: 95700 loss: 0.0015 lr: 0.02\n",
            "iteration: 95800 loss: 0.0015 lr: 0.02\n",
            "iteration: 95900 loss: 0.0015 lr: 0.02\n",
            "iteration: 96000 loss: 0.0015 lr: 0.02\n",
            "iteration: 96100 loss: 0.0014 lr: 0.02\n",
            "iteration: 96200 loss: 0.0015 lr: 0.02\n",
            "iteration: 96300 loss: 0.0013 lr: 0.02\n",
            "iteration: 96400 loss: 0.0014 lr: 0.02\n",
            "iteration: 96500 loss: 0.0015 lr: 0.02\n",
            "iteration: 96600 loss: 0.0014 lr: 0.02\n",
            "iteration: 96700 loss: 0.0015 lr: 0.02\n",
            "iteration: 96800 loss: 0.0015 lr: 0.02\n",
            "iteration: 96900 loss: 0.0015 lr: 0.02\n",
            "iteration: 97000 loss: 0.0013 lr: 0.02\n",
            "iteration: 97100 loss: 0.0015 lr: 0.02\n",
            "iteration: 97200 loss: 0.0014 lr: 0.02\n",
            "iteration: 97300 loss: 0.0015 lr: 0.02\n",
            "iteration: 97400 loss: 0.0015 lr: 0.02\n",
            "iteration: 97500 loss: 0.0015 lr: 0.02\n",
            "iteration: 97600 loss: 0.0015 lr: 0.02\n",
            "iteration: 97700 loss: 0.0014 lr: 0.02\n",
            "iteration: 97800 loss: 0.0014 lr: 0.02\n",
            "iteration: 97900 loss: 0.0013 lr: 0.02\n",
            "iteration: 98000 loss: 0.0015 lr: 0.02\n",
            "iteration: 98100 loss: 0.0013 lr: 0.02\n",
            "iteration: 98200 loss: 0.0016 lr: 0.02\n",
            "iteration: 98300 loss: 0.0014 lr: 0.02\n",
            "iteration: 98400 loss: 0.0014 lr: 0.02\n",
            "iteration: 98500 loss: 0.0014 lr: 0.02\n",
            "iteration: 98600 loss: 0.0014 lr: 0.02\n",
            "iteration: 98700 loss: 0.0015 lr: 0.02\n",
            "iteration: 98800 loss: 0.0014 lr: 0.02\n",
            "iteration: 98900 loss: 0.0014 lr: 0.02\n",
            "iteration: 99000 loss: 0.0015 lr: 0.02\n",
            "iteration: 99100 loss: 0.0015 lr: 0.02\n",
            "iteration: 99200 loss: 0.0015 lr: 0.02\n",
            "iteration: 99300 loss: 0.0015 lr: 0.02\n",
            "iteration: 99400 loss: 0.0014 lr: 0.02\n",
            "iteration: 99500 loss: 0.0014 lr: 0.02\n",
            "iteration: 99600 loss: 0.0014 lr: 0.02\n",
            "iteration: 99700 loss: 0.0014 lr: 0.02\n",
            "iteration: 99800 loss: 0.0015 lr: 0.02\n",
            "iteration: 99900 loss: 0.0013 lr: 0.02\n",
            "iteration: 100000 loss: 0.0014 lr: 0.02\n",
            "iteration: 100100 loss: 0.0014 lr: 0.02\n",
            "iteration: 100200 loss: 0.0014 lr: 0.02\n",
            "iteration: 100300 loss: 0.0015 lr: 0.02\n",
            "iteration: 100400 loss: 0.0015 lr: 0.02\n",
            "iteration: 100500 loss: 0.0015 lr: 0.02\n",
            "iteration: 100600 loss: 0.0015 lr: 0.02\n",
            "iteration: 100700 loss: 0.0016 lr: 0.02\n",
            "iteration: 100800 loss: 0.0015 lr: 0.02\n",
            "iteration: 100900 loss: 0.0014 lr: 0.02\n",
            "iteration: 101000 loss: 0.0014 lr: 0.02\n",
            "iteration: 101100 loss: 0.0015 lr: 0.02\n",
            "iteration: 101200 loss: 0.0015 lr: 0.02\n",
            "iteration: 101300 loss: 0.0013 lr: 0.02\n",
            "iteration: 101400 loss: 0.0015 lr: 0.02\n",
            "iteration: 101500 loss: 0.0012 lr: 0.02\n",
            "iteration: 101600 loss: 0.0014 lr: 0.02\n",
            "iteration: 101700 loss: 0.0013 lr: 0.02\n",
            "iteration: 101800 loss: 0.0015 lr: 0.02\n",
            "iteration: 101900 loss: 0.0016 lr: 0.02\n",
            "iteration: 102000 loss: 0.0016 lr: 0.02\n",
            "iteration: 102100 loss: 0.0016 lr: 0.02\n",
            "iteration: 102200 loss: 0.0014 lr: 0.02\n",
            "iteration: 102300 loss: 0.0014 lr: 0.02\n",
            "iteration: 102400 loss: 0.0015 lr: 0.02\n",
            "iteration: 102500 loss: 0.0016 lr: 0.02\n",
            "iteration: 102600 loss: 0.0013 lr: 0.02\n",
            "iteration: 102700 loss: 0.0015 lr: 0.02\n",
            "iteration: 102800 loss: 0.0015 lr: 0.02\n",
            "iteration: 102900 loss: 0.0014 lr: 0.02\n",
            "iteration: 103000 loss: 0.0015 lr: 0.02\n",
            "iteration: 103100 loss: 0.0014 lr: 0.02\n",
            "iteration: 103200 loss: 0.0014 lr: 0.02\n",
            "iteration: 103300 loss: 0.0014 lr: 0.02\n",
            "iteration: 103400 loss: 0.0014 lr: 0.02\n",
            "iteration: 103500 loss: 0.0015 lr: 0.02\n",
            "iteration: 103600 loss: 0.0014 lr: 0.02\n",
            "iteration: 103700 loss: 0.0015 lr: 0.02\n",
            "iteration: 103800 loss: 0.0014 lr: 0.02\n",
            "iteration: 103900 loss: 0.0016 lr: 0.02\n",
            "iteration: 104000 loss: 0.0015 lr: 0.02\n",
            "iteration: 104100 loss: 0.0013 lr: 0.02\n",
            "iteration: 104200 loss: 0.0013 lr: 0.02\n",
            "iteration: 104300 loss: 0.0015 lr: 0.02\n",
            "iteration: 104400 loss: 0.0015 lr: 0.02\n",
            "iteration: 104500 loss: 0.0016 lr: 0.02\n",
            "iteration: 104600 loss: 0.0014 lr: 0.02\n",
            "iteration: 104700 loss: 0.0014 lr: 0.02\n",
            "iteration: 104800 loss: 0.0016 lr: 0.02\n",
            "iteration: 104900 loss: 0.0015 lr: 0.02\n",
            "iteration: 105000 loss: 0.0014 lr: 0.02\n",
            "iteration: 105100 loss: 0.0014 lr: 0.02\n",
            "iteration: 105200 loss: 0.0014 lr: 0.02\n",
            "iteration: 105300 loss: 0.0014 lr: 0.02\n",
            "iteration: 105400 loss: 0.0014 lr: 0.02\n",
            "iteration: 105500 loss: 0.0015 lr: 0.02\n",
            "iteration: 105600 loss: 0.0013 lr: 0.02\n",
            "iteration: 105700 loss: 0.0014 lr: 0.02\n",
            "iteration: 105800 loss: 0.0014 lr: 0.02\n",
            "iteration: 105900 loss: 0.0015 lr: 0.02\n",
            "iteration: 106000 loss: 0.0015 lr: 0.02\n",
            "iteration: 106100 loss: 0.0015 lr: 0.02\n",
            "iteration: 106200 loss: 0.0016 lr: 0.02\n",
            "iteration: 106300 loss: 0.0015 lr: 0.02\n",
            "iteration: 106400 loss: 0.0015 lr: 0.02\n",
            "iteration: 106500 loss: 0.0014 lr: 0.02\n",
            "iteration: 106600 loss: 0.0015 lr: 0.02\n",
            "iteration: 106700 loss: 0.0014 lr: 0.02\n",
            "iteration: 106800 loss: 0.0015 lr: 0.02\n",
            "iteration: 106900 loss: 0.0013 lr: 0.02\n",
            "iteration: 107000 loss: 0.0014 lr: 0.02\n",
            "iteration: 107100 loss: 0.0015 lr: 0.02\n",
            "iteration: 107200 loss: 0.0015 lr: 0.02\n",
            "iteration: 107300 loss: 0.0014 lr: 0.02\n",
            "iteration: 107400 loss: 0.0014 lr: 0.02\n",
            "iteration: 107500 loss: 0.0017 lr: 0.02\n",
            "iteration: 107600 loss: 0.0015 lr: 0.02\n",
            "iteration: 107700 loss: 0.0014 lr: 0.02\n",
            "iteration: 107800 loss: 0.0015 lr: 0.02\n",
            "iteration: 107900 loss: 0.0015 lr: 0.02\n",
            "iteration: 108000 loss: 0.0014 lr: 0.02\n",
            "iteration: 108100 loss: 0.0013 lr: 0.02\n",
            "iteration: 108200 loss: 0.0016 lr: 0.02\n",
            "iteration: 108300 loss: 0.0013 lr: 0.02\n",
            "iteration: 108400 loss: 0.0014 lr: 0.02\n",
            "iteration: 108500 loss: 0.0015 lr: 0.02\n",
            "iteration: 108600 loss: 0.0015 lr: 0.02\n",
            "iteration: 108700 loss: 0.0015 lr: 0.02\n",
            "iteration: 108800 loss: 0.0014 lr: 0.02\n",
            "iteration: 108900 loss: 0.0013 lr: 0.02\n",
            "iteration: 109000 loss: 0.0014 lr: 0.02\n",
            "iteration: 109100 loss: 0.0014 lr: 0.02\n",
            "iteration: 109200 loss: 0.0014 lr: 0.02\n",
            "iteration: 109300 loss: 0.0017 lr: 0.02\n",
            "iteration: 109400 loss: 0.0016 lr: 0.02\n",
            "iteration: 109500 loss: 0.0013 lr: 0.02\n",
            "iteration: 109600 loss: 0.0014 lr: 0.02\n",
            "iteration: 109700 loss: 0.0015 lr: 0.02\n",
            "iteration: 109800 loss: 0.0014 lr: 0.02\n",
            "iteration: 109900 loss: 0.0014 lr: 0.02\n",
            "iteration: 110000 loss: 0.0016 lr: 0.02\n",
            "iteration: 110100 loss: 0.0014 lr: 0.02\n",
            "iteration: 110200 loss: 0.0014 lr: 0.02\n",
            "iteration: 110300 loss: 0.0014 lr: 0.02\n",
            "iteration: 110400 loss: 0.0014 lr: 0.02\n",
            "iteration: 110500 loss: 0.0014 lr: 0.02\n",
            "iteration: 110600 loss: 0.0014 lr: 0.02\n",
            "iteration: 110700 loss: 0.0015 lr: 0.02\n",
            "iteration: 110800 loss: 0.0014 lr: 0.02\n",
            "iteration: 110900 loss: 0.0015 lr: 0.02\n",
            "iteration: 111000 loss: 0.0013 lr: 0.02\n",
            "iteration: 111100 loss: 0.0014 lr: 0.02\n",
            "iteration: 111200 loss: 0.0014 lr: 0.02\n",
            "iteration: 111300 loss: 0.0013 lr: 0.02\n",
            "iteration: 111400 loss: 0.0014 lr: 0.02\n",
            "iteration: 111500 loss: 0.0013 lr: 0.02\n",
            "iteration: 111600 loss: 0.0014 lr: 0.02\n",
            "iteration: 111700 loss: 0.0014 lr: 0.02\n",
            "iteration: 111800 loss: 0.0014 lr: 0.02\n",
            "iteration: 111900 loss: 0.0014 lr: 0.02\n",
            "iteration: 112000 loss: 0.0013 lr: 0.02\n",
            "iteration: 112100 loss: 0.0014 lr: 0.02\n",
            "iteration: 112200 loss: 0.0014 lr: 0.02\n",
            "iteration: 112300 loss: 0.0014 lr: 0.02\n",
            "iteration: 112400 loss: 0.0014 lr: 0.02\n",
            "iteration: 112500 loss: 0.0015 lr: 0.02\n",
            "iteration: 112600 loss: 0.0014 lr: 0.02\n",
            "iteration: 112700 loss: 0.0014 lr: 0.02\n",
            "iteration: 112800 loss: 0.0014 lr: 0.02\n",
            "iteration: 112900 loss: 0.0013 lr: 0.02\n",
            "iteration: 113000 loss: 0.0014 lr: 0.02\n",
            "iteration: 113100 loss: 0.0014 lr: 0.02\n",
            "iteration: 113200 loss: 0.0014 lr: 0.02\n",
            "iteration: 113300 loss: 0.0013 lr: 0.02\n",
            "iteration: 113400 loss: 0.0014 lr: 0.02\n",
            "iteration: 113500 loss: 0.0016 lr: 0.02\n",
            "iteration: 113600 loss: 0.0014 lr: 0.02\n",
            "iteration: 113700 loss: 0.0014 lr: 0.02\n",
            "iteration: 113800 loss: 0.0014 lr: 0.02\n",
            "iteration: 113900 loss: 0.0015 lr: 0.02\n",
            "iteration: 114000 loss: 0.0014 lr: 0.02\n",
            "iteration: 114100 loss: 0.0014 lr: 0.02\n",
            "iteration: 114200 loss: 0.0015 lr: 0.02\n",
            "iteration: 114300 loss: 0.0014 lr: 0.02\n",
            "iteration: 114400 loss: 0.0014 lr: 0.02\n",
            "iteration: 114500 loss: 0.0014 lr: 0.02\n",
            "iteration: 114600 loss: 0.0013 lr: 0.02\n",
            "iteration: 114700 loss: 0.0014 lr: 0.02\n",
            "iteration: 114800 loss: 0.0016 lr: 0.02\n",
            "iteration: 114900 loss: 0.0013 lr: 0.02\n",
            "iteration: 115000 loss: 0.0015 lr: 0.02\n",
            "iteration: 115100 loss: 0.0014 lr: 0.02\n",
            "iteration: 115200 loss: 0.0014 lr: 0.02\n",
            "iteration: 115300 loss: 0.0014 lr: 0.02\n",
            "iteration: 115400 loss: 0.0015 lr: 0.02\n",
            "iteration: 115500 loss: 0.0015 lr: 0.02\n",
            "iteration: 115600 loss: 0.0015 lr: 0.02\n",
            "iteration: 115700 loss: 0.0014 lr: 0.02\n",
            "iteration: 115800 loss: 0.0013 lr: 0.02\n",
            "iteration: 115900 loss: 0.0014 lr: 0.02\n",
            "iteration: 116000 loss: 0.0012 lr: 0.02\n",
            "iteration: 116100 loss: 0.0015 lr: 0.02\n",
            "iteration: 116200 loss: 0.0013 lr: 0.02\n",
            "iteration: 116300 loss: 0.0013 lr: 0.02\n",
            "iteration: 116400 loss: 0.0013 lr: 0.02\n",
            "iteration: 116500 loss: 0.0015 lr: 0.02\n",
            "iteration: 116600 loss: 0.0014 lr: 0.02\n",
            "iteration: 116700 loss: 0.0013 lr: 0.02\n",
            "iteration: 116800 loss: 0.0013 lr: 0.02\n",
            "iteration: 116900 loss: 0.0014 lr: 0.02\n",
            "iteration: 117000 loss: 0.0013 lr: 0.02\n",
            "iteration: 117100 loss: 0.0014 lr: 0.02\n",
            "iteration: 117200 loss: 0.0013 lr: 0.02\n",
            "iteration: 117300 loss: 0.0015 lr: 0.02\n",
            "iteration: 117400 loss: 0.0014 lr: 0.02\n",
            "iteration: 117500 loss: 0.0014 lr: 0.02\n",
            "iteration: 117600 loss: 0.0014 lr: 0.02\n",
            "iteration: 117700 loss: 0.0014 lr: 0.02\n",
            "iteration: 117800 loss: 0.0014 lr: 0.02\n",
            "iteration: 117900 loss: 0.0015 lr: 0.02\n",
            "iteration: 118000 loss: 0.0014 lr: 0.02\n",
            "iteration: 118100 loss: 0.0013 lr: 0.02\n",
            "iteration: 118200 loss: 0.0013 lr: 0.02\n",
            "iteration: 118300 loss: 0.0014 lr: 0.02\n",
            "iteration: 118400 loss: 0.0013 lr: 0.02\n",
            "iteration: 118500 loss: 0.0013 lr: 0.02\n",
            "iteration: 118600 loss: 0.0014 lr: 0.02\n",
            "iteration: 118700 loss: 0.0012 lr: 0.02\n",
            "iteration: 118800 loss: 0.0013 lr: 0.02\n",
            "iteration: 118900 loss: 0.0013 lr: 0.02\n",
            "iteration: 119000 loss: 0.0013 lr: 0.02\n",
            "iteration: 119100 loss: 0.0015 lr: 0.02\n",
            "iteration: 119200 loss: 0.0014 lr: 0.02\n",
            "iteration: 119300 loss: 0.0014 lr: 0.02\n",
            "iteration: 119400 loss: 0.0014 lr: 0.02\n",
            "iteration: 119500 loss: 0.0013 lr: 0.02\n",
            "iteration: 119600 loss: 0.0015 lr: 0.02\n",
            "iteration: 119700 loss: 0.0014 lr: 0.02\n",
            "iteration: 119800 loss: 0.0014 lr: 0.02\n",
            "iteration: 119900 loss: 0.0013 lr: 0.02\n",
            "iteration: 120000 loss: 0.0012 lr: 0.02\n",
            "iteration: 120100 loss: 0.0013 lr: 0.02\n",
            "iteration: 120200 loss: 0.0013 lr: 0.02\n",
            "iteration: 120300 loss: 0.0014 lr: 0.02\n",
            "iteration: 120400 loss: 0.0013 lr: 0.02\n",
            "iteration: 120500 loss: 0.0016 lr: 0.02\n",
            "iteration: 120600 loss: 0.0014 lr: 0.02\n",
            "iteration: 120700 loss: 0.0012 lr: 0.02\n",
            "iteration: 120800 loss: 0.0013 lr: 0.02\n",
            "iteration: 120900 loss: 0.0013 lr: 0.02\n",
            "iteration: 121000 loss: 0.0016 lr: 0.02\n",
            "iteration: 121100 loss: 0.0014 lr: 0.02\n",
            "iteration: 121200 loss: 0.0016 lr: 0.02\n",
            "iteration: 121300 loss: 0.0014 lr: 0.02\n",
            "iteration: 121400 loss: 0.0014 lr: 0.02\n",
            "iteration: 121500 loss: 0.0013 lr: 0.02\n",
            "iteration: 121600 loss: 0.0014 lr: 0.02\n",
            "iteration: 121700 loss: 0.0013 lr: 0.02\n",
            "iteration: 121800 loss: 0.0014 lr: 0.02\n",
            "iteration: 121900 loss: 0.0013 lr: 0.02\n",
            "iteration: 122000 loss: 0.0014 lr: 0.02\n",
            "iteration: 122100 loss: 0.0014 lr: 0.02\n",
            "iteration: 122200 loss: 0.0014 lr: 0.02\n",
            "iteration: 122300 loss: 0.0015 lr: 0.02\n",
            "iteration: 122400 loss: 0.0013 lr: 0.02\n",
            "iteration: 122500 loss: 0.0015 lr: 0.02\n",
            "iteration: 122600 loss: 0.0014 lr: 0.02\n",
            "iteration: 122700 loss: 0.0013 lr: 0.02\n",
            "iteration: 122800 loss: 0.0013 lr: 0.02\n",
            "iteration: 122900 loss: 0.0013 lr: 0.02\n",
            "iteration: 123000 loss: 0.0013 lr: 0.02\n",
            "iteration: 123100 loss: 0.0013 lr: 0.02\n",
            "iteration: 123200 loss: 0.0015 lr: 0.02\n",
            "iteration: 123300 loss: 0.0012 lr: 0.02\n",
            "iteration: 123400 loss: 0.0014 lr: 0.02\n",
            "iteration: 123500 loss: 0.0014 lr: 0.02\n",
            "iteration: 123600 loss: 0.0014 lr: 0.02\n",
            "iteration: 123700 loss: 0.0017 lr: 0.02\n",
            "iteration: 123800 loss: 0.0013 lr: 0.02\n",
            "iteration: 123900 loss: 0.0015 lr: 0.02\n",
            "iteration: 124000 loss: 0.0014 lr: 0.02\n",
            "iteration: 124100 loss: 0.0014 lr: 0.02\n",
            "iteration: 124200 loss: 0.0014 lr: 0.02\n",
            "iteration: 124300 loss: 0.0015 lr: 0.02\n",
            "iteration: 124400 loss: 0.0013 lr: 0.02\n",
            "iteration: 124500 loss: 0.0014 lr: 0.02\n",
            "iteration: 124600 loss: 0.0015 lr: 0.02\n",
            "iteration: 124700 loss: 0.0014 lr: 0.02\n",
            "iteration: 124800 loss: 0.0014 lr: 0.02\n",
            "iteration: 124900 loss: 0.0014 lr: 0.02\n",
            "iteration: 125000 loss: 0.0014 lr: 0.02\n",
            "iteration: 125100 loss: 0.0013 lr: 0.02\n",
            "iteration: 125200 loss: 0.0015 lr: 0.02\n",
            "iteration: 125300 loss: 0.0015 lr: 0.02\n",
            "iteration: 125400 loss: 0.0015 lr: 0.02\n",
            "iteration: 125500 loss: 0.0013 lr: 0.02\n",
            "iteration: 125600 loss: 0.0013 lr: 0.02\n",
            "iteration: 125700 loss: 0.0014 lr: 0.02\n",
            "iteration: 125800 loss: 0.0015 lr: 0.02\n",
            "iteration: 125900 loss: 0.0014 lr: 0.02\n",
            "iteration: 126000 loss: 0.0013 lr: 0.02\n",
            "iteration: 126100 loss: 0.0014 lr: 0.02\n",
            "iteration: 126200 loss: 0.0014 lr: 0.02\n",
            "iteration: 126300 loss: 0.0013 lr: 0.02\n",
            "iteration: 126400 loss: 0.0014 lr: 0.02\n",
            "iteration: 126500 loss: 0.0013 lr: 0.02\n",
            "iteration: 126600 loss: 0.0014 lr: 0.02\n",
            "iteration: 126700 loss: 0.0013 lr: 0.02\n",
            "iteration: 126800 loss: 0.0015 lr: 0.02\n",
            "iteration: 126900 loss: 0.0013 lr: 0.02\n",
            "iteration: 127000 loss: 0.0014 lr: 0.02\n",
            "iteration: 127100 loss: 0.0014 lr: 0.02\n",
            "iteration: 127200 loss: 0.0014 lr: 0.02\n",
            "iteration: 127300 loss: 0.0014 lr: 0.02\n",
            "iteration: 127400 loss: 0.0015 lr: 0.02\n",
            "iteration: 127500 loss: 0.0015 lr: 0.02\n",
            "iteration: 127600 loss: 0.0014 lr: 0.02\n",
            "iteration: 127700 loss: 0.0013 lr: 0.02\n",
            "iteration: 127800 loss: 0.0013 lr: 0.02\n",
            "iteration: 127900 loss: 0.0013 lr: 0.02\n",
            "iteration: 128000 loss: 0.0014 lr: 0.02\n",
            "iteration: 128100 loss: 0.0014 lr: 0.02\n",
            "iteration: 128200 loss: 0.0013 lr: 0.02\n",
            "iteration: 128300 loss: 0.0013 lr: 0.02\n",
            "iteration: 128400 loss: 0.0015 lr: 0.02\n",
            "iteration: 128500 loss: 0.0015 lr: 0.02\n",
            "iteration: 128600 loss: 0.0013 lr: 0.02\n",
            "iteration: 128700 loss: 0.0015 lr: 0.02\n",
            "iteration: 128800 loss: 0.0014 lr: 0.02\n",
            "iteration: 128900 loss: 0.0014 lr: 0.02\n",
            "iteration: 129000 loss: 0.0013 lr: 0.02\n",
            "iteration: 129100 loss: 0.0014 lr: 0.02\n",
            "iteration: 129200 loss: 0.0014 lr: 0.02\n",
            "iteration: 129300 loss: 0.0013 lr: 0.02\n",
            "iteration: 129400 loss: 0.0013 lr: 0.02\n",
            "iteration: 129500 loss: 0.0013 lr: 0.02\n",
            "iteration: 129600 loss: 0.0014 lr: 0.02\n",
            "iteration: 129700 loss: 0.0014 lr: 0.02\n",
            "iteration: 129800 loss: 0.0013 lr: 0.02\n",
            "iteration: 129900 loss: 0.0013 lr: 0.02\n",
            "iteration: 130000 loss: 0.0013 lr: 0.02\n",
            "iteration: 130100 loss: 0.0015 lr: 0.02\n",
            "iteration: 130200 loss: 0.0014 lr: 0.02\n",
            "iteration: 130300 loss: 0.0014 lr: 0.02\n",
            "iteration: 130400 loss: 0.0013 lr: 0.02\n",
            "iteration: 130500 loss: 0.0014 lr: 0.02\n",
            "iteration: 130600 loss: 0.0013 lr: 0.02\n",
            "iteration: 130700 loss: 0.0013 lr: 0.02\n",
            "iteration: 130800 loss: 0.0013 lr: 0.02\n",
            "iteration: 130900 loss: 0.0014 lr: 0.02\n",
            "iteration: 131000 loss: 0.0013 lr: 0.02\n",
            "iteration: 131100 loss: 0.0014 lr: 0.02\n",
            "iteration: 131200 loss: 0.0015 lr: 0.02\n",
            "iteration: 131300 loss: 0.0013 lr: 0.02\n",
            "iteration: 131400 loss: 0.0014 lr: 0.02\n",
            "iteration: 131500 loss: 0.0013 lr: 0.02\n",
            "iteration: 131600 loss: 0.0014 lr: 0.02\n",
            "iteration: 131700 loss: 0.0012 lr: 0.02\n",
            "iteration: 131800 loss: 0.0013 lr: 0.02\n",
            "iteration: 131900 loss: 0.0014 lr: 0.02\n",
            "iteration: 132000 loss: 0.0013 lr: 0.02\n",
            "iteration: 132100 loss: 0.0014 lr: 0.02\n",
            "iteration: 132200 loss: 0.0014 lr: 0.02\n",
            "iteration: 132300 loss: 0.0013 lr: 0.02\n",
            "iteration: 132400 loss: 0.0012 lr: 0.02\n",
            "iteration: 132500 loss: 0.0013 lr: 0.02\n",
            "iteration: 132600 loss: 0.0013 lr: 0.02\n",
            "iteration: 132700 loss: 0.0013 lr: 0.02\n",
            "iteration: 132800 loss: 0.0014 lr: 0.02\n",
            "iteration: 132900 loss: 0.0013 lr: 0.02\n",
            "iteration: 133000 loss: 0.0013 lr: 0.02\n",
            "iteration: 133100 loss: 0.0014 lr: 0.02\n",
            "iteration: 133200 loss: 0.0013 lr: 0.02\n",
            "iteration: 133300 loss: 0.0013 lr: 0.02\n",
            "iteration: 133400 loss: 0.0013 lr: 0.02\n",
            "iteration: 133500 loss: 0.0012 lr: 0.02\n",
            "iteration: 133600 loss: 0.0013 lr: 0.02\n",
            "iteration: 133700 loss: 0.0012 lr: 0.02\n",
            "iteration: 133800 loss: 0.0014 lr: 0.02\n",
            "iteration: 133900 loss: 0.0013 lr: 0.02\n",
            "iteration: 134000 loss: 0.0013 lr: 0.02\n",
            "iteration: 134100 loss: 0.0012 lr: 0.02\n",
            "iteration: 134200 loss: 0.0014 lr: 0.02\n",
            "iteration: 134300 loss: 0.0013 lr: 0.02\n",
            "iteration: 134400 loss: 0.0014 lr: 0.02\n",
            "iteration: 134500 loss: 0.0013 lr: 0.02\n",
            "iteration: 134600 loss: 0.0014 lr: 0.02\n",
            "iteration: 134700 loss: 0.0013 lr: 0.02\n",
            "iteration: 134800 loss: 0.0014 lr: 0.02\n",
            "iteration: 134900 loss: 0.0013 lr: 0.02\n",
            "iteration: 135000 loss: 0.0014 lr: 0.02\n",
            "iteration: 135100 loss: 0.0012 lr: 0.02\n",
            "iteration: 135200 loss: 0.0013 lr: 0.02\n",
            "iteration: 135300 loss: 0.0014 lr: 0.02\n",
            "iteration: 135400 loss: 0.0012 lr: 0.02\n",
            "iteration: 135500 loss: 0.0014 lr: 0.02\n",
            "iteration: 135600 loss: 0.0013 lr: 0.02\n",
            "iteration: 135700 loss: 0.0013 lr: 0.02\n",
            "iteration: 135800 loss: 0.0013 lr: 0.02\n",
            "iteration: 135900 loss: 0.0013 lr: 0.02\n",
            "iteration: 136000 loss: 0.0012 lr: 0.02\n",
            "iteration: 136100 loss: 0.0014 lr: 0.02\n",
            "iteration: 136200 loss: 0.0015 lr: 0.02\n",
            "iteration: 136300 loss: 0.0013 lr: 0.02\n",
            "iteration: 136400 loss: 0.0013 lr: 0.02\n",
            "iteration: 136500 loss: 0.0013 lr: 0.02\n",
            "iteration: 136600 loss: 0.0013 lr: 0.02\n",
            "iteration: 136700 loss: 0.0013 lr: 0.02\n",
            "iteration: 136800 loss: 0.0013 lr: 0.02\n",
            "iteration: 136900 loss: 0.0014 lr: 0.02\n",
            "iteration: 137000 loss: 0.0012 lr: 0.02\n",
            "iteration: 137100 loss: 0.0013 lr: 0.02\n",
            "iteration: 137200 loss: 0.0012 lr: 0.02\n",
            "iteration: 137300 loss: 0.0013 lr: 0.02\n",
            "iteration: 137400 loss: 0.0014 lr: 0.02\n",
            "iteration: 137500 loss: 0.0014 lr: 0.02\n",
            "iteration: 137600 loss: 0.0013 lr: 0.02\n",
            "iteration: 137700 loss: 0.0013 lr: 0.02\n",
            "iteration: 137800 loss: 0.0013 lr: 0.02\n",
            "iteration: 137900 loss: 0.0012 lr: 0.02\n",
            "iteration: 138000 loss: 0.0013 lr: 0.02\n",
            "iteration: 138100 loss: 0.0014 lr: 0.02\n",
            "iteration: 138200 loss: 0.0012 lr: 0.02\n",
            "iteration: 138300 loss: 0.0013 lr: 0.02\n",
            "iteration: 138400 loss: 0.0014 lr: 0.02\n",
            "iteration: 138500 loss: 0.0014 lr: 0.02\n",
            "iteration: 138600 loss: 0.0013 lr: 0.02\n",
            "iteration: 138700 loss: 0.0014 lr: 0.02\n",
            "iteration: 138800 loss: 0.0014 lr: 0.02\n",
            "iteration: 138900 loss: 0.0013 lr: 0.02\n",
            "iteration: 139000 loss: 0.0013 lr: 0.02\n",
            "iteration: 139100 loss: 0.0013 lr: 0.02\n",
            "iteration: 139200 loss: 0.0014 lr: 0.02\n",
            "iteration: 139300 loss: 0.0013 lr: 0.02\n",
            "iteration: 139400 loss: 0.0014 lr: 0.02\n",
            "iteration: 139500 loss: 0.0013 lr: 0.02\n",
            "iteration: 139600 loss: 0.0014 lr: 0.02\n",
            "iteration: 139700 loss: 0.0013 lr: 0.02\n",
            "iteration: 139800 loss: 0.0014 lr: 0.02\n",
            "iteration: 139900 loss: 0.0013 lr: 0.02\n",
            "iteration: 140000 loss: 0.0013 lr: 0.02\n",
            "iteration: 140100 loss: 0.0013 lr: 0.02\n",
            "iteration: 140200 loss: 0.0012 lr: 0.02\n",
            "iteration: 140300 loss: 0.0015 lr: 0.02\n",
            "iteration: 140400 loss: 0.0013 lr: 0.02\n",
            "iteration: 140500 loss: 0.0013 lr: 0.02\n",
            "iteration: 140600 loss: 0.0012 lr: 0.02\n",
            "iteration: 140700 loss: 0.0014 lr: 0.02\n",
            "iteration: 140800 loss: 0.0013 lr: 0.02\n",
            "iteration: 140900 loss: 0.0013 lr: 0.02\n",
            "iteration: 141000 loss: 0.0014 lr: 0.02\n",
            "iteration: 141100 loss: 0.0012 lr: 0.02\n",
            "iteration: 141200 loss: 0.0014 lr: 0.02\n",
            "iteration: 141300 loss: 0.0013 lr: 0.02\n",
            "iteration: 141400 loss: 0.0015 lr: 0.02\n",
            "iteration: 141500 loss: 0.0012 lr: 0.02\n",
            "iteration: 141600 loss: 0.0013 lr: 0.02\n",
            "iteration: 141700 loss: 0.0013 lr: 0.02\n",
            "iteration: 141800 loss: 0.0012 lr: 0.02\n",
            "iteration: 141900 loss: 0.0012 lr: 0.02\n",
            "iteration: 142000 loss: 0.0014 lr: 0.02\n",
            "iteration: 142100 loss: 0.0013 lr: 0.02\n",
            "iteration: 142200 loss: 0.0013 lr: 0.02\n",
            "iteration: 142300 loss: 0.0015 lr: 0.02\n",
            "iteration: 142400 loss: 0.0013 lr: 0.02\n",
            "iteration: 142500 loss: 0.0013 lr: 0.02\n",
            "iteration: 142600 loss: 0.0013 lr: 0.02\n",
            "iteration: 142700 loss: 0.0014 lr: 0.02\n",
            "iteration: 142800 loss: 0.0013 lr: 0.02\n",
            "iteration: 142900 loss: 0.0015 lr: 0.02\n",
            "iteration: 143000 loss: 0.0013 lr: 0.02\n",
            "iteration: 143100 loss: 0.0014 lr: 0.02\n",
            "iteration: 143200 loss: 0.0015 lr: 0.02\n",
            "iteration: 143300 loss: 0.0012 lr: 0.02\n",
            "iteration: 143400 loss: 0.0014 lr: 0.02\n",
            "iteration: 143500 loss: 0.0014 lr: 0.02\n",
            "iteration: 143600 loss: 0.0013 lr: 0.02\n",
            "iteration: 143700 loss: 0.0014 lr: 0.02\n",
            "iteration: 143800 loss: 0.0013 lr: 0.02\n",
            "iteration: 143900 loss: 0.0013 lr: 0.02\n",
            "iteration: 144000 loss: 0.0013 lr: 0.02\n",
            "iteration: 144100 loss: 0.0014 lr: 0.02\n",
            "iteration: 144200 loss: 0.0013 lr: 0.02\n",
            "iteration: 144300 loss: 0.0013 lr: 0.02\n",
            "iteration: 144400 loss: 0.0013 lr: 0.02\n",
            "iteration: 144500 loss: 0.0013 lr: 0.02\n",
            "iteration: 144600 loss: 0.0013 lr: 0.02\n",
            "iteration: 144700 loss: 0.0014 lr: 0.02\n",
            "iteration: 144800 loss: 0.0014 lr: 0.02\n",
            "iteration: 144900 loss: 0.0014 lr: 0.02\n",
            "iteration: 145000 loss: 0.0014 lr: 0.02\n",
            "iteration: 145100 loss: 0.0014 lr: 0.02\n",
            "iteration: 145200 loss: 0.0013 lr: 0.02\n",
            "iteration: 145300 loss: 0.0013 lr: 0.02\n",
            "iteration: 145400 loss: 0.0012 lr: 0.02\n",
            "iteration: 145500 loss: 0.0014 lr: 0.02\n",
            "iteration: 145600 loss: 0.0012 lr: 0.02\n",
            "iteration: 145700 loss: 0.0012 lr: 0.02\n",
            "iteration: 145800 loss: 0.0014 lr: 0.02\n",
            "iteration: 145900 loss: 0.0014 lr: 0.02\n",
            "iteration: 146000 loss: 0.0014 lr: 0.02\n",
            "iteration: 146100 loss: 0.0013 lr: 0.02\n",
            "iteration: 146200 loss: 0.0013 lr: 0.02\n",
            "iteration: 146300 loss: 0.0012 lr: 0.02\n",
            "iteration: 146400 loss: 0.0013 lr: 0.02\n",
            "iteration: 146500 loss: 0.0013 lr: 0.02\n",
            "iteration: 146600 loss: 0.0013 lr: 0.02\n",
            "iteration: 146700 loss: 0.0013 lr: 0.02\n",
            "iteration: 146800 loss: 0.0013 lr: 0.02\n",
            "iteration: 146900 loss: 0.0015 lr: 0.02\n",
            "iteration: 147000 loss: 0.0013 lr: 0.02\n",
            "iteration: 147100 loss: 0.0015 lr: 0.02\n",
            "iteration: 147200 loss: 0.0014 lr: 0.02\n",
            "iteration: 147300 loss: 0.0013 lr: 0.02\n",
            "iteration: 147400 loss: 0.0015 lr: 0.02\n",
            "iteration: 147500 loss: 0.0014 lr: 0.02\n",
            "iteration: 147600 loss: 0.0014 lr: 0.02\n",
            "iteration: 147700 loss: 0.0012 lr: 0.02\n",
            "iteration: 147800 loss: 0.0012 lr: 0.02\n",
            "iteration: 147900 loss: 0.0012 lr: 0.02\n",
            "iteration: 148000 loss: 0.0013 lr: 0.02\n",
            "iteration: 148100 loss: 0.0013 lr: 0.02\n",
            "iteration: 148200 loss: 0.0013 lr: 0.02\n",
            "iteration: 148300 loss: 0.0013 lr: 0.02\n",
            "iteration: 148400 loss: 0.0013 lr: 0.02\n",
            "iteration: 148500 loss: 0.0013 lr: 0.02\n",
            "iteration: 148600 loss: 0.0013 lr: 0.02\n",
            "iteration: 148700 loss: 0.0013 lr: 0.02\n",
            "iteration: 148800 loss: 0.0014 lr: 0.02\n",
            "iteration: 148900 loss: 0.0012 lr: 0.02\n",
            "iteration: 149000 loss: 0.0013 lr: 0.02\n",
            "iteration: 149100 loss: 0.0012 lr: 0.02\n",
            "iteration: 149200 loss: 0.0014 lr: 0.02\n",
            "iteration: 149300 loss: 0.0013 lr: 0.02\n",
            "iteration: 149400 loss: 0.0014 lr: 0.02\n",
            "iteration: 149500 loss: 0.0013 lr: 0.02\n",
            "iteration: 149600 loss: 0.0014 lr: 0.02\n",
            "iteration: 149700 loss: 0.0014 lr: 0.02\n",
            "iteration: 149800 loss: 0.0015 lr: 0.02\n",
            "iteration: 149900 loss: 0.0013 lr: 0.02\n",
            "iteration: 150000 loss: 0.0014 lr: 0.02\n",
            "iteration: 150100 loss: 0.0014 lr: 0.02\n",
            "iteration: 150200 loss: 0.0014 lr: 0.02\n",
            "iteration: 150300 loss: 0.0013 lr: 0.02\n",
            "iteration: 150400 loss: 0.0012 lr: 0.02\n",
            "iteration: 150500 loss: 0.0014 lr: 0.02\n",
            "iteration: 150600 loss: 0.0013 lr: 0.02\n",
            "iteration: 150700 loss: 0.0014 lr: 0.02\n",
            "iteration: 150800 loss: 0.0014 lr: 0.02\n",
            "iteration: 150900 loss: 0.0013 lr: 0.02\n",
            "iteration: 151000 loss: 0.0013 lr: 0.02\n",
            "iteration: 151100 loss: 0.0013 lr: 0.02\n",
            "iteration: 151200 loss: 0.0014 lr: 0.02\n",
            "iteration: 151300 loss: 0.0013 lr: 0.02\n",
            "iteration: 151400 loss: 0.0013 lr: 0.02\n",
            "iteration: 151500 loss: 0.0013 lr: 0.02\n",
            "iteration: 151600 loss: 0.0013 lr: 0.02\n",
            "iteration: 151700 loss: 0.0014 lr: 0.02\n",
            "iteration: 151800 loss: 0.0013 lr: 0.02\n",
            "iteration: 151900 loss: 0.0012 lr: 0.02\n",
            "iteration: 152000 loss: 0.0013 lr: 0.02\n",
            "iteration: 152100 loss: 0.0012 lr: 0.02\n",
            "iteration: 152200 loss: 0.0013 lr: 0.02\n",
            "iteration: 152300 loss: 0.0012 lr: 0.02\n",
            "iteration: 152400 loss: 0.0013 lr: 0.02\n",
            "iteration: 152500 loss: 0.0013 lr: 0.02\n",
            "iteration: 152600 loss: 0.0013 lr: 0.02\n",
            "iteration: 152700 loss: 0.0014 lr: 0.02\n",
            "iteration: 152800 loss: 0.0013 lr: 0.02\n",
            "iteration: 152900 loss: 0.0012 lr: 0.02\n",
            "iteration: 153000 loss: 0.0013 lr: 0.02\n",
            "iteration: 153100 loss: 0.0013 lr: 0.02\n",
            "iteration: 153200 loss: 0.0012 lr: 0.02\n",
            "iteration: 153300 loss: 0.0012 lr: 0.02\n",
            "iteration: 153400 loss: 0.0013 lr: 0.02\n",
            "iteration: 153500 loss: 0.0013 lr: 0.02\n",
            "iteration: 153600 loss: 0.0013 lr: 0.02\n",
            "iteration: 153700 loss: 0.0012 lr: 0.02\n",
            "iteration: 153800 loss: 0.0013 lr: 0.02\n",
            "iteration: 153900 loss: 0.0013 lr: 0.02\n",
            "iteration: 154000 loss: 0.0013 lr: 0.02\n",
            "iteration: 154100 loss: 0.0012 lr: 0.02\n",
            "iteration: 154200 loss: 0.0014 lr: 0.02\n",
            "iteration: 154300 loss: 0.0013 lr: 0.02\n",
            "iteration: 154400 loss: 0.0013 lr: 0.02\n",
            "iteration: 154500 loss: 0.0013 lr: 0.02\n",
            "iteration: 154600 loss: 0.0015 lr: 0.02\n",
            "iteration: 154700 loss: 0.0013 lr: 0.02\n",
            "iteration: 154800 loss: 0.0013 lr: 0.02\n",
            "iteration: 154900 loss: 0.0013 lr: 0.02\n",
            "iteration: 155000 loss: 0.0012 lr: 0.02\n",
            "iteration: 155100 loss: 0.0012 lr: 0.02\n",
            "iteration: 155200 loss: 0.0014 lr: 0.02\n",
            "iteration: 155300 loss: 0.0014 lr: 0.02\n",
            "iteration: 155400 loss: 0.0013 lr: 0.02\n",
            "iteration: 155500 loss: 0.0013 lr: 0.02\n",
            "iteration: 155600 loss: 0.0013 lr: 0.02\n",
            "iteration: 155700 loss: 0.0014 lr: 0.02\n",
            "iteration: 155800 loss: 0.0013 lr: 0.02\n",
            "iteration: 155900 loss: 0.0013 lr: 0.02\n",
            "iteration: 156000 loss: 0.0013 lr: 0.02\n",
            "iteration: 156100 loss: 0.0013 lr: 0.02\n",
            "iteration: 156200 loss: 0.0013 lr: 0.02\n",
            "iteration: 156300 loss: 0.0012 lr: 0.02\n",
            "iteration: 156400 loss: 0.0013 lr: 0.02\n",
            "iteration: 156500 loss: 0.0013 lr: 0.02\n",
            "iteration: 156600 loss: 0.0012 lr: 0.02\n",
            "iteration: 156700 loss: 0.0012 lr: 0.02\n",
            "iteration: 156800 loss: 0.0013 lr: 0.02\n",
            "iteration: 156900 loss: 0.0013 lr: 0.02\n",
            "iteration: 157000 loss: 0.0013 lr: 0.02\n",
            "iteration: 157100 loss: 0.0012 lr: 0.02\n",
            "iteration: 157200 loss: 0.0014 lr: 0.02\n",
            "iteration: 157300 loss: 0.0013 lr: 0.02\n",
            "iteration: 157400 loss: 0.0013 lr: 0.02\n",
            "iteration: 157500 loss: 0.0013 lr: 0.02\n",
            "iteration: 157600 loss: 0.0013 lr: 0.02\n",
            "iteration: 157700 loss: 0.0013 lr: 0.02\n",
            "iteration: 157800 loss: 0.0012 lr: 0.02\n",
            "iteration: 157900 loss: 0.0012 lr: 0.02\n",
            "iteration: 158000 loss: 0.0015 lr: 0.02\n",
            "iteration: 158100 loss: 0.0012 lr: 0.02\n",
            "iteration: 158200 loss: 0.0012 lr: 0.02\n",
            "iteration: 158300 loss: 0.0013 lr: 0.02\n",
            "iteration: 158400 loss: 0.0012 lr: 0.02\n",
            "iteration: 158500 loss: 0.0013 lr: 0.02\n",
            "iteration: 158600 loss: 0.0013 lr: 0.02\n",
            "iteration: 158700 loss: 0.0013 lr: 0.02\n",
            "iteration: 158800 loss: 0.0014 lr: 0.02\n",
            "iteration: 158900 loss: 0.0013 lr: 0.02\n",
            "iteration: 159000 loss: 0.0013 lr: 0.02\n",
            "iteration: 159100 loss: 0.0014 lr: 0.02\n",
            "iteration: 159200 loss: 0.0012 lr: 0.02\n",
            "iteration: 159300 loss: 0.0012 lr: 0.02\n",
            "iteration: 159400 loss: 0.0014 lr: 0.02\n",
            "iteration: 159500 loss: 0.0012 lr: 0.02\n",
            "iteration: 159600 loss: 0.0013 lr: 0.02\n",
            "iteration: 159700 loss: 0.0013 lr: 0.02\n",
            "iteration: 159800 loss: 0.0014 lr: 0.02\n",
            "iteration: 159900 loss: 0.0013 lr: 0.02\n",
            "iteration: 160000 loss: 0.0013 lr: 0.02\n",
            "iteration: 160100 loss: 0.0015 lr: 0.02\n",
            "iteration: 160200 loss: 0.0012 lr: 0.02\n",
            "iteration: 160300 loss: 0.0013 lr: 0.02\n",
            "iteration: 160400 loss: 0.0013 lr: 0.02\n",
            "iteration: 160500 loss: 0.0013 lr: 0.02\n",
            "iteration: 160600 loss: 0.0012 lr: 0.02\n",
            "iteration: 160700 loss: 0.0013 lr: 0.02\n",
            "iteration: 160800 loss: 0.0013 lr: 0.02\n",
            "iteration: 160900 loss: 0.0012 lr: 0.02\n",
            "iteration: 161000 loss: 0.0012 lr: 0.02\n",
            "iteration: 161100 loss: 0.0012 lr: 0.02\n",
            "iteration: 161200 loss: 0.0012 lr: 0.02\n",
            "iteration: 161300 loss: 0.0012 lr: 0.02\n",
            "iteration: 161400 loss: 0.0013 lr: 0.02\n",
            "iteration: 161500 loss: 0.0012 lr: 0.02\n",
            "iteration: 161600 loss: 0.0012 lr: 0.02\n",
            "iteration: 161700 loss: 0.0012 lr: 0.02\n",
            "iteration: 161800 loss: 0.0013 lr: 0.02\n",
            "iteration: 161900 loss: 0.0013 lr: 0.02\n",
            "iteration: 162000 loss: 0.0012 lr: 0.02\n",
            "iteration: 162100 loss: 0.0013 lr: 0.02\n",
            "iteration: 162200 loss: 0.0012 lr: 0.02\n",
            "iteration: 162300 loss: 0.0013 lr: 0.02\n",
            "iteration: 162400 loss: 0.0012 lr: 0.02\n",
            "iteration: 162500 loss: 0.0012 lr: 0.02\n",
            "iteration: 162600 loss: 0.0013 lr: 0.02\n",
            "iteration: 162700 loss: 0.0012 lr: 0.02\n",
            "iteration: 162800 loss: 0.0013 lr: 0.02\n",
            "iteration: 162900 loss: 0.0013 lr: 0.02\n",
            "iteration: 163000 loss: 0.0012 lr: 0.02\n",
            "iteration: 163100 loss: 0.0014 lr: 0.02\n",
            "iteration: 163200 loss: 0.0012 lr: 0.02\n",
            "iteration: 163300 loss: 0.0014 lr: 0.02\n",
            "iteration: 163400 loss: 0.0012 lr: 0.02\n",
            "iteration: 163500 loss: 0.0012 lr: 0.02\n",
            "iteration: 163600 loss: 0.0012 lr: 0.02\n",
            "iteration: 163700 loss: 0.0011 lr: 0.02\n",
            "iteration: 163800 loss: 0.0012 lr: 0.02\n",
            "iteration: 163900 loss: 0.0012 lr: 0.02\n",
            "iteration: 164000 loss: 0.0011 lr: 0.02\n",
            "iteration: 164100 loss: 0.0014 lr: 0.02\n",
            "iteration: 164200 loss: 0.0013 lr: 0.02\n",
            "iteration: 164300 loss: 0.0013 lr: 0.02\n",
            "iteration: 164400 loss: 0.0013 lr: 0.02\n",
            "iteration: 164500 loss: 0.0014 lr: 0.02\n",
            "iteration: 164600 loss: 0.0013 lr: 0.02\n",
            "iteration: 164700 loss: 0.0012 lr: 0.02\n",
            "iteration: 164800 loss: 0.0013 lr: 0.02\n",
            "iteration: 164900 loss: 0.0013 lr: 0.02\n",
            "iteration: 165000 loss: 0.0014 lr: 0.02\n",
            "iteration: 165100 loss: 0.0013 lr: 0.02\n",
            "iteration: 165200 loss: 0.0014 lr: 0.02\n",
            "iteration: 165300 loss: 0.0012 lr: 0.02\n",
            "iteration: 165400 loss: 0.0013 lr: 0.02\n",
            "iteration: 165500 loss: 0.0013 lr: 0.02\n",
            "iteration: 165600 loss: 0.0014 lr: 0.02\n",
            "iteration: 165700 loss: 0.0013 lr: 0.02\n",
            "iteration: 165800 loss: 0.0013 lr: 0.02\n",
            "iteration: 165900 loss: 0.0012 lr: 0.02\n",
            "iteration: 166000 loss: 0.0013 lr: 0.02\n",
            "iteration: 166100 loss: 0.0012 lr: 0.02\n",
            "iteration: 166200 loss: 0.0013 lr: 0.02\n",
            "iteration: 166300 loss: 0.0013 lr: 0.02\n",
            "iteration: 166400 loss: 0.0013 lr: 0.02\n",
            "iteration: 166500 loss: 0.0014 lr: 0.02\n",
            "iteration: 166600 loss: 0.0012 lr: 0.02\n",
            "iteration: 166700 loss: 0.0013 lr: 0.02\n",
            "iteration: 166800 loss: 0.0012 lr: 0.02\n",
            "iteration: 166900 loss: 0.0013 lr: 0.02\n",
            "iteration: 167000 loss: 0.0013 lr: 0.02\n",
            "iteration: 167100 loss: 0.0012 lr: 0.02\n",
            "iteration: 167200 loss: 0.0014 lr: 0.02\n",
            "iteration: 167300 loss: 0.0014 lr: 0.02\n",
            "iteration: 167400 loss: 0.0013 lr: 0.02\n",
            "iteration: 167500 loss: 0.0013 lr: 0.02\n",
            "iteration: 167600 loss: 0.0014 lr: 0.02\n",
            "iteration: 167700 loss: 0.0013 lr: 0.02\n",
            "iteration: 167800 loss: 0.0013 lr: 0.02\n",
            "iteration: 167900 loss: 0.0014 lr: 0.02\n",
            "iteration: 168000 loss: 0.0013 lr: 0.02\n",
            "iteration: 168100 loss: 0.0012 lr: 0.02\n",
            "iteration: 168200 loss: 0.0013 lr: 0.02\n",
            "iteration: 168300 loss: 0.0013 lr: 0.02\n",
            "iteration: 168400 loss: 0.0013 lr: 0.02\n",
            "iteration: 168500 loss: 0.0013 lr: 0.02\n",
            "iteration: 168600 loss: 0.0013 lr: 0.02\n",
            "iteration: 168700 loss: 0.0012 lr: 0.02\n",
            "iteration: 168800 loss: 0.0012 lr: 0.02\n",
            "iteration: 168900 loss: 0.0013 lr: 0.02\n",
            "iteration: 169000 loss: 0.0014 lr: 0.02\n",
            "iteration: 169100 loss: 0.0013 lr: 0.02\n",
            "iteration: 169200 loss: 0.0012 lr: 0.02\n",
            "iteration: 169300 loss: 0.0011 lr: 0.02\n",
            "iteration: 169400 loss: 0.0011 lr: 0.02\n",
            "iteration: 169500 loss: 0.0012 lr: 0.02\n",
            "iteration: 169600 loss: 0.0012 lr: 0.02\n",
            "iteration: 169700 loss: 0.0012 lr: 0.02\n",
            "iteration: 169800 loss: 0.0012 lr: 0.02\n",
            "iteration: 169900 loss: 0.0013 lr: 0.02\n",
            "iteration: 170000 loss: 0.0012 lr: 0.02\n",
            "iteration: 170100 loss: 0.0012 lr: 0.02\n",
            "iteration: 170200 loss: 0.0013 lr: 0.02\n",
            "iteration: 170300 loss: 0.0012 lr: 0.02\n",
            "iteration: 170400 loss: 0.0012 lr: 0.02\n",
            "iteration: 170500 loss: 0.0013 lr: 0.02\n",
            "iteration: 170600 loss: 0.0012 lr: 0.02\n",
            "iteration: 170700 loss: 0.0012 lr: 0.02\n",
            "iteration: 170800 loss: 0.0012 lr: 0.02\n",
            "iteration: 170900 loss: 0.0013 lr: 0.02\n",
            "iteration: 171000 loss: 0.0013 lr: 0.02\n",
            "iteration: 171100 loss: 0.0013 lr: 0.02\n",
            "iteration: 171200 loss: 0.0011 lr: 0.02\n",
            "iteration: 171300 loss: 0.0013 lr: 0.02\n",
            "iteration: 171400 loss: 0.0013 lr: 0.02\n",
            "iteration: 171500 loss: 0.0013 lr: 0.02\n",
            "iteration: 171600 loss: 0.0012 lr: 0.02\n",
            "iteration: 171700 loss: 0.0013 lr: 0.02\n",
            "iteration: 171800 loss: 0.0012 lr: 0.02\n",
            "iteration: 171900 loss: 0.0014 lr: 0.02\n",
            "iteration: 172000 loss: 0.0013 lr: 0.02\n",
            "iteration: 172100 loss: 0.0013 lr: 0.02\n",
            "iteration: 172200 loss: 0.0014 lr: 0.02\n",
            "iteration: 172300 loss: 0.0012 lr: 0.02\n",
            "iteration: 172400 loss: 0.0012 lr: 0.02\n",
            "iteration: 172500 loss: 0.0012 lr: 0.02\n",
            "iteration: 172600 loss: 0.0012 lr: 0.02\n",
            "iteration: 172700 loss: 0.0013 lr: 0.02\n",
            "iteration: 172800 loss: 0.0013 lr: 0.02\n",
            "iteration: 172900 loss: 0.0012 lr: 0.02\n",
            "iteration: 173000 loss: 0.0012 lr: 0.02\n",
            "iteration: 173100 loss: 0.0012 lr: 0.02\n",
            "iteration: 173200 loss: 0.0012 lr: 0.02\n",
            "iteration: 173300 loss: 0.0012 lr: 0.02\n",
            "iteration: 173400 loss: 0.0012 lr: 0.02\n",
            "iteration: 173500 loss: 0.0013 lr: 0.02\n",
            "iteration: 173600 loss: 0.0013 lr: 0.02\n",
            "iteration: 173700 loss: 0.0012 lr: 0.02\n",
            "iteration: 173800 loss: 0.0012 lr: 0.02\n",
            "iteration: 173900 loss: 0.0011 lr: 0.02\n",
            "iteration: 174000 loss: 0.0013 lr: 0.02\n",
            "iteration: 174100 loss: 0.0012 lr: 0.02\n",
            "iteration: 174200 loss: 0.0014 lr: 0.02\n",
            "iteration: 174300 loss: 0.0012 lr: 0.02\n",
            "iteration: 174400 loss: 0.0013 lr: 0.02\n",
            "iteration: 174500 loss: 0.0013 lr: 0.02\n",
            "iteration: 174600 loss: 0.0012 lr: 0.02\n",
            "iteration: 174700 loss: 0.0012 lr: 0.02\n",
            "iteration: 174800 loss: 0.0013 lr: 0.02\n",
            "iteration: 174900 loss: 0.0013 lr: 0.02\n",
            "iteration: 175000 loss: 0.0012 lr: 0.02\n",
            "iteration: 175100 loss: 0.0013 lr: 0.02\n",
            "iteration: 175200 loss: 0.0013 lr: 0.02\n",
            "iteration: 175300 loss: 0.0012 lr: 0.02\n",
            "iteration: 175400 loss: 0.0013 lr: 0.02\n",
            "iteration: 175500 loss: 0.0015 lr: 0.02\n",
            "iteration: 175600 loss: 0.0012 lr: 0.02\n",
            "iteration: 175700 loss: 0.0012 lr: 0.02\n",
            "iteration: 175800 loss: 0.0012 lr: 0.02\n",
            "iteration: 175900 loss: 0.0013 lr: 0.02\n",
            "iteration: 176000 loss: 0.0012 lr: 0.02\n",
            "iteration: 176100 loss: 0.0013 lr: 0.02\n",
            "iteration: 176200 loss: 0.0012 lr: 0.02\n",
            "iteration: 176300 loss: 0.0012 lr: 0.02\n",
            "iteration: 176400 loss: 0.0012 lr: 0.02\n",
            "iteration: 176500 loss: 0.0013 lr: 0.02\n",
            "iteration: 176600 loss: 0.0012 lr: 0.02\n",
            "iteration: 176700 loss: 0.0012 lr: 0.02\n",
            "iteration: 176800 loss: 0.0014 lr: 0.02\n",
            "iteration: 176900 loss: 0.0012 lr: 0.02\n",
            "iteration: 177000 loss: 0.0013 lr: 0.02\n",
            "iteration: 177100 loss: 0.0013 lr: 0.02\n",
            "iteration: 177200 loss: 0.0013 lr: 0.02\n",
            "iteration: 177300 loss: 0.0013 lr: 0.02\n",
            "iteration: 177400 loss: 0.0012 lr: 0.02\n",
            "iteration: 177500 loss: 0.0014 lr: 0.02\n",
            "iteration: 177600 loss: 0.0013 lr: 0.02\n",
            "iteration: 177700 loss: 0.0013 lr: 0.02\n",
            "iteration: 177800 loss: 0.0013 lr: 0.02\n",
            "iteration: 177900 loss: 0.0014 lr: 0.02\n",
            "iteration: 178000 loss: 0.0013 lr: 0.02\n",
            "iteration: 178100 loss: 0.0012 lr: 0.02\n",
            "iteration: 178200 loss: 0.0013 lr: 0.02\n",
            "iteration: 178300 loss: 0.0013 lr: 0.02\n",
            "iteration: 178400 loss: 0.0013 lr: 0.02\n",
            "iteration: 178500 loss: 0.0013 lr: 0.02\n",
            "iteration: 178600 loss: 0.0013 lr: 0.02\n",
            "iteration: 178700 loss: 0.0012 lr: 0.02\n",
            "iteration: 178800 loss: 0.0011 lr: 0.02\n",
            "iteration: 178900 loss: 0.0014 lr: 0.02\n",
            "iteration: 179000 loss: 0.0013 lr: 0.02\n",
            "iteration: 179100 loss: 0.0013 lr: 0.02\n",
            "iteration: 179200 loss: 0.0013 lr: 0.02\n",
            "iteration: 179300 loss: 0.0014 lr: 0.02\n",
            "iteration: 179400 loss: 0.0013 lr: 0.02\n",
            "iteration: 179500 loss: 0.0012 lr: 0.02\n",
            "iteration: 179600 loss: 0.0013 lr: 0.02\n",
            "iteration: 179700 loss: 0.0013 lr: 0.02\n",
            "iteration: 179800 loss: 0.0013 lr: 0.02\n",
            "iteration: 179900 loss: 0.0012 lr: 0.02\n",
            "iteration: 180000 loss: 0.0012 lr: 0.02\n",
            "iteration: 180100 loss: 0.0012 lr: 0.02\n",
            "iteration: 180200 loss: 0.0012 lr: 0.02\n",
            "iteration: 180300 loss: 0.0012 lr: 0.02\n",
            "iteration: 180400 loss: 0.0013 lr: 0.02\n",
            "iteration: 180500 loss: 0.0014 lr: 0.02\n",
            "iteration: 180600 loss: 0.0012 lr: 0.02\n",
            "iteration: 180700 loss: 0.0013 lr: 0.02\n",
            "iteration: 180800 loss: 0.0014 lr: 0.02\n",
            "iteration: 180900 loss: 0.0013 lr: 0.02\n",
            "iteration: 181000 loss: 0.0011 lr: 0.02\n",
            "iteration: 181100 loss: 0.0013 lr: 0.02\n",
            "iteration: 181200 loss: 0.0013 lr: 0.02\n",
            "iteration: 181300 loss: 0.0012 lr: 0.02\n",
            "iteration: 181400 loss: 0.0012 lr: 0.02\n",
            "iteration: 181500 loss: 0.0013 lr: 0.02\n",
            "iteration: 181600 loss: 0.0013 lr: 0.02\n",
            "iteration: 181700 loss: 0.0014 lr: 0.02\n",
            "iteration: 181800 loss: 0.0013 lr: 0.02\n",
            "iteration: 181900 loss: 0.0014 lr: 0.02\n",
            "iteration: 182000 loss: 0.0014 lr: 0.02\n",
            "iteration: 182100 loss: 0.0013 lr: 0.02\n",
            "iteration: 182200 loss: 0.0013 lr: 0.02\n",
            "iteration: 182300 loss: 0.0013 lr: 0.02\n",
            "iteration: 182400 loss: 0.0012 lr: 0.02\n",
            "iteration: 182500 loss: 0.0013 lr: 0.02\n",
            "iteration: 182600 loss: 0.0014 lr: 0.02\n",
            "iteration: 182700 loss: 0.0012 lr: 0.02\n",
            "iteration: 182800 loss: 0.0013 lr: 0.02\n",
            "iteration: 182900 loss: 0.0012 lr: 0.02\n",
            "iteration: 183000 loss: 0.0011 lr: 0.02\n",
            "iteration: 183100 loss: 0.0012 lr: 0.02\n",
            "iteration: 183200 loss: 0.0013 lr: 0.02\n",
            "iteration: 183300 loss: 0.0013 lr: 0.02\n",
            "iteration: 183400 loss: 0.0012 lr: 0.02\n",
            "iteration: 183500 loss: 0.0013 lr: 0.02\n",
            "iteration: 183600 loss: 0.0013 lr: 0.02\n",
            "iteration: 183700 loss: 0.0013 lr: 0.02\n",
            "iteration: 183800 loss: 0.0014 lr: 0.02\n",
            "iteration: 183900 loss: 0.0013 lr: 0.02\n",
            "iteration: 184000 loss: 0.0013 lr: 0.02\n",
            "iteration: 184100 loss: 0.0013 lr: 0.02\n",
            "iteration: 184200 loss: 0.0013 lr: 0.02\n",
            "iteration: 184300 loss: 0.0013 lr: 0.02\n",
            "iteration: 184400 loss: 0.0012 lr: 0.02\n",
            "iteration: 184500 loss: 0.0012 lr: 0.02\n",
            "iteration: 184600 loss: 0.0013 lr: 0.02\n",
            "iteration: 184700 loss: 0.0012 lr: 0.02\n",
            "iteration: 184800 loss: 0.0012 lr: 0.02\n",
            "iteration: 184900 loss: 0.0014 lr: 0.02\n",
            "iteration: 185000 loss: 0.0011 lr: 0.02\n",
            "iteration: 185100 loss: 0.0012 lr: 0.02\n",
            "iteration: 185200 loss: 0.0013 lr: 0.02\n",
            "iteration: 185300 loss: 0.0014 lr: 0.02\n",
            "iteration: 185400 loss: 0.0013 lr: 0.02\n",
            "iteration: 185500 loss: 0.0013 lr: 0.02\n",
            "iteration: 185600 loss: 0.0014 lr: 0.02\n",
            "iteration: 185700 loss: 0.0011 lr: 0.02\n",
            "iteration: 185800 loss: 0.0013 lr: 0.02\n",
            "iteration: 185900 loss: 0.0013 lr: 0.02\n",
            "iteration: 186000 loss: 0.0013 lr: 0.02\n",
            "iteration: 186100 loss: 0.0014 lr: 0.02\n",
            "iteration: 186200 loss: 0.0011 lr: 0.02\n",
            "iteration: 186300 loss: 0.0013 lr: 0.02\n",
            "iteration: 186400 loss: 0.0012 lr: 0.02\n",
            "iteration: 186500 loss: 0.0013 lr: 0.02\n",
            "iteration: 186600 loss: 0.0012 lr: 0.02\n",
            "iteration: 186700 loss: 0.0013 lr: 0.02\n",
            "iteration: 186800 loss: 0.0011 lr: 0.02\n",
            "iteration: 186900 loss: 0.0013 lr: 0.02\n",
            "iteration: 187000 loss: 0.0012 lr: 0.02\n",
            "iteration: 187100 loss: 0.0012 lr: 0.02\n",
            "iteration: 187200 loss: 0.0012 lr: 0.02\n",
            "iteration: 187300 loss: 0.0012 lr: 0.02\n",
            "iteration: 187400 loss: 0.0014 lr: 0.02\n",
            "iteration: 187500 loss: 0.0012 lr: 0.02\n",
            "iteration: 187600 loss: 0.0012 lr: 0.02\n",
            "iteration: 187700 loss: 0.0012 lr: 0.02\n",
            "iteration: 187800 loss: 0.0012 lr: 0.02\n",
            "iteration: 187900 loss: 0.0012 lr: 0.02\n",
            "iteration: 188000 loss: 0.0012 lr: 0.02\n",
            "iteration: 188100 loss: 0.0013 lr: 0.02\n",
            "iteration: 188200 loss: 0.0013 lr: 0.02\n",
            "iteration: 188300 loss: 0.0013 lr: 0.02\n",
            "iteration: 188400 loss: 0.0012 lr: 0.02\n",
            "iteration: 188500 loss: 0.0013 lr: 0.02\n",
            "iteration: 188600 loss: 0.0013 lr: 0.02\n",
            "iteration: 188700 loss: 0.0012 lr: 0.02\n",
            "iteration: 188800 loss: 0.0013 lr: 0.02\n",
            "iteration: 188900 loss: 0.0012 lr: 0.02\n",
            "iteration: 189000 loss: 0.0013 lr: 0.02\n",
            "iteration: 189100 loss: 0.0013 lr: 0.02\n",
            "iteration: 189200 loss: 0.0012 lr: 0.02\n",
            "iteration: 189300 loss: 0.0012 lr: 0.02\n",
            "iteration: 189400 loss: 0.0012 lr: 0.02\n",
            "iteration: 189500 loss: 0.0012 lr: 0.02\n",
            "iteration: 189600 loss: 0.0012 lr: 0.02\n",
            "iteration: 189700 loss: 0.0012 lr: 0.02\n",
            "iteration: 189800 loss: 0.0013 lr: 0.02\n",
            "iteration: 189900 loss: 0.0012 lr: 0.02\n",
            "iteration: 190000 loss: 0.0013 lr: 0.02\n",
            "iteration: 190100 loss: 0.0012 lr: 0.02\n",
            "iteration: 190200 loss: 0.0012 lr: 0.02\n",
            "iteration: 190300 loss: 0.0011 lr: 0.02\n",
            "iteration: 190400 loss: 0.0012 lr: 0.02\n",
            "iteration: 190500 loss: 0.0012 lr: 0.02\n",
            "iteration: 190600 loss: 0.0012 lr: 0.02\n",
            "iteration: 190700 loss: 0.0012 lr: 0.02\n",
            "iteration: 190800 loss: 0.0013 lr: 0.02\n",
            "iteration: 190900 loss: 0.0013 lr: 0.02\n",
            "iteration: 191000 loss: 0.0011 lr: 0.02\n",
            "iteration: 191100 loss: 0.0013 lr: 0.02\n",
            "iteration: 191200 loss: 0.0013 lr: 0.02\n",
            "iteration: 191300 loss: 0.0013 lr: 0.02\n",
            "iteration: 191400 loss: 0.0012 lr: 0.02\n",
            "iteration: 191500 loss: 0.0012 lr: 0.02\n",
            "iteration: 191600 loss: 0.0013 lr: 0.02\n",
            "iteration: 191700 loss: 0.0012 lr: 0.02\n",
            "iteration: 191800 loss: 0.0012 lr: 0.02\n",
            "iteration: 191900 loss: 0.0012 lr: 0.02\n",
            "iteration: 192000 loss: 0.0013 lr: 0.02\n",
            "iteration: 192100 loss: 0.0012 lr: 0.02\n",
            "iteration: 192200 loss: 0.0012 lr: 0.02\n",
            "iteration: 192300 loss: 0.0012 lr: 0.02\n",
            "iteration: 192400 loss: 0.0013 lr: 0.02\n",
            "iteration: 192500 loss: 0.0013 lr: 0.02\n",
            "iteration: 192600 loss: 0.0011 lr: 0.02\n",
            "iteration: 192700 loss: 0.0013 lr: 0.02\n",
            "iteration: 192800 loss: 0.0011 lr: 0.02\n",
            "iteration: 192900 loss: 0.0013 lr: 0.02\n",
            "iteration: 193000 loss: 0.0012 lr: 0.02\n",
            "iteration: 193100 loss: 0.0013 lr: 0.02\n",
            "iteration: 193200 loss: 0.0014 lr: 0.02\n",
            "iteration: 193300 loss: 0.0013 lr: 0.02\n",
            "iteration: 193400 loss: 0.0013 lr: 0.02\n",
            "iteration: 193500 loss: 0.0013 lr: 0.02\n",
            "iteration: 193600 loss: 0.0012 lr: 0.02\n",
            "iteration: 193700 loss: 0.0013 lr: 0.02\n",
            "iteration: 193800 loss: 0.0012 lr: 0.02\n",
            "iteration: 193900 loss: 0.0013 lr: 0.02\n",
            "iteration: 194000 loss: 0.0012 lr: 0.02\n",
            "iteration: 194100 loss: 0.0012 lr: 0.02\n",
            "iteration: 194200 loss: 0.0012 lr: 0.02\n",
            "iteration: 194300 loss: 0.0013 lr: 0.02\n",
            "iteration: 194400 loss: 0.0013 lr: 0.02\n",
            "iteration: 194500 loss: 0.0012 lr: 0.02\n",
            "iteration: 194600 loss: 0.0013 lr: 0.02\n",
            "iteration: 194700 loss: 0.0012 lr: 0.02\n",
            "iteration: 194800 loss: 0.0012 lr: 0.02\n",
            "iteration: 194900 loss: 0.0011 lr: 0.02\n",
            "iteration: 195000 loss: 0.0012 lr: 0.02\n",
            "iteration: 195100 loss: 0.0012 lr: 0.02\n",
            "iteration: 195200 loss: 0.0013 lr: 0.02\n",
            "iteration: 195300 loss: 0.0012 lr: 0.02\n",
            "iteration: 195400 loss: 0.0014 lr: 0.02\n",
            "iteration: 195500 loss: 0.0012 lr: 0.02\n",
            "iteration: 195600 loss: 0.0013 lr: 0.02\n",
            "iteration: 195700 loss: 0.0013 lr: 0.02\n",
            "iteration: 195800 loss: 0.0012 lr: 0.02\n",
            "iteration: 195900 loss: 0.0013 lr: 0.02\n",
            "iteration: 196000 loss: 0.0013 lr: 0.02\n",
            "iteration: 196100 loss: 0.0013 lr: 0.02\n",
            "iteration: 196200 loss: 0.0013 lr: 0.02\n",
            "iteration: 196300 loss: 0.0013 lr: 0.02\n",
            "iteration: 196400 loss: 0.0012 lr: 0.02\n",
            "iteration: 196500 loss: 0.0013 lr: 0.02\n",
            "iteration: 196600 loss: 0.0012 lr: 0.02\n",
            "iteration: 196700 loss: 0.0012 lr: 0.02\n",
            "iteration: 196800 loss: 0.0013 lr: 0.02\n",
            "iteration: 196900 loss: 0.0012 lr: 0.02\n",
            "iteration: 197000 loss: 0.0013 lr: 0.02\n",
            "iteration: 197100 loss: 0.0011 lr: 0.02\n",
            "iteration: 197200 loss: 0.0013 lr: 0.02\n",
            "iteration: 197300 loss: 0.0012 lr: 0.02\n",
            "iteration: 197400 loss: 0.0012 lr: 0.02\n",
            "iteration: 197500 loss: 0.0012 lr: 0.02\n",
            "iteration: 197600 loss: 0.0014 lr: 0.02\n",
            "iteration: 197700 loss: 0.0013 lr: 0.02\n",
            "iteration: 197800 loss: 0.0013 lr: 0.02\n",
            "iteration: 197900 loss: 0.0012 lr: 0.02\n",
            "iteration: 198000 loss: 0.0013 lr: 0.02\n",
            "iteration: 198100 loss: 0.0011 lr: 0.02\n",
            "iteration: 198200 loss: 0.0012 lr: 0.02\n",
            "iteration: 198300 loss: 0.0012 lr: 0.02\n",
            "iteration: 198400 loss: 0.0011 lr: 0.02\n",
            "iteration: 198500 loss: 0.0013 lr: 0.02\n",
            "iteration: 198600 loss: 0.0012 lr: 0.02\n",
            "iteration: 198700 loss: 0.0012 lr: 0.02\n",
            "iteration: 198800 loss: 0.0013 lr: 0.02\n",
            "iteration: 198900 loss: 0.0013 lr: 0.02\n",
            "iteration: 199000 loss: 0.0011 lr: 0.02\n",
            "iteration: 199100 loss: 0.0013 lr: 0.02\n",
            "iteration: 199200 loss: 0.0012 lr: 0.02\n",
            "iteration: 199300 loss: 0.0012 lr: 0.02\n",
            "iteration: 199400 loss: 0.0011 lr: 0.02\n",
            "iteration: 199500 loss: 0.0013 lr: 0.02\n",
            "iteration: 199600 loss: 0.0012 lr: 0.02\n",
            "iteration: 199700 loss: 0.0011 lr: 0.02\n",
            "iteration: 199800 loss: 0.0012 lr: 0.02\n",
            "iteration: 199900 loss: 0.0012 lr: 0.02\n",
            "iteration: 200000 loss: 0.0013 lr: 0.02\n",
            "iteration: 200100 loss: 0.0012 lr: 0.02\n",
            "iteration: 200200 loss: 0.0012 lr: 0.02\n",
            "iteration: 200300 loss: 0.0012 lr: 0.02\n",
            "iteration: 200400 loss: 0.0013 lr: 0.02\n",
            "iteration: 200500 loss: 0.0014 lr: 0.02\n",
            "iteration: 200600 loss: 0.0012 lr: 0.02\n",
            "iteration: 200700 loss: 0.0013 lr: 0.02\n",
            "iteration: 200800 loss: 0.0012 lr: 0.02\n",
            "iteration: 200900 loss: 0.0013 lr: 0.02\n",
            "iteration: 201000 loss: 0.0012 lr: 0.02\n",
            "iteration: 201100 loss: 0.0014 lr: 0.02\n",
            "iteration: 201200 loss: 0.0013 lr: 0.02\n",
            "iteration: 201300 loss: 0.0012 lr: 0.02\n",
            "iteration: 201400 loss: 0.0012 lr: 0.02\n",
            "iteration: 201500 loss: 0.0012 lr: 0.02\n",
            "iteration: 201600 loss: 0.0013 lr: 0.02\n",
            "iteration: 201700 loss: 0.0013 lr: 0.02\n",
            "iteration: 201800 loss: 0.0011 lr: 0.02\n",
            "iteration: 201900 loss: 0.0013 lr: 0.02\n",
            "iteration: 202000 loss: 0.0014 lr: 0.02\n",
            "iteration: 202100 loss: 0.0012 lr: 0.02\n",
            "iteration: 202200 loss: 0.0012 lr: 0.02\n",
            "iteration: 202300 loss: 0.0012 lr: 0.02\n",
            "iteration: 202400 loss: 0.0012 lr: 0.02\n",
            "iteration: 202500 loss: 0.0012 lr: 0.02\n",
            "iteration: 202600 loss: 0.0012 lr: 0.02\n",
            "iteration: 202700 loss: 0.0012 lr: 0.02\n",
            "iteration: 202800 loss: 0.0013 lr: 0.02\n",
            "iteration: 202900 loss: 0.0011 lr: 0.02\n",
            "iteration: 203000 loss: 0.0011 lr: 0.02\n",
            "iteration: 203100 loss: 0.0011 lr: 0.02\n",
            "iteration: 203200 loss: 0.0012 lr: 0.02\n",
            "iteration: 203300 loss: 0.0013 lr: 0.02\n",
            "iteration: 203400 loss: 0.0013 lr: 0.02\n",
            "iteration: 203500 loss: 0.0012 lr: 0.02\n",
            "iteration: 203600 loss: 0.0011 lr: 0.02\n",
            "iteration: 203700 loss: 0.0011 lr: 0.02\n",
            "iteration: 203800 loss: 0.0012 lr: 0.02\n",
            "iteration: 203900 loss: 0.0012 lr: 0.02\n",
            "iteration: 204000 loss: 0.0012 lr: 0.02\n",
            "iteration: 204100 loss: 0.0011 lr: 0.02\n",
            "iteration: 204200 loss: 0.0012 lr: 0.02\n",
            "iteration: 204300 loss: 0.0013 lr: 0.02\n",
            "iteration: 204400 loss: 0.0012 lr: 0.02\n",
            "iteration: 204500 loss: 0.0012 lr: 0.02\n",
            "iteration: 204600 loss: 0.0012 lr: 0.02\n",
            "iteration: 204700 loss: 0.0012 lr: 0.02\n",
            "iteration: 204800 loss: 0.0013 lr: 0.02\n",
            "iteration: 204900 loss: 0.0011 lr: 0.02\n",
            "iteration: 205000 loss: 0.0013 lr: 0.02\n",
            "iteration: 205100 loss: 0.0012 lr: 0.02\n",
            "iteration: 205200 loss: 0.0012 lr: 0.02\n",
            "iteration: 205300 loss: 0.0012 lr: 0.02\n",
            "iteration: 205400 loss: 0.0011 lr: 0.02\n",
            "iteration: 205500 loss: 0.0013 lr: 0.02\n",
            "iteration: 205600 loss: 0.0013 lr: 0.02\n",
            "iteration: 205700 loss: 0.0012 lr: 0.02\n",
            "iteration: 205800 loss: 0.0013 lr: 0.02\n",
            "iteration: 205900 loss: 0.0012 lr: 0.02\n",
            "iteration: 206000 loss: 0.0013 lr: 0.02\n",
            "iteration: 206100 loss: 0.0013 lr: 0.02\n",
            "iteration: 206200 loss: 0.0012 lr: 0.02\n",
            "iteration: 206300 loss: 0.0012 lr: 0.02\n",
            "iteration: 206400 loss: 0.0012 lr: 0.02\n",
            "iteration: 206500 loss: 0.0012 lr: 0.02\n",
            "iteration: 206600 loss: 0.0012 lr: 0.02\n",
            "iteration: 206700 loss: 0.0011 lr: 0.02\n",
            "iteration: 206800 loss: 0.0014 lr: 0.02\n",
            "iteration: 206900 loss: 0.0011 lr: 0.02\n",
            "iteration: 207000 loss: 0.0014 lr: 0.02\n",
            "iteration: 207100 loss: 0.0011 lr: 0.02\n",
            "iteration: 207200 loss: 0.0012 lr: 0.02\n",
            "iteration: 207300 loss: 0.0013 lr: 0.02\n",
            "iteration: 207400 loss: 0.0013 lr: 0.02\n",
            "iteration: 207500 loss: 0.0011 lr: 0.02\n",
            "iteration: 207600 loss: 0.0012 lr: 0.02\n",
            "iteration: 207700 loss: 0.0013 lr: 0.02\n",
            "iteration: 207800 loss: 0.0012 lr: 0.02\n",
            "iteration: 207900 loss: 0.0013 lr: 0.02\n",
            "iteration: 208000 loss: 0.0012 lr: 0.02\n",
            "iteration: 208100 loss: 0.0013 lr: 0.02\n",
            "iteration: 208200 loss: 0.0013 lr: 0.02\n",
            "iteration: 208300 loss: 0.0011 lr: 0.02\n",
            "iteration: 208400 loss: 0.0011 lr: 0.02\n",
            "iteration: 208500 loss: 0.0013 lr: 0.02\n",
            "iteration: 208600 loss: 0.0012 lr: 0.02\n",
            "iteration: 208700 loss: 0.0012 lr: 0.02\n",
            "iteration: 208800 loss: 0.0012 lr: 0.02\n",
            "iteration: 208900 loss: 0.0012 lr: 0.02\n",
            "iteration: 209000 loss: 0.0011 lr: 0.02\n",
            "iteration: 209100 loss: 0.0012 lr: 0.02\n",
            "iteration: 209200 loss: 0.0012 lr: 0.02\n",
            "iteration: 209300 loss: 0.0012 lr: 0.02\n",
            "iteration: 209400 loss: 0.0012 lr: 0.02\n",
            "iteration: 209500 loss: 0.0012 lr: 0.02\n",
            "iteration: 209600 loss: 0.0013 lr: 0.02\n",
            "iteration: 209700 loss: 0.0012 lr: 0.02\n",
            "iteration: 209800 loss: 0.0011 lr: 0.02\n",
            "iteration: 209900 loss: 0.0011 lr: 0.02\n",
            "iteration: 210000 loss: 0.0012 lr: 0.02\n",
            "iteration: 210100 loss: 0.0013 lr: 0.02\n",
            "iteration: 210200 loss: 0.0012 lr: 0.02\n",
            "iteration: 210300 loss: 0.0011 lr: 0.02\n",
            "iteration: 210400 loss: 0.0011 lr: 0.02\n",
            "iteration: 210500 loss: 0.0013 lr: 0.02\n",
            "iteration: 210600 loss: 0.0012 lr: 0.02\n",
            "iteration: 210700 loss: 0.0012 lr: 0.02\n",
            "iteration: 210800 loss: 0.0012 lr: 0.02\n",
            "iteration: 210900 loss: 0.0012 lr: 0.02\n",
            "iteration: 211000 loss: 0.0012 lr: 0.02\n",
            "iteration: 211100 loss: 0.0012 lr: 0.02\n",
            "iteration: 211200 loss: 0.0013 lr: 0.02\n",
            "iteration: 211300 loss: 0.0011 lr: 0.02\n",
            "iteration: 211400 loss: 0.0012 lr: 0.02\n",
            "iteration: 211500 loss: 0.0012 lr: 0.02\n",
            "iteration: 211600 loss: 0.0014 lr: 0.02\n",
            "iteration: 211700 loss: 0.0012 lr: 0.02\n",
            "iteration: 211800 loss: 0.0012 lr: 0.02\n",
            "iteration: 211900 loss: 0.0012 lr: 0.02\n",
            "iteration: 212000 loss: 0.0011 lr: 0.02\n",
            "iteration: 212100 loss: 0.0012 lr: 0.02\n",
            "iteration: 212200 loss: 0.0012 lr: 0.02\n",
            "iteration: 212300 loss: 0.0012 lr: 0.02\n",
            "iteration: 212400 loss: 0.0013 lr: 0.02\n",
            "iteration: 212500 loss: 0.0014 lr: 0.02\n",
            "iteration: 212600 loss: 0.0012 lr: 0.02\n",
            "iteration: 212700 loss: 0.0012 lr: 0.02\n",
            "iteration: 212800 loss: 0.0012 lr: 0.02\n",
            "iteration: 212900 loss: 0.0013 lr: 0.02\n",
            "iteration: 213000 loss: 0.0011 lr: 0.02\n",
            "iteration: 213100 loss: 0.0011 lr: 0.02\n",
            "iteration: 213200 loss: 0.0012 lr: 0.02\n",
            "iteration: 213300 loss: 0.0013 lr: 0.02\n",
            "iteration: 213400 loss: 0.0011 lr: 0.02\n",
            "iteration: 213500 loss: 0.0011 lr: 0.02\n",
            "iteration: 213600 loss: 0.0012 lr: 0.02\n",
            "iteration: 213700 loss: 0.0011 lr: 0.02\n",
            "iteration: 213800 loss: 0.0012 lr: 0.02\n",
            "iteration: 213900 loss: 0.0012 lr: 0.02\n",
            "iteration: 214000 loss: 0.0013 lr: 0.02\n",
            "iteration: 214100 loss: 0.0012 lr: 0.02\n",
            "iteration: 214200 loss: 0.0012 lr: 0.02\n",
            "iteration: 214300 loss: 0.0012 lr: 0.02\n",
            "iteration: 214400 loss: 0.0012 lr: 0.02\n",
            "iteration: 214500 loss: 0.0012 lr: 0.02\n",
            "iteration: 214600 loss: 0.0013 lr: 0.02\n",
            "iteration: 214700 loss: 0.0011 lr: 0.02\n",
            "iteration: 214800 loss: 0.0012 lr: 0.02\n",
            "iteration: 214900 loss: 0.0012 lr: 0.02\n",
            "iteration: 215000 loss: 0.0011 lr: 0.02\n",
            "iteration: 215100 loss: 0.0012 lr: 0.02\n",
            "iteration: 215200 loss: 0.0013 lr: 0.02\n",
            "iteration: 215300 loss: 0.0012 lr: 0.02\n",
            "iteration: 215400 loss: 0.0012 lr: 0.02\n",
            "iteration: 215500 loss: 0.0013 lr: 0.02\n",
            "iteration: 215600 loss: 0.0011 lr: 0.02\n",
            "iteration: 215700 loss: 0.0013 lr: 0.02\n",
            "iteration: 215800 loss: 0.0013 lr: 0.02\n",
            "iteration: 215900 loss: 0.0011 lr: 0.02\n",
            "iteration: 216000 loss: 0.0013 lr: 0.02\n",
            "iteration: 216100 loss: 0.0012 lr: 0.02\n",
            "iteration: 216200 loss: 0.0012 lr: 0.02\n",
            "iteration: 216300 loss: 0.0012 lr: 0.02\n",
            "iteration: 216400 loss: 0.0012 lr: 0.02\n",
            "iteration: 216500 loss: 0.0012 lr: 0.02\n",
            "iteration: 216600 loss: 0.0013 lr: 0.02\n",
            "iteration: 216700 loss: 0.0012 lr: 0.02\n",
            "iteration: 216800 loss: 0.0012 lr: 0.02\n",
            "iteration: 216900 loss: 0.0011 lr: 0.02\n",
            "iteration: 217000 loss: 0.0012 lr: 0.02\n",
            "iteration: 217100 loss: 0.0012 lr: 0.02\n",
            "iteration: 217200 loss: 0.0012 lr: 0.02\n",
            "iteration: 217300 loss: 0.0011 lr: 0.02\n",
            "iteration: 217400 loss: 0.0011 lr: 0.02\n",
            "iteration: 217500 loss: 0.0013 lr: 0.02\n",
            "iteration: 217600 loss: 0.0012 lr: 0.02\n",
            "iteration: 217700 loss: 0.0012 lr: 0.02\n",
            "iteration: 217800 loss: 0.0012 lr: 0.02\n",
            "iteration: 217900 loss: 0.0012 lr: 0.02\n",
            "iteration: 218000 loss: 0.0012 lr: 0.02\n",
            "iteration: 218100 loss: 0.0012 lr: 0.02\n",
            "iteration: 218200 loss: 0.0012 lr: 0.02\n",
            "iteration: 218300 loss: 0.0011 lr: 0.02\n",
            "iteration: 218400 loss: 0.0013 lr: 0.02\n",
            "iteration: 218500 loss: 0.0013 lr: 0.02\n",
            "iteration: 218600 loss: 0.0012 lr: 0.02\n",
            "iteration: 218700 loss: 0.0011 lr: 0.02\n",
            "iteration: 218800 loss: 0.0013 lr: 0.02\n",
            "iteration: 218900 loss: 0.0012 lr: 0.02\n",
            "iteration: 219000 loss: 0.0013 lr: 0.02\n",
            "iteration: 219100 loss: 0.0011 lr: 0.02\n",
            "iteration: 219200 loss: 0.0011 lr: 0.02\n",
            "iteration: 219300 loss: 0.0012 lr: 0.02\n",
            "iteration: 219400 loss: 0.0012 lr: 0.02\n",
            "iteration: 219500 loss: 0.0012 lr: 0.02\n",
            "iteration: 219600 loss: 0.0011 lr: 0.02\n",
            "iteration: 219700 loss: 0.0012 lr: 0.02\n",
            "iteration: 219800 loss: 0.0012 lr: 0.02\n",
            "iteration: 219900 loss: 0.0012 lr: 0.02\n",
            "iteration: 220000 loss: 0.0012 lr: 0.02\n",
            "iteration: 220100 loss: 0.0012 lr: 0.02\n",
            "iteration: 220200 loss: 0.0012 lr: 0.02\n",
            "iteration: 220300 loss: 0.0014 lr: 0.02\n",
            "iteration: 220400 loss: 0.0013 lr: 0.02\n",
            "iteration: 220500 loss: 0.0013 lr: 0.02\n",
            "iteration: 220600 loss: 0.0012 lr: 0.02\n",
            "iteration: 220700 loss: 0.0011 lr: 0.02\n",
            "iteration: 220800 loss: 0.0012 lr: 0.02\n",
            "iteration: 220900 loss: 0.0012 lr: 0.02\n",
            "iteration: 221000 loss: 0.0012 lr: 0.02\n",
            "iteration: 221100 loss: 0.0012 lr: 0.02\n",
            "iteration: 221200 loss: 0.0012 lr: 0.02\n",
            "iteration: 221300 loss: 0.0013 lr: 0.02\n",
            "iteration: 221400 loss: 0.0012 lr: 0.02\n",
            "iteration: 221500 loss: 0.0012 lr: 0.02\n",
            "iteration: 221600 loss: 0.0012 lr: 0.02\n",
            "iteration: 221700 loss: 0.0011 lr: 0.02\n",
            "iteration: 221800 loss: 0.0011 lr: 0.02\n",
            "iteration: 221900 loss: 0.0012 lr: 0.02\n",
            "iteration: 222000 loss: 0.0012 lr: 0.02\n",
            "iteration: 222100 loss: 0.0012 lr: 0.02\n",
            "iteration: 222200 loss: 0.0012 lr: 0.02\n",
            "iteration: 222300 loss: 0.0013 lr: 0.02\n",
            "iteration: 222400 loss: 0.0012 lr: 0.02\n",
            "iteration: 222500 loss: 0.0012 lr: 0.02\n",
            "iteration: 222600 loss: 0.0013 lr: 0.02\n",
            "iteration: 222700 loss: 0.0012 lr: 0.02\n",
            "iteration: 222800 loss: 0.0012 lr: 0.02\n",
            "iteration: 222900 loss: 0.0013 lr: 0.02\n",
            "iteration: 223000 loss: 0.0013 lr: 0.02\n",
            "iteration: 223100 loss: 0.0013 lr: 0.02\n",
            "iteration: 223200 loss: 0.0012 lr: 0.02\n",
            "iteration: 223300 loss: 0.0013 lr: 0.02\n",
            "iteration: 223400 loss: 0.0012 lr: 0.02\n",
            "iteration: 223500 loss: 0.0012 lr: 0.02\n",
            "iteration: 223600 loss: 0.0012 lr: 0.02\n",
            "iteration: 223700 loss: 0.0011 lr: 0.02\n",
            "iteration: 223800 loss: 0.0012 lr: 0.02\n",
            "iteration: 223900 loss: 0.0013 lr: 0.02\n",
            "iteration: 224000 loss: 0.0012 lr: 0.02\n",
            "iteration: 224100 loss: 0.0012 lr: 0.02\n",
            "iteration: 224200 loss: 0.0011 lr: 0.02\n",
            "iteration: 224300 loss: 0.0012 lr: 0.02\n",
            "iteration: 224400 loss: 0.0012 lr: 0.02\n",
            "iteration: 224500 loss: 0.0012 lr: 0.02\n",
            "iteration: 224600 loss: 0.0012 lr: 0.02\n",
            "iteration: 224700 loss: 0.0013 lr: 0.02\n",
            "iteration: 224800 loss: 0.0013 lr: 0.02\n",
            "iteration: 224900 loss: 0.0012 lr: 0.02\n",
            "iteration: 225000 loss: 0.0012 lr: 0.02\n",
            "iteration: 225100 loss: 0.0013 lr: 0.02\n",
            "iteration: 225200 loss: 0.0013 lr: 0.02\n",
            "iteration: 225300 loss: 0.0011 lr: 0.02\n",
            "iteration: 225400 loss: 0.0011 lr: 0.02\n",
            "iteration: 225500 loss: 0.0012 lr: 0.02\n",
            "iteration: 225600 loss: 0.0012 lr: 0.02\n",
            "iteration: 225700 loss: 0.0012 lr: 0.02\n",
            "iteration: 225800 loss: 0.0011 lr: 0.02\n",
            "iteration: 225900 loss: 0.0012 lr: 0.02\n",
            "iteration: 226000 loss: 0.0012 lr: 0.02\n",
            "iteration: 226100 loss: 0.0011 lr: 0.02\n",
            "iteration: 226200 loss: 0.0011 lr: 0.02\n",
            "iteration: 226300 loss: 0.0013 lr: 0.02\n",
            "iteration: 226400 loss: 0.0012 lr: 0.02\n",
            "iteration: 226500 loss: 0.0012 lr: 0.02\n",
            "iteration: 226600 loss: 0.0012 lr: 0.02\n",
            "iteration: 226700 loss: 0.0012 lr: 0.02\n",
            "iteration: 226800 loss: 0.0013 lr: 0.02\n",
            "iteration: 226900 loss: 0.0011 lr: 0.02\n",
            "iteration: 227000 loss: 0.0011 lr: 0.02\n",
            "iteration: 227100 loss: 0.0011 lr: 0.02\n",
            "iteration: 227200 loss: 0.0013 lr: 0.02\n",
            "iteration: 227300 loss: 0.0013 lr: 0.02\n",
            "iteration: 227400 loss: 0.0012 lr: 0.02\n",
            "iteration: 227500 loss: 0.0012 lr: 0.02\n",
            "iteration: 227600 loss: 0.0012 lr: 0.02\n",
            "iteration: 227700 loss: 0.0013 lr: 0.02\n",
            "iteration: 227800 loss: 0.0012 lr: 0.02\n",
            "iteration: 227900 loss: 0.0012 lr: 0.02\n",
            "iteration: 228000 loss: 0.0012 lr: 0.02\n",
            "iteration: 228100 loss: 0.0011 lr: 0.02\n",
            "iteration: 228200 loss: 0.0012 lr: 0.02\n",
            "iteration: 228300 loss: 0.0012 lr: 0.02\n",
            "iteration: 228400 loss: 0.0012 lr: 0.02\n",
            "iteration: 228500 loss: 0.0012 lr: 0.02\n",
            "iteration: 228600 loss: 0.0012 lr: 0.02\n",
            "iteration: 228700 loss: 0.0012 lr: 0.02\n",
            "iteration: 228800 loss: 0.0013 lr: 0.02\n",
            "iteration: 228900 loss: 0.0012 lr: 0.02\n",
            "iteration: 229000 loss: 0.0013 lr: 0.02\n",
            "iteration: 229100 loss: 0.0012 lr: 0.02\n",
            "iteration: 229200 loss: 0.0013 lr: 0.02\n",
            "iteration: 229300 loss: 0.0011 lr: 0.02\n",
            "iteration: 229400 loss: 0.0012 lr: 0.02\n",
            "iteration: 229500 loss: 0.0012 lr: 0.02\n",
            "iteration: 229600 loss: 0.0012 lr: 0.02\n",
            "iteration: 229700 loss: 0.0012 lr: 0.02\n",
            "iteration: 229800 loss: 0.0012 lr: 0.02\n",
            "iteration: 229900 loss: 0.0012 lr: 0.02\n",
            "iteration: 230000 loss: 0.0012 lr: 0.02\n",
            "iteration: 230100 loss: 0.0012 lr: 0.02\n",
            "iteration: 230200 loss: 0.0012 lr: 0.02\n",
            "iteration: 230300 loss: 0.0012 lr: 0.02\n",
            "iteration: 230400 loss: 0.0012 lr: 0.02\n",
            "iteration: 230500 loss: 0.0011 lr: 0.02\n",
            "iteration: 230600 loss: 0.0012 lr: 0.02\n",
            "iteration: 230700 loss: 0.0011 lr: 0.02\n",
            "iteration: 230800 loss: 0.0012 lr: 0.02\n",
            "iteration: 230900 loss: 0.0013 lr: 0.02\n",
            "iteration: 231000 loss: 0.0011 lr: 0.02\n",
            "iteration: 231100 loss: 0.0011 lr: 0.02\n",
            "iteration: 231200 loss: 0.0011 lr: 0.02\n",
            "iteration: 231300 loss: 0.0011 lr: 0.02\n",
            "iteration: 231400 loss: 0.0012 lr: 0.02\n",
            "iteration: 231500 loss: 0.0012 lr: 0.02\n",
            "iteration: 231600 loss: 0.0013 lr: 0.02\n",
            "iteration: 231700 loss: 0.0012 lr: 0.02\n",
            "iteration: 231800 loss: 0.0011 lr: 0.02\n",
            "iteration: 231900 loss: 0.0012 lr: 0.02\n",
            "iteration: 232000 loss: 0.0012 lr: 0.02\n",
            "iteration: 232100 loss: 0.0012 lr: 0.02\n",
            "iteration: 232200 loss: 0.0012 lr: 0.02\n",
            "iteration: 232300 loss: 0.0013 lr: 0.02\n",
            "iteration: 232400 loss: 0.0012 lr: 0.02\n",
            "iteration: 232500 loss: 0.0012 lr: 0.02\n",
            "iteration: 232600 loss: 0.0011 lr: 0.02\n",
            "iteration: 232700 loss: 0.0012 lr: 0.02\n",
            "iteration: 232800 loss: 0.0012 lr: 0.02\n",
            "iteration: 232900 loss: 0.0011 lr: 0.02\n",
            "iteration: 233000 loss: 0.0012 lr: 0.02\n",
            "iteration: 233100 loss: 0.0012 lr: 0.02\n",
            "iteration: 233200 loss: 0.0012 lr: 0.02\n",
            "iteration: 233300 loss: 0.0012 lr: 0.02\n",
            "iteration: 233400 loss: 0.0012 lr: 0.02\n",
            "iteration: 233500 loss: 0.0011 lr: 0.02\n",
            "iteration: 233600 loss: 0.0012 lr: 0.02\n",
            "iteration: 233700 loss: 0.0012 lr: 0.02\n",
            "iteration: 233800 loss: 0.0012 lr: 0.02\n",
            "iteration: 233900 loss: 0.0011 lr: 0.02\n",
            "iteration: 234000 loss: 0.0012 lr: 0.02\n",
            "iteration: 234100 loss: 0.0012 lr: 0.02\n",
            "iteration: 234200 loss: 0.0011 lr: 0.02\n",
            "iteration: 234300 loss: 0.0011 lr: 0.02\n",
            "iteration: 234400 loss: 0.0011 lr: 0.02\n",
            "iteration: 234500 loss: 0.0012 lr: 0.02\n",
            "iteration: 234600 loss: 0.0010 lr: 0.02\n",
            "iteration: 234700 loss: 0.0012 lr: 0.02\n",
            "iteration: 234800 loss: 0.0012 lr: 0.02\n",
            "iteration: 234900 loss: 0.0011 lr: 0.02\n",
            "iteration: 235000 loss: 0.0012 lr: 0.02\n",
            "iteration: 235100 loss: 0.0011 lr: 0.02\n",
            "iteration: 235200 loss: 0.0012 lr: 0.02\n",
            "iteration: 235300 loss: 0.0012 lr: 0.02\n",
            "iteration: 235400 loss: 0.0012 lr: 0.02\n",
            "iteration: 235500 loss: 0.0012 lr: 0.02\n",
            "iteration: 235600 loss: 0.0010 lr: 0.02\n",
            "iteration: 235700 loss: 0.0012 lr: 0.02\n",
            "iteration: 235800 loss: 0.0012 lr: 0.02\n",
            "iteration: 235900 loss: 0.0011 lr: 0.02\n",
            "iteration: 236000 loss: 0.0011 lr: 0.02\n",
            "iteration: 236100 loss: 0.0011 lr: 0.02\n",
            "iteration: 236200 loss: 0.0014 lr: 0.02\n",
            "iteration: 236300 loss: 0.0013 lr: 0.02\n",
            "iteration: 236400 loss: 0.0012 lr: 0.02\n",
            "iteration: 236500 loss: 0.0012 lr: 0.02\n",
            "iteration: 236600 loss: 0.0012 lr: 0.02\n",
            "iteration: 236700 loss: 0.0011 lr: 0.02\n",
            "iteration: 236800 loss: 0.0012 lr: 0.02\n",
            "iteration: 236900 loss: 0.0011 lr: 0.02\n",
            "iteration: 237000 loss: 0.0012 lr: 0.02\n",
            "iteration: 237100 loss: 0.0012 lr: 0.02\n",
            "iteration: 237200 loss: 0.0012 lr: 0.02\n",
            "iteration: 237300 loss: 0.0012 lr: 0.02\n",
            "iteration: 237400 loss: 0.0012 lr: 0.02\n",
            "iteration: 237500 loss: 0.0011 lr: 0.02\n",
            "iteration: 237600 loss: 0.0012 lr: 0.02\n",
            "iteration: 237700 loss: 0.0011 lr: 0.02\n",
            "iteration: 237800 loss: 0.0012 lr: 0.02\n",
            "iteration: 237900 loss: 0.0012 lr: 0.02\n",
            "iteration: 238000 loss: 0.0012 lr: 0.02\n",
            "iteration: 238100 loss: 0.0012 lr: 0.02\n",
            "iteration: 238200 loss: 0.0012 lr: 0.02\n",
            "iteration: 238300 loss: 0.0012 lr: 0.02\n",
            "iteration: 238400 loss: 0.0011 lr: 0.02\n",
            "iteration: 238500 loss: 0.0011 lr: 0.02\n",
            "iteration: 238600 loss: 0.0011 lr: 0.02\n",
            "iteration: 238700 loss: 0.0013 lr: 0.02\n",
            "iteration: 238800 loss: 0.0011 lr: 0.02\n",
            "iteration: 238900 loss: 0.0012 lr: 0.02\n",
            "iteration: 239000 loss: 0.0012 lr: 0.02\n",
            "iteration: 239100 loss: 0.0013 lr: 0.02\n",
            "iteration: 239200 loss: 0.0012 lr: 0.02\n",
            "iteration: 239300 loss: 0.0012 lr: 0.02\n",
            "iteration: 239400 loss: 0.0012 lr: 0.02\n",
            "iteration: 239500 loss: 0.0012 lr: 0.02\n",
            "iteration: 239600 loss: 0.0011 lr: 0.02\n",
            "iteration: 239700 loss: 0.0013 lr: 0.02\n",
            "iteration: 239800 loss: 0.0011 lr: 0.02\n",
            "iteration: 239900 loss: 0.0013 lr: 0.02\n",
            "iteration: 240000 loss: 0.0012 lr: 0.02\n",
            "iteration: 240100 loss: 0.0012 lr: 0.02\n",
            "iteration: 240200 loss: 0.0013 lr: 0.02\n",
            "iteration: 240300 loss: 0.0012 lr: 0.02\n",
            "iteration: 240400 loss: 0.0012 lr: 0.02\n",
            "iteration: 240500 loss: 0.0012 lr: 0.02\n",
            "iteration: 240600 loss: 0.0011 lr: 0.02\n",
            "iteration: 240700 loss: 0.0011 lr: 0.02\n",
            "iteration: 240800 loss: 0.0012 lr: 0.02\n",
            "iteration: 240900 loss: 0.0012 lr: 0.02\n",
            "iteration: 241000 loss: 0.0012 lr: 0.02\n",
            "iteration: 241100 loss: 0.0012 lr: 0.02\n",
            "iteration: 241200 loss: 0.0011 lr: 0.02\n",
            "iteration: 241300 loss: 0.0012 lr: 0.02\n",
            "iteration: 241400 loss: 0.0013 lr: 0.02\n",
            "iteration: 241500 loss: 0.0011 lr: 0.02\n",
            "iteration: 241600 loss: 0.0011 lr: 0.02\n",
            "iteration: 241700 loss: 0.0011 lr: 0.02\n",
            "iteration: 241800 loss: 0.0012 lr: 0.02\n",
            "iteration: 241900 loss: 0.0012 lr: 0.02\n",
            "iteration: 242000 loss: 0.0012 lr: 0.02\n",
            "iteration: 242100 loss: 0.0012 lr: 0.02\n",
            "iteration: 242200 loss: 0.0012 lr: 0.02\n",
            "iteration: 242300 loss: 0.0011 lr: 0.02\n",
            "iteration: 242400 loss: 0.0013 lr: 0.02\n",
            "iteration: 242500 loss: 0.0011 lr: 0.02\n",
            "iteration: 242600 loss: 0.0011 lr: 0.02\n",
            "iteration: 242700 loss: 0.0012 lr: 0.02\n",
            "iteration: 242800 loss: 0.0012 lr: 0.02\n",
            "iteration: 242900 loss: 0.0013 lr: 0.02\n",
            "iteration: 243000 loss: 0.0011 lr: 0.02\n",
            "iteration: 243100 loss: 0.0011 lr: 0.02\n",
            "iteration: 243200 loss: 0.0013 lr: 0.02\n",
            "iteration: 243300 loss: 0.0012 lr: 0.02\n",
            "iteration: 243400 loss: 0.0011 lr: 0.02\n",
            "iteration: 243500 loss: 0.0014 lr: 0.02\n",
            "iteration: 243600 loss: 0.0011 lr: 0.02\n",
            "iteration: 243700 loss: 0.0012 lr: 0.02\n",
            "iteration: 243800 loss: 0.0012 lr: 0.02\n",
            "iteration: 243900 loss: 0.0011 lr: 0.02\n",
            "iteration: 244000 loss: 0.0012 lr: 0.02\n",
            "iteration: 244100 loss: 0.0012 lr: 0.02\n",
            "iteration: 244200 loss: 0.0012 lr: 0.02\n",
            "iteration: 244300 loss: 0.0013 lr: 0.02\n",
            "iteration: 244400 loss: 0.0012 lr: 0.02\n",
            "iteration: 244500 loss: 0.0012 lr: 0.02\n",
            "iteration: 244600 loss: 0.0011 lr: 0.02\n",
            "iteration: 244700 loss: 0.0012 lr: 0.02\n",
            "iteration: 244800 loss: 0.0012 lr: 0.02\n",
            "iteration: 244900 loss: 0.0014 lr: 0.02\n",
            "iteration: 245000 loss: 0.0012 lr: 0.02\n",
            "iteration: 245100 loss: 0.0012 lr: 0.02\n",
            "iteration: 245200 loss: 0.0012 lr: 0.02\n",
            "iteration: 245300 loss: 0.0012 lr: 0.02\n",
            "iteration: 245400 loss: 0.0011 lr: 0.02\n",
            "iteration: 245500 loss: 0.0012 lr: 0.02\n",
            "iteration: 245600 loss: 0.0011 lr: 0.02\n",
            "iteration: 245700 loss: 0.0012 lr: 0.02\n",
            "iteration: 245800 loss: 0.0012 lr: 0.02\n",
            "iteration: 245900 loss: 0.0012 lr: 0.02\n",
            "iteration: 246000 loss: 0.0013 lr: 0.02\n",
            "iteration: 246100 loss: 0.0012 lr: 0.02\n",
            "iteration: 246200 loss: 0.0012 lr: 0.02\n",
            "iteration: 246300 loss: 0.0012 lr: 0.02\n",
            "iteration: 246400 loss: 0.0012 lr: 0.02\n",
            "iteration: 246500 loss: 0.0011 lr: 0.02\n",
            "iteration: 246600 loss: 0.0011 lr: 0.02\n",
            "iteration: 246700 loss: 0.0012 lr: 0.02\n",
            "iteration: 246800 loss: 0.0011 lr: 0.02\n",
            "iteration: 246900 loss: 0.0012 lr: 0.02\n",
            "iteration: 247000 loss: 0.0012 lr: 0.02\n",
            "iteration: 247100 loss: 0.0013 lr: 0.02\n",
            "iteration: 247200 loss: 0.0012 lr: 0.02\n",
            "iteration: 247300 loss: 0.0013 lr: 0.02\n",
            "iteration: 247400 loss: 0.0012 lr: 0.02\n",
            "iteration: 247500 loss: 0.0011 lr: 0.02\n",
            "iteration: 247600 loss: 0.0012 lr: 0.02\n",
            "iteration: 247700 loss: 0.0011 lr: 0.02\n",
            "iteration: 247800 loss: 0.0013 lr: 0.02\n",
            "iteration: 247900 loss: 0.0012 lr: 0.02\n",
            "iteration: 248000 loss: 0.0012 lr: 0.02\n",
            "iteration: 248100 loss: 0.0012 lr: 0.02\n",
            "iteration: 248200 loss: 0.0012 lr: 0.02\n",
            "iteration: 248300 loss: 0.0012 lr: 0.02\n",
            "iteration: 248400 loss: 0.0012 lr: 0.02\n",
            "iteration: 248500 loss: 0.0012 lr: 0.02\n",
            "iteration: 248600 loss: 0.0012 lr: 0.02\n",
            "iteration: 248700 loss: 0.0012 lr: 0.02\n",
            "iteration: 248800 loss: 0.0012 lr: 0.02\n",
            "iteration: 248900 loss: 0.0010 lr: 0.02\n",
            "iteration: 249000 loss: 0.0011 lr: 0.02\n",
            "iteration: 249100 loss: 0.0011 lr: 0.02\n",
            "iteration: 249200 loss: 0.0012 lr: 0.02\n",
            "iteration: 249300 loss: 0.0012 lr: 0.02\n",
            "iteration: 249400 loss: 0.0012 lr: 0.02\n",
            "iteration: 249500 loss: 0.0012 lr: 0.02\n",
            "iteration: 249600 loss: 0.0012 lr: 0.02\n",
            "iteration: 249700 loss: 0.0011 lr: 0.02\n",
            "iteration: 249800 loss: 0.0011 lr: 0.02\n",
            "iteration: 249900 loss: 0.0012 lr: 0.02\n",
            "iteration: 250000 loss: 0.0011 lr: 0.02\n",
            "iteration: 250100 loss: 0.0012 lr: 0.02\n",
            "iteration: 250200 loss: 0.0011 lr: 0.02\n",
            "iteration: 250300 loss: 0.0012 lr: 0.02\n",
            "iteration: 250400 loss: 0.0011 lr: 0.02\n",
            "iteration: 250500 loss: 0.0011 lr: 0.02\n",
            "iteration: 250600 loss: 0.0012 lr: 0.02\n",
            "iteration: 250700 loss: 0.0012 lr: 0.02\n",
            "iteration: 250800 loss: 0.0011 lr: 0.02\n",
            "iteration: 250900 loss: 0.0012 lr: 0.02\n",
            "iteration: 251000 loss: 0.0011 lr: 0.02\n",
            "iteration: 251100 loss: 0.0012 lr: 0.02\n",
            "iteration: 251200 loss: 0.0012 lr: 0.02\n",
            "iteration: 251300 loss: 0.0012 lr: 0.02\n",
            "iteration: 251400 loss: 0.0011 lr: 0.02\n",
            "iteration: 251500 loss: 0.0012 lr: 0.02\n",
            "iteration: 251600 loss: 0.0012 lr: 0.02\n",
            "iteration: 251700 loss: 0.0012 lr: 0.02\n",
            "iteration: 251800 loss: 0.0012 lr: 0.02\n",
            "iteration: 251900 loss: 0.0011 lr: 0.02\n",
            "iteration: 252000 loss: 0.0011 lr: 0.02\n",
            "iteration: 252100 loss: 0.0011 lr: 0.02\n",
            "iteration: 252200 loss: 0.0011 lr: 0.02\n",
            "iteration: 252300 loss: 0.0012 lr: 0.02\n",
            "iteration: 252400 loss: 0.0012 lr: 0.02\n",
            "iteration: 252500 loss: 0.0013 lr: 0.02\n",
            "iteration: 252600 loss: 0.0012 lr: 0.02\n",
            "iteration: 252700 loss: 0.0011 lr: 0.02\n",
            "iteration: 252800 loss: 0.0011 lr: 0.02\n",
            "iteration: 252900 loss: 0.0012 lr: 0.02\n",
            "iteration: 253000 loss: 0.0011 lr: 0.02\n",
            "iteration: 253100 loss: 0.0012 lr: 0.02\n",
            "iteration: 253200 loss: 0.0011 lr: 0.02\n",
            "iteration: 253300 loss: 0.0013 lr: 0.02\n",
            "iteration: 253400 loss: 0.0012 lr: 0.02\n",
            "iteration: 253500 loss: 0.0011 lr: 0.02\n",
            "iteration: 253600 loss: 0.0011 lr: 0.02\n",
            "iteration: 253700 loss: 0.0011 lr: 0.02\n",
            "iteration: 253800 loss: 0.0011 lr: 0.02\n",
            "iteration: 253900 loss: 0.0012 lr: 0.02\n",
            "iteration: 254000 loss: 0.0011 lr: 0.02\n",
            "iteration: 254100 loss: 0.0012 lr: 0.02\n",
            "iteration: 254200 loss: 0.0012 lr: 0.02\n",
            "iteration: 254300 loss: 0.0011 lr: 0.02\n",
            "iteration: 254400 loss: 0.0011 lr: 0.02\n",
            "iteration: 254500 loss: 0.0012 lr: 0.02\n",
            "iteration: 254600 loss: 0.0011 lr: 0.02\n",
            "iteration: 254700 loss: 0.0012 lr: 0.02\n",
            "iteration: 254800 loss: 0.0011 lr: 0.02\n",
            "iteration: 254900 loss: 0.0011 lr: 0.02\n",
            "iteration: 255000 loss: 0.0012 lr: 0.02\n",
            "iteration: 255100 loss: 0.0012 lr: 0.02\n",
            "iteration: 255200 loss: 0.0012 lr: 0.02\n",
            "iteration: 255300 loss: 0.0011 lr: 0.02\n",
            "iteration: 255400 loss: 0.0012 lr: 0.02\n",
            "iteration: 255500 loss: 0.0011 lr: 0.02\n",
            "iteration: 255600 loss: 0.0011 lr: 0.02\n",
            "iteration: 255700 loss: 0.0012 lr: 0.02\n",
            "iteration: 255800 loss: 0.0013 lr: 0.02\n",
            "iteration: 255900 loss: 0.0011 lr: 0.02\n",
            "iteration: 256000 loss: 0.0012 lr: 0.02\n",
            "iteration: 256100 loss: 0.0012 lr: 0.02\n",
            "iteration: 256200 loss: 0.0011 lr: 0.02\n",
            "iteration: 256300 loss: 0.0011 lr: 0.02\n",
            "iteration: 256400 loss: 0.0012 lr: 0.02\n",
            "iteration: 256500 loss: 0.0013 lr: 0.02\n",
            "iteration: 256600 loss: 0.0011 lr: 0.02\n",
            "iteration: 256700 loss: 0.0012 lr: 0.02\n",
            "iteration: 256800 loss: 0.0011 lr: 0.02\n",
            "iteration: 256900 loss: 0.0012 lr: 0.02\n",
            "iteration: 257000 loss: 0.0011 lr: 0.02\n",
            "iteration: 257100 loss: 0.0012 lr: 0.02\n",
            "iteration: 257200 loss: 0.0011 lr: 0.02\n",
            "iteration: 257300 loss: 0.0012 lr: 0.02\n",
            "iteration: 257400 loss: 0.0012 lr: 0.02\n",
            "iteration: 257500 loss: 0.0012 lr: 0.02\n",
            "iteration: 257600 loss: 0.0010 lr: 0.02\n",
            "iteration: 257700 loss: 0.0011 lr: 0.02\n",
            "iteration: 257800 loss: 0.0011 lr: 0.02\n",
            "iteration: 257900 loss: 0.0012 lr: 0.02\n",
            "iteration: 258000 loss: 0.0011 lr: 0.02\n",
            "iteration: 258100 loss: 0.0012 lr: 0.02\n",
            "iteration: 258200 loss: 0.0011 lr: 0.02\n",
            "iteration: 258300 loss: 0.0012 lr: 0.02\n",
            "iteration: 258400 loss: 0.0012 lr: 0.02\n",
            "iteration: 258500 loss: 0.0012 lr: 0.02\n",
            "iteration: 258600 loss: 0.0012 lr: 0.02\n",
            "iteration: 258700 loss: 0.0011 lr: 0.02\n",
            "iteration: 258800 loss: 0.0011 lr: 0.02\n",
            "iteration: 258900 loss: 0.0012 lr: 0.02\n",
            "iteration: 259000 loss: 0.0011 lr: 0.02\n",
            "iteration: 259100 loss: 0.0012 lr: 0.02\n",
            "iteration: 259200 loss: 0.0012 lr: 0.02\n",
            "iteration: 259300 loss: 0.0012 lr: 0.02\n",
            "iteration: 259400 loss: 0.0012 lr: 0.02\n",
            "iteration: 259500 loss: 0.0011 lr: 0.02\n",
            "iteration: 259600 loss: 0.0013 lr: 0.02\n",
            "iteration: 259700 loss: 0.0011 lr: 0.02\n",
            "iteration: 259800 loss: 0.0011 lr: 0.02\n",
            "iteration: 259900 loss: 0.0012 lr: 0.02\n",
            "iteration: 260000 loss: 0.0012 lr: 0.02\n",
            "iteration: 260100 loss: 0.0011 lr: 0.02\n",
            "iteration: 260200 loss: 0.0012 lr: 0.02\n",
            "iteration: 260300 loss: 0.0013 lr: 0.02\n",
            "iteration: 260400 loss: 0.0012 lr: 0.02\n",
            "iteration: 260500 loss: 0.0011 lr: 0.02\n",
            "iteration: 260600 loss: 0.0011 lr: 0.02\n",
            "iteration: 260700 loss: 0.0011 lr: 0.02\n",
            "iteration: 260800 loss: 0.0012 lr: 0.02\n",
            "iteration: 260900 loss: 0.0012 lr: 0.02\n",
            "iteration: 261000 loss: 0.0011 lr: 0.02\n",
            "iteration: 261100 loss: 0.0011 lr: 0.02\n",
            "iteration: 261200 loss: 0.0010 lr: 0.02\n",
            "iteration: 261300 loss: 0.0012 lr: 0.02\n",
            "iteration: 261400 loss: 0.0011 lr: 0.02\n",
            "iteration: 261500 loss: 0.0011 lr: 0.02\n",
            "iteration: 261600 loss: 0.0011 lr: 0.02\n",
            "iteration: 261700 loss: 0.0011 lr: 0.02\n",
            "iteration: 261800 loss: 0.0012 lr: 0.02\n",
            "iteration: 261900 loss: 0.0011 lr: 0.02\n",
            "iteration: 262000 loss: 0.0011 lr: 0.02\n",
            "iteration: 262100 loss: 0.0010 lr: 0.02\n",
            "iteration: 262200 loss: 0.0011 lr: 0.02\n",
            "iteration: 262300 loss: 0.0012 lr: 0.02\n",
            "iteration: 262400 loss: 0.0011 lr: 0.02\n",
            "iteration: 262500 loss: 0.0011 lr: 0.02\n",
            "iteration: 262600 loss: 0.0012 lr: 0.02\n",
            "iteration: 262700 loss: 0.0013 lr: 0.02\n",
            "iteration: 262800 loss: 0.0011 lr: 0.02\n",
            "iteration: 262900 loss: 0.0011 lr: 0.02\n",
            "iteration: 263000 loss: 0.0013 lr: 0.02\n",
            "iteration: 263100 loss: 0.0011 lr: 0.02\n",
            "iteration: 263200 loss: 0.0012 lr: 0.02\n",
            "iteration: 263300 loss: 0.0012 lr: 0.02\n",
            "iteration: 263400 loss: 0.0012 lr: 0.02\n",
            "iteration: 263500 loss: 0.0012 lr: 0.02\n",
            "iteration: 263600 loss: 0.0013 lr: 0.02\n",
            "iteration: 263700 loss: 0.0011 lr: 0.02\n",
            "iteration: 263800 loss: 0.0012 lr: 0.02\n",
            "iteration: 263900 loss: 0.0012 lr: 0.02\n",
            "iteration: 264000 loss: 0.0012 lr: 0.02\n",
            "iteration: 264100 loss: 0.0013 lr: 0.02\n",
            "iteration: 264200 loss: 0.0012 lr: 0.02\n",
            "iteration: 264300 loss: 0.0011 lr: 0.02\n",
            "iteration: 264400 loss: 0.0011 lr: 0.02\n",
            "iteration: 264500 loss: 0.0012 lr: 0.02\n",
            "iteration: 264600 loss: 0.0011 lr: 0.02\n",
            "iteration: 264700 loss: 0.0012 lr: 0.02\n",
            "iteration: 264800 loss: 0.0012 lr: 0.02\n",
            "iteration: 264900 loss: 0.0012 lr: 0.02\n",
            "iteration: 265000 loss: 0.0010 lr: 0.02\n",
            "iteration: 265100 loss: 0.0011 lr: 0.02\n",
            "iteration: 265200 loss: 0.0012 lr: 0.02\n",
            "iteration: 265300 loss: 0.0011 lr: 0.02\n",
            "iteration: 265400 loss: 0.0011 lr: 0.02\n",
            "iteration: 265500 loss: 0.0012 lr: 0.02\n",
            "iteration: 265600 loss: 0.0011 lr: 0.02\n",
            "iteration: 265700 loss: 0.0011 lr: 0.02\n",
            "iteration: 265800 loss: 0.0011 lr: 0.02\n",
            "iteration: 265900 loss: 0.0011 lr: 0.02\n",
            "iteration: 266000 loss: 0.0011 lr: 0.02\n",
            "iteration: 266100 loss: 0.0011 lr: 0.02\n",
            "iteration: 266200 loss: 0.0011 lr: 0.02\n",
            "iteration: 266300 loss: 0.0011 lr: 0.02\n",
            "iteration: 266400 loss: 0.0012 lr: 0.02\n",
            "iteration: 266500 loss: 0.0012 lr: 0.02\n",
            "iteration: 266600 loss: 0.0012 lr: 0.02\n",
            "iteration: 266700 loss: 0.0012 lr: 0.02\n",
            "iteration: 266800 loss: 0.0011 lr: 0.02\n",
            "iteration: 266900 loss: 0.0011 lr: 0.02\n",
            "iteration: 267000 loss: 0.0011 lr: 0.02\n",
            "iteration: 267100 loss: 0.0011 lr: 0.02\n",
            "iteration: 267200 loss: 0.0011 lr: 0.02\n",
            "iteration: 267300 loss: 0.0011 lr: 0.02\n",
            "iteration: 267400 loss: 0.0011 lr: 0.02\n",
            "iteration: 267500 loss: 0.0012 lr: 0.02\n",
            "iteration: 267600 loss: 0.0011 lr: 0.02\n",
            "iteration: 267700 loss: 0.0010 lr: 0.02\n",
            "iteration: 267800 loss: 0.0011 lr: 0.02\n",
            "iteration: 267900 loss: 0.0011 lr: 0.02\n",
            "iteration: 268000 loss: 0.0011 lr: 0.02\n",
            "iteration: 268100 loss: 0.0011 lr: 0.02\n",
            "iteration: 268200 loss: 0.0011 lr: 0.02\n",
            "iteration: 268300 loss: 0.0012 lr: 0.02\n",
            "iteration: 268400 loss: 0.0011 lr: 0.02\n",
            "iteration: 268500 loss: 0.0012 lr: 0.02\n",
            "iteration: 268600 loss: 0.0012 lr: 0.02\n",
            "iteration: 268700 loss: 0.0012 lr: 0.02\n",
            "iteration: 268800 loss: 0.0011 lr: 0.02\n",
            "iteration: 268900 loss: 0.0011 lr: 0.02\n",
            "iteration: 269000 loss: 0.0012 lr: 0.02\n",
            "iteration: 269100 loss: 0.0012 lr: 0.02\n",
            "iteration: 269200 loss: 0.0011 lr: 0.02\n",
            "iteration: 269300 loss: 0.0011 lr: 0.02\n",
            "iteration: 269400 loss: 0.0012 lr: 0.02\n",
            "iteration: 269500 loss: 0.0012 lr: 0.02\n",
            "iteration: 269600 loss: 0.0011 lr: 0.02\n",
            "iteration: 269700 loss: 0.0012 lr: 0.02\n",
            "iteration: 269800 loss: 0.0012 lr: 0.02\n",
            "iteration: 269900 loss: 0.0012 lr: 0.02\n",
            "iteration: 270000 loss: 0.0012 lr: 0.02\n",
            "iteration: 270100 loss: 0.0011 lr: 0.02\n",
            "iteration: 270200 loss: 0.0011 lr: 0.02\n",
            "iteration: 270300 loss: 0.0013 lr: 0.02\n",
            "iteration: 270400 loss: 0.0012 lr: 0.02\n",
            "iteration: 270500 loss: 0.0011 lr: 0.02\n",
            "iteration: 270600 loss: 0.0011 lr: 0.02\n",
            "iteration: 270700 loss: 0.0013 lr: 0.02\n",
            "iteration: 270800 loss: 0.0012 lr: 0.02\n",
            "iteration: 270900 loss: 0.0011 lr: 0.02\n",
            "iteration: 271000 loss: 0.0011 lr: 0.02\n",
            "iteration: 271100 loss: 0.0011 lr: 0.02\n",
            "iteration: 271200 loss: 0.0011 lr: 0.02\n",
            "iteration: 271300 loss: 0.0010 lr: 0.02\n",
            "iteration: 271400 loss: 0.0011 lr: 0.02\n",
            "iteration: 271500 loss: 0.0011 lr: 0.02\n",
            "iteration: 271600 loss: 0.0011 lr: 0.02\n",
            "iteration: 271700 loss: 0.0013 lr: 0.02\n",
            "iteration: 271800 loss: 0.0011 lr: 0.02\n",
            "iteration: 271900 loss: 0.0011 lr: 0.02\n",
            "iteration: 272000 loss: 0.0012 lr: 0.02\n",
            "iteration: 272100 loss: 0.0012 lr: 0.02\n",
            "iteration: 272200 loss: 0.0011 lr: 0.02\n",
            "iteration: 272300 loss: 0.0012 lr: 0.02\n",
            "iteration: 272400 loss: 0.0012 lr: 0.02\n",
            "iteration: 272500 loss: 0.0012 lr: 0.02\n",
            "iteration: 272600 loss: 0.0011 lr: 0.02\n",
            "iteration: 272700 loss: 0.0012 lr: 0.02\n",
            "iteration: 272800 loss: 0.0011 lr: 0.02\n",
            "iteration: 272900 loss: 0.0012 lr: 0.02\n",
            "iteration: 273000 loss: 0.0012 lr: 0.02\n",
            "iteration: 273100 loss: 0.0011 lr: 0.02\n",
            "iteration: 273200 loss: 0.0012 lr: 0.02\n",
            "iteration: 273300 loss: 0.0011 lr: 0.02\n",
            "iteration: 273400 loss: 0.0010 lr: 0.02\n",
            "iteration: 273500 loss: 0.0011 lr: 0.02\n",
            "iteration: 273600 loss: 0.0012 lr: 0.02\n",
            "iteration: 273700 loss: 0.0011 lr: 0.02\n",
            "iteration: 273800 loss: 0.0012 lr: 0.02\n",
            "iteration: 273900 loss: 0.0011 lr: 0.02\n",
            "iteration: 274000 loss: 0.0011 lr: 0.02\n",
            "iteration: 274100 loss: 0.0012 lr: 0.02\n",
            "iteration: 274200 loss: 0.0011 lr: 0.02\n",
            "iteration: 274300 loss: 0.0012 lr: 0.02\n",
            "iteration: 274400 loss: 0.0011 lr: 0.02\n",
            "iteration: 274500 loss: 0.0012 lr: 0.02\n",
            "iteration: 274600 loss: 0.0012 lr: 0.02\n",
            "iteration: 274700 loss: 0.0012 lr: 0.02\n",
            "iteration: 274800 loss: 0.0012 lr: 0.02\n",
            "iteration: 274900 loss: 0.0012 lr: 0.02\n",
            "iteration: 275000 loss: 0.0012 lr: 0.02\n",
            "iteration: 275100 loss: 0.0011 lr: 0.02\n",
            "iteration: 275200 loss: 0.0012 lr: 0.02\n",
            "iteration: 275300 loss: 0.0011 lr: 0.02\n",
            "iteration: 275400 loss: 0.0011 lr: 0.02\n",
            "iteration: 275500 loss: 0.0011 lr: 0.02\n",
            "iteration: 275600 loss: 0.0013 lr: 0.02\n",
            "iteration: 275700 loss: 0.0012 lr: 0.02\n",
            "iteration: 275800 loss: 0.0012 lr: 0.02\n",
            "iteration: 275900 loss: 0.0011 lr: 0.02\n",
            "iteration: 276000 loss: 0.0012 lr: 0.02\n",
            "iteration: 276100 loss: 0.0012 lr: 0.02\n",
            "iteration: 276200 loss: 0.0012 lr: 0.02\n",
            "iteration: 276300 loss: 0.0011 lr: 0.02\n",
            "iteration: 276400 loss: 0.0011 lr: 0.02\n",
            "iteration: 276500 loss: 0.0012 lr: 0.02\n",
            "iteration: 276600 loss: 0.0011 lr: 0.02\n",
            "iteration: 276700 loss: 0.0011 lr: 0.02\n",
            "iteration: 276800 loss: 0.0013 lr: 0.02\n",
            "iteration: 276900 loss: 0.0011 lr: 0.02\n",
            "iteration: 277000 loss: 0.0012 lr: 0.02\n",
            "iteration: 277100 loss: 0.0011 lr: 0.02\n",
            "iteration: 277200 loss: 0.0011 lr: 0.02\n",
            "iteration: 277300 loss: 0.0010 lr: 0.02\n",
            "iteration: 277400 loss: 0.0012 lr: 0.02\n",
            "iteration: 277500 loss: 0.0011 lr: 0.02\n",
            "iteration: 277600 loss: 0.0012 lr: 0.02\n",
            "iteration: 277700 loss: 0.0011 lr: 0.02\n",
            "iteration: 277800 loss: 0.0011 lr: 0.02\n",
            "iteration: 277900 loss: 0.0012 lr: 0.02\n",
            "iteration: 278000 loss: 0.0012 lr: 0.02\n",
            "iteration: 278100 loss: 0.0011 lr: 0.02\n",
            "iteration: 278200 loss: 0.0012 lr: 0.02\n",
            "iteration: 278300 loss: 0.0011 lr: 0.02\n",
            "iteration: 278400 loss: 0.0011 lr: 0.02\n",
            "iteration: 278500 loss: 0.0010 lr: 0.02\n",
            "iteration: 278600 loss: 0.0012 lr: 0.02\n",
            "iteration: 278700 loss: 0.0013 lr: 0.02\n",
            "iteration: 278800 loss: 0.0012 lr: 0.02\n",
            "iteration: 278900 loss: 0.0011 lr: 0.02\n",
            "iteration: 279000 loss: 0.0011 lr: 0.02\n",
            "iteration: 279100 loss: 0.0012 lr: 0.02\n",
            "iteration: 279200 loss: 0.0011 lr: 0.02\n",
            "iteration: 279300 loss: 0.0012 lr: 0.02\n",
            "iteration: 279400 loss: 0.0011 lr: 0.02\n",
            "iteration: 279500 loss: 0.0012 lr: 0.02\n",
            "iteration: 279600 loss: 0.0011 lr: 0.02\n",
            "iteration: 279700 loss: 0.0013 lr: 0.02\n",
            "iteration: 279800 loss: 0.0011 lr: 0.02\n",
            "iteration: 279900 loss: 0.0011 lr: 0.02\n",
            "iteration: 280000 loss: 0.0012 lr: 0.02\n",
            "iteration: 280100 loss: 0.0011 lr: 0.02\n",
            "iteration: 280200 loss: 0.0013 lr: 0.02\n",
            "iteration: 280300 loss: 0.0012 lr: 0.02\n",
            "iteration: 280400 loss: 0.0012 lr: 0.02\n",
            "iteration: 280500 loss: 0.0011 lr: 0.02\n",
            "iteration: 280600 loss: 0.0012 lr: 0.02\n",
            "iteration: 280700 loss: 0.0012 lr: 0.02\n",
            "iteration: 280800 loss: 0.0011 lr: 0.02\n",
            "iteration: 280900 loss: 0.0011 lr: 0.02\n",
            "iteration: 281000 loss: 0.0012 lr: 0.02\n",
            "iteration: 281100 loss: 0.0011 lr: 0.02\n",
            "iteration: 281200 loss: 0.0012 lr: 0.02\n",
            "iteration: 281300 loss: 0.0012 lr: 0.02\n",
            "iteration: 281400 loss: 0.0011 lr: 0.02\n",
            "iteration: 281500 loss: 0.0012 lr: 0.02\n",
            "iteration: 281600 loss: 0.0011 lr: 0.02\n",
            "iteration: 281700 loss: 0.0011 lr: 0.02\n",
            "iteration: 281800 loss: 0.0012 lr: 0.02\n",
            "iteration: 281900 loss: 0.0011 lr: 0.02\n",
            "iteration: 282000 loss: 0.0011 lr: 0.02\n",
            "iteration: 282100 loss: 0.0011 lr: 0.02\n",
            "iteration: 282200 loss: 0.0011 lr: 0.02\n",
            "iteration: 282300 loss: 0.0013 lr: 0.02\n",
            "iteration: 282400 loss: 0.0011 lr: 0.02\n",
            "iteration: 282500 loss: 0.0011 lr: 0.02\n",
            "iteration: 282600 loss: 0.0010 lr: 0.02\n",
            "iteration: 282700 loss: 0.0012 lr: 0.02\n",
            "iteration: 282800 loss: 0.0011 lr: 0.02\n",
            "iteration: 282900 loss: 0.0011 lr: 0.02\n",
            "iteration: 283000 loss: 0.0013 lr: 0.02\n",
            "iteration: 283100 loss: 0.0011 lr: 0.02\n",
            "iteration: 283200 loss: 0.0010 lr: 0.02\n",
            "iteration: 283300 loss: 0.0012 lr: 0.02\n",
            "iteration: 283400 loss: 0.0011 lr: 0.02\n",
            "iteration: 283500 loss: 0.0012 lr: 0.02\n",
            "iteration: 283600 loss: 0.0011 lr: 0.02\n",
            "iteration: 283700 loss: 0.0011 lr: 0.02\n",
            "iteration: 283800 loss: 0.0012 lr: 0.02\n",
            "iteration: 283900 loss: 0.0012 lr: 0.02\n",
            "iteration: 284000 loss: 0.0011 lr: 0.02\n",
            "iteration: 284100 loss: 0.0013 lr: 0.02\n",
            "iteration: 284200 loss: 0.0012 lr: 0.02\n",
            "iteration: 284300 loss: 0.0011 lr: 0.02\n",
            "iteration: 284400 loss: 0.0011 lr: 0.02\n",
            "iteration: 284500 loss: 0.0011 lr: 0.02\n",
            "iteration: 284600 loss: 0.0012 lr: 0.02\n",
            "iteration: 284700 loss: 0.0011 lr: 0.02\n",
            "iteration: 284800 loss: 0.0011 lr: 0.02\n",
            "iteration: 284900 loss: 0.0011 lr: 0.02\n",
            "iteration: 285000 loss: 0.0012 lr: 0.02\n",
            "iteration: 285100 loss: 0.0011 lr: 0.02\n",
            "iteration: 285200 loss: 0.0011 lr: 0.02\n",
            "iteration: 285300 loss: 0.0012 lr: 0.02\n",
            "iteration: 285400 loss: 0.0012 lr: 0.02\n",
            "iteration: 285500 loss: 0.0011 lr: 0.02\n",
            "iteration: 285600 loss: 0.0011 lr: 0.02\n",
            "iteration: 285700 loss: 0.0013 lr: 0.02\n",
            "iteration: 285800 loss: 0.0011 lr: 0.02\n",
            "iteration: 285900 loss: 0.0011 lr: 0.02\n",
            "iteration: 286000 loss: 0.0012 lr: 0.02\n",
            "iteration: 286100 loss: 0.0011 lr: 0.02\n",
            "iteration: 286200 loss: 0.0011 lr: 0.02\n",
            "iteration: 286300 loss: 0.0011 lr: 0.02\n",
            "iteration: 286400 loss: 0.0010 lr: 0.02\n",
            "iteration: 286500 loss: 0.0011 lr: 0.02\n",
            "iteration: 286600 loss: 0.0011 lr: 0.02\n",
            "iteration: 286700 loss: 0.0012 lr: 0.02\n",
            "iteration: 286800 loss: 0.0012 lr: 0.02\n",
            "iteration: 286900 loss: 0.0011 lr: 0.02\n",
            "iteration: 287000 loss: 0.0011 lr: 0.02\n",
            "iteration: 287100 loss: 0.0010 lr: 0.02\n",
            "iteration: 287200 loss: 0.0012 lr: 0.02\n",
            "iteration: 287300 loss: 0.0011 lr: 0.02\n",
            "iteration: 287400 loss: 0.0011 lr: 0.02\n",
            "iteration: 287500 loss: 0.0011 lr: 0.02\n",
            "iteration: 287600 loss: 0.0012 lr: 0.02\n",
            "iteration: 287700 loss: 0.0011 lr: 0.02\n",
            "iteration: 287800 loss: 0.0011 lr: 0.02\n",
            "iteration: 287900 loss: 0.0012 lr: 0.02\n",
            "iteration: 288000 loss: 0.0012 lr: 0.02\n",
            "iteration: 288100 loss: 0.0013 lr: 0.02\n",
            "iteration: 288200 loss: 0.0011 lr: 0.02\n",
            "iteration: 288300 loss: 0.0012 lr: 0.02\n",
            "iteration: 288400 loss: 0.0011 lr: 0.02\n",
            "iteration: 288500 loss: 0.0012 lr: 0.02\n",
            "iteration: 288600 loss: 0.0013 lr: 0.02\n",
            "iteration: 288700 loss: 0.0011 lr: 0.02\n",
            "iteration: 288800 loss: 0.0012 lr: 0.02\n",
            "iteration: 288900 loss: 0.0011 lr: 0.02\n",
            "iteration: 289000 loss: 0.0012 lr: 0.02\n",
            "iteration: 289100 loss: 0.0010 lr: 0.02\n",
            "iteration: 289200 loss: 0.0013 lr: 0.02\n",
            "iteration: 289300 loss: 0.0011 lr: 0.02\n",
            "iteration: 289400 loss: 0.0013 lr: 0.02\n",
            "iteration: 289500 loss: 0.0011 lr: 0.02\n",
            "iteration: 289600 loss: 0.0012 lr: 0.02\n",
            "iteration: 289700 loss: 0.0011 lr: 0.02\n",
            "iteration: 289800 loss: 0.0011 lr: 0.02\n",
            "iteration: 289900 loss: 0.0012 lr: 0.02\n",
            "iteration: 290000 loss: 0.0012 lr: 0.02\n",
            "iteration: 290100 loss: 0.0011 lr: 0.02\n",
            "iteration: 290200 loss: 0.0011 lr: 0.02\n",
            "iteration: 290300 loss: 0.0011 lr: 0.02\n",
            "iteration: 290400 loss: 0.0012 lr: 0.02\n",
            "iteration: 290500 loss: 0.0011 lr: 0.02\n",
            "iteration: 290600 loss: 0.0011 lr: 0.02\n",
            "iteration: 290700 loss: 0.0011 lr: 0.02\n",
            "iteration: 290800 loss: 0.0011 lr: 0.02\n",
            "iteration: 290900 loss: 0.0011 lr: 0.02\n",
            "iteration: 291000 loss: 0.0011 lr: 0.02\n",
            "iteration: 291100 loss: 0.0012 lr: 0.02\n",
            "iteration: 291200 loss: 0.0012 lr: 0.02\n",
            "iteration: 291300 loss: 0.0012 lr: 0.02\n",
            "iteration: 291400 loss: 0.0011 lr: 0.02\n",
            "iteration: 291500 loss: 0.0010 lr: 0.02\n",
            "iteration: 291600 loss: 0.0012 lr: 0.02\n",
            "iteration: 291700 loss: 0.0011 lr: 0.02\n",
            "iteration: 291800 loss: 0.0011 lr: 0.02\n",
            "iteration: 291900 loss: 0.0011 lr: 0.02\n",
            "iteration: 292000 loss: 0.0011 lr: 0.02\n",
            "iteration: 292100 loss: 0.0011 lr: 0.02\n",
            "iteration: 292200 loss: 0.0012 lr: 0.02\n",
            "iteration: 292300 loss: 0.0011 lr: 0.02\n",
            "iteration: 292400 loss: 0.0011 lr: 0.02\n",
            "iteration: 292500 loss: 0.0011 lr: 0.02\n",
            "iteration: 292600 loss: 0.0012 lr: 0.02\n",
            "iteration: 292700 loss: 0.0012 lr: 0.02\n",
            "iteration: 292800 loss: 0.0010 lr: 0.02\n",
            "iteration: 292900 loss: 0.0012 lr: 0.02\n",
            "iteration: 293000 loss: 0.0012 lr: 0.02\n",
            "iteration: 293100 loss: 0.0011 lr: 0.02\n",
            "iteration: 293200 loss: 0.0012 lr: 0.02\n",
            "iteration: 293300 loss: 0.0010 lr: 0.02\n",
            "iteration: 293400 loss: 0.0010 lr: 0.02\n"
          ]
        }
      ],
      "source": [
        "deeplabcut.train_network(path_config_file, shuffle=1,displayiters=100,saveiters=2000)"
      ]
    },
    {
      "cell_type": "markdown",
      "metadata": {
        "id": "9oVlFKfRs6j4"
      },
      "source": [
        "# EVALUATE A TRAINED NETWORK"
      ]
    },
    {
      "cell_type": "markdown",
      "metadata": {
        "id": "SbzirKpj3h83"
      },
      "source": [
        "This funtion evaluates a trained model for a specific shuffle/shuffles at a particular state or all the states on the data set (images) and stores the results as .csv file in a subdirectory under evaluation-results"
      ]
    },
    {
      "cell_type": "code",
      "execution_count": null,
      "metadata": {
        "colab": {
          "base_uri": "https://localhost:8080/"
        },
        "id": "ejFAX2CJ3kPg",
        "outputId": "8a6e4f34-3959-4455-89b6-0ee32f860a24"
      },
      "outputs": [
        {
          "name": "stdout",
          "output_type": "stream",
          "text": [
            "Running  DLC_resnet50_all_combined_trackerJun22shuffle1_292000  with # of training iterations: 292000\n",
            "Running evaluation ...\n"
          ]
        },
        {
          "name": "stderr",
          "output_type": "stream",
          "text": [
            "1239it [19:40,  1.05it/s]"
          ]
        },
        {
          "name": "stdout",
          "output_type": "stream",
          "text": [
            "Analysis is done and the results are stored (see evaluation-results) for snapshot:  snapshot-292000\n",
            "Results for 292000  training iterations: 95 1 train error: 2.29 pixels. Test error: 4.6  pixels.\n",
            "With pcutoff of 0.6  train error: 2.29 pixels. Test error: 4.6 pixels\n",
            "Thereby, the errors are given by the average distances between the labels by DLC and the scorer.\n",
            "The network is evaluated and the results are stored in the subdirectory 'evaluation_results'.\n",
            "Please check the results, then choose the best model (snapshot) for prediction. You can update the config.yaml file with the appropriate index for the 'snapshotindex'.\n",
            "Use the function 'analyze_video' to make predictions on new videos.\n",
            "Otherwise, consider adding more labeled-data and retraining the network (see DeepLabCut workflow Fig 2, Nath 2019)\n"
          ]
        },
        {
          "name": "stderr",
          "output_type": "stream",
          "text": [
            "\n"
          ]
        }
      ],
      "source": [
        "%matplotlib notebook\n",
        "deeplabcut.evaluate_network(path_config_file,plotting=False)"
      ]
    },
    {
      "cell_type": "code",
      "execution_count": null,
      "metadata": {
        "colab": {
          "base_uri": "https://localhost:8080/",
          "height": 1000
        },
        "id": "-Ncvd6I8Y4Dn",
        "outputId": "5d5fa46c-e8f7-41d4-cb17-ad696b89e4b4"
      },
      "outputs": [
        {
          "name": "stderr",
          "output_type": "stream",
          "text": [
            "Config:\n",
            "{'all_joints': [[0], [1], [2], [3]],\n",
            " 'all_joints_names': ['bodypart1', 'bodypart2', 'bodypart3', 'objectA'],\n",
            " 'batch_size': 1,\n",
            " 'crop_pad': 0,\n",
            " 'dataset': 'training-datasets/iteration-0/UnaugmentedDataSet_all_combined_trackerJun22/all_combined_tracker_jic95shuffle1.mat',\n",
            " 'dataset_type': 'imgaug',\n",
            " 'deterministic': False,\n",
            " 'fg_fraction': 0.25,\n",
            " 'global_scale': 0.8,\n",
            " 'init_weights': '/usr/local/lib/python3.7/dist-packages/deeplabcut/pose_estimation_tensorflow/models/pretrained/resnet_v1_50.ckpt',\n",
            " 'intermediate_supervision': False,\n",
            " 'intermediate_supervision_layer': 12,\n",
            " 'location_refinement': True,\n",
            " 'locref_huber_loss': True,\n",
            " 'locref_loss_weight': 1.0,\n",
            " 'locref_stdev': 7.2801,\n",
            " 'log_dir': 'log',\n",
            " 'mean_pixel': [123.68, 116.779, 103.939],\n",
            " 'mirror': False,\n",
            " 'net_type': 'resnet_50',\n",
            " 'num_joints': 4,\n",
            " 'optimizer': 'sgd',\n",
            " 'pairwise_huber_loss': True,\n",
            " 'pairwise_predict': False,\n",
            " 'partaffinityfield_predict': False,\n",
            " 'regularize': False,\n",
            " 'scoremap_dir': 'test',\n",
            " 'shuffle': True,\n",
            " 'snapshot_prefix': '/content/drive/My '\n",
            "                    'Drive/Projects/DeepLabCut/all_combined_tracker-aes-2022-06-22/dlc-models/iteration-0/all_combined_trackerJun22-trainset95shuffle1/test/snapshot',\n",
            " 'stride': 8.0,\n",
            " 'weigh_negatives': False,\n",
            " 'weigh_only_present_joints': False,\n",
            " 'weigh_part_predictions': False,\n",
            " 'weight_decay': 0.0001}\n"
          ]
        },
        {
          "name": "stdout",
          "output_type": "stream",
          "text": [
            "Using snapshot-292000 for model /content/drive/My Drive/Projects/DeepLabCut/all_combined_tracker-aes-2022-06-22/dlc-models/iteration-0/all_combined_trackerJun22-trainset95shuffle1\n",
            "Analyzing all the videos in the directory...\n",
            "Starting to analyze %  /content/drive/My Drive/Projects/DeepLabCut/all_combined_tracker-aes-2022-06-22/videos/RC4_220209_1of2.mp4\n",
            "Loading  /content/drive/My Drive/Projects/DeepLabCut/all_combined_tracker-aes-2022-06-22/videos/RC4_220209_1of2.mp4\n",
            "Duration of video [s]:  277.91 , recorded with  29.98 fps!\n",
            "Overall # of frames:  8331  found with (before cropping) frame dimensions:  1920 1080\n",
            "Starting to extract posture\n"
          ]
        },
        {
          "name": "stderr",
          "output_type": "stream",
          "text": [
            "100%|█████████▉| 8300/8331 [12:48<00:02, 10.80it/s]\n"
          ]
        },
        {
          "name": "stdout",
          "output_type": "stream",
          "text": [
            "Saving results in /content/drive/My Drive/Projects/DeepLabCut/all_combined_tracker-aes-2022-06-22/videos...\n",
            "Saving csv poses!\n",
            "Starting to analyze %  /content/drive/My Drive/Projects/DeepLabCut/all_combined_tracker-aes-2022-06-22/videos/RC6_220217_1of2.mp4\n",
            "Loading  /content/drive/My Drive/Projects/DeepLabCut/all_combined_tracker-aes-2022-06-22/videos/RC6_220217_1of2.mp4\n",
            "Duration of video [s]:  323.11 , recorded with  29.98 fps!\n",
            "Overall # of frames:  9686  found with (before cropping) frame dimensions:  1920 1080\n",
            "Starting to extract posture\n"
          ]
        },
        {
          "name": "stderr",
          "output_type": "stream",
          "text": [
            " 99%|█████████▉| 9600/9686 [14:52<00:07, 10.76it/s]\n"
          ]
        },
        {
          "name": "stdout",
          "output_type": "stream",
          "text": [
            "Saving results in /content/drive/My Drive/Projects/DeepLabCut/all_combined_tracker-aes-2022-06-22/videos...\n",
            "Saving csv poses!\n",
            "Starting to analyze %  /content/drive/My Drive/Projects/DeepLabCut/all_combined_tracker-aes-2022-06-22/videos/RC4_220124_1of2.mp4\n",
            "Loading  /content/drive/My Drive/Projects/DeepLabCut/all_combined_tracker-aes-2022-06-22/videos/RC4_220124_1of2.mp4\n",
            "Duration of video [s]:  180.57 , recorded with  29.98 fps!\n",
            "Overall # of frames:  5413  found with (before cropping) frame dimensions:  1920 1080\n",
            "Starting to extract posture\n"
          ]
        },
        {
          "name": "stderr",
          "output_type": "stream",
          "text": [
            "100%|█████████▉| 5400/5413 [08:17<00:01, 10.84it/s]\n"
          ]
        },
        {
          "name": "stdout",
          "output_type": "stream",
          "text": [
            "Saving results in /content/drive/My Drive/Projects/DeepLabCut/all_combined_tracker-aes-2022-06-22/videos...\n",
            "Saving csv poses!\n",
            "Starting to analyze %  /content/drive/My Drive/Projects/DeepLabCut/all_combined_tracker-aes-2022-06-22/videos/RC8_220214_1of2.mp4\n",
            "Loading  /content/drive/My Drive/Projects/DeepLabCut/all_combined_tracker-aes-2022-06-22/videos/RC8_220214_1of2.mp4\n",
            "Duration of video [s]:  235.61 , recorded with  29.98 fps!\n",
            "Overall # of frames:  7063  found with (before cropping) frame dimensions:  1920 1080\n",
            "Starting to extract posture\n"
          ]
        },
        {
          "name": "stderr",
          "output_type": "stream",
          "text": [
            " 99%|█████████▉| 7000/7063 [10:53<00:05, 10.71it/s]\n"
          ]
        },
        {
          "name": "stdout",
          "output_type": "stream",
          "text": [
            "Saving results in /content/drive/My Drive/Projects/DeepLabCut/all_combined_tracker-aes-2022-06-22/videos...\n",
            "Saving csv poses!\n",
            "Starting to analyze %  /content/drive/My Drive/Projects/DeepLabCut/all_combined_tracker-aes-2022-06-22/videos/RC10_220210_1of2.mp4\n",
            "Loading  /content/drive/My Drive/Projects/DeepLabCut/all_combined_tracker-aes-2022-06-22/videos/RC10_220210_1of2.mp4\n",
            "Duration of video [s]:  189.48 , recorded with  29.98 fps!\n",
            "Overall # of frames:  5680  found with (before cropping) frame dimensions:  1920 1080\n",
            "Starting to extract posture\n"
          ]
        },
        {
          "name": "stderr",
          "output_type": "stream",
          "text": [
            "100%|█████████▉| 5656/5680 [08:49<00:02, 10.68it/s]\n"
          ]
        },
        {
          "name": "stdout",
          "output_type": "stream",
          "text": [
            "Saving results in /content/drive/My Drive/Projects/DeepLabCut/all_combined_tracker-aes-2022-06-22/videos...\n",
            "Saving csv poses!\n",
            "Starting to analyze %  /content/drive/My Drive/Projects/DeepLabCut/all_combined_tracker-aes-2022-06-22/videos/MsOpto 22 06.14.2021 (1of2).mp4\n",
            "Loading  /content/drive/My Drive/Projects/DeepLabCut/all_combined_tracker-aes-2022-06-22/videos/MsOpto 22 06.14.2021 (1of2).mp4\n",
            "Duration of video [s]:  159.72 , recorded with  29.98 fps!\n",
            "Overall # of frames:  4788  found with (before cropping) frame dimensions:  1920 1080\n",
            "Starting to extract posture\n"
          ]
        },
        {
          "name": "stderr",
          "output_type": "stream",
          "text": [
            " 99%|█████████▉| 4747/4788 [07:30<00:03, 10.53it/s]\n"
          ]
        },
        {
          "name": "stdout",
          "output_type": "stream",
          "text": [
            "Saving results in /content/drive/My Drive/Projects/DeepLabCut/all_combined_tracker-aes-2022-06-22/videos...\n",
            "Saving csv poses!\n",
            "Starting to analyze %  /content/drive/My Drive/Projects/DeepLabCut/all_combined_tracker-aes-2022-06-22/videos/RC10_220127_1of2.mp4\n",
            "Loading  /content/drive/My Drive/Projects/DeepLabCut/all_combined_tracker-aes-2022-06-22/videos/RC10_220127_1of2.mp4\n",
            "Duration of video [s]:  370.11 , recorded with  29.98 fps!\n",
            "Overall # of frames:  11095  found with (before cropping) frame dimensions:  1920 1080\n",
            "Starting to extract posture\n"
          ]
        },
        {
          "name": "stderr",
          "output_type": "stream",
          "text": [
            " 99%|█████████▉| 11000/11095 [16:53<00:08, 10.85it/s]\n"
          ]
        },
        {
          "name": "stdout",
          "output_type": "stream",
          "text": [
            "Saving results in /content/drive/My Drive/Projects/DeepLabCut/all_combined_tracker-aes-2022-06-22/videos...\n",
            "Saving csv poses!\n",
            "Starting to analyze %  /content/drive/My Drive/Projects/DeepLabCut/all_combined_tracker-aes-2022-06-22/videos/RC3_220126_1of2.mp4\n",
            "Loading  /content/drive/My Drive/Projects/DeepLabCut/all_combined_tracker-aes-2022-06-22/videos/RC3_220126_1of2.mp4\n",
            "Duration of video [s]:  292.75 , recorded with  29.98 fps!\n",
            "Overall # of frames:  8776  found with (before cropping) frame dimensions:  1920 1080\n",
            "Starting to extract posture\n"
          ]
        },
        {
          "name": "stderr",
          "output_type": "stream",
          "text": [
            " 99%|█████████▉| 8700/8776 [13:17<00:06, 10.91it/s]\n"
          ]
        },
        {
          "name": "stdout",
          "output_type": "stream",
          "text": [
            "Saving results in /content/drive/My Drive/Projects/DeepLabCut/all_combined_tracker-aes-2022-06-22/videos...\n",
            "Saving csv poses!\n",
            "Starting to analyze %  /content/drive/My Drive/Projects/DeepLabCut/all_combined_tracker-aes-2022-06-22/videos/Rear1 07.21.2021 (1of2).mp4\n",
            "Loading  /content/drive/My Drive/Projects/DeepLabCut/all_combined_tracker-aes-2022-06-22/videos/Rear1 07.21.2021 (1of2).mp4\n",
            "Duration of video [s]:  107.18 , recorded with  29.98 fps!\n",
            "Overall # of frames:  3213  found with (before cropping) frame dimensions:  1920 1080\n",
            "Starting to extract posture\n"
          ]
        },
        {
          "name": "stderr",
          "output_type": "stream",
          "text": [
            "100%|█████████▉| 3200/3213 [04:52<00:01, 10.94it/s]\n"
          ]
        },
        {
          "name": "stdout",
          "output_type": "stream",
          "text": [
            "Saving results in /content/drive/My Drive/Projects/DeepLabCut/all_combined_tracker-aes-2022-06-22/videos...\n",
            "Saving csv poses!\n",
            "Starting to analyze %  /content/drive/My Drive/Projects/DeepLabCut/all_combined_tracker-aes-2022-06-22/videos/RC6_220218_1of2.mp4\n",
            "Loading  /content/drive/My Drive/Projects/DeepLabCut/all_combined_tracker-aes-2022-06-22/videos/RC6_220218_1of2.mp4\n",
            "Duration of video [s]:  339.55 , recorded with  29.98 fps!\n",
            "Overall # of frames:  10179  found with (before cropping) frame dimensions:  1920 1080\n",
            "Starting to extract posture\n"
          ]
        },
        {
          "name": "stderr",
          "output_type": "stream",
          "text": [
            " 99%|█████████▉| 10100/10179 [15:23<00:07, 10.94it/s]\n"
          ]
        },
        {
          "name": "stdout",
          "output_type": "stream",
          "text": [
            "Saving results in /content/drive/My Drive/Projects/DeepLabCut/all_combined_tracker-aes-2022-06-22/videos...\n",
            "Saving csv poses!\n",
            "Starting to analyze %  /content/drive/My Drive/Projects/DeepLabCut/all_combined_tracker-aes-2022-06-22/videos/MS opto 23 07.28.2021 retrain (1 of 2).mp4\n",
            "Loading  /content/drive/My Drive/Projects/DeepLabCut/all_combined_tracker-aes-2022-06-22/videos/MS opto 23 07.28.2021 retrain (1 of 2).mp4\n",
            "Duration of video [s]:  235.81 , recorded with  29.98 fps!\n",
            "Overall # of frames:  7069  found with (before cropping) frame dimensions:  1920 1080\n",
            "Starting to extract posture\n"
          ]
        },
        {
          "name": "stderr",
          "output_type": "stream",
          "text": [
            " 99%|█████████▉| 7000/7069 [10:40<00:06, 10.93it/s]\n"
          ]
        },
        {
          "name": "stdout",
          "output_type": "stream",
          "text": [
            "Saving results in /content/drive/My Drive/Projects/DeepLabCut/all_combined_tracker-aes-2022-06-22/videos...\n",
            "Saving csv poses!\n",
            "Starting to analyze %  /content/drive/My Drive/Projects/DeepLabCut/all_combined_tracker-aes-2022-06-22/videos/RC5_220121_1of2.mp4\n",
            "Loading  /content/drive/My Drive/Projects/DeepLabCut/all_combined_tracker-aes-2022-06-22/videos/RC5_220121_1of2.mp4\n",
            "Duration of video [s]:  208.99 , recorded with  29.98 fps!\n",
            "Overall # of frames:  6265  found with (before cropping) frame dimensions:  1920 1080\n",
            "Starting to extract posture\n"
          ]
        },
        {
          "name": "stderr",
          "output_type": "stream",
          "text": [
            "100%|█████████▉| 6262/6265 [09:29<00:00, 11.00it/s]\n"
          ]
        },
        {
          "name": "stdout",
          "output_type": "stream",
          "text": [
            "Saving results in /content/drive/My Drive/Projects/DeepLabCut/all_combined_tracker-aes-2022-06-22/videos...\n",
            "Saving csv poses!\n",
            "Starting to analyze %  /content/drive/My Drive/Projects/DeepLabCut/all_combined_tracker-aes-2022-06-22/videos/Rear 6 10.01.2021 (1of2) retrain.mp4\n",
            "Loading  /content/drive/My Drive/Projects/DeepLabCut/all_combined_tracker-aes-2022-06-22/videos/Rear 6 10.01.2021 (1of2) retrain.mp4\n",
            "Duration of video [s]:  137.97 , recorded with  29.98 fps!\n",
            "Overall # of frames:  4136  found with (before cropping) frame dimensions:  1920 1080\n",
            "Starting to extract posture\n"
          ]
        },
        {
          "name": "stderr",
          "output_type": "stream",
          "text": [
            " 99%|█████████▉| 4100/4136 [06:15<00:03, 10.92it/s]\n"
          ]
        },
        {
          "name": "stdout",
          "output_type": "stream",
          "text": [
            "Saving results in /content/drive/My Drive/Projects/DeepLabCut/all_combined_tracker-aes-2022-06-22/videos...\n",
            "Saving csv poses!\n",
            "Starting to analyze %  /content/drive/My Drive/Projects/DeepLabCut/all_combined_tracker-aes-2022-06-22/videos/Rear 4 08.04.2021 (1of2).mp4\n",
            "Loading  /content/drive/My Drive/Projects/DeepLabCut/all_combined_tracker-aes-2022-06-22/videos/Rear 4 08.04.2021 (1of2).mp4\n",
            "Duration of video [s]:  112.58 , recorded with  29.98 fps!\n",
            "Overall # of frames:  3375  found with (before cropping) frame dimensions:  1920 1080\n",
            "Starting to extract posture\n"
          ]
        },
        {
          "name": "stderr",
          "output_type": "stream",
          "text": [
            "100%|█████████▉| 3366/3375 [05:05<00:00, 11.01it/s]\n"
          ]
        },
        {
          "name": "stdout",
          "output_type": "stream",
          "text": [
            "Saving results in /content/drive/My Drive/Projects/DeepLabCut/all_combined_tracker-aes-2022-06-22/videos...\n",
            "Saving csv poses!\n",
            "Starting to analyze %  /content/drive/My Drive/Projects/DeepLabCut/all_combined_tracker-aes-2022-06-22/videos/RC7_220126_1of2.mp4\n",
            "Loading  /content/drive/My Drive/Projects/DeepLabCut/all_combined_tracker-aes-2022-06-22/videos/RC7_220126_1of2.mp4\n",
            "Duration of video [s]:  159.29 , recorded with  29.98 fps!\n",
            "Overall # of frames:  4775  found with (before cropping) frame dimensions:  1920 1080\n",
            "Starting to extract posture\n"
          ]
        },
        {
          "name": "stderr",
          "output_type": "stream",
          "text": [
            " 99%|█████████▉| 4747/4775 [07:12<00:02, 10.97it/s]\n"
          ]
        },
        {
          "name": "stdout",
          "output_type": "stream",
          "text": [
            "Saving results in /content/drive/My Drive/Projects/DeepLabCut/all_combined_tracker-aes-2022-06-22/videos...\n",
            "Saving csv poses!\n",
            "Starting to analyze %  /content/drive/My Drive/Projects/DeepLabCut/all_combined_tracker-aes-2022-06-22/videos/MsOpto 24 05.19.2021 (1of2).mp4\n",
            "Loading  /content/drive/My Drive/Projects/DeepLabCut/all_combined_tracker-aes-2022-06-22/videos/MsOpto 24 05.19.2021 (1of2).mp4\n",
            "Duration of video [s]:  93.2 , recorded with  29.98 fps!\n",
            "Overall # of frames:  2794  found with (before cropping) frame dimensions:  1920 1080\n",
            "Starting to extract posture\n"
          ]
        },
        {
          "name": "stderr",
          "output_type": "stream",
          "text": [
            "100%|█████████▉| 2781/2794 [04:14<00:01, 10.94it/s]\n"
          ]
        },
        {
          "name": "stdout",
          "output_type": "stream",
          "text": [
            "Saving results in /content/drive/My Drive/Projects/DeepLabCut/all_combined_tracker-aes-2022-06-22/videos...\n",
            "Saving csv poses!\n",
            "Starting to analyze %  /content/drive/My Drive/Projects/DeepLabCut/all_combined_tracker-aes-2022-06-22/videos/MsOpto 22 03.11.2021 (1of2).mp4\n",
            "Loading  /content/drive/My Drive/Projects/DeepLabCut/all_combined_tracker-aes-2022-06-22/videos/MsOpto 22 03.11.2021 (1of2).mp4\n",
            "Duration of video [s]:  199.45 , recorded with  29.98 fps!\n",
            "Overall # of frames:  5979  found with (before cropping) frame dimensions:  1920 1080\n",
            "Starting to extract posture\n"
          ]
        },
        {
          "name": "stderr",
          "output_type": "stream",
          "text": [
            "100%|█████████▉| 5959/5979 [09:01<00:01, 11.00it/s]\n"
          ]
        },
        {
          "name": "stdout",
          "output_type": "stream",
          "text": [
            "Saving results in /content/drive/My Drive/Projects/DeepLabCut/all_combined_tracker-aes-2022-06-22/videos...\n",
            "Saving csv poses!\n",
            "Starting to analyze %  /content/drive/My Drive/Projects/DeepLabCut/all_combined_tracker-aes-2022-06-22/videos/RC8_220201_1of2.mp4\n",
            "Loading  /content/drive/My Drive/Projects/DeepLabCut/all_combined_tracker-aes-2022-06-22/videos/RC8_220201_1of2.mp4\n",
            "Duration of video [s]:  193.48 , recorded with  29.98 fps!\n",
            "Overall # of frames:  5800  found with (before cropping) frame dimensions:  1920 1080\n",
            "Starting to extract posture\n"
          ]
        },
        {
          "name": "stderr",
          "output_type": "stream",
          "text": [
            "100%|██████████| 5800/5800 [08:46<00:00, 11.01it/s]\n"
          ]
        },
        {
          "name": "stdout",
          "output_type": "stream",
          "text": [
            "Saving results in /content/drive/My Drive/Projects/DeepLabCut/all_combined_tracker-aes-2022-06-22/videos...\n",
            "Saving csv poses!\n",
            "Starting to analyze %  /content/drive/My Drive/Projects/DeepLabCut/all_combined_tracker-aes-2022-06-22/videos/Rear 6 10.21.2021 (1of2) retrain.mp4\n",
            "Loading  /content/drive/My Drive/Projects/DeepLabCut/all_combined_tracker-aes-2022-06-22/videos/Rear 6 10.21.2021 (1of2) retrain.mp4\n",
            "Duration of video [s]:  154.55 , recorded with  29.98 fps!\n",
            "Overall # of frames:  4633  found with (before cropping) frame dimensions:  1920 1080\n",
            "Starting to extract posture\n"
          ]
        },
        {
          "name": "stderr",
          "output_type": "stream",
          "text": [
            " 99%|█████████▉| 4600/4633 [07:01<00:03, 10.92it/s]\n"
          ]
        },
        {
          "name": "stdout",
          "output_type": "stream",
          "text": [
            "Saving results in /content/drive/My Drive/Projects/DeepLabCut/all_combined_tracker-aes-2022-06-22/videos...\n",
            "Saving csv poses!\n",
            "Starting to analyze %  /content/drive/My Drive/Projects/DeepLabCut/all_combined_tracker-aes-2022-06-22/videos/Rear 3 08.03.2021 (1of2) Retrain.mp4\n",
            "Loading  /content/drive/My Drive/Projects/DeepLabCut/all_combined_tracker-aes-2022-06-22/videos/Rear 3 08.03.2021 (1of2) Retrain.mp4\n",
            "Duration of video [s]:  103.91 , recorded with  29.98 fps!\n",
            "Overall # of frames:  3115  found with (before cropping) frame dimensions:  1920 1080\n",
            "Starting to extract posture\n"
          ]
        },
        {
          "name": "stderr",
          "output_type": "stream",
          "text": [
            "100%|█████████▉| 3100/3115 [04:43<00:01, 10.94it/s]\n"
          ]
        },
        {
          "name": "stdout",
          "output_type": "stream",
          "text": [
            "Saving results in /content/drive/My Drive/Projects/DeepLabCut/all_combined_tracker-aes-2022-06-22/videos...\n",
            "Saving csv poses!\n",
            "Starting to analyze %  /content/drive/My Drive/Projects/DeepLabCut/all_combined_tracker-aes-2022-06-22/videos/RC6_220210_1of2.mp4\n",
            "Loading  /content/drive/My Drive/Projects/DeepLabCut/all_combined_tracker-aes-2022-06-22/videos/RC6_220210_1of2.mp4\n",
            "Duration of video [s]:  283.95 , recorded with  29.98 fps!\n",
            "Overall # of frames:  8512  found with (before cropping) frame dimensions:  1920 1080\n",
            "Starting to extract posture\n"
          ]
        },
        {
          "name": "stderr",
          "output_type": "stream",
          "text": [
            "100%|█████████▉| 8500/8512 [12:51<00:01, 11.01it/s]\n"
          ]
        },
        {
          "name": "stdout",
          "output_type": "stream",
          "text": [
            "Saving results in /content/drive/My Drive/Projects/DeepLabCut/all_combined_tracker-aes-2022-06-22/videos...\n",
            "Saving csv poses!\n",
            "Starting to analyze %  /content/drive/My Drive/Projects/DeepLabCut/all_combined_tracker-aes-2022-06-22/videos/MsOpto 24 08.13.2021 (1of2) Retrain.mp4\n",
            "Loading  /content/drive/My Drive/Projects/DeepLabCut/all_combined_tracker-aes-2022-06-22/videos/MsOpto 24 08.13.2021 (1of2) Retrain.mp4\n",
            "Duration of video [s]:  109.75 , recorded with  29.98 fps!\n",
            "Overall # of frames:  3290  found with (before cropping) frame dimensions:  1920 1080\n",
            "Starting to extract posture\n"
          ]
        },
        {
          "name": "stderr",
          "output_type": "stream",
          "text": [
            " 99%|█████████▉| 3264/3290 [04:59<00:02, 10.89it/s]\n"
          ]
        },
        {
          "name": "stdout",
          "output_type": "stream",
          "text": [
            "Saving results in /content/drive/My Drive/Projects/DeepLabCut/all_combined_tracker-aes-2022-06-22/videos...\n",
            "Saving csv poses!\n",
            "Starting to analyze %  /content/drive/My Drive/Projects/DeepLabCut/all_combined_tracker-aes-2022-06-22/videos/RC5_220118_1of2.mp4\n",
            "Loading  /content/drive/My Drive/Projects/DeepLabCut/all_combined_tracker-aes-2022-06-22/videos/RC5_220118_1of2.mp4\n",
            "Duration of video [s]:  177.87 , recorded with  29.98 fps!\n",
            "Overall # of frames:  5332  found with (before cropping) frame dimensions:  1920 1080\n",
            "Starting to extract posture\n"
          ]
        },
        {
          "name": "stderr",
          "output_type": "stream",
          "text": [
            " 99%|█████████▉| 5300/5332 [08:03<00:02, 10.95it/s]\n"
          ]
        },
        {
          "name": "stdout",
          "output_type": "stream",
          "text": [
            "Saving results in /content/drive/My Drive/Projects/DeepLabCut/all_combined_tracker-aes-2022-06-22/videos...\n",
            "Saving csv poses!\n",
            "Starting to analyze %  /content/drive/My Drive/Projects/DeepLabCut/all_combined_tracker-aes-2022-06-22/videos/RC9_220202_1of2.mp4\n",
            "Loading  /content/drive/My Drive/Projects/DeepLabCut/all_combined_tracker-aes-2022-06-22/videos/RC9_220202_1of2.mp4\n",
            "Duration of video [s]:  232.34 , recorded with  29.98 fps!\n",
            "Overall # of frames:  6965  found with (before cropping) frame dimensions:  1920 1080\n",
            "Starting to extract posture\n"
          ]
        },
        {
          "name": "stderr",
          "output_type": "stream",
          "text": [
            " 99%|█████████▉| 6900/6965 [10:31<00:05, 10.93it/s]\n"
          ]
        },
        {
          "name": "stdout",
          "output_type": "stream",
          "text": [
            "Saving results in /content/drive/My Drive/Projects/DeepLabCut/all_combined_tracker-aes-2022-06-22/videos...\n",
            "Saving csv poses!\n",
            "Starting to analyze %  /content/drive/My Drive/Projects/DeepLabCut/all_combined_tracker-aes-2022-06-22/videos/Rear3 06.30.2021 (1of2).mp4\n",
            "Loading  /content/drive/My Drive/Projects/DeepLabCut/all_combined_tracker-aes-2022-06-22/videos/Rear3 06.30.2021 (1of2).mp4\n",
            "Duration of video [s]:  95.1 , recorded with  29.98 fps!\n",
            "Overall # of frames:  2851  found with (before cropping) frame dimensions:  1920 1080\n",
            "Starting to extract posture\n"
          ]
        },
        {
          "name": "stderr",
          "output_type": "stream",
          "text": [
            " 99%|█████████▉| 2828/2851 [04:18<00:02, 10.93it/s]\n"
          ]
        },
        {
          "name": "stdout",
          "output_type": "stream",
          "text": [
            "Saving results in /content/drive/My Drive/Projects/DeepLabCut/all_combined_tracker-aes-2022-06-22/videos...\n",
            "Saving csv poses!\n",
            "Starting to analyze %  /content/drive/My Drive/Projects/DeepLabCut/all_combined_tracker-aes-2022-06-22/videos/Rear1 06.30.2021 (1of2).mp4\n",
            "Loading  /content/drive/My Drive/Projects/DeepLabCut/all_combined_tracker-aes-2022-06-22/videos/Rear1 06.30.2021 (1of2).mp4\n",
            "Duration of video [s]:  102.34 , recorded with  29.98 fps!\n",
            "Overall # of frames:  3068  found with (before cropping) frame dimensions:  1920 1080\n",
            "Starting to extract posture\n"
          ]
        },
        {
          "name": "stderr",
          "output_type": "stream",
          "text": [
            "100%|█████████▉| 3060/3068 [04:38<00:00, 10.98it/s]\n"
          ]
        },
        {
          "name": "stdout",
          "output_type": "stream",
          "text": [
            "Saving results in /content/drive/My Drive/Projects/DeepLabCut/all_combined_tracker-aes-2022-06-22/videos...\n",
            "Saving csv poses!\n",
            "Starting to analyze %  /content/drive/My Drive/Projects/DeepLabCut/all_combined_tracker-aes-2022-06-22/videos/RC5_220127_1of2.mp4\n",
            "Loading  /content/drive/My Drive/Projects/DeepLabCut/all_combined_tracker-aes-2022-06-22/videos/RC5_220127_1of2.mp4\n",
            "Duration of video [s]:  180.07 , recorded with  29.98 fps!\n",
            "Overall # of frames:  5398  found with (before cropping) frame dimensions:  1920 1080\n",
            "Starting to extract posture\n"
          ]
        },
        {
          "name": "stderr",
          "output_type": "stream",
          "text": [
            " 99%|█████████▉| 5353/5398 [08:08<00:04, 10.96it/s]\n"
          ]
        },
        {
          "name": "stdout",
          "output_type": "stream",
          "text": [
            "Saving results in /content/drive/My Drive/Projects/DeepLabCut/all_combined_tracker-aes-2022-06-22/videos...\n",
            "Saving csv poses!\n",
            "Starting to analyze %  /content/drive/My Drive/Projects/DeepLabCut/all_combined_tracker-aes-2022-06-22/videos/RC4_220118_1of2.mp4\n",
            "Loading  /content/drive/My Drive/Projects/DeepLabCut/all_combined_tracker-aes-2022-06-22/videos/RC4_220118_1of2.mp4\n",
            "Duration of video [s]:  118.56 , recorded with  29.98 fps!\n",
            "Overall # of frames:  3554  found with (before cropping) frame dimensions:  1920 1080\n",
            "Starting to extract posture\n"
          ]
        },
        {
          "name": "stderr",
          "output_type": "stream",
          "text": [
            " 99%|█████████▉| 3535/3554 [05:22<00:01, 10.96it/s]\n"
          ]
        },
        {
          "name": "stdout",
          "output_type": "stream",
          "text": [
            "Saving results in /content/drive/My Drive/Projects/DeepLabCut/all_combined_tracker-aes-2022-06-22/videos...\n",
            "Saving csv poses!\n",
            "Starting to analyze %  /content/drive/My Drive/Projects/DeepLabCut/all_combined_tracker-aes-2022-06-22/videos/Rear 4 10.04.2021 (1of2).mp4\n",
            "Loading  /content/drive/My Drive/Projects/DeepLabCut/all_combined_tracker-aes-2022-06-22/videos/Rear 4 10.04.2021 (1of2).mp4\n",
            "Duration of video [s]:  183.57 , recorded with  29.98 fps!\n",
            "Overall # of frames:  5503  found with (before cropping) frame dimensions:  1920 1080\n",
            "Starting to extract posture\n"
          ]
        },
        {
          "name": "stderr",
          "output_type": "stream",
          "text": [
            "100%|█████████▉| 5500/5503 [08:18<00:00, 11.03it/s]\n"
          ]
        },
        {
          "name": "stdout",
          "output_type": "stream",
          "text": [
            "Saving results in /content/drive/My Drive/Projects/DeepLabCut/all_combined_tracker-aes-2022-06-22/videos...\n",
            "Saving csv poses!\n",
            "Starting to analyze %  /content/drive/My Drive/Projects/DeepLabCut/all_combined_tracker-aes-2022-06-22/videos/Rear2 08.13.2021 (1of2) Retrain.mp4\n",
            "Loading  /content/drive/My Drive/Projects/DeepLabCut/all_combined_tracker-aes-2022-06-22/videos/Rear2 08.13.2021 (1of2) Retrain.mp4\n",
            "Duration of video [s]:  159.62 , recorded with  29.98 fps!\n",
            "Overall # of frames:  4785  found with (before cropping) frame dimensions:  1920 1080\n",
            "Starting to extract posture\n"
          ]
        },
        {
          "name": "stderr",
          "output_type": "stream",
          "text": [
            " 99%|█████████▉| 4747/4785 [07:14<00:03, 10.93it/s]\n"
          ]
        },
        {
          "name": "stdout",
          "output_type": "stream",
          "text": [
            "Saving results in /content/drive/My Drive/Projects/DeepLabCut/all_combined_tracker-aes-2022-06-22/videos...\n",
            "Saving csv poses!\n",
            "Starting to analyze %  /content/drive/My Drive/Projects/DeepLabCut/all_combined_tracker-aes-2022-06-22/videos/RC6_220215_1of2.mp4\n",
            "Loading  /content/drive/My Drive/Projects/DeepLabCut/all_combined_tracker-aes-2022-06-22/videos/RC6_220215_1of2.mp4\n",
            "Duration of video [s]:  258.46 , recorded with  29.98 fps!\n",
            "Overall # of frames:  7748  found with (before cropping) frame dimensions:  1920 1080\n",
            "Starting to extract posture\n"
          ]
        },
        {
          "name": "stderr",
          "output_type": "stream",
          "text": [
            " 99%|█████████▉| 7700/7748 [11:44<00:04, 10.92it/s]\n"
          ]
        },
        {
          "name": "stdout",
          "output_type": "stream",
          "text": [
            "Saving results in /content/drive/My Drive/Projects/DeepLabCut/all_combined_tracker-aes-2022-06-22/videos...\n",
            "Saving csv poses!\n",
            "Starting to analyze %  /content/drive/My Drive/Projects/DeepLabCut/all_combined_tracker-aes-2022-06-22/videos/RC4_220211_1of2.mp4\n",
            "Loading  /content/drive/My Drive/Projects/DeepLabCut/all_combined_tracker-aes-2022-06-22/videos/RC4_220211_1of2.mp4\n",
            "Duration of video [s]:  157.35 , recorded with  29.98 fps!\n",
            "Overall # of frames:  4717  found with (before cropping) frame dimensions:  1920 1080\n",
            "Starting to extract posture\n"
          ]
        },
        {
          "name": "stderr",
          "output_type": "stream",
          "text": [
            "100%|█████████▉| 4700/4717 [07:08<00:01, 10.98it/s]\n"
          ]
        },
        {
          "name": "stdout",
          "output_type": "stream",
          "text": [
            "Saving results in /content/drive/My Drive/Projects/DeepLabCut/all_combined_tracker-aes-2022-06-22/videos...\n",
            "Saving csv poses!\n",
            "Starting to analyze %  /content/drive/My Drive/Projects/DeepLabCut/all_combined_tracker-aes-2022-06-22/videos/RC7_220201_1of2.mp4\n",
            "Loading  /content/drive/My Drive/Projects/DeepLabCut/all_combined_tracker-aes-2022-06-22/videos/RC7_220201_1of2.mp4\n",
            "Duration of video [s]:  132.43 , recorded with  29.98 fps!\n",
            "Overall # of frames:  3970  found with (before cropping) frame dimensions:  1920 1080\n",
            "Starting to extract posture\n"
          ]
        },
        {
          "name": "stderr",
          "output_type": "stream",
          "text": [
            " 99%|█████████▉| 3939/3970 [06:00<00:02, 10.93it/s]\n"
          ]
        },
        {
          "name": "stdout",
          "output_type": "stream",
          "text": [
            "Saving results in /content/drive/My Drive/Projects/DeepLabCut/all_combined_tracker-aes-2022-06-22/videos...\n",
            "Saving csv poses!\n",
            "Starting to analyze %  /content/drive/My Drive/Projects/DeepLabCut/all_combined_tracker-aes-2022-06-22/videos/MsOpto 24 02.15.2021 (1of2).mp4\n",
            "Loading  /content/drive/My Drive/Projects/DeepLabCut/all_combined_tracker-aes-2022-06-22/videos/MsOpto 24 02.15.2021 (1of2).mp4\n",
            "Duration of video [s]:  144.31 , recorded with  29.98 fps!\n",
            "Overall # of frames:  4326  found with (before cropping) frame dimensions:  1920 1080\n",
            "Starting to extract posture\n"
          ]
        },
        {
          "name": "stderr",
          "output_type": "stream",
          "text": [
            " 99%|█████████▉| 4300/4326 [06:32<00:02, 10.96it/s]\n"
          ]
        },
        {
          "name": "stdout",
          "output_type": "stream",
          "text": [
            "Saving results in /content/drive/My Drive/Projects/DeepLabCut/all_combined_tracker-aes-2022-06-22/videos...\n",
            "Saving csv poses!\n",
            "Starting to analyze %  /content/drive/My Drive/Projects/DeepLabCut/all_combined_tracker-aes-2022-06-22/videos/MsOpto 23 03.11.2021 (1of2).mp4\n",
            "Loading  /content/drive/My Drive/Projects/DeepLabCut/all_combined_tracker-aes-2022-06-22/videos/MsOpto 23 03.11.2021 (1of2).mp4\n",
            "Duration of video [s]:  309.3 , recorded with  29.98 fps!\n",
            "Overall # of frames:  9272  found with (before cropping) frame dimensions:  1920 1080\n",
            "Starting to extract posture\n"
          ]
        },
        {
          "name": "stderr",
          "output_type": "stream",
          "text": [
            " 99%|█████████▉| 9200/9272 [14:01<00:06, 10.93it/s]\n"
          ]
        },
        {
          "name": "stdout",
          "output_type": "stream",
          "text": [
            "Saving results in /content/drive/My Drive/Projects/DeepLabCut/all_combined_tracker-aes-2022-06-22/videos...\n",
            "Saving csv poses!\n",
            "Starting to analyze %  /content/drive/My Drive/Projects/DeepLabCut/all_combined_tracker-aes-2022-06-22/videos/RC3_220125_1of2.mp4\n",
            "Loading  /content/drive/My Drive/Projects/DeepLabCut/all_combined_tracker-aes-2022-06-22/videos/RC3_220125_1of2.mp4\n",
            "Duration of video [s]:  160.09 , recorded with  29.98 fps!\n",
            "Overall # of frames:  4799  found with (before cropping) frame dimensions:  1920 1080\n",
            "Starting to extract posture\n"
          ]
        },
        {
          "name": "stderr",
          "output_type": "stream",
          "text": [
            "100%|█████████▉| 4794/4799 [07:17<00:00, 10.96it/s]\n"
          ]
        },
        {
          "name": "stdout",
          "output_type": "stream",
          "text": [
            "Saving results in /content/drive/My Drive/Projects/DeepLabCut/all_combined_tracker-aes-2022-06-22/videos...\n",
            "Saving csv poses!\n",
            "Starting to analyze %  /content/drive/My Drive/Projects/DeepLabCut/all_combined_tracker-aes-2022-06-22/videos/RC5_220202_1of2.mp4\n",
            "Loading  /content/drive/My Drive/Projects/DeepLabCut/all_combined_tracker-aes-2022-06-22/videos/RC5_220202_1of2.mp4\n",
            "Duration of video [s]:  223.53 , recorded with  29.98 fps!\n",
            "Overall # of frames:  6701  found with (before cropping) frame dimensions:  1920 1080\n",
            "Starting to extract posture\n"
          ]
        },
        {
          "name": "stderr",
          "output_type": "stream",
          "text": [
            "100%|█████████▉| 6700/6701 [10:08<00:00, 11.01it/s]\n"
          ]
        },
        {
          "name": "stdout",
          "output_type": "stream",
          "text": [
            "Saving results in /content/drive/My Drive/Projects/DeepLabCut/all_combined_tracker-aes-2022-06-22/videos...\n",
            "Saving csv poses!\n",
            "Starting to analyze %  /content/drive/My Drive/Projects/DeepLabCut/all_combined_tracker-aes-2022-06-22/videos/Rear 3 08.04.2021 (1of2) Retrain.mp4\n",
            "Loading  /content/drive/My Drive/Projects/DeepLabCut/all_combined_tracker-aes-2022-06-22/videos/Rear 3 08.04.2021 (1of2) Retrain.mp4\n",
            "Duration of video [s]:  142.97 , recorded with  29.98 fps!\n",
            "Overall # of frames:  4286  found with (before cropping) frame dimensions:  1920 1080\n",
            "Starting to extract posture\n"
          ]
        },
        {
          "name": "stderr",
          "output_type": "stream",
          "text": [
            "100%|█████████▉| 4284/4286 [06:29<00:00, 10.99it/s]\n"
          ]
        },
        {
          "name": "stdout",
          "output_type": "stream",
          "text": [
            "Saving results in /content/drive/My Drive/Projects/DeepLabCut/all_combined_tracker-aes-2022-06-22/videos...\n",
            "Saving csv poses!\n",
            "Starting to analyze %  /content/drive/My Drive/Projects/DeepLabCut/all_combined_tracker-aes-2022-06-22/videos/MS opto 22 07.30.2021 retrain (1 of 2).mp4\n",
            "Loading  /content/drive/My Drive/Projects/DeepLabCut/all_combined_tracker-aes-2022-06-22/videos/MS opto 22 07.30.2021 retrain (1 of 2).mp4\n",
            "Duration of video [s]:  138.6 , recorded with  29.98 fps!\n",
            "Overall # of frames:  4155  found with (before cropping) frame dimensions:  1920 1080\n",
            "Starting to extract posture\n"
          ]
        },
        {
          "name": "stderr",
          "output_type": "stream",
          "text": [
            "100%|█████████▉| 4141/4155 [06:18<00:01, 10.95it/s]\n"
          ]
        },
        {
          "name": "stdout",
          "output_type": "stream",
          "text": [
            "Saving results in /content/drive/My Drive/Projects/DeepLabCut/all_combined_tracker-aes-2022-06-22/videos...\n",
            "Saving csv poses!\n",
            "Starting to analyze %  /content/drive/My Drive/Projects/DeepLabCut/all_combined_tracker-aes-2022-06-22/videos/RC9_220124_1of2.mp4\n",
            "Loading  /content/drive/My Drive/Projects/DeepLabCut/all_combined_tracker-aes-2022-06-22/videos/RC9_220124_1of2.mp4\n",
            "Duration of video [s]:  164.36 , recorded with  29.98 fps!\n",
            "Overall # of frames:  4927  found with (before cropping) frame dimensions:  1920 1080\n",
            "Starting to extract posture\n"
          ]
        },
        {
          "name": "stderr",
          "output_type": "stream",
          "text": [
            " 99%|█████████▉| 4900/4927 [07:27<00:02, 10.96it/s]\n"
          ]
        },
        {
          "name": "stdout",
          "output_type": "stream",
          "text": [
            "Saving results in /content/drive/My Drive/Projects/DeepLabCut/all_combined_tracker-aes-2022-06-22/videos...\n",
            "Saving csv poses!\n",
            "Starting to analyze %  /content/drive/My Drive/Projects/DeepLabCut/all_combined_tracker-aes-2022-06-22/videos/Rear 2 08.09.2021 (1of2) Retrain.mp4\n",
            "Loading  /content/drive/My Drive/Projects/DeepLabCut/all_combined_tracker-aes-2022-06-22/videos/Rear 2 08.09.2021 (1of2) Retrain.mp4\n",
            "Duration of video [s]:  113.55 , recorded with  29.98 fps!\n",
            "Overall # of frames:  3404  found with (before cropping) frame dimensions:  1920 1080\n",
            "Starting to extract posture\n"
          ]
        },
        {
          "name": "stderr",
          "output_type": "stream",
          "text": [
            "100%|█████████▉| 3400/3404 [05:09<00:00, 10.98it/s]\n"
          ]
        },
        {
          "name": "stdout",
          "output_type": "stream",
          "text": [
            "Saving results in /content/drive/My Drive/Projects/DeepLabCut/all_combined_tracker-aes-2022-06-22/videos...\n",
            "Saving csv poses!\n",
            "Starting to analyze %  /content/drive/My Drive/Projects/DeepLabCut/all_combined_tracker-aes-2022-06-22/videos/RC7_220124_1of2.mp4\n",
            "Loading  /content/drive/My Drive/Projects/DeepLabCut/all_combined_tracker-aes-2022-06-22/videos/RC7_220124_1of2.mp4\n",
            "Duration of video [s]:  179.33 , recorded with  29.98 fps!\n",
            "Overall # of frames:  5376  found with (before cropping) frame dimensions:  1920 1080\n",
            "Starting to extract posture\n"
          ]
        },
        {
          "name": "stderr",
          "output_type": "stream",
          "text": [
            "100%|█████████▉| 5353/5376 [08:07<00:02, 10.97it/s]\n"
          ]
        },
        {
          "name": "stdout",
          "output_type": "stream",
          "text": [
            "Saving results in /content/drive/My Drive/Projects/DeepLabCut/all_combined_tracker-aes-2022-06-22/videos...\n",
            "Saving csv poses!\n",
            "Starting to analyze %  /content/drive/My Drive/Projects/DeepLabCut/all_combined_tracker-aes-2022-06-22/videos/Rear1 07.023.2021 (1of2).mp4\n",
            "Loading  /content/drive/My Drive/Projects/DeepLabCut/all_combined_tracker-aes-2022-06-22/videos/Rear1 07.023.2021 (1of2).mp4\n",
            "Duration of video [s]:  109.28 , recorded with  29.98 fps!\n",
            "Overall # of frames:  3276  found with (before cropping) frame dimensions:  1920 1080\n",
            "Starting to extract posture\n"
          ]
        },
        {
          "name": "stderr",
          "output_type": "stream",
          "text": [
            "100%|█████████▉| 3264/3276 [04:57<00:01, 10.96it/s]\n"
          ]
        },
        {
          "name": "stdout",
          "output_type": "stream",
          "text": [
            "Saving results in /content/drive/My Drive/Projects/DeepLabCut/all_combined_tracker-aes-2022-06-22/videos...\n",
            "Saving csv poses!\n",
            "Starting to analyze %  /content/drive/My Drive/Projects/DeepLabCut/all_combined_tracker-aes-2022-06-22/videos/Rear 1 08.03.21 (1of 2).mp4\n",
            "Loading  /content/drive/My Drive/Projects/DeepLabCut/all_combined_tracker-aes-2022-06-22/videos/Rear 1 08.03.21 (1of 2).mp4\n",
            "Duration of video [s]:  108.68 , recorded with  29.98 fps!\n",
            "Overall # of frames:  3258  found with (before cropping) frame dimensions:  1920 1080\n",
            "Starting to extract posture\n"
          ]
        },
        {
          "name": "stderr",
          "output_type": "stream",
          "text": [
            " 99%|█████████▉| 3232/3258 [04:56<00:02, 10.91it/s]\n"
          ]
        },
        {
          "name": "stdout",
          "output_type": "stream",
          "text": [
            "Saving results in /content/drive/My Drive/Projects/DeepLabCut/all_combined_tracker-aes-2022-06-22/videos...\n",
            "Saving csv poses!\n",
            "Starting to analyze %  /content/drive/My Drive/Projects/DeepLabCut/all_combined_tracker-aes-2022-06-22/videos/MS opto 24 07.28.2021 retrain (1 of 2).mp4\n",
            "Loading  /content/drive/My Drive/Projects/DeepLabCut/all_combined_tracker-aes-2022-06-22/videos/MS opto 24 07.28.2021 retrain (1 of 2).mp4\n",
            "Duration of video [s]:  102.84 , recorded with  29.98 fps!\n",
            "Overall # of frames:  3083  found with (before cropping) frame dimensions:  1920 1080\n",
            "Starting to extract posture\n"
          ]
        },
        {
          "name": "stderr",
          "output_type": "stream",
          "text": [
            " 99%|█████████▉| 3060/3083 [04:40<00:02, 10.90it/s]\n"
          ]
        },
        {
          "name": "stdout",
          "output_type": "stream",
          "text": [
            "Saving results in /content/drive/My Drive/Projects/DeepLabCut/all_combined_tracker-aes-2022-06-22/videos...\n",
            "Saving csv poses!\n",
            "Starting to analyze %  /content/drive/My Drive/Projects/DeepLabCut/all_combined_tracker-aes-2022-06-22/videos/MsOpto 23 05.18.2021 (1of2).mp4\n",
            "Loading  /content/drive/My Drive/Projects/DeepLabCut/all_combined_tracker-aes-2022-06-22/videos/MsOpto 23 05.18.2021 (1of2).mp4\n",
            "Duration of video [s]:  106.48 , recorded with  29.98 fps!\n",
            "Overall # of frames:  3192  found with (before cropping) frame dimensions:  1920 1080\n",
            "Starting to extract posture\n"
          ]
        },
        {
          "name": "stderr",
          "output_type": "stream",
          "text": [
            " 99%|█████████▉| 3162/3192 [04:50<00:02, 10.88it/s]\n"
          ]
        },
        {
          "name": "stdout",
          "output_type": "stream",
          "text": [
            "Saving results in /content/drive/My Drive/Projects/DeepLabCut/all_combined_tracker-aes-2022-06-22/videos...\n",
            "Saving csv poses!\n",
            "Starting to analyze %  /content/drive/My Drive/Projects/DeepLabCut/all_combined_tracker-aes-2022-06-22/videos/Rear 6 08.03.2021 (1of2).mp4\n",
            "Loading  /content/drive/My Drive/Projects/DeepLabCut/all_combined_tracker-aes-2022-06-22/videos/Rear 6 08.03.2021 (1of2).mp4\n",
            "Duration of video [s]:  142.97 , recorded with  29.98 fps!\n",
            "Overall # of frames:  4286  found with (before cropping) frame dimensions:  1920 1080\n",
            "Starting to extract posture\n"
          ]
        },
        {
          "name": "stderr",
          "output_type": "stream",
          "text": [
            "100%|█████████▉| 4284/4286 [06:29<00:00, 10.99it/s]\n"
          ]
        },
        {
          "name": "stdout",
          "output_type": "stream",
          "text": [
            "Saving results in /content/drive/My Drive/Projects/DeepLabCut/all_combined_tracker-aes-2022-06-22/videos...\n",
            "Saving csv poses!\n",
            "Starting to analyze %  /content/drive/My Drive/Projects/DeepLabCut/all_combined_tracker-aes-2022-06-22/videos/RC9_220208_1of2.mp4\n",
            "Loading  /content/drive/My Drive/Projects/DeepLabCut/all_combined_tracker-aes-2022-06-22/videos/RC9_220208_1of2.mp4\n",
            "Duration of video [s]:  254.79 , recorded with  29.98 fps!\n",
            "Overall # of frames:  7638  found with (before cropping) frame dimensions:  1920 1080\n",
            "Starting to extract posture\n"
          ]
        },
        {
          "name": "stderr",
          "output_type": "stream",
          "text": [
            "100%|█████████▉| 7600/7638 [11:33<00:03, 10.96it/s]\n"
          ]
        },
        {
          "name": "stdout",
          "output_type": "stream",
          "text": [
            "Saving results in /content/drive/My Drive/Projects/DeepLabCut/all_combined_tracker-aes-2022-06-22/videos...\n",
            "Saving csv poses!\n",
            "Starting to analyze %  /content/drive/My Drive/Projects/DeepLabCut/all_combined_tracker-aes-2022-06-22/videos/MsOpto 25 05.26.2021 (1of2).mp4\n",
            "Loading  /content/drive/My Drive/Projects/DeepLabCut/all_combined_tracker-aes-2022-06-22/videos/MsOpto 25 05.26.2021 (1of2).mp4\n",
            "Duration of video [s]:  484.0 , recorded with  29.98 fps!\n",
            "Overall # of frames:  14509  found with (before cropping) frame dimensions:  1920 1080\n",
            "Starting to extract posture\n"
          ]
        },
        {
          "name": "stderr",
          "output_type": "stream",
          "text": [
            "100%|█████████▉| 14500/14509 [21:55<00:00, 11.02it/s]\n"
          ]
        },
        {
          "name": "stdout",
          "output_type": "stream",
          "text": [
            "Saving results in /content/drive/My Drive/Projects/DeepLabCut/all_combined_tracker-aes-2022-06-22/videos...\n",
            "Saving csv poses!\n",
            "Starting to analyze %  /content/drive/My Drive/Projects/DeepLabCut/all_combined_tracker-aes-2022-06-22/videos/MsOpto 25 04.28.2021 (1of2).mp4\n",
            "Loading  /content/drive/My Drive/Projects/DeepLabCut/all_combined_tracker-aes-2022-06-22/videos/MsOpto 25 04.28.2021 (1of2).mp4\n",
            "Duration of video [s]:  108.21 , recorded with  29.98 fps!\n",
            "Overall # of frames:  3244  found with (before cropping) frame dimensions:  1920 1080\n",
            "Starting to extract posture\n"
          ]
        },
        {
          "name": "stderr",
          "output_type": "stream",
          "text": [
            "100%|█████████▉| 3232/3244 [04:53<00:01, 11.00it/s]\n"
          ]
        },
        {
          "name": "stdout",
          "output_type": "stream",
          "text": [
            "Saving results in /content/drive/My Drive/Projects/DeepLabCut/all_combined_tracker-aes-2022-06-22/videos...\n",
            "Saving csv poses!\n",
            "Starting to analyze %  /content/drive/My Drive/Projects/DeepLabCut/all_combined_tracker-aes-2022-06-22/videos/MsOpto 23 04.28.2021 (1of2).mp4\n",
            "Loading  /content/drive/My Drive/Projects/DeepLabCut/all_combined_tracker-aes-2022-06-22/videos/MsOpto 23 04.28.2021 (1of2).mp4\n",
            "Duration of video [s]:  170.09 , recorded with  29.98 fps!\n",
            "Overall # of frames:  5099  found with (before cropping) frame dimensions:  1920 1080\n",
            "Starting to extract posture\n"
          ]
        },
        {
          "name": "stderr",
          "output_type": "stream",
          "text": [
            " 99%|█████████▉| 5050/5099 [07:41<00:04, 10.94it/s]\n"
          ]
        },
        {
          "name": "stdout",
          "output_type": "stream",
          "text": [
            "Saving results in /content/drive/My Drive/Projects/DeepLabCut/all_combined_tracker-aes-2022-06-22/videos...\n",
            "Saving csv poses!\n",
            "Starting to analyze %  /content/drive/My Drive/Projects/DeepLabCut/all_combined_tracker-aes-2022-06-22/videos/RC7_220131_1of2.mp4\n",
            "Loading  /content/drive/My Drive/Projects/DeepLabCut/all_combined_tracker-aes-2022-06-22/videos/RC7_220131_1of2.mp4\n",
            "Duration of video [s]:  193.28 , recorded with  29.98 fps!\n",
            "Overall # of frames:  5794  found with (before cropping) frame dimensions:  1920 1080\n",
            "Starting to extract posture\n"
          ]
        },
        {
          "name": "stderr",
          "output_type": "stream",
          "text": [
            " 99%|█████████▉| 5757/5794 [08:41<00:03, 11.04it/s]\n"
          ]
        },
        {
          "name": "stdout",
          "output_type": "stream",
          "text": [
            "Saving results in /content/drive/My Drive/Projects/DeepLabCut/all_combined_tracker-aes-2022-06-22/videos...\n",
            "Saving csv poses!\n",
            "Starting to analyze %  /content/drive/My Drive/Projects/DeepLabCut/all_combined_tracker-aes-2022-06-22/videos/Rear3 07.07.2021 (1of2).mp4\n",
            "Loading  /content/drive/My Drive/Projects/DeepLabCut/all_combined_tracker-aes-2022-06-22/videos/Rear3 07.07.2021 (1of2).mp4\n",
            "Duration of video [s]:  97.44 , recorded with  29.98 fps!\n",
            "Overall # of frames:  2921  found with (before cropping) frame dimensions:  1920 1080\n",
            "Starting to extract posture\n"
          ]
        },
        {
          "name": "stderr",
          "output_type": "stream",
          "text": [
            " 99%|█████████▉| 2900/2921 [04:25<00:01, 10.93it/s]\n"
          ]
        },
        {
          "name": "stdout",
          "output_type": "stream",
          "text": [
            "Saving results in /content/drive/My Drive/Projects/DeepLabCut/all_combined_tracker-aes-2022-06-22/videos...\n",
            "Saving csv poses!\n",
            "Starting to analyze %  /content/drive/My Drive/Projects/DeepLabCut/all_combined_tracker-aes-2022-06-22/videos/RC10_220125_1of2.mp4\n",
            "Loading  /content/drive/My Drive/Projects/DeepLabCut/all_combined_tracker-aes-2022-06-22/videos/RC10_220125_1of2.mp4\n",
            "Duration of video [s]:  151.78 , recorded with  29.98 fps!\n",
            "Overall # of frames:  4550  found with (before cropping) frame dimensions:  1920 1080\n",
            "Starting to extract posture\n"
          ]
        },
        {
          "name": "stderr",
          "output_type": "stream",
          "text": [
            "100%|█████████▉| 4545/4550 [06:52<00:00, 11.03it/s]\n"
          ]
        },
        {
          "name": "stdout",
          "output_type": "stream",
          "text": [
            "Saving results in /content/drive/My Drive/Projects/DeepLabCut/all_combined_tracker-aes-2022-06-22/videos...\n",
            "Saving csv poses!\n",
            "Starting to analyze %  /content/drive/My Drive/Projects/DeepLabCut/all_combined_tracker-aes-2022-06-22/videos/Rear 4 09.24.2021 (1of2).mp4\n",
            "Loading  /content/drive/My Drive/Projects/DeepLabCut/all_combined_tracker-aes-2022-06-22/videos/Rear 4 09.24.2021 (1of2).mp4\n",
            "Duration of video [s]:  133.0 , recorded with  29.98 fps!\n",
            "Overall # of frames:  3987  found with (before cropping) frame dimensions:  1920 1080\n",
            "Starting to extract posture\n"
          ]
        },
        {
          "name": "stderr",
          "output_type": "stream",
          "text": [
            "100%|█████████▉| 3978/3987 [06:01<00:00, 11.00it/s]\n"
          ]
        },
        {
          "name": "stdout",
          "output_type": "stream",
          "text": [
            "Saving results in /content/drive/My Drive/Projects/DeepLabCut/all_combined_tracker-aes-2022-06-22/videos...\n",
            "Saving csv poses!\n",
            "Starting to analyze %  /content/drive/My Drive/Projects/DeepLabCut/all_combined_tracker-aes-2022-06-22/videos/RC3_220127_1of2.mp4\n",
            "Loading  /content/drive/My Drive/Projects/DeepLabCut/all_combined_tracker-aes-2022-06-22/videos/RC3_220127_1of2.mp4\n",
            "Duration of video [s]:  181.17 , recorded with  29.98 fps!\n",
            "Overall # of frames:  5431  found with (before cropping) frame dimensions:  1920 1080\n",
            "Starting to extract posture\n"
          ]
        },
        {
          "name": "stderr",
          "output_type": "stream",
          "text": [
            " 99%|█████████▉| 5400/5431 [08:11<00:02, 10.99it/s]\n"
          ]
        },
        {
          "name": "stdout",
          "output_type": "stream",
          "text": [
            "Saving results in /content/drive/My Drive/Projects/DeepLabCut/all_combined_tracker-aes-2022-06-22/videos...\n",
            "Saving csv poses!\n",
            "Starting to analyze %  /content/drive/My Drive/Projects/DeepLabCut/all_combined_tracker-aes-2022-06-22/videos/RC8_220208_1of2.mp4\n",
            "Loading  /content/drive/My Drive/Projects/DeepLabCut/all_combined_tracker-aes-2022-06-22/videos/RC8_220208_1of2.mp4\n",
            "Duration of video [s]:  271.3 , recorded with  29.98 fps!\n",
            "Overall # of frames:  8133  found with (before cropping) frame dimensions:  1920 1080\n",
            "Starting to extract posture\n"
          ]
        },
        {
          "name": "stderr",
          "output_type": "stream",
          "text": [
            "100%|█████████▉| 8100/8133 [12:16<00:03, 10.99it/s]\n"
          ]
        },
        {
          "name": "stdout",
          "output_type": "stream",
          "text": [
            "Saving results in /content/drive/My Drive/Projects/DeepLabCut/all_combined_tracker-aes-2022-06-22/videos...\n",
            "Saving csv poses!\n",
            "Starting to analyze %  /content/drive/My Drive/Projects/DeepLabCut/all_combined_tracker-aes-2022-06-22/videos/Rear 4 08.18.2021 (1of2).mp4\n",
            "Loading  /content/drive/My Drive/Projects/DeepLabCut/all_combined_tracker-aes-2022-06-22/videos/Rear 4 08.18.2021 (1of2).mp4\n",
            "Duration of video [s]:  127.06 , recorded with  29.98 fps!\n",
            "Overall # of frames:  3809  found with (before cropping) frame dimensions:  1920 1080\n",
            "Starting to extract posture\n"
          ]
        },
        {
          "name": "stderr",
          "output_type": "stream",
          "text": [
            "100%|█████████▉| 3800/3809 [05:46<00:00, 10.98it/s]\n"
          ]
        },
        {
          "name": "stdout",
          "output_type": "stream",
          "text": [
            "Saving results in /content/drive/My Drive/Projects/DeepLabCut/all_combined_tracker-aes-2022-06-22/videos...\n",
            "Saving csv poses!\n",
            "Starting to analyze %  /content/drive/My Drive/Projects/DeepLabCut/all_combined_tracker-aes-2022-06-22/videos/Rear 6 09.13.2021 (1of2).mp4\n",
            "Loading  /content/drive/My Drive/Projects/DeepLabCut/all_combined_tracker-aes-2022-06-22/videos/Rear 6 09.13.2021 (1of2).mp4\n",
            "Duration of video [s]:  136.14 , recorded with  29.98 fps!\n",
            "Overall # of frames:  4081  found with (before cropping) frame dimensions:  1920 1080\n",
            "Starting to extract posture\n"
          ]
        },
        {
          "name": "stderr",
          "output_type": "stream",
          "text": [
            "100%|█████████▉| 4080/4081 [06:09<00:00, 11.04it/s]\n"
          ]
        },
        {
          "name": "stdout",
          "output_type": "stream",
          "text": [
            "Saving results in /content/drive/My Drive/Projects/DeepLabCut/all_combined_tracker-aes-2022-06-22/videos...\n",
            "Saving csv poses!\n",
            "Starting to analyze %  /content/drive/My Drive/Projects/DeepLabCut/all_combined_tracker-aes-2022-06-22/videos/RC9_220131_1of2.mp4\n",
            "Loading  /content/drive/My Drive/Projects/DeepLabCut/all_combined_tracker-aes-2022-06-22/videos/RC9_220131_1of2.mp4\n",
            "Duration of video [s]:  157.58 , recorded with  29.98 fps!\n",
            "Overall # of frames:  4724  found with (before cropping) frame dimensions:  1920 1080\n",
            "Starting to extract posture\n"
          ]
        },
        {
          "name": "stderr",
          "output_type": "stream",
          "text": [
            " 99%|█████████▉| 4700/4724 [07:06<00:02, 11.03it/s]\n"
          ]
        },
        {
          "name": "stdout",
          "output_type": "stream",
          "text": [
            "Saving results in /content/drive/My Drive/Projects/DeepLabCut/all_combined_tracker-aes-2022-06-22/videos...\n",
            "Saving csv poses!\n",
            "Starting to analyze %  /content/drive/My Drive/Projects/DeepLabCut/all_combined_tracker-aes-2022-06-22/videos/RC3_220124_1of2.mp4\n",
            "Loading  /content/drive/My Drive/Projects/DeepLabCut/all_combined_tracker-aes-2022-06-22/videos/RC3_220124_1of2.mp4\n",
            "Duration of video [s]:  127.33 , recorded with  29.98 fps!\n",
            "Overall # of frames:  3817  found with (before cropping) frame dimensions:  1920 1080\n",
            "Starting to extract posture\n"
          ]
        },
        {
          "name": "stderr",
          "output_type": "stream",
          "text": [
            "100%|█████████▉| 3800/3817 [05:47<00:01, 10.95it/s]\n"
          ]
        },
        {
          "name": "stdout",
          "output_type": "stream",
          "text": [
            "Saving results in /content/drive/My Drive/Projects/DeepLabCut/all_combined_tracker-aes-2022-06-22/videos...\n",
            "Saving csv poses!\n",
            "Starting to analyze %  /content/drive/My Drive/Projects/DeepLabCut/all_combined_tracker-aes-2022-06-22/videos/MsOpto 25 06.11.2021 (1of2).mp4\n",
            "Loading  /content/drive/My Drive/Projects/DeepLabCut/all_combined_tracker-aes-2022-06-22/videos/MsOpto 25 06.11.2021 (1of2).mp4\n",
            "Duration of video [s]:  154.45 , recorded with  29.98 fps!\n",
            "Overall # of frames:  4630  found with (before cropping) frame dimensions:  1920 1080\n",
            "Starting to extract posture\n"
          ]
        },
        {
          "name": "stderr",
          "output_type": "stream",
          "text": [
            " 99%|█████████▉| 4600/4630 [07:00<00:02, 10.94it/s]\n"
          ]
        },
        {
          "name": "stdout",
          "output_type": "stream",
          "text": [
            "Saving results in /content/drive/My Drive/Projects/DeepLabCut/all_combined_tracker-aes-2022-06-22/videos...\n",
            "Saving csv poses!\n",
            "Starting to analyze %  /content/drive/My Drive/Projects/DeepLabCut/all_combined_tracker-aes-2022-06-22/videos/RC10_220202_1of2.mp4\n",
            "Loading  /content/drive/My Drive/Projects/DeepLabCut/all_combined_tracker-aes-2022-06-22/videos/RC10_220202_1of2.mp4\n",
            "Duration of video [s]:  274.57 , recorded with  29.98 fps!\n",
            "Overall # of frames:  8231  found with (before cropping) frame dimensions:  1920 1080\n",
            "Starting to extract posture\n"
          ]
        },
        {
          "name": "stderr",
          "output_type": "stream",
          "text": [
            "100%|█████████▉| 8200/8231 [12:26<00:02, 10.98it/s]\n"
          ]
        },
        {
          "name": "stdout",
          "output_type": "stream",
          "text": [
            "Saving results in /content/drive/My Drive/Projects/DeepLabCut/all_combined_tracker-aes-2022-06-22/videos...\n",
            "Saving csv poses!\n",
            "Starting to analyze %  /content/drive/My Drive/Projects/DeepLabCut/all_combined_tracker-aes-2022-06-22/videos/MsOpto 25 07.01.2021 (1of2) Retrain.mp4\n",
            "Loading  /content/drive/My Drive/Projects/DeepLabCut/all_combined_tracker-aes-2022-06-22/videos/MsOpto 25 07.01.2021 (1of2) Retrain.mp4\n",
            "Duration of video [s]:  106.68 , recorded with  29.98 fps!\n",
            "Overall # of frames:  3198  found with (before cropping) frame dimensions:  1920 1080\n",
            "Starting to extract posture\n"
          ]
        },
        {
          "name": "stderr",
          "output_type": "stream",
          "text": [
            "100%|█████████▉| 3193/3198 [04:50<00:00, 10.99it/s]\n"
          ]
        },
        {
          "name": "stdout",
          "output_type": "stream",
          "text": [
            "Saving results in /content/drive/My Drive/Projects/DeepLabCut/all_combined_tracker-aes-2022-06-22/videos...\n",
            "Saving csv poses!\n",
            "Starting to analyze %  /content/drive/My Drive/Projects/DeepLabCut/all_combined_tracker-aes-2022-06-22/videos/Rear2 07.06.2021 (1of2).mp4\n",
            "Loading  /content/drive/My Drive/Projects/DeepLabCut/all_combined_tracker-aes-2022-06-22/videos/Rear2 07.06.2021 (1of2).mp4\n",
            "Duration of video [s]:  107.45 , recorded with  29.98 fps!\n",
            "Overall # of frames:  3221  found with (before cropping) frame dimensions:  1920 1080\n",
            "Starting to extract posture\n"
          ]
        },
        {
          "name": "stderr",
          "output_type": "stream",
          "text": [
            " 99%|█████████▉| 3200/3221 [04:52<00:01, 10.94it/s]\n"
          ]
        },
        {
          "name": "stdout",
          "output_type": "stream",
          "text": [
            "Saving results in /content/drive/My Drive/Projects/DeepLabCut/all_combined_tracker-aes-2022-06-22/videos...\n",
            "Saving csv poses!\n",
            "Starting to analyze %  /content/drive/My Drive/Projects/DeepLabCut/all_combined_tracker-aes-2022-06-22/videos/RC8_220122_1of2.mp4\n",
            "Loading  /content/drive/My Drive/Projects/DeepLabCut/all_combined_tracker-aes-2022-06-22/videos/RC8_220122_1of2.mp4\n",
            "Duration of video [s]:  247.85 , recorded with  29.98 fps!\n",
            "Overall # of frames:  7430  found with (before cropping) frame dimensions:  1920 1080\n",
            "Starting to extract posture\n"
          ]
        },
        {
          "name": "stderr",
          "output_type": "stream",
          "text": [
            "100%|█████████▉| 7400/7430 [11:13<00:02, 10.98it/s]\n"
          ]
        },
        {
          "name": "stdout",
          "output_type": "stream",
          "text": [
            "Saving results in /content/drive/My Drive/Projects/DeepLabCut/all_combined_tracker-aes-2022-06-22/videos...\n",
            "Saving csv poses!\n",
            "Starting to analyze %  /content/drive/My Drive/Projects/DeepLabCut/all_combined_tracker-aes-2022-06-22/videos/MsOpto 22 02.08.2021 (1of2).mp4\n",
            "Loading  /content/drive/My Drive/Projects/DeepLabCut/all_combined_tracker-aes-2022-06-22/videos/MsOpto 22 02.08.2021 (1of2).mp4\n",
            "Duration of video [s]:  91.07 , recorded with  29.98 fps!\n",
            "Overall # of frames:  2730  found with (before cropping) frame dimensions:  1920 1080\n",
            "Starting to extract posture\n"
          ]
        },
        {
          "name": "stderr",
          "output_type": "stream",
          "text": [
            "100%|█████████▉| 2727/2730 [04:07<00:00, 11.00it/s]\n"
          ]
        },
        {
          "name": "stdout",
          "output_type": "stream",
          "text": [
            "Saving results in /content/drive/My Drive/Projects/DeepLabCut/all_combined_tracker-aes-2022-06-22/videos...\n",
            "Saving csv poses!\n",
            "Starting to analyze %  /content/drive/My Drive/Projects/DeepLabCut/all_combined_tracker-aes-2022-06-22/videos/Rear2 06.28.2021 (1of2).mp4\n",
            "Loading  /content/drive/My Drive/Projects/DeepLabCut/all_combined_tracker-aes-2022-06-22/videos/Rear2 06.28.2021 (1of2).mp4\n",
            "Duration of video [s]:  86.67 , recorded with  29.98 fps!\n",
            "Overall # of frames:  2598  found with (before cropping) frame dimensions:  1920 1080\n",
            "Starting to extract posture\n"
          ]
        },
        {
          "name": "stderr",
          "output_type": "stream",
          "text": [
            " 99%|█████████▉| 2575/2598 [03:56<00:02, 10.88it/s]"
          ]
        },
        {
          "name": "stdout",
          "output_type": "stream",
          "text": [
            "Saving results in /content/drive/My Drive/Projects/DeepLabCut/all_combined_tracker-aes-2022-06-22/videos...\n",
            "Saving csv poses!\n",
            "The videos are analyzed. Now your research can truly start! \n",
            " You can create labeled videos with 'create_labeled_video'\n",
            "If the tracking is not satisfactory for some videos, consider expanding the training set. You can use the function 'extract_outlier_frames' to extract a few representative outlier frames.\n"
          ]
        },
        {
          "name": "stderr",
          "output_type": "stream",
          "text": [
            "\n"
          ]
        },
        {
          "data": {
            "application/vnd.google.colaboratory.intrinsic+json": {
              "type": "string"
            },
            "text/plain": [
              "'DLC_resnet50_all_combined_trackerJun22shuffle1_292000'"
            ]
          },
          "execution_count": 8,
          "metadata": {},
          "output_type": "execute_result"
        }
      ],
      "source": [
        "deeplabcut.analyze_videos(path_config_file,testVideo_path, videotype='mp4', save_as_csv=True)\n",
        "#deeplabcut.plot_trajectories(path_config_file,testVideo_path, videotype='mp4')"
      ]
    },
    {
      "cell_type": "code",
      "execution_count": null,
      "metadata": {
        "id": "KS534e7iY4ye"
      },
      "outputs": [],
      "source": [
        "deeplabcut.create_labeled_video(path_config_file,testVideo_path, videotype='mp4',draw_skeleton=False,save_frames=False)"
      ]
    },
    {
      "cell_type": "markdown",
      "metadata": {
        "id": "v342H6Bbyv7R"
      },
      "source": [
        "To store the coordinates for each body part in a csv file, run the store_coordinates(video_name) function. csv will be located with rest of file."
      ]
    },
    {
      "cell_type": "markdown",
      "metadata": {
        "id": "TUM6bGQatBIi"
      },
      "source": [
        "# REFINE A TRAINED NETWORK\n"
      ]
    },
    {
      "cell_type": "code",
      "execution_count": null,
      "metadata": {
        "colab": {
          "base_uri": "https://localhost:8080/"
        },
        "id": "6c-p6GjYrzPs",
        "outputId": "d426b673-fbbd-4662-e433-26de8719a57a"
      },
      "outputs": [
        {
          "name": "stdout",
          "output_type": "stream",
          "text": [
            "Analyzing all the videos in the directory...\n"
          ]
        },
        {
          "name": "stderr",
          "output_type": "stream",
          "text": [
            "/usr/local/lib/python3.7/dist-packages/deeplabcut/refine_training_dataset/outlier_frames.py:390: FutureWarning: Using the level keyword in DataFrame and Series aggregations is deprecated and will be removed in a future version. Use groupby instead. df.sum(level=1) should use df.groupby(level=1).sum().\n",
            "  sum_ = temp_dt.sum(axis=1, level=1)\n"
          ]
        },
        {
          "name": "stdout",
          "output_type": "stream",
          "text": [
            "Method  jump  found  805  putative outlier frames.\n",
            "Do you want to proceed with extracting  20  of those?\n",
            "If this list is very large, perhaps consider changing the parameters (start, stop, p_bound, comparisonbodyparts) or use a different method.\n",
            "Frames from video RC8_220122_1of2  already extracted (more will be added)!\n",
            "Loading video...\n",
            "Duration of video [s]:  247.83188792528352 , recorded @  29.98 fps!\n",
            "Overall # of frames:  7430 with (cropped) frame dimensions: \n",
            "Kmeans-quantization based extracting of frames from 0.0  seconds to 247.83  seconds.\n",
            "Extracting and downsampling... 805  frames from the video.\n"
          ]
        },
        {
          "name": "stderr",
          "output_type": "stream",
          "text": [
            "805it [05:18,  2.53it/s]\n"
          ]
        },
        {
          "name": "stdout",
          "output_type": "stream",
          "text": [
            "Kmeans clustering ... (this might take a while)\n",
            "Let's select frames indices: [29, 696, 813, 744, 5599, 5673, 3682, 889, 792, 4726, 5680, 5429, 6774, 796, 766, 800, 27, 2866, 492, 6782]\n",
            "Attempting to create a symbolic link of the video ...\n",
            "Symlink creation impossible (exFat architecture?): cutting/pasting the video instead.\n",
            "/content/drive/My Drive/Projects/DeepLabCut/all_combined_tracker-aes-2022-06-22/videos/RC8_220122_1of2.mp4 moved to /content/drive/My Drive/Projects/DeepLabCut/all_combined_tracker-aes-2022-06-22/videos/RC8_220122_1of2.mp4\n",
            "New videos were added to the project! Use the function 'extract_frames' to select frames for labeling.\n",
            "The outlier frames are extracted. They are stored in the subdirectory labeled-data\\RC8_220122_1of2.\n",
            "Once you extracted frames for all videos, use 'refine_labels' to manually correct the labels.\n",
            "Method  jump  found  247  putative outlier frames.\n",
            "Do you want to proceed with extracting  20  of those?\n",
            "If this list is very large, perhaps consider changing the parameters (start, stop, p_bound, comparisonbodyparts) or use a different method.\n",
            "Frames from video Rear2 08.13.2021 (1of2) Retrain  already extracted (more will be added)!\n",
            "Loading video...\n"
          ]
        },
        {
          "name": "stderr",
          "output_type": "stream",
          "text": [
            "/usr/local/lib/python3.7/dist-packages/deeplabcut/refine_training_dataset/outlier_frames.py:390: FutureWarning: Using the level keyword in DataFrame and Series aggregations is deprecated and will be removed in a future version. Use groupby instead. df.sum(level=1) should use df.groupby(level=1).sum().\n",
            "  sum_ = temp_dt.sum(axis=1, level=1)\n"
          ]
        },
        {
          "name": "stdout",
          "output_type": "stream",
          "text": [
            "Duration of video [s]:  159.606404269513 , recorded @  29.98 fps!\n",
            "Overall # of frames:  4785 with (cropped) frame dimensions: \n",
            "Kmeans-quantization based extracting of frames from 0.0  seconds to 159.61  seconds.\n",
            "Extracting and downsampling... 247  frames from the video.\n"
          ]
        },
        {
          "name": "stderr",
          "output_type": "stream",
          "text": [
            "247it [01:39,  2.49it/s]\n"
          ]
        },
        {
          "name": "stdout",
          "output_type": "stream",
          "text": [
            "Kmeans clustering ... (this might take a while)\n",
            "Let's select frames indices: [2667, 4342, 1654, 1007, 2519, 44, 3492, 1601, 4364, 489, 2107, 4759, 3726, 4308, 4539, 3483, 4690, 3053, 2575, 2013]\n",
            "Attempting to create a symbolic link of the video ...\n",
            "Symlink creation impossible (exFat architecture?): cutting/pasting the video instead.\n",
            "/content/drive/My Drive/Projects/DeepLabCut/all_combined_tracker-aes-2022-06-22/videos/Rear2 08.13.2021 (1of2) Retrain.mp4 moved to /content/drive/My Drive/Projects/DeepLabCut/all_combined_tracker-aes-2022-06-22/videos/Rear2 08.13.2021 (1of2) Retrain.mp4\n",
            "New videos were added to the project! Use the function 'extract_frames' to select frames for labeling.\n",
            "The outlier frames are extracted. They are stored in the subdirectory labeled-data\\Rear2 08.13.2021 (1of2) Retrain.\n",
            "Once you extracted frames for all videos, use 'refine_labels' to manually correct the labels.\n"
          ]
        },
        {
          "name": "stderr",
          "output_type": "stream",
          "text": [
            "/usr/local/lib/python3.7/dist-packages/deeplabcut/refine_training_dataset/outlier_frames.py:390: FutureWarning: Using the level keyword in DataFrame and Series aggregations is deprecated and will be removed in a future version. Use groupby instead. df.sum(level=1) should use df.groupby(level=1).sum().\n",
            "  sum_ = temp_dt.sum(axis=1, level=1)\n"
          ]
        },
        {
          "name": "stdout",
          "output_type": "stream",
          "text": [
            "Method  jump  found  143  putative outlier frames.\n",
            "Do you want to proceed with extracting  20  of those?\n",
            "If this list is very large, perhaps consider changing the parameters (start, stop, p_bound, comparisonbodyparts) or use a different method.\n",
            "Frames from video RC3_220125_1of2  already extracted (more will be added)!\n",
            "Loading video...\n",
            "Duration of video [s]:  160.07338225483656 , recorded @  29.98 fps!\n",
            "Overall # of frames:  4799 with (cropped) frame dimensions: \n",
            "Kmeans-quantization based extracting of frames from 0.0  seconds to 160.07  seconds.\n",
            "Extracting and downsampling... 143  frames from the video.\n"
          ]
        },
        {
          "name": "stderr",
          "output_type": "stream",
          "text": [
            "143it [01:01,  2.32it/s]\n"
          ]
        },
        {
          "name": "stdout",
          "output_type": "stream",
          "text": [
            "Kmeans clustering ... (this might take a while)\n",
            "Let's select frames indices: [3149, 4208, 1933, 1543, 3180, 2644, 4710, 2641, 2055, 4437, 4246, 3121, 267, 4663, 1815, 4441, 415, 4282, 3461, 4442]\n",
            "Attempting to create a symbolic link of the video ...\n",
            "Symlink creation impossible (exFat architecture?): cutting/pasting the video instead.\n",
            "/content/drive/My Drive/Projects/DeepLabCut/all_combined_tracker-aes-2022-06-22/videos/RC3_220125_1of2.mp4 moved to /content/drive/My Drive/Projects/DeepLabCut/all_combined_tracker-aes-2022-06-22/videos/RC3_220125_1of2.mp4\n",
            "New videos were added to the project! Use the function 'extract_frames' to select frames for labeling.\n",
            "The outlier frames are extracted. They are stored in the subdirectory labeled-data\\RC3_220125_1of2.\n",
            "Once you extracted frames for all videos, use 'refine_labels' to manually correct the labels.\n",
            "Method  jump  found  229  putative outlier frames.\n",
            "Do you want to proceed with extracting  20  of those?\n",
            "If this list is very large, perhaps consider changing the parameters (start, stop, p_bound, comparisonbodyparts) or use a different method.\n",
            "Frames from video MS opto 23 07.28.2021 retrain (1 of 2)  already extracted (more will be added)!\n",
            "Loading video...\n"
          ]
        },
        {
          "name": "stderr",
          "output_type": "stream",
          "text": [
            "/usr/local/lib/python3.7/dist-packages/deeplabcut/refine_training_dataset/outlier_frames.py:390: FutureWarning: Using the level keyword in DataFrame and Series aggregations is deprecated and will be removed in a future version. Use groupby instead. df.sum(level=1) should use df.groupby(level=1).sum().\n",
            "  sum_ = temp_dt.sum(axis=1, level=1)\n"
          ]
        },
        {
          "name": "stdout",
          "output_type": "stream",
          "text": [
            "Duration of video [s]:  235.790527018012 , recorded @  29.98 fps!\n",
            "Overall # of frames:  7069 with (cropped) frame dimensions: \n",
            "Kmeans-quantization based extracting of frames from 0.0  seconds to 235.79  seconds.\n",
            "Extracting and downsampling... 229  frames from the video.\n"
          ]
        },
        {
          "name": "stderr",
          "output_type": "stream",
          "text": [
            "229it [01:32,  2.48it/s]\n"
          ]
        },
        {
          "name": "stdout",
          "output_type": "stream",
          "text": [
            "Kmeans clustering ... (this might take a while)\n",
            "Let's select frames indices: [67, 589, 187, 6806, 5616, 175, 3956, 163, 143, 2837, 154, 2786, 38, 170, 5424, 6731, 613, 6822, 1121, 666]\n",
            "Attempting to create a symbolic link of the video ...\n",
            "Symlink creation impossible (exFat architecture?): cutting/pasting the video instead.\n",
            "/content/drive/My Drive/Projects/DeepLabCut/all_combined_tracker-aes-2022-06-22/videos/MS opto 23 07.28.2021 retrain (1 of 2).mp4 moved to /content/drive/My Drive/Projects/DeepLabCut/all_combined_tracker-aes-2022-06-22/videos/MS opto 23 07.28.2021 retrain (1 of 2).mp4\n",
            "New videos were added to the project! Use the function 'extract_frames' to select frames for labeling.\n",
            "The outlier frames are extracted. They are stored in the subdirectory labeled-data\\MS opto 23 07.28.2021 retrain (1 of 2).\n",
            "Once you extracted frames for all videos, use 'refine_labels' to manually correct the labels.\n"
          ]
        },
        {
          "name": "stderr",
          "output_type": "stream",
          "text": [
            "/usr/local/lib/python3.7/dist-packages/deeplabcut/refine_training_dataset/outlier_frames.py:390: FutureWarning: Using the level keyword in DataFrame and Series aggregations is deprecated and will be removed in a future version. Use groupby instead. df.sum(level=1) should use df.groupby(level=1).sum().\n",
            "  sum_ = temp_dt.sum(axis=1, level=1)\n"
          ]
        },
        {
          "name": "stdout",
          "output_type": "stream",
          "text": [
            "Method  jump  found  1481  putative outlier frames.\n",
            "Do you want to proceed with extracting  20  of those?\n",
            "If this list is very large, perhaps consider changing the parameters (start, stop, p_bound, comparisonbodyparts) or use a different method.\n",
            "Frames from video RC6_220215_1of2  already extracted (more will be added)!\n",
            "Loading video...\n",
            "Duration of video [s]:  258.43895930620414 , recorded @  29.98 fps!\n",
            "Overall # of frames:  7748 with (cropped) frame dimensions: \n",
            "Kmeans-quantization based extracting of frames from 0.0  seconds to 258.44  seconds.\n",
            "Extracting and downsampling... 1481  frames from the video.\n"
          ]
        },
        {
          "name": "stderr",
          "output_type": "stream",
          "text": [
            "1481it [09:44,  2.54it/s]\n"
          ]
        },
        {
          "name": "stdout",
          "output_type": "stream",
          "text": [
            "Kmeans clustering ... (this might take a while)\n",
            "Let's select frames indices: [559, 6763, 555, 1361, 4604, 4761, 34, 3773, 5520, 6764, 931, 4517, 5098, 793, 1516, 946, 6498, 925, 5047, 2270]\n",
            "Attempting to create a symbolic link of the video ...\n",
            "Symlink creation impossible (exFat architecture?): cutting/pasting the video instead.\n",
            "/content/drive/My Drive/Projects/DeepLabCut/all_combined_tracker-aes-2022-06-22/videos/RC6_220215_1of2.mp4 moved to /content/drive/My Drive/Projects/DeepLabCut/all_combined_tracker-aes-2022-06-22/videos/RC6_220215_1of2.mp4\n",
            "New videos were added to the project! Use the function 'extract_frames' to select frames for labeling.\n",
            "The outlier frames are extracted. They are stored in the subdirectory labeled-data\\RC6_220215_1of2.\n",
            "Once you extracted frames for all videos, use 'refine_labels' to manually correct the labels.\n",
            "Method  jump  found  79  putative outlier frames.\n",
            "Do you want to proceed with extracting  20  of those?\n",
            "If this list is very large, perhaps consider changing the parameters (start, stop, p_bound, comparisonbodyparts) or use a different method.\n",
            "Frames from video MsOpto 24 08.13.2021 (1of2) Retrain  already extracted (more will be added)!\n",
            "Loading video...\n"
          ]
        },
        {
          "name": "stderr",
          "output_type": "stream",
          "text": [
            "/usr/local/lib/python3.7/dist-packages/deeplabcut/refine_training_dataset/outlier_frames.py:390: FutureWarning: Using the level keyword in DataFrame and Series aggregations is deprecated and will be removed in a future version. Use groupby instead. df.sum(level=1) should use df.groupby(level=1).sum().\n",
            "  sum_ = temp_dt.sum(axis=1, level=1)\n"
          ]
        },
        {
          "name": "stdout",
          "output_type": "stream",
          "text": [
            "Duration of video [s]:  109.73982655103403 , recorded @  29.98 fps!\n",
            "Overall # of frames:  3290 with (cropped) frame dimensions: \n",
            "Kmeans-quantization based extracting of frames from 0.0  seconds to 109.74  seconds.\n",
            "Extracting and downsampling... 79  frames from the video.\n"
          ]
        },
        {
          "name": "stderr",
          "output_type": "stream",
          "text": [
            "79it [00:31,  2.54it/s]\n"
          ]
        },
        {
          "name": "stdout",
          "output_type": "stream",
          "text": [
            "Kmeans clustering ... (this might take a while)\n",
            "Let's select frames indices: [1505, 1471, 2016, 2279, 1680, 3252, 2780, 2285, 3048, 2022, 2015, 2775, 1483, 2788, 1489, 2280, 1675, 1419, 1691, 1539]\n",
            "Attempting to create a symbolic link of the video ...\n",
            "Symlink creation impossible (exFat architecture?): cutting/pasting the video instead.\n",
            "/content/drive/My Drive/Projects/DeepLabCut/all_combined_tracker-aes-2022-06-22/videos/MsOpto 24 08.13.2021 (1of2) Retrain.mp4 moved to /content/drive/My Drive/Projects/DeepLabCut/all_combined_tracker-aes-2022-06-22/videos/MsOpto 24 08.13.2021 (1of2) Retrain.mp4\n",
            "New videos were added to the project! Use the function 'extract_frames' to select frames for labeling.\n",
            "The outlier frames are extracted. They are stored in the subdirectory labeled-data\\MsOpto 24 08.13.2021 (1of2) Retrain.\n",
            "Once you extracted frames for all videos, use 'refine_labels' to manually correct the labels.\n",
            "Method  jump  found  810  putative outlier frames.\n",
            "Do you want to proceed with extracting  20  of those?\n",
            "If this list is very large, perhaps consider changing the parameters (start, stop, p_bound, comparisonbodyparts) or use a different method.\n",
            "Frames from video RC5_220121_1of2  already extracted (more will be added)!\n",
            "Loading video...\n"
          ]
        },
        {
          "name": "stderr",
          "output_type": "stream",
          "text": [
            "/usr/local/lib/python3.7/dist-packages/deeplabcut/refine_training_dataset/outlier_frames.py:390: FutureWarning: Using the level keyword in DataFrame and Series aggregations is deprecated and will be removed in a future version. Use groupby instead. df.sum(level=1) should use df.groupby(level=1).sum().\n",
            "  sum_ = temp_dt.sum(axis=1, level=1)\n"
          ]
        },
        {
          "name": "stdout",
          "output_type": "stream",
          "text": [
            "Duration of video [s]:  208.9726484322882 , recorded @  29.98 fps!\n",
            "Overall # of frames:  6265 with (cropped) frame dimensions: \n",
            "Kmeans-quantization based extracting of frames from 0.0  seconds to 208.97  seconds.\n",
            "Extracting and downsampling... 810  frames from the video.\n"
          ]
        },
        {
          "name": "stderr",
          "output_type": "stream",
          "text": [
            "810it [05:24,  2.50it/s]\n"
          ]
        },
        {
          "name": "stdout",
          "output_type": "stream",
          "text": [
            "Kmeans clustering ... (this might take a while)\n",
            "Let's select frames indices: [5758, 4, 3675, 607, 676, 3134, 6142, 685, 694, 2969, 654, 50, 5195, 4739, 669, 5466, 437, 643, 1549, 557]\n",
            "Attempting to create a symbolic link of the video ...\n",
            "Symlink creation impossible (exFat architecture?): cutting/pasting the video instead.\n",
            "/content/drive/My Drive/Projects/DeepLabCut/all_combined_tracker-aes-2022-06-22/videos/RC5_220121_1of2.mp4 moved to /content/drive/My Drive/Projects/DeepLabCut/all_combined_tracker-aes-2022-06-22/videos/RC5_220121_1of2.mp4\n",
            "New videos were added to the project! Use the function 'extract_frames' to select frames for labeling.\n",
            "The outlier frames are extracted. They are stored in the subdirectory labeled-data\\RC5_220121_1of2.\n",
            "Once you extracted frames for all videos, use 'refine_labels' to manually correct the labels.\n",
            "Method  jump  found  250  putative outlier frames.\n",
            "Do you want to proceed with extracting  20  of those?\n",
            "If this list is very large, perhaps consider changing the parameters (start, stop, p_bound, comparisonbodyparts) or use a different method.\n",
            "Frames from video RC4_220118_1of2  already extracted (more will be added)!\n",
            "Loading video...\n"
          ]
        },
        {
          "name": "stderr",
          "output_type": "stream",
          "text": [
            "/usr/local/lib/python3.7/dist-packages/deeplabcut/refine_training_dataset/outlier_frames.py:390: FutureWarning: Using the level keyword in DataFrame and Series aggregations is deprecated and will be removed in a future version. Use groupby instead. df.sum(level=1) should use df.groupby(level=1).sum().\n",
            "  sum_ = temp_dt.sum(axis=1, level=1)\n"
          ]
        },
        {
          "name": "stdout",
          "output_type": "stream",
          "text": [
            "Duration of video [s]:  118.54569713142095 , recorded @  29.98 fps!\n",
            "Overall # of frames:  3554 with (cropped) frame dimensions: \n",
            "Kmeans-quantization based extracting of frames from 0.0  seconds to 118.55  seconds.\n",
            "Extracting and downsampling... 250  frames from the video.\n"
          ]
        },
        {
          "name": "stderr",
          "output_type": "stream",
          "text": [
            "250it [01:37,  2.56it/s]\n"
          ]
        },
        {
          "name": "stdout",
          "output_type": "stream",
          "text": [
            "Kmeans clustering ... (this might take a while)\n",
            "Let's select frames indices: [2660, 1762, 38, 1632, 2074, 486, 1999, 76, 1393, 3497, 2666, 1509, 1939, 79, 553, 40, 2241, 31, 1770, 3511]\n",
            "Attempting to create a symbolic link of the video ...\n",
            "Symlink creation impossible (exFat architecture?): cutting/pasting the video instead.\n",
            "/content/drive/My Drive/Projects/DeepLabCut/all_combined_tracker-aes-2022-06-22/videos/RC4_220118_1of2.mp4 moved to /content/drive/My Drive/Projects/DeepLabCut/all_combined_tracker-aes-2022-06-22/videos/RC4_220118_1of2.mp4\n",
            "New videos were added to the project! Use the function 'extract_frames' to select frames for labeling.\n",
            "The outlier frames are extracted. They are stored in the subdirectory labeled-data\\RC4_220118_1of2.\n",
            "Once you extracted frames for all videos, use 'refine_labels' to manually correct the labels.\n",
            "Method  jump  found  689  putative outlier frames.\n",
            "Do you want to proceed with extracting  20  of those?\n",
            "If this list is very large, perhaps consider changing the parameters (start, stop, p_bound, comparisonbodyparts) or use a different method.\n",
            "Frames from video RC5_220127_1of2  already extracted (more will be added)!\n",
            "Loading video...\n"
          ]
        },
        {
          "name": "stderr",
          "output_type": "stream",
          "text": [
            "/usr/local/lib/python3.7/dist-packages/deeplabcut/refine_training_dataset/outlier_frames.py:390: FutureWarning: Using the level keyword in DataFrame and Series aggregations is deprecated and will be removed in a future version. Use groupby instead. df.sum(level=1) should use df.groupby(level=1).sum().\n",
            "  sum_ = temp_dt.sum(axis=1, level=1)\n"
          ]
        },
        {
          "name": "stdout",
          "output_type": "stream",
          "text": [
            "Duration of video [s]:  180.0533689126084 , recorded @  29.98 fps!\n",
            "Overall # of frames:  5398 with (cropped) frame dimensions: \n",
            "Kmeans-quantization based extracting of frames from 0.0  seconds to 180.05  seconds.\n",
            "Extracting and downsampling... 689  frames from the video.\n"
          ]
        },
        {
          "name": "stderr",
          "output_type": "stream",
          "text": [
            "689it [04:28,  2.56it/s]\n"
          ]
        },
        {
          "name": "stdout",
          "output_type": "stream",
          "text": [
            "Kmeans clustering ... (this might take a while)\n",
            "Let's select frames indices: [1153, 501, 238, 1010, 818, 2391, 3999, 584, 833, 788, 152, 779, 5298, 751, 2860, 765, 801, 862, 3887, 3920]\n",
            "Attempting to create a symbolic link of the video ...\n",
            "Symlink creation impossible (exFat architecture?): cutting/pasting the video instead.\n",
            "/content/drive/My Drive/Projects/DeepLabCut/all_combined_tracker-aes-2022-06-22/videos/RC5_220127_1of2.mp4 moved to /content/drive/My Drive/Projects/DeepLabCut/all_combined_tracker-aes-2022-06-22/videos/RC5_220127_1of2.mp4\n",
            "New videos were added to the project! Use the function 'extract_frames' to select frames for labeling.\n",
            "The outlier frames are extracted. They are stored in the subdirectory labeled-data\\RC5_220127_1of2.\n",
            "Once you extracted frames for all videos, use 'refine_labels' to manually correct the labels.\n"
          ]
        },
        {
          "name": "stderr",
          "output_type": "stream",
          "text": [
            "/usr/local/lib/python3.7/dist-packages/deeplabcut/refine_training_dataset/outlier_frames.py:390: FutureWarning: Using the level keyword in DataFrame and Series aggregations is deprecated and will be removed in a future version. Use groupby instead. df.sum(level=1) should use df.groupby(level=1).sum().\n",
            "  sum_ = temp_dt.sum(axis=1, level=1)\n"
          ]
        },
        {
          "name": "stdout",
          "output_type": "stream",
          "text": [
            "Method  jump  found  514  putative outlier frames.\n",
            "Do you want to proceed with extracting  20  of those?\n",
            "If this list is very large, perhaps consider changing the parameters (start, stop, p_bound, comparisonbodyparts) or use a different method.\n",
            "Frames from video RC9_220131_1of2  already extracted (more will be added)!\n",
            "Loading video...\n",
            "Duration of video [s]:  157.57171447631754 , recorded @  29.98 fps!\n",
            "Overall # of frames:  4724 with (cropped) frame dimensions: \n",
            "Kmeans-quantization based extracting of frames from 0.0  seconds to 157.57  seconds.\n",
            "Extracting and downsampling... 514  frames from the video.\n"
          ]
        },
        {
          "name": "stderr",
          "output_type": "stream",
          "text": [
            "514it [03:22,  2.54it/s]\n"
          ]
        },
        {
          "name": "stdout",
          "output_type": "stream",
          "text": [
            "Kmeans clustering ... (this might take a while)\n",
            "Let's select frames indices: [1199, 3862, 2272, 2738, 149, 987, 4585, 2911, 1972, 4368, 290, 3358, 4577, 1987, 1551, 989, 1808, 3690, 3437, 3582]\n",
            "Attempting to create a symbolic link of the video ...\n",
            "Symlink creation impossible (exFat architecture?): cutting/pasting the video instead.\n",
            "/content/drive/My Drive/Projects/DeepLabCut/all_combined_tracker-aes-2022-06-22/videos/RC9_220131_1of2.mp4 moved to /content/drive/My Drive/Projects/DeepLabCut/all_combined_tracker-aes-2022-06-22/videos/RC9_220131_1of2.mp4\n",
            "New videos were added to the project! Use the function 'extract_frames' to select frames for labeling.\n",
            "The outlier frames are extracted. They are stored in the subdirectory labeled-data\\RC9_220131_1of2.\n",
            "Once you extracted frames for all videos, use 'refine_labels' to manually correct the labels.\n",
            "Method  jump  found  1110  putative outlier frames.\n",
            "Do you want to proceed with extracting  20  of those?\n",
            "If this list is very large, perhaps consider changing the parameters (start, stop, p_bound, comparisonbodyparts) or use a different method.\n",
            "Frames from video RC5_220202_1of2  already extracted (more will be added)!\n",
            "Loading video...\n"
          ]
        },
        {
          "name": "stderr",
          "output_type": "stream",
          "text": [
            "/usr/local/lib/python3.7/dist-packages/deeplabcut/refine_training_dataset/outlier_frames.py:390: FutureWarning: Using the level keyword in DataFrame and Series aggregations is deprecated and will be removed in a future version. Use groupby instead. df.sum(level=1) should use df.groupby(level=1).sum().\n",
            "  sum_ = temp_dt.sum(axis=1, level=1)\n"
          ]
        },
        {
          "name": "stdout",
          "output_type": "stream",
          "text": [
            "Duration of video [s]:  223.5156771180787 , recorded @  29.98 fps!\n",
            "Overall # of frames:  6701 with (cropped) frame dimensions: \n",
            "Kmeans-quantization based extracting of frames from 0.0  seconds to 223.52  seconds.\n",
            "Extracting and downsampling... 1110  frames from the video.\n"
          ]
        },
        {
          "name": "stderr",
          "output_type": "stream",
          "text": [
            "1110it [07:16,  2.55it/s]\n"
          ]
        },
        {
          "name": "stdout",
          "output_type": "stream",
          "text": [
            "Kmeans clustering ... (this might take a while)\n",
            "Let's select frames indices: [361, 750, 890, 3644, 4271, 719, 4528, 4747, 1214, 1176, 1201, 2220, 21, 2203, 5681, 3582, 1191, 2731, 4146, 4979]\n",
            "Attempting to create a symbolic link of the video ...\n",
            "Symlink creation impossible (exFat architecture?): cutting/pasting the video instead.\n",
            "/content/drive/My Drive/Projects/DeepLabCut/all_combined_tracker-aes-2022-06-22/videos/RC5_220202_1of2.mp4 moved to /content/drive/My Drive/Projects/DeepLabCut/all_combined_tracker-aes-2022-06-22/videos/RC5_220202_1of2.mp4\n",
            "New videos were added to the project! Use the function 'extract_frames' to select frames for labeling.\n",
            "The outlier frames are extracted. They are stored in the subdirectory labeled-data\\RC5_220202_1of2.\n",
            "Once you extracted frames for all videos, use 'refine_labels' to manually correct the labels.\n",
            "Method  jump  found  473  putative outlier frames.\n",
            "Do you want to proceed with extracting  20  of those?\n",
            "If this list is very large, perhaps consider changing the parameters (start, stop, p_bound, comparisonbodyparts) or use a different method.\n",
            "Frames from video RC6_220217_1of2  already extracted (more will be added)!\n",
            "Loading video...\n"
          ]
        },
        {
          "name": "stderr",
          "output_type": "stream",
          "text": [
            "/usr/local/lib/python3.7/dist-packages/deeplabcut/refine_training_dataset/outlier_frames.py:390: FutureWarning: Using the level keyword in DataFrame and Series aggregations is deprecated and will be removed in a future version. Use groupby instead. df.sum(level=1) should use df.groupby(level=1).sum().\n",
            "  sum_ = temp_dt.sum(axis=1, level=1)\n"
          ]
        },
        {
          "name": "stdout",
          "output_type": "stream",
          "text": [
            "Duration of video [s]:  323.08205470313544 , recorded @  29.98 fps!\n",
            "Overall # of frames:  9686 with (cropped) frame dimensions: \n",
            "Kmeans-quantization based extracting of frames from 0.0  seconds to 323.08  seconds.\n",
            "Extracting and downsampling... 473  frames from the video.\n"
          ]
        },
        {
          "name": "stderr",
          "output_type": "stream",
          "text": [
            "473it [03:09,  2.50it/s]\n"
          ]
        },
        {
          "name": "stdout",
          "output_type": "stream",
          "text": [
            "Kmeans clustering ... (this might take a while)\n",
            "Let's select frames indices: [9652, 133, 2875, 8953, 3770, 5529, 9365, 1376, 5315, 212, 4106, 8348, 206, 9481, 215, 675, 4088, 245, 1476, 655]\n",
            "Attempting to create a symbolic link of the video ...\n",
            "Symlink creation impossible (exFat architecture?): cutting/pasting the video instead.\n",
            "/content/drive/My Drive/Projects/DeepLabCut/all_combined_tracker-aes-2022-06-22/videos/RC6_220217_1of2.mp4 moved to /content/drive/My Drive/Projects/DeepLabCut/all_combined_tracker-aes-2022-06-22/videos/RC6_220217_1of2.mp4\n",
            "New videos were added to the project! Use the function 'extract_frames' to select frames for labeling.\n",
            "The outlier frames are extracted. They are stored in the subdirectory labeled-data\\RC6_220217_1of2.\n",
            "Once you extracted frames for all videos, use 'refine_labels' to manually correct the labels.\n"
          ]
        },
        {
          "name": "stderr",
          "output_type": "stream",
          "text": [
            "/usr/local/lib/python3.7/dist-packages/deeplabcut/refine_training_dataset/outlier_frames.py:390: FutureWarning: Using the level keyword in DataFrame and Series aggregations is deprecated and will be removed in a future version. Use groupby instead. df.sum(level=1) should use df.groupby(level=1).sum().\n",
            "  sum_ = temp_dt.sum(axis=1, level=1)\n"
          ]
        },
        {
          "name": "stdout",
          "output_type": "stream",
          "text": [
            "Method  jump  found  282  putative outlier frames.\n",
            "Do you want to proceed with extracting  20  of those?\n",
            "If this list is very large, perhaps consider changing the parameters (start, stop, p_bound, comparisonbodyparts) or use a different method.\n",
            "Frames from video RC3_220127_1of2  already extracted (more will be added)!\n",
            "Loading video...\n",
            "Duration of video [s]:  181.15410273515675 , recorded @  29.98 fps!\n",
            "Overall # of frames:  5431 with (cropped) frame dimensions: \n",
            "Kmeans-quantization based extracting of frames from 0.0  seconds to 181.15  seconds.\n",
            "Extracting and downsampling... 282  frames from the video.\n"
          ]
        },
        {
          "name": "stderr",
          "output_type": "stream",
          "text": [
            "282it [01:47,  2.62it/s]\n"
          ]
        },
        {
          "name": "stdout",
          "output_type": "stream",
          "text": [
            "Kmeans clustering ... (this might take a while)\n",
            "Let's select frames indices: [286, 92, 3506, 51, 4409, 82, 5327, 1669, 4587, 18, 3810, 4619, 2878, 66, 3299, 3861, 2134, 110, 75, 613]\n",
            "Attempting to create a symbolic link of the video ...\n",
            "Symlink creation impossible (exFat architecture?): cutting/pasting the video instead.\n",
            "/content/drive/My Drive/Projects/DeepLabCut/all_combined_tracker-aes-2022-06-22/videos/RC3_220127_1of2.mp4 moved to /content/drive/My Drive/Projects/DeepLabCut/all_combined_tracker-aes-2022-06-22/videos/RC3_220127_1of2.mp4\n",
            "New videos were added to the project! Use the function 'extract_frames' to select frames for labeling.\n",
            "The outlier frames are extracted. They are stored in the subdirectory labeled-data\\RC3_220127_1of2.\n",
            "Once you extracted frames for all videos, use 'refine_labels' to manually correct the labels.\n",
            "Method  jump  found  554  putative outlier frames.\n",
            "Do you want to proceed with extracting  20  of those?\n",
            "If this list is very large, perhaps consider changing the parameters (start, stop, p_bound, comparisonbodyparts) or use a different method.\n",
            "Frames from video Rear 4 08.18.2021 (1of2)  already extracted (more will be added)!\n",
            "Loading video...\n"
          ]
        },
        {
          "name": "stderr",
          "output_type": "stream",
          "text": [
            "/usr/local/lib/python3.7/dist-packages/deeplabcut/refine_training_dataset/outlier_frames.py:390: FutureWarning: Using the level keyword in DataFrame and Series aggregations is deprecated and will be removed in a future version. Use groupby instead. df.sum(level=1) should use df.groupby(level=1).sum().\n",
            "  sum_ = temp_dt.sum(axis=1, level=1)\n"
          ]
        },
        {
          "name": "stdout",
          "output_type": "stream",
          "text": [
            "Duration of video [s]:  127.0513675783856 , recorded @  29.98 fps!\n",
            "Overall # of frames:  3809 with (cropped) frame dimensions: \n",
            "Kmeans-quantization based extracting of frames from 0.0  seconds to 127.05  seconds.\n",
            "Extracting and downsampling... 554  frames from the video.\n"
          ]
        },
        {
          "name": "stderr",
          "output_type": "stream",
          "text": [
            "554it [03:33,  2.59it/s]\n"
          ]
        },
        {
          "name": "stdout",
          "output_type": "stream",
          "text": [
            "Kmeans clustering ... (this might take a while)\n",
            "Let's select frames indices: [2428, 2679, 3545, 1917, 1736, 970, 3739, 904, 2430, 2565, 1129, 464, 3513, 1886, 333, 395, 2375, 534, 1711, 2292]\n",
            "Attempting to create a symbolic link of the video ...\n",
            "Symlink creation impossible (exFat architecture?): cutting/pasting the video instead.\n",
            "/content/drive/My Drive/Projects/DeepLabCut/all_combined_tracker-aes-2022-06-22/videos/Rear 4 08.18.2021 (1of2).mp4 moved to /content/drive/My Drive/Projects/DeepLabCut/all_combined_tracker-aes-2022-06-22/videos/Rear 4 08.18.2021 (1of2).mp4\n",
            "New videos were added to the project! Use the function 'extract_frames' to select frames for labeling.\n",
            "The outlier frames are extracted. They are stored in the subdirectory labeled-data\\Rear 4 08.18.2021 (1of2).\n",
            "Once you extracted frames for all videos, use 'refine_labels' to manually correct the labels.\n"
          ]
        },
        {
          "name": "stderr",
          "output_type": "stream",
          "text": [
            "/usr/local/lib/python3.7/dist-packages/deeplabcut/refine_training_dataset/outlier_frames.py:390: FutureWarning: Using the level keyword in DataFrame and Series aggregations is deprecated and will be removed in a future version. Use groupby instead. df.sum(level=1) should use df.groupby(level=1).sum().\n",
            "  sum_ = temp_dt.sum(axis=1, level=1)\n"
          ]
        },
        {
          "name": "stdout",
          "output_type": "stream",
          "text": [
            "Method  jump  found  316  putative outlier frames.\n",
            "Do you want to proceed with extracting  20  of those?\n",
            "If this list is very large, perhaps consider changing the parameters (start, stop, p_bound, comparisonbodyparts) or use a different method.\n",
            "Frames from video Rear2 06.28.2021 (1of2)  already extracted (more will be added)!\n",
            "Loading video...\n",
            "Duration of video [s]:  86.6577718478986 , recorded @  29.98 fps!\n",
            "Overall # of frames:  2598 with (cropped) frame dimensions: \n",
            "Kmeans-quantization based extracting of frames from 0.0  seconds to 86.66  seconds.\n",
            "Extracting and downsampling... 316  frames from the video.\n"
          ]
        },
        {
          "name": "stderr",
          "output_type": "stream",
          "text": [
            "316it [02:02,  2.57it/s]\n"
          ]
        },
        {
          "name": "stdout",
          "output_type": "stream",
          "text": [
            "Kmeans clustering ... (this might take a while)\n",
            "Let's select frames indices: [658, 2245, 2410, 278, 1073, 1034, 1225, 2588, 1066, 781, 1524, 480, 1359, 1748, 2251, 1055, 886, 2141, 1508, 2310]\n",
            "Attempting to create a symbolic link of the video ...\n",
            "Symlink creation impossible (exFat architecture?): cutting/pasting the video instead.\n",
            "/content/drive/My Drive/Projects/DeepLabCut/all_combined_tracker-aes-2022-06-22/videos/Rear2 06.28.2021 (1of2).mp4 moved to /content/drive/My Drive/Projects/DeepLabCut/all_combined_tracker-aes-2022-06-22/videos/Rear2 06.28.2021 (1of2).mp4\n",
            "New videos were added to the project! Use the function 'extract_frames' to select frames for labeling.\n",
            "The outlier frames are extracted. They are stored in the subdirectory labeled-data\\Rear2 06.28.2021 (1of2).\n",
            "Once you extracted frames for all videos, use 'refine_labels' to manually correct the labels.\n"
          ]
        },
        {
          "name": "stderr",
          "output_type": "stream",
          "text": [
            "/usr/local/lib/python3.7/dist-packages/deeplabcut/refine_training_dataset/outlier_frames.py:390: FutureWarning: Using the level keyword in DataFrame and Series aggregations is deprecated and will be removed in a future version. Use groupby instead. df.sum(level=1) should use df.groupby(level=1).sum().\n",
            "  sum_ = temp_dt.sum(axis=1, level=1)\n"
          ]
        },
        {
          "name": "stdout",
          "output_type": "stream",
          "text": [
            "Method  jump  found  120  putative outlier frames.\n",
            "Do you want to proceed with extracting  20  of those?\n",
            "If this list is very large, perhaps consider changing the parameters (start, stop, p_bound, comparisonbodyparts) or use a different method.\n",
            "Frames from video MsOpto 25 04.28.2021 (1of2)  already extracted (more will be added)!\n",
            "Loading video...\n",
            "Duration of video [s]:  108.20547031354236 , recorded @  29.98 fps!\n",
            "Overall # of frames:  3244 with (cropped) frame dimensions: \n",
            "Kmeans-quantization based extracting of frames from 0.0  seconds to 108.21  seconds.\n",
            "Extracting and downsampling... 120  frames from the video.\n"
          ]
        },
        {
          "name": "stderr",
          "output_type": "stream",
          "text": [
            "120it [00:45,  2.62it/s]\n"
          ]
        },
        {
          "name": "stdout",
          "output_type": "stream",
          "text": [
            "Kmeans clustering ... (this might take a while)\n",
            "Let's select frames indices: [2935, 2583, 3209, 1192, 645, 1824, 79, 1748, 2609, 2138, 2155, 1155, 2607, 3242, 2747, 2677, 97, 3141, 3044, 1814]\n",
            "Attempting to create a symbolic link of the video ...\n",
            "Symlink creation impossible (exFat architecture?): cutting/pasting the video instead.\n",
            "/content/drive/My Drive/Projects/DeepLabCut/all_combined_tracker-aes-2022-06-22/videos/MsOpto 25 04.28.2021 (1of2).mp4 moved to /content/drive/My Drive/Projects/DeepLabCut/all_combined_tracker-aes-2022-06-22/videos/MsOpto 25 04.28.2021 (1of2).mp4\n",
            "New videos were added to the project! Use the function 'extract_frames' to select frames for labeling.\n",
            "The outlier frames are extracted. They are stored in the subdirectory labeled-data\\MsOpto 25 04.28.2021 (1of2).\n",
            "Once you extracted frames for all videos, use 'refine_labels' to manually correct the labels.\n",
            "Method  jump  found  263  putative outlier frames.\n",
            "Do you want to proceed with extracting  20  of those?\n",
            "If this list is very large, perhaps consider changing the parameters (start, stop, p_bound, comparisonbodyparts) or use a different method.\n",
            "Frames from video Rear1 06.30.2021 (1of2)  already extracted (more will be added)!\n",
            "Loading video...\n"
          ]
        },
        {
          "name": "stderr",
          "output_type": "stream",
          "text": [
            "/usr/local/lib/python3.7/dist-packages/deeplabcut/refine_training_dataset/outlier_frames.py:390: FutureWarning: Using the level keyword in DataFrame and Series aggregations is deprecated and will be removed in a future version. Use groupby instead. df.sum(level=1) should use df.groupby(level=1).sum().\n",
            "  sum_ = temp_dt.sum(axis=1, level=1)\n"
          ]
        },
        {
          "name": "stdout",
          "output_type": "stream",
          "text": [
            "Duration of video [s]:  102.33488992661775 , recorded @  29.98 fps!\n",
            "Overall # of frames:  3068 with (cropped) frame dimensions: \n",
            "Kmeans-quantization based extracting of frames from 0.0  seconds to 102.33  seconds.\n",
            "Extracting and downsampling... 263  frames from the video.\n"
          ]
        },
        {
          "name": "stderr",
          "output_type": "stream",
          "text": [
            "263it [01:44,  2.52it/s]\n"
          ]
        },
        {
          "name": "stdout",
          "output_type": "stream",
          "text": [
            "Kmeans clustering ... (this might take a while)\n",
            "Let's select frames indices: [2308, 909, 922, 1525, 1501, 2830, 1385, 2101, 2249, 1793, 2691, 1342, 1508, 2225, 2417, 894, 1532, 1138, 1880, 2541]\n",
            "Attempting to create a symbolic link of the video ...\n",
            "Symlink creation impossible (exFat architecture?): cutting/pasting the video instead.\n",
            "/content/drive/My Drive/Projects/DeepLabCut/all_combined_tracker-aes-2022-06-22/videos/Rear1 06.30.2021 (1of2).mp4 moved to /content/drive/My Drive/Projects/DeepLabCut/all_combined_tracker-aes-2022-06-22/videos/Rear1 06.30.2021 (1of2).mp4\n",
            "New videos were added to the project! Use the function 'extract_frames' to select frames for labeling.\n",
            "The outlier frames are extracted. They are stored in the subdirectory labeled-data\\Rear1 06.30.2021 (1of2).\n",
            "Once you extracted frames for all videos, use 'refine_labels' to manually correct the labels.\n",
            "Method  jump  found  385  putative outlier frames.\n",
            "Do you want to proceed with extracting  20  of those?\n",
            "If this list is very large, perhaps consider changing the parameters (start, stop, p_bound, comparisonbodyparts) or use a different method.\n",
            "Frames from video Rear2 07.06.2021 (1of2)  already extracted (more will be added)!\n",
            "Loading video...\n"
          ]
        },
        {
          "name": "stderr",
          "output_type": "stream",
          "text": [
            "/usr/local/lib/python3.7/dist-packages/deeplabcut/refine_training_dataset/outlier_frames.py:390: FutureWarning: Using the level keyword in DataFrame and Series aggregations is deprecated and will be removed in a future version. Use groupby instead. df.sum(level=1) should use df.groupby(level=1).sum().\n",
            "  sum_ = temp_dt.sum(axis=1, level=1)\n"
          ]
        },
        {
          "name": "stdout",
          "output_type": "stream",
          "text": [
            "Duration of video [s]:  107.43829219479653 , recorded @  29.98 fps!\n",
            "Overall # of frames:  3221 with (cropped) frame dimensions: \n",
            "Kmeans-quantization based extracting of frames from 0.0  seconds to 107.44  seconds.\n",
            "Extracting and downsampling... 385  frames from the video.\n"
          ]
        },
        {
          "name": "stderr",
          "output_type": "stream",
          "text": [
            "385it [02:27,  2.60it/s]\n"
          ]
        },
        {
          "name": "stdout",
          "output_type": "stream",
          "text": [
            "Kmeans clustering ... (this might take a while)\n",
            "Let's select frames indices: [3147, 2283, 570, 341, 1978, 3204, 3198, 80, 1778, 1254, 1178, 1400, 762, 2724, 3159, 2128, 1769, 1038, 1758, 646]\n",
            "Attempting to create a symbolic link of the video ...\n",
            "Symlink creation impossible (exFat architecture?): cutting/pasting the video instead.\n",
            "/content/drive/My Drive/Projects/DeepLabCut/all_combined_tracker-aes-2022-06-22/videos/Rear2 07.06.2021 (1of2).mp4 moved to /content/drive/My Drive/Projects/DeepLabCut/all_combined_tracker-aes-2022-06-22/videos/Rear2 07.06.2021 (1of2).mp4\n",
            "New videos were added to the project! Use the function 'extract_frames' to select frames for labeling.\n",
            "The outlier frames are extracted. They are stored in the subdirectory labeled-data\\Rear2 07.06.2021 (1of2).\n",
            "Once you extracted frames for all videos, use 'refine_labels' to manually correct the labels.\n"
          ]
        },
        {
          "name": "stderr",
          "output_type": "stream",
          "text": [
            "/usr/local/lib/python3.7/dist-packages/deeplabcut/refine_training_dataset/outlier_frames.py:390: FutureWarning: Using the level keyword in DataFrame and Series aggregations is deprecated and will be removed in a future version. Use groupby instead. df.sum(level=1) should use df.groupby(level=1).sum().\n",
            "  sum_ = temp_dt.sum(axis=1, level=1)\n"
          ]
        },
        {
          "name": "stdout",
          "output_type": "stream",
          "text": [
            "Method  jump  found  289  putative outlier frames.\n",
            "Do you want to proceed with extracting  20  of those?\n",
            "If this list is very large, perhaps consider changing the parameters (start, stop, p_bound, comparisonbodyparts) or use a different method.\n",
            "Frames from video MsOpto 23 04.28.2021 (1of2)  already extracted (more will be added)!\n",
            "Loading video...\n",
            "Duration of video [s]:  170.08005336891262 , recorded @  29.98 fps!\n",
            "Overall # of frames:  5099 with (cropped) frame dimensions: \n",
            "Kmeans-quantization based extracting of frames from 0.0  seconds to 170.08  seconds.\n",
            "Extracting and downsampling... 289  frames from the video.\n"
          ]
        },
        {
          "name": "stderr",
          "output_type": "stream",
          "text": [
            "289it [01:58,  2.45it/s]\n"
          ]
        },
        {
          "name": "stdout",
          "output_type": "stream",
          "text": [
            "Kmeans clustering ... (this might take a while)\n",
            "Let's select frames indices: [3690, 2310, 4513, 2676, 3458, 148, 4167, 1559, 2107, 2234, 2046, 3680, 4837, 3529, 1802, 4350, 274, 4351, 4335, 3750]\n",
            "Attempting to create a symbolic link of the video ...\n",
            "Symlink creation impossible (exFat architecture?): cutting/pasting the video instead.\n",
            "/content/drive/My Drive/Projects/DeepLabCut/all_combined_tracker-aes-2022-06-22/videos/MsOpto 23 04.28.2021 (1of2).mp4 moved to /content/drive/My Drive/Projects/DeepLabCut/all_combined_tracker-aes-2022-06-22/videos/MsOpto 23 04.28.2021 (1of2).mp4\n",
            "New videos were added to the project! Use the function 'extract_frames' to select frames for labeling.\n",
            "The outlier frames are extracted. They are stored in the subdirectory labeled-data\\MsOpto 23 04.28.2021 (1of2).\n",
            "Once you extracted frames for all videos, use 'refine_labels' to manually correct the labels.\n",
            "Method  jump  found  250  putative outlier frames.\n",
            "Do you want to proceed with extracting  20  of those?\n",
            "If this list is very large, perhaps consider changing the parameters (start, stop, p_bound, comparisonbodyparts) or use a different method.\n",
            "Frames from video MS opto 24 07.28.2021 retrain (1 of 2)  already extracted (more will be added)!\n",
            "Loading video...\n"
          ]
        },
        {
          "name": "stderr",
          "output_type": "stream",
          "text": [
            "/usr/local/lib/python3.7/dist-packages/deeplabcut/refine_training_dataset/outlier_frames.py:390: FutureWarning: Using the level keyword in DataFrame and Series aggregations is deprecated and will be removed in a future version. Use groupby instead. df.sum(level=1) should use df.groupby(level=1).sum().\n",
            "  sum_ = temp_dt.sum(axis=1, level=1)\n"
          ]
        },
        {
          "name": "stdout",
          "output_type": "stream",
          "text": [
            "Duration of video [s]:  102.83522348232155 , recorded @  29.98 fps!\n",
            "Overall # of frames:  3083 with (cropped) frame dimensions: \n",
            "Kmeans-quantization based extracting of frames from 0.0  seconds to 102.84  seconds.\n",
            "Extracting and downsampling... 250  frames from the video.\n"
          ]
        },
        {
          "name": "stderr",
          "output_type": "stream",
          "text": [
            "250it [01:39,  2.50it/s]\n"
          ]
        },
        {
          "name": "stdout",
          "output_type": "stream",
          "text": [
            "Kmeans clustering ... (this might take a while)\n",
            "Let's select frames indices: [67, 202, 184, 2232, 90, 1066, 214, 116, 192, 194, 1977, 231, 132, 287, 3047, 2065, 234, 189, 2577, 150]\n",
            "Attempting to create a symbolic link of the video ...\n",
            "Symlink creation impossible (exFat architecture?): cutting/pasting the video instead.\n",
            "/content/drive/My Drive/Projects/DeepLabCut/all_combined_tracker-aes-2022-06-22/videos/MS opto 24 07.28.2021 retrain (1 of 2).mp4 moved to /content/drive/My Drive/Projects/DeepLabCut/all_combined_tracker-aes-2022-06-22/videos/MS opto 24 07.28.2021 retrain (1 of 2).mp4\n",
            "New videos were added to the project! Use the function 'extract_frames' to select frames for labeling.\n",
            "The outlier frames are extracted. They are stored in the subdirectory labeled-data\\MS opto 24 07.28.2021 retrain (1 of 2).\n",
            "Once you extracted frames for all videos, use 'refine_labels' to manually correct the labels.\n",
            "Method  jump  found  541  putative outlier frames.\n",
            "Do you want to proceed with extracting  20  of those?\n",
            "If this list is very large, perhaps consider changing the parameters (start, stop, p_bound, comparisonbodyparts) or use a different method.\n",
            "Loading video...\n"
          ]
        },
        {
          "name": "stderr",
          "output_type": "stream",
          "text": [
            "/usr/local/lib/python3.7/dist-packages/deeplabcut/refine_training_dataset/outlier_frames.py:390: FutureWarning: Using the level keyword in DataFrame and Series aggregations is deprecated and will be removed in a future version. Use groupby instead. df.sum(level=1) should use df.groupby(level=1).sum().\n",
            "  sum_ = temp_dt.sum(axis=1, level=1)\n"
          ]
        },
        {
          "name": "stdout",
          "output_type": "stream",
          "text": [
            "Duration of video [s]:  199.4329553035357 , recorded @  29.98 fps!\n",
            "Overall # of frames:  5979 with (cropped) frame dimensions: \n",
            "Kmeans-quantization based extracting of frames from 0.0  seconds to 199.43  seconds.\n",
            "Extracting and downsampling... 541  frames from the video.\n"
          ]
        },
        {
          "name": "stderr",
          "output_type": "stream",
          "text": [
            "541it [03:38,  2.48it/s]\n"
          ]
        },
        {
          "name": "stdout",
          "output_type": "stream",
          "text": [
            "Kmeans clustering ... (this might take a while)\n",
            "Let's select frames indices: [4733, 2632, 2260, 5350, 2074, 4707, 3777, 5111, 4736, 4809, 3182, 2187, 1263, 2877, 3229, 5456, 2486, 4791, 5569, 4592]\n",
            "Attempting to create a symbolic link of the video ...\n",
            "Symlink creation impossible (exFat architecture?): cutting/pasting the video instead.\n",
            "/content/drive/My Drive/Projects/DeepLabCut/all_combined_tracker-aes-2022-06-22/videos/MsOpto 22 03.11.2021 (1of2).mp4 moved to /content/drive/My Drive/Projects/DeepLabCut/all_combined_tracker-aes-2022-06-22/videos/MsOpto 22 03.11.2021 (1of2).mp4\n",
            "New videos were added to the project! Use the function 'extract_frames' to select frames for labeling.\n",
            "The outlier frames are extracted. They are stored in the subdirectory labeled-data\\MsOpto 22 03.11.2021 (1of2).\n",
            "Once you extracted frames for all videos, use 'refine_labels' to manually correct the labels.\n",
            "Method  jump  found  501  putative outlier frames.\n",
            "Do you want to proceed with extracting  20  of those?\n",
            "If this list is very large, perhaps consider changing the parameters (start, stop, p_bound, comparisonbodyparts) or use a different method.\n",
            "Frames from video RC7_220131_1of2  already extracted (more will be added)!\n",
            "Loading video...\n"
          ]
        },
        {
          "name": "stderr",
          "output_type": "stream",
          "text": [
            "/usr/local/lib/python3.7/dist-packages/deeplabcut/refine_training_dataset/outlier_frames.py:390: FutureWarning: Using the level keyword in DataFrame and Series aggregations is deprecated and will be removed in a future version. Use groupby instead. df.sum(level=1) should use df.groupby(level=1).sum().\n",
            "  sum_ = temp_dt.sum(axis=1, level=1)\n"
          ]
        },
        {
          "name": "stdout",
          "output_type": "stream",
          "text": [
            "Duration of video [s]:  193.26217478318878 , recorded @  29.98 fps!\n",
            "Overall # of frames:  5794 with (cropped) frame dimensions: \n",
            "Kmeans-quantization based extracting of frames from 0.0  seconds to 193.26  seconds.\n",
            "Extracting and downsampling... 501  frames from the video.\n"
          ]
        },
        {
          "name": "stderr",
          "output_type": "stream",
          "text": [
            "501it [03:23,  2.46it/s]\n"
          ]
        },
        {
          "name": "stdout",
          "output_type": "stream",
          "text": [
            "Kmeans clustering ... (this might take a while)\n",
            "Let's select frames indices: [2202, 3698, 4095, 3431, 5555, 4714, 3893, 4753, 555, 3775, 4561, 2748, 2460, 4872, 3258, 3768, 5198, 2426, 5100, 3656]\n",
            "Attempting to create a symbolic link of the video ...\n",
            "Symlink creation impossible (exFat architecture?): cutting/pasting the video instead.\n",
            "/content/drive/My Drive/Projects/DeepLabCut/all_combined_tracker-aes-2022-06-22/videos/RC7_220131_1of2.mp4 moved to /content/drive/My Drive/Projects/DeepLabCut/all_combined_tracker-aes-2022-06-22/videos/RC7_220131_1of2.mp4\n",
            "New videos were added to the project! Use the function 'extract_frames' to select frames for labeling.\n",
            "The outlier frames are extracted. They are stored in the subdirectory labeled-data\\RC7_220131_1of2.\n",
            "Once you extracted frames for all videos, use 'refine_labels' to manually correct the labels.\n"
          ]
        },
        {
          "name": "stderr",
          "output_type": "stream",
          "text": [
            "/usr/local/lib/python3.7/dist-packages/deeplabcut/refine_training_dataset/outlier_frames.py:390: FutureWarning: Using the level keyword in DataFrame and Series aggregations is deprecated and will be removed in a future version. Use groupby instead. df.sum(level=1) should use df.groupby(level=1).sum().\n",
            "  sum_ = temp_dt.sum(axis=1, level=1)\n"
          ]
        },
        {
          "name": "stdout",
          "output_type": "stream",
          "text": [
            "Method  jump  found  591  putative outlier frames.\n",
            "Do you want to proceed with extracting  20  of those?\n",
            "If this list is very large, perhaps consider changing the parameters (start, stop, p_bound, comparisonbodyparts) or use a different method.\n",
            "Frames from video MsOpto 23 03.11.2021 (1of2)  already extracted (more will be added)!\n",
            "Loading video...\n",
            "Duration of video [s]:  309.2728485657105 , recorded @  29.98 fps!\n",
            "Overall # of frames:  9272 with (cropped) frame dimensions: \n",
            "Kmeans-quantization based extracting of frames from 0.0  seconds to 309.27  seconds.\n",
            "Extracting and downsampling... 591  frames from the video.\n"
          ]
        },
        {
          "name": "stderr",
          "output_type": "stream",
          "text": [
            "591it [04:00,  2.46it/s]\n"
          ]
        },
        {
          "name": "stdout",
          "output_type": "stream",
          "text": [
            "Kmeans clustering ... (this might take a while)\n",
            "Let's select frames indices: [4708, 7989, 8993, 7061, 4639, 2225, 2250, 6319, 1481, 3192, 2612, 1380, 9170, 9145, 871, 7403, 2446, 5616, 7323, 1472]\n",
            "Attempting to create a symbolic link of the video ...\n",
            "Symlink creation impossible (exFat architecture?): cutting/pasting the video instead.\n",
            "/content/drive/My Drive/Projects/DeepLabCut/all_combined_tracker-aes-2022-06-22/videos/MsOpto 23 03.11.2021 (1of2).mp4 moved to /content/drive/My Drive/Projects/DeepLabCut/all_combined_tracker-aes-2022-06-22/videos/MsOpto 23 03.11.2021 (1of2).mp4\n",
            "New videos were added to the project! Use the function 'extract_frames' to select frames for labeling.\n",
            "The outlier frames are extracted. They are stored in the subdirectory labeled-data\\MsOpto 23 03.11.2021 (1of2).\n",
            "Once you extracted frames for all videos, use 'refine_labels' to manually correct the labels.\n",
            "Method  jump  found  873  putative outlier frames.\n",
            "Do you want to proceed with extracting  20  of those?\n",
            "If this list is very large, perhaps consider changing the parameters (start, stop, p_bound, comparisonbodyparts) or use a different method.\n",
            "Frames from video RC4_220124_1of2  already extracted (more will be added)!\n",
            "Loading video...\n"
          ]
        },
        {
          "name": "stderr",
          "output_type": "stream",
          "text": [
            "/usr/local/lib/python3.7/dist-packages/deeplabcut/refine_training_dataset/outlier_frames.py:390: FutureWarning: Using the level keyword in DataFrame and Series aggregations is deprecated and will be removed in a future version. Use groupby instead. df.sum(level=1) should use df.groupby(level=1).sum().\n",
            "  sum_ = temp_dt.sum(axis=1, level=1)\n"
          ]
        },
        {
          "name": "stdout",
          "output_type": "stream",
          "text": [
            "Duration of video [s]:  180.5537024683122 , recorded @  29.98 fps!\n",
            "Overall # of frames:  5413 with (cropped) frame dimensions: \n",
            "Kmeans-quantization based extracting of frames from 0.0  seconds to 180.55  seconds.\n",
            "Extracting and downsampling... 873  frames from the video.\n"
          ]
        },
        {
          "name": "stderr",
          "output_type": "stream",
          "text": [
            "873it [05:43,  2.54it/s]\n"
          ]
        },
        {
          "name": "stdout",
          "output_type": "stream",
          "text": [
            "Kmeans clustering ... (this might take a while)\n",
            "Let's select frames indices: [430, 2325, 4135, 2221, 5303, 937, 5091, 1623, 2288, 2312, 745, 3289, 1192, 2061, 2207, 4423, 944, 903, 961, 3876]\n",
            "Attempting to create a symbolic link of the video ...\n",
            "Symlink creation impossible (exFat architecture?): cutting/pasting the video instead.\n",
            "/content/drive/My Drive/Projects/DeepLabCut/all_combined_tracker-aes-2022-06-22/videos/RC4_220124_1of2.mp4 moved to /content/drive/My Drive/Projects/DeepLabCut/all_combined_tracker-aes-2022-06-22/videos/RC4_220124_1of2.mp4\n",
            "New videos were added to the project! Use the function 'extract_frames' to select frames for labeling.\n",
            "The outlier frames are extracted. They are stored in the subdirectory labeled-data\\RC4_220124_1of2.\n",
            "Once you extracted frames for all videos, use 'refine_labels' to manually correct the labels.\n",
            "Method  jump  found  1390  putative outlier frames.\n",
            "Do you want to proceed with extracting  20  of those?\n",
            "If this list is very large, perhaps consider changing the parameters (start, stop, p_bound, comparisonbodyparts) or use a different method.\n",
            "Frames from video RC6_220210_1of2  already extracted (more will be added)!\n",
            "Loading video...\n"
          ]
        },
        {
          "name": "stderr",
          "output_type": "stream",
          "text": [
            "/usr/local/lib/python3.7/dist-packages/deeplabcut/refine_training_dataset/outlier_frames.py:390: FutureWarning: Using the level keyword in DataFrame and Series aggregations is deprecated and will be removed in a future version. Use groupby instead. df.sum(level=1) should use df.groupby(level=1).sum().\n",
            "  sum_ = temp_dt.sum(axis=1, level=1)\n"
          ]
        },
        {
          "name": "stdout",
          "output_type": "stream",
          "text": [
            "Duration of video [s]:  283.9226150767178 , recorded @  29.98 fps!\n",
            "Overall # of frames:  8512 with (cropped) frame dimensions: \n",
            "Kmeans-quantization based extracting of frames from 0.0  seconds to 283.92  seconds.\n",
            "Extracting and downsampling... 1390  frames from the video.\n"
          ]
        },
        {
          "name": "stderr",
          "output_type": "stream",
          "text": [
            "1390it [08:46,  2.64it/s]\n"
          ]
        },
        {
          "name": "stdout",
          "output_type": "stream",
          "text": [
            "Kmeans clustering ... (this might take a while)\n",
            "Let's select frames indices: [5598, 1207, 7830, 633, 1761, 311, 150, 534, 5456, 5386, 706, 372, 1652, 5790, 2244, 567, 688, 200, 328, 6886]\n",
            "Attempting to create a symbolic link of the video ...\n",
            "Symlink creation impossible (exFat architecture?): cutting/pasting the video instead.\n",
            "/content/drive/My Drive/Projects/DeepLabCut/all_combined_tracker-aes-2022-06-22/videos/RC6_220210_1of2.mp4 moved to /content/drive/My Drive/Projects/DeepLabCut/all_combined_tracker-aes-2022-06-22/videos/RC6_220210_1of2.mp4\n",
            "New videos were added to the project! Use the function 'extract_frames' to select frames for labeling.\n",
            "The outlier frames are extracted. They are stored in the subdirectory labeled-data\\RC6_220210_1of2.\n",
            "Once you extracted frames for all videos, use 'refine_labels' to manually correct the labels.\n"
          ]
        },
        {
          "name": "stderr",
          "output_type": "stream",
          "text": [
            "/usr/local/lib/python3.7/dist-packages/deeplabcut/refine_training_dataset/outlier_frames.py:390: FutureWarning: Using the level keyword in DataFrame and Series aggregations is deprecated and will be removed in a future version. Use groupby instead. df.sum(level=1) should use df.groupby(level=1).sum().\n",
            "  sum_ = temp_dt.sum(axis=1, level=1)\n"
          ]
        },
        {
          "name": "stdout",
          "output_type": "stream",
          "text": [
            "Method  jump  found  1525  putative outlier frames.\n",
            "Do you want to proceed with extracting  20  of those?\n",
            "If this list is very large, perhaps consider changing the parameters (start, stop, p_bound, comparisonbodyparts) or use a different method.\n",
            "Frames from video RC9_220208_1of2  already extracted (more will be added)!\n",
            "Loading video...\n",
            "Duration of video [s]:  254.76984656437625 , recorded @  29.98 fps!\n",
            "Overall # of frames:  7638 with (cropped) frame dimensions: \n",
            "Kmeans-quantization based extracting of frames from 0.0  seconds to 254.77  seconds.\n",
            "Extracting and downsampling... 1525  frames from the video.\n"
          ]
        },
        {
          "name": "stderr",
          "output_type": "stream",
          "text": [
            "1525it [09:57,  2.55it/s]\n"
          ]
        },
        {
          "name": "stdout",
          "output_type": "stream",
          "text": [
            "Kmeans clustering ... (this might take a while)\n",
            "Let's select frames indices: [3298, 5083, 7025, 2820, 852, 1948, 1578, 582, 2498, 945, 3186, 3527, 3835, 1267, 2649, 3341, 7582, 5307, 5611, 3530]\n",
            "Attempting to create a symbolic link of the video ...\n",
            "Symlink creation impossible (exFat architecture?): cutting/pasting the video instead.\n",
            "/content/drive/My Drive/Projects/DeepLabCut/all_combined_tracker-aes-2022-06-22/videos/RC9_220208_1of2.mp4 moved to /content/drive/My Drive/Projects/DeepLabCut/all_combined_tracker-aes-2022-06-22/videos/RC9_220208_1of2.mp4\n",
            "New videos were added to the project! Use the function 'extract_frames' to select frames for labeling.\n",
            "The outlier frames are extracted. They are stored in the subdirectory labeled-data\\RC9_220208_1of2.\n",
            "Once you extracted frames for all videos, use 'refine_labels' to manually correct the labels.\n"
          ]
        },
        {
          "name": "stderr",
          "output_type": "stream",
          "text": [
            "/usr/local/lib/python3.7/dist-packages/deeplabcut/refine_training_dataset/outlier_frames.py:390: FutureWarning: Using the level keyword in DataFrame and Series aggregations is deprecated and will be removed in a future version. Use groupby instead. df.sum(level=1) should use df.groupby(level=1).sum().\n",
            "  sum_ = temp_dt.sum(axis=1, level=1)\n"
          ]
        },
        {
          "name": "stdout",
          "output_type": "stream",
          "text": [
            "Method  jump  found  75  putative outlier frames.\n",
            "Do you want to proceed with extracting  20  of those?\n",
            "If this list is very large, perhaps consider changing the parameters (start, stop, p_bound, comparisonbodyparts) or use a different method.\n",
            "Frames from video RC3_220124_1of2  already extracted (more will be added)!\n",
            "Loading video...\n",
            "Duration of video [s]:  127.31821214142762 , recorded @  29.98 fps!\n",
            "Overall # of frames:  3817 with (cropped) frame dimensions: \n",
            "Kmeans-quantization based extracting of frames from 0.0  seconds to 127.32  seconds.\n",
            "Extracting and downsampling... 75  frames from the video.\n"
          ]
        },
        {
          "name": "stderr",
          "output_type": "stream",
          "text": [
            "75it [00:28,  2.62it/s]\n"
          ]
        },
        {
          "name": "stdout",
          "output_type": "stream",
          "text": [
            "Kmeans clustering ... (this might take a while)\n",
            "Let's select frames indices: [2574, 1304, 2114, 1861, 2067, 2107, 2063, 2029, 1225, 1313, 2578, 3782, 2957, 2454, 2706, 2950, 2703, 1859, 1315, 2027]\n",
            "Attempting to create a symbolic link of the video ...\n",
            "Symlink creation impossible (exFat architecture?): cutting/pasting the video instead.\n",
            "/content/drive/My Drive/Projects/DeepLabCut/all_combined_tracker-aes-2022-06-22/videos/RC3_220124_1of2.mp4 moved to /content/drive/My Drive/Projects/DeepLabCut/all_combined_tracker-aes-2022-06-22/videos/RC3_220124_1of2.mp4\n",
            "New videos were added to the project! Use the function 'extract_frames' to select frames for labeling.\n",
            "The outlier frames are extracted. They are stored in the subdirectory labeled-data\\RC3_220124_1of2.\n",
            "Once you extracted frames for all videos, use 'refine_labels' to manually correct the labels.\n",
            "Method  jump  found  47  putative outlier frames.\n",
            "Do you want to proceed with extracting  20  of those?\n",
            "If this list is very large, perhaps consider changing the parameters (start, stop, p_bound, comparisonbodyparts) or use a different method.\n",
            "Frames from video Rear 3 08.03.2021 (1of2) Retrain  already extracted (more will be added)!\n",
            "Loading video...\n"
          ]
        },
        {
          "name": "stderr",
          "output_type": "stream",
          "text": [
            "/usr/local/lib/python3.7/dist-packages/deeplabcut/refine_training_dataset/outlier_frames.py:390: FutureWarning: Using the level keyword in DataFrame and Series aggregations is deprecated and will be removed in a future version. Use groupby instead. df.sum(level=1) should use df.groupby(level=1).sum().\n",
            "  sum_ = temp_dt.sum(axis=1, level=1)\n"
          ]
        },
        {
          "name": "stdout",
          "output_type": "stream",
          "text": [
            "Duration of video [s]:  103.90260173448966 , recorded @  29.98 fps!\n",
            "Overall # of frames:  3115 with (cropped) frame dimensions: \n",
            "Kmeans-quantization based extracting of frames from 0.0  seconds to 103.9  seconds.\n",
            "Extracting and downsampling... 47  frames from the video.\n"
          ]
        },
        {
          "name": "stderr",
          "output_type": "stream",
          "text": [
            "47it [00:18,  2.53it/s]\n"
          ]
        },
        {
          "name": "stdout",
          "output_type": "stream",
          "text": [
            "Kmeans clustering ... (this might take a while)\n",
            "Let's select frames indices: [2159, 437, 3085, 1906, 711, 1591, 2827, 2029, 1831, 2181, 2779, 712, 223, 783, 3069, 1939, 2405, 2412]\n",
            "Attempting to create a symbolic link of the video ...\n",
            "Symlink creation impossible (exFat architecture?): cutting/pasting the video instead.\n",
            "/content/drive/My Drive/Projects/DeepLabCut/all_combined_tracker-aes-2022-06-22/videos/Rear 3 08.03.2021 (1of2) Retrain.mp4 moved to /content/drive/My Drive/Projects/DeepLabCut/all_combined_tracker-aes-2022-06-22/videos/Rear 3 08.03.2021 (1of2) Retrain.mp4\n",
            "New videos were added to the project! Use the function 'extract_frames' to select frames for labeling.\n",
            "The outlier frames are extracted. They are stored in the subdirectory labeled-data\\Rear 3 08.03.2021 (1of2) Retrain.\n",
            "Once you extracted frames for all videos, use 'refine_labels' to manually correct the labels.\n"
          ]
        },
        {
          "name": "stderr",
          "output_type": "stream",
          "text": [
            "/usr/local/lib/python3.7/dist-packages/deeplabcut/refine_training_dataset/outlier_frames.py:390: FutureWarning: Using the level keyword in DataFrame and Series aggregations is deprecated and will be removed in a future version. Use groupby instead. df.sum(level=1) should use df.groupby(level=1).sum().\n",
            "  sum_ = temp_dt.sum(axis=1, level=1)\n"
          ]
        },
        {
          "name": "stdout",
          "output_type": "stream",
          "text": [
            "Method  jump  found  815  putative outlier frames.\n",
            "Do you want to proceed with extracting  20  of those?\n",
            "If this list is very large, perhaps consider changing the parameters (start, stop, p_bound, comparisonbodyparts) or use a different method.\n",
            "Frames from video RC3_220126_1of2  already extracted (more will be added)!\n",
            "Loading video...\n",
            "Duration of video [s]:  292.7284856571047 , recorded @  29.98 fps!\n",
            "Overall # of frames:  8776 with (cropped) frame dimensions: \n",
            "Kmeans-quantization based extracting of frames from 0.0  seconds to 292.73  seconds.\n",
            "Extracting and downsampling... 815  frames from the video.\n"
          ]
        },
        {
          "name": "stderr",
          "output_type": "stream",
          "text": [
            "815it [05:13,  2.60it/s]\n"
          ]
        },
        {
          "name": "stdout",
          "output_type": "stream",
          "text": [
            "Kmeans clustering ... (this might take a while)\n",
            "Let's select frames indices: [5821, 7635, 6250, 249, 5198, 7081, 5117, 8024, 6626, 6109, 6804, 1315, 8694, 4886, 6918, 7898, 629, 7826, 7834, 299]\n",
            "Attempting to create a symbolic link of the video ...\n",
            "Symlink creation impossible (exFat architecture?): cutting/pasting the video instead.\n",
            "/content/drive/My Drive/Projects/DeepLabCut/all_combined_tracker-aes-2022-06-22/videos/RC3_220126_1of2.mp4 moved to /content/drive/My Drive/Projects/DeepLabCut/all_combined_tracker-aes-2022-06-22/videos/RC3_220126_1of2.mp4\n",
            "New videos were added to the project! Use the function 'extract_frames' to select frames for labeling.\n",
            "The outlier frames are extracted. They are stored in the subdirectory labeled-data\\RC3_220126_1of2.\n",
            "Once you extracted frames for all videos, use 'refine_labels' to manually correct the labels.\n"
          ]
        },
        {
          "name": "stderr",
          "output_type": "stream",
          "text": [
            "/usr/local/lib/python3.7/dist-packages/deeplabcut/refine_training_dataset/outlier_frames.py:390: FutureWarning: Using the level keyword in DataFrame and Series aggregations is deprecated and will be removed in a future version. Use groupby instead. df.sum(level=1) should use df.groupby(level=1).sum().\n",
            "  sum_ = temp_dt.sum(axis=1, level=1)\n"
          ]
        },
        {
          "name": "stdout",
          "output_type": "stream",
          "text": [
            "Method  jump  found  233  putative outlier frames.\n",
            "Do you want to proceed with extracting  20  of those?\n",
            "If this list is very large, perhaps consider changing the parameters (start, stop, p_bound, comparisonbodyparts) or use a different method.\n",
            "Frames from video RC10_220125_1of2  already extracted (more will be added)!\n",
            "Loading video...\n",
            "Duration of video [s]:  151.76784523015343 , recorded @  29.98 fps!\n",
            "Overall # of frames:  4550 with (cropped) frame dimensions: \n",
            "Kmeans-quantization based extracting of frames from 0.0  seconds to 151.77  seconds.\n",
            "Extracting and downsampling... 233  frames from the video.\n"
          ]
        },
        {
          "name": "stderr",
          "output_type": "stream",
          "text": [
            "233it [01:30,  2.59it/s]\n"
          ]
        },
        {
          "name": "stdout",
          "output_type": "stream",
          "text": [
            "Kmeans clustering ... (this might take a while)\n",
            "Let's select frames indices: [3737, 3610, 3819, 3790, 2178, 3770, 3665, 4487, 2758, 3711, 3810, 3452, 2600, 3577, 1802, 3717, 3278, 3781, 3692, 3999]\n",
            "Attempting to create a symbolic link of the video ...\n",
            "Symlink creation impossible (exFat architecture?): cutting/pasting the video instead.\n",
            "/content/drive/My Drive/Projects/DeepLabCut/all_combined_tracker-aes-2022-06-22/videos/RC10_220125_1of2.mp4 moved to /content/drive/My Drive/Projects/DeepLabCut/all_combined_tracker-aes-2022-06-22/videos/RC10_220125_1of2.mp4\n",
            "New videos were added to the project! Use the function 'extract_frames' to select frames for labeling.\n",
            "The outlier frames are extracted. They are stored in the subdirectory labeled-data\\RC10_220125_1of2.\n",
            "Once you extracted frames for all videos, use 'refine_labels' to manually correct the labels.\n"
          ]
        },
        {
          "name": "stderr",
          "output_type": "stream",
          "text": [
            "/usr/local/lib/python3.7/dist-packages/deeplabcut/refine_training_dataset/outlier_frames.py:390: FutureWarning: Using the level keyword in DataFrame and Series aggregations is deprecated and will be removed in a future version. Use groupby instead. df.sum(level=1) should use df.groupby(level=1).sum().\n",
            "  sum_ = temp_dt.sum(axis=1, level=1)\n"
          ]
        },
        {
          "name": "stdout",
          "output_type": "stream",
          "text": [
            "Method  jump  found  1007  putative outlier frames.\n",
            "Do you want to proceed with extracting  20  of those?\n",
            "If this list is very large, perhaps consider changing the parameters (start, stop, p_bound, comparisonbodyparts) or use a different method.\n",
            "Frames from video RC4_220211_1of2  already extracted (more will be added)!\n",
            "Loading video...\n",
            "Duration of video [s]:  157.33822548365578 , recorded @  29.98 fps!\n",
            "Overall # of frames:  4717 with (cropped) frame dimensions: \n",
            "Kmeans-quantization based extracting of frames from 0.0  seconds to 157.34  seconds.\n",
            "Extracting and downsampling... 1007  frames from the video.\n"
          ]
        },
        {
          "name": "stderr",
          "output_type": "stream",
          "text": [
            "1007it [06:21,  2.64it/s]\n"
          ]
        },
        {
          "name": "stdout",
          "output_type": "stream",
          "text": [
            "Kmeans clustering ... (this might take a while)\n",
            "Let's select frames indices: [535, 760, 1674, 4668, 1657, 2940, 2629, 5, 2659, 4003, 788, 1751, 730, 1711, 749, 1968, 2671, 4574, 2391, 2916]\n",
            "Attempting to create a symbolic link of the video ...\n",
            "Symlink creation impossible (exFat architecture?): cutting/pasting the video instead.\n",
            "/content/drive/My Drive/Projects/DeepLabCut/all_combined_tracker-aes-2022-06-22/videos/RC4_220211_1of2.mp4 moved to /content/drive/My Drive/Projects/DeepLabCut/all_combined_tracker-aes-2022-06-22/videos/RC4_220211_1of2.mp4\n",
            "New videos were added to the project! Use the function 'extract_frames' to select frames for labeling.\n",
            "The outlier frames are extracted. They are stored in the subdirectory labeled-data\\RC4_220211_1of2.\n",
            "Once you extracted frames for all videos, use 'refine_labels' to manually correct the labels.\n"
          ]
        },
        {
          "name": "stderr",
          "output_type": "stream",
          "text": [
            "/usr/local/lib/python3.7/dist-packages/deeplabcut/refine_training_dataset/outlier_frames.py:390: FutureWarning: Using the level keyword in DataFrame and Series aggregations is deprecated and will be removed in a future version. Use groupby instead. df.sum(level=1) should use df.groupby(level=1).sum().\n",
            "  sum_ = temp_dt.sum(axis=1, level=1)\n"
          ]
        },
        {
          "name": "stdout",
          "output_type": "stream",
          "text": [
            "Method  jump  found  761  putative outlier frames.\n",
            "Do you want to proceed with extracting  20  of those?\n",
            "If this list is very large, perhaps consider changing the parameters (start, stop, p_bound, comparisonbodyparts) or use a different method.\n",
            "Frames from video RC5_220118_1of2  already extracted (more will be added)!\n",
            "Loading video...\n",
            "Duration of video [s]:  177.85190126751166 , recorded @  29.98 fps!\n",
            "Overall # of frames:  5332 with (cropped) frame dimensions: \n",
            "Kmeans-quantization based extracting of frames from 0.0  seconds to 177.85  seconds.\n",
            "Extracting and downsampling... 761  frames from the video.\n"
          ]
        },
        {
          "name": "stderr",
          "output_type": "stream",
          "text": [
            "761it [04:54,  2.58it/s]\n"
          ]
        },
        {
          "name": "stdout",
          "output_type": "stream",
          "text": [
            "Kmeans clustering ... (this might take a while)\n",
            "Let's select frames indices: [3098, 859, 839, 35, 742, 896, 3824, 4003, 664, 3734, 4202, 3687, 4087, 697, 894, 867, 324, 848, 302, 58]\n",
            "Attempting to create a symbolic link of the video ...\n",
            "Symlink creation impossible (exFat architecture?): cutting/pasting the video instead.\n",
            "/content/drive/My Drive/Projects/DeepLabCut/all_combined_tracker-aes-2022-06-22/videos/RC5_220118_1of2.mp4 moved to /content/drive/My Drive/Projects/DeepLabCut/all_combined_tracker-aes-2022-06-22/videos/RC5_220118_1of2.mp4\n",
            "New videos were added to the project! Use the function 'extract_frames' to select frames for labeling.\n",
            "The outlier frames are extracted. They are stored in the subdirectory labeled-data\\RC5_220118_1of2.\n",
            "Once you extracted frames for all videos, use 'refine_labels' to manually correct the labels.\n",
            "Method  jump  found  168  putative outlier frames.\n",
            "Do you want to proceed with extracting  20  of those?\n",
            "If this list is very large, perhaps consider changing the parameters (start, stop, p_bound, comparisonbodyparts) or use a different method.\n",
            "Frames from video Rear 3 08.04.2021 (1of2) Retrain  already extracted (more will be added)!\n",
            "Loading video...\n"
          ]
        },
        {
          "name": "stderr",
          "output_type": "stream",
          "text": [
            "/usr/local/lib/python3.7/dist-packages/deeplabcut/refine_training_dataset/outlier_frames.py:390: FutureWarning: Using the level keyword in DataFrame and Series aggregations is deprecated and will be removed in a future version. Use groupby instead. df.sum(level=1) should use df.groupby(level=1).sum().\n",
            "  sum_ = temp_dt.sum(axis=1, level=1)\n"
          ]
        },
        {
          "name": "stdout",
          "output_type": "stream",
          "text": [
            "Duration of video [s]:  142.96197464976652 , recorded @  29.98 fps!\n",
            "Overall # of frames:  4286 with (cropped) frame dimensions: \n",
            "Kmeans-quantization based extracting of frames from 0.0  seconds to 142.96  seconds.\n",
            "Extracting and downsampling... 168  frames from the video.\n"
          ]
        },
        {
          "name": "stderr",
          "output_type": "stream",
          "text": [
            "168it [01:08,  2.47it/s]\n"
          ]
        },
        {
          "name": "stdout",
          "output_type": "stream",
          "text": [
            "Kmeans clustering ... (this might take a while)\n",
            "Let's select frames indices: [3190, 878, 391, 1803, 103, 1455, 2326, 3596, 1448, 3520, 3575, 1330, 297, 2524, 1818, 2034, 3714, 434, 2361, 1044]\n",
            "Attempting to create a symbolic link of the video ...\n",
            "Symlink creation impossible (exFat architecture?): cutting/pasting the video instead.\n",
            "/content/drive/My Drive/Projects/DeepLabCut/all_combined_tracker-aes-2022-06-22/videos/Rear 3 08.04.2021 (1of2) Retrain.mp4 moved to /content/drive/My Drive/Projects/DeepLabCut/all_combined_tracker-aes-2022-06-22/videos/Rear 3 08.04.2021 (1of2) Retrain.mp4\n",
            "New videos were added to the project! Use the function 'extract_frames' to select frames for labeling.\n",
            "The outlier frames are extracted. They are stored in the subdirectory labeled-data\\Rear 3 08.04.2021 (1of2) Retrain.\n",
            "Once you extracted frames for all videos, use 'refine_labels' to manually correct the labels.\n",
            "Method  jump  found  173  putative outlier frames.\n",
            "Do you want to proceed with extracting  20  of those?\n",
            "If this list is very large, perhaps consider changing the parameters (start, stop, p_bound, comparisonbodyparts) or use a different method.\n",
            "Loading video...\n"
          ]
        },
        {
          "name": "stderr",
          "output_type": "stream",
          "text": [
            "/usr/local/lib/python3.7/dist-packages/deeplabcut/refine_training_dataset/outlier_frames.py:390: FutureWarning: Using the level keyword in DataFrame and Series aggregations is deprecated and will be removed in a future version. Use groupby instead. df.sum(level=1) should use df.groupby(level=1).sum().\n",
            "  sum_ = temp_dt.sum(axis=1, level=1)\n"
          ]
        },
        {
          "name": "stdout",
          "output_type": "stream",
          "text": [
            "Duration of video [s]:  95.09673115410273 , recorded @  29.98 fps!\n",
            "Overall # of frames:  2851 with (cropped) frame dimensions: \n",
            "Kmeans-quantization based extracting of frames from 0.0  seconds to 95.1  seconds.\n",
            "Extracting and downsampling... 173  frames from the video.\n"
          ]
        },
        {
          "name": "stderr",
          "output_type": "stream",
          "text": [
            "173it [01:07,  2.54it/s]\n"
          ]
        },
        {
          "name": "stdout",
          "output_type": "stream",
          "text": [
            "Kmeans clustering ... (this might take a while)\n",
            "Let's select frames indices: [523, 1609, 1976, 1336, 1753, 607, 1642, 890, 1843, 2353, 1632, 2763, 1649, 1979, 2344, 2351, 1583, 2325, 2666, 1698]\n",
            "Attempting to create a symbolic link of the video ...\n",
            "Symlink creation impossible (exFat architecture?): cutting/pasting the video instead.\n",
            "/content/drive/My Drive/Projects/DeepLabCut/all_combined_tracker-aes-2022-06-22/videos/Rear3 06.30.2021 (1of2).mp4 moved to /content/drive/My Drive/Projects/DeepLabCut/all_combined_tracker-aes-2022-06-22/videos/Rear3 06.30.2021 (1of2).mp4\n",
            "New videos were added to the project! Use the function 'extract_frames' to select frames for labeling.\n",
            "The outlier frames are extracted. They are stored in the subdirectory labeled-data\\Rear3 06.30.2021 (1of2).\n",
            "Once you extracted frames for all videos, use 'refine_labels' to manually correct the labels.\n"
          ]
        },
        {
          "name": "stderr",
          "output_type": "stream",
          "text": [
            "/usr/local/lib/python3.7/dist-packages/deeplabcut/refine_training_dataset/outlier_frames.py:390: FutureWarning: Using the level keyword in DataFrame and Series aggregations is deprecated and will be removed in a future version. Use groupby instead. df.sum(level=1) should use df.groupby(level=1).sum().\n",
            "  sum_ = temp_dt.sum(axis=1, level=1)\n"
          ]
        },
        {
          "name": "stdout",
          "output_type": "stream",
          "text": [
            "Method  jump  found  149  putative outlier frames.\n",
            "Do you want to proceed with extracting  20  of those?\n",
            "If this list is very large, perhaps consider changing the parameters (start, stop, p_bound, comparisonbodyparts) or use a different method.\n",
            "Frames from video MsOpto 23 05.18.2021 (1of2)  already extracted (more will be added)!\n",
            "Loading video...\n",
            "Duration of video [s]:  106.47098065376917 , recorded @  29.98 fps!\n",
            "Overall # of frames:  3192 with (cropped) frame dimensions: \n",
            "Kmeans-quantization based extracting of frames from 0.0  seconds to 106.47  seconds.\n",
            "Extracting and downsampling... 149  frames from the video.\n"
          ]
        },
        {
          "name": "stderr",
          "output_type": "stream",
          "text": [
            "149it [00:55,  2.71it/s]\n"
          ]
        },
        {
          "name": "stdout",
          "output_type": "stream",
          "text": [
            "Kmeans clustering ... (this might take a while)\n",
            "Let's select frames indices: [2235, 1372, 2752, 1866, 2884, 2605, 107, 2244, 2275, 422, 1883, 2694, 2791, 2260, 1909, 2600, 749, 2779, 2784, 2241]\n",
            "Attempting to create a symbolic link of the video ...\n",
            "Symlink creation impossible (exFat architecture?): cutting/pasting the video instead.\n",
            "/content/drive/My Drive/Projects/DeepLabCut/all_combined_tracker-aes-2022-06-22/videos/MsOpto 23 05.18.2021 (1of2).mp4 moved to /content/drive/My Drive/Projects/DeepLabCut/all_combined_tracker-aes-2022-06-22/videos/MsOpto 23 05.18.2021 (1of2).mp4\n",
            "New videos were added to the project! Use the function 'extract_frames' to select frames for labeling.\n",
            "The outlier frames are extracted. They are stored in the subdirectory labeled-data\\MsOpto 23 05.18.2021 (1of2).\n",
            "Once you extracted frames for all videos, use 'refine_labels' to manually correct the labels.\n"
          ]
        },
        {
          "name": "stderr",
          "output_type": "stream",
          "text": [
            "/usr/local/lib/python3.7/dist-packages/deeplabcut/refine_training_dataset/outlier_frames.py:390: FutureWarning: Using the level keyword in DataFrame and Series aggregations is deprecated and will be removed in a future version. Use groupby instead. df.sum(level=1) should use df.groupby(level=1).sum().\n",
            "  sum_ = temp_dt.sum(axis=1, level=1)\n"
          ]
        },
        {
          "name": "stdout",
          "output_type": "stream",
          "text": [
            "Method  jump  found  817  putative outlier frames.\n",
            "Do you want to proceed with extracting  20  of those?\n",
            "If this list is very large, perhaps consider changing the parameters (start, stop, p_bound, comparisonbodyparts) or use a different method.\n",
            "Frames from video RC8_220208_1of2  already extracted (more will be added)!\n",
            "Loading video...\n",
            "Duration of video [s]:  271.28085390260173 , recorded @  29.98 fps!\n",
            "Overall # of frames:  8133 with (cropped) frame dimensions: \n",
            "Kmeans-quantization based extracting of frames from 0.0  seconds to 271.28  seconds.\n",
            "Extracting and downsampling... 817  frames from the video.\n"
          ]
        },
        {
          "name": "stderr",
          "output_type": "stream",
          "text": [
            "817it [05:20,  2.55it/s]\n"
          ]
        },
        {
          "name": "stdout",
          "output_type": "stream",
          "text": [
            "Kmeans clustering ... (this might take a while)\n",
            "Let's select frames indices: [5469, 6572, 7166, 6938, 3596, 4410, 4070, 876, 6719, 7716, 6825, 5106, 3706, 866, 711, 781, 6225, 628, 860, 6757]\n",
            "Attempting to create a symbolic link of the video ...\n",
            "Symlink creation impossible (exFat architecture?): cutting/pasting the video instead.\n",
            "/content/drive/My Drive/Projects/DeepLabCut/all_combined_tracker-aes-2022-06-22/videos/RC8_220208_1of2.mp4 moved to /content/drive/My Drive/Projects/DeepLabCut/all_combined_tracker-aes-2022-06-22/videos/RC8_220208_1of2.mp4\n",
            "New videos were added to the project! Use the function 'extract_frames' to select frames for labeling.\n",
            "The outlier frames are extracted. They are stored in the subdirectory labeled-data\\RC8_220208_1of2.\n",
            "Once you extracted frames for all videos, use 'refine_labels' to manually correct the labels.\n"
          ]
        },
        {
          "name": "stderr",
          "output_type": "stream",
          "text": [
            "/usr/local/lib/python3.7/dist-packages/deeplabcut/refine_training_dataset/outlier_frames.py:390: FutureWarning: Using the level keyword in DataFrame and Series aggregations is deprecated and will be removed in a future version. Use groupby instead. df.sum(level=1) should use df.groupby(level=1).sum().\n",
            "  sum_ = temp_dt.sum(axis=1, level=1)\n"
          ]
        },
        {
          "name": "stdout",
          "output_type": "stream",
          "text": [
            "Method  jump  found  291  putative outlier frames.\n",
            "Do you want to proceed with extracting  20  of those?\n",
            "If this list is very large, perhaps consider changing the parameters (start, stop, p_bound, comparisonbodyparts) or use a different method.\n",
            "Frames from video RC7_220126_1of2  already extracted (more will be added)!\n",
            "Loading video...\n",
            "Duration of video [s]:  159.27284856571046 , recorded @  29.98 fps!\n",
            "Overall # of frames:  4775 with (cropped) frame dimensions: \n",
            "Kmeans-quantization based extracting of frames from 0.0  seconds to 159.27  seconds.\n",
            "Extracting and downsampling... 291  frames from the video.\n"
          ]
        },
        {
          "name": "stderr",
          "output_type": "stream",
          "text": [
            "291it [01:57,  2.47it/s]\n"
          ]
        },
        {
          "name": "stdout",
          "output_type": "stream",
          "text": [
            "Kmeans clustering ... (this might take a while)\n",
            "Let's select frames indices: [3383, 2138, 3978, 4500, 2334, 2767, 2367, 3083, 2693, 3540, 4703, 3476, 25, 1985, 2296, 4363, 3453, 2348, 1224, 2337]\n",
            "Attempting to create a symbolic link of the video ...\n",
            "Symlink creation impossible (exFat architecture?): cutting/pasting the video instead.\n",
            "/content/drive/My Drive/Projects/DeepLabCut/all_combined_tracker-aes-2022-06-22/videos/RC7_220126_1of2.mp4 moved to /content/drive/My Drive/Projects/DeepLabCut/all_combined_tracker-aes-2022-06-22/videos/RC7_220126_1of2.mp4\n",
            "New videos were added to the project! Use the function 'extract_frames' to select frames for labeling.\n",
            "The outlier frames are extracted. They are stored in the subdirectory labeled-data\\RC7_220126_1of2.\n",
            "Once you extracted frames for all videos, use 'refine_labels' to manually correct the labels.\n",
            "Method  jump "
          ]
        },
        {
          "name": "stderr",
          "output_type": "stream",
          "text": [
            "/usr/local/lib/python3.7/dist-packages/deeplabcut/refine_training_dataset/outlier_frames.py:390: FutureWarning: Using the level keyword in DataFrame and Series aggregations is deprecated and will be removed in a future version. Use groupby instead. df.sum(level=1) should use df.groupby(level=1).sum().\n",
            "  sum_ = temp_dt.sum(axis=1, level=1)\n"
          ]
        },
        {
          "name": "stdout",
          "output_type": "stream",
          "text": [
            " found  360  putative outlier frames.\n",
            "Do you want to proceed with extracting  20  of those?\n",
            "If this list is very large, perhaps consider changing the parameters (start, stop, p_bound, comparisonbodyparts) or use a different method.\n",
            "Frames from video MsOpto 25 06.11.2021 (1of2)  already extracted (more will be added)!\n",
            "Loading video...\n",
            "Duration of video [s]:  154.4362908605737 , recorded @  29.98 fps!\n",
            "Overall # of frames:  4630 with (cropped) frame dimensions: \n",
            "Kmeans-quantization based extracting of frames from 0.0  seconds to 154.44  seconds.\n",
            "Extracting and downsampling... 360  frames from the video.\n"
          ]
        },
        {
          "name": "stderr",
          "output_type": "stream",
          "text": [
            "359it [02:21,  2.26it/s]"
          ]
        }
      ],
      "source": [
        "deeplabcut.extract_outlier_frames(path_config_file,testVideo_path,videotype='mp4', automatic=True)"
      ]
    },
    {
      "cell_type": "markdown",
      "metadata": {
        "id": "lge_Qt2nukyk"
      },
      "source": [
        "**That was step 1. Now. . .**\n",
        "Now you will need to go back to a computer with GUI capability (i.e., not Colab; e.g., Skywalker or your laptop) and 'refine_labels'. This is done with the GUI. Specifically-\n",
        "\n",
        "\n",
        "*   Open the GUI\n",
        "*   Select the config file for this project and load the project\n",
        "*   Click on the last tab\n",
        "*   Click LAUNCH\n",
        "*   Click on 'Load labels' (button bottom left of pop-up)\n",
        "*   Choose a folder in the 'labeled_videos' folder, select the 'machinelabels*.h5' file.\n",
        "*   Continue like you were labeling the videos the first time. There will already be labels placed by the network. Most of the time one or more will be wrong. Your job is to fix them. Be sure to hit save (often and) when you're done.\n",
        "\n",
        "\n"
      ]
    },
    {
      "cell_type": "code",
      "execution_count": null,
      "metadata": {
        "id": "Cgu5UjHnuZ0L"
      },
      "outputs": [],
      "source": [
        "deeplabcut.merge_datasets(path_config_file)"
      ]
    },
    {
      "cell_type": "code",
      "execution_count": null,
      "metadata": {
        "id": "rlb8KMptQM2B"
      },
      "outputs": [],
      "source": [
        "deeplabcut.create_training_dataset(path_config_file, net_type='resnet_50', augmenter_type='imgaug')"
      ]
    },
    {
      "cell_type": "markdown",
      "metadata": {
        "id": "VxMASEWSCUaO"
      },
      "source": [
        "If you want to pick up training from where you left off before - \n",
        "*    Find the train subdirectory within the dlc-models directory and look for the latest snapshot. Open the pose_cfg.yaml file within the same folder and edit the parameter init_weights: '-snapshot-10000' without any filetype ending\n",
        "*   It probably previously said /Users/ehren/opt/anaconda3/envs/DEEPLABCUT_M1/lib/python3.7/site-packages/deeplabcut/pose_estimation_tensorflow/models/pretrained/resnet_v1_50.ckpt"
      ]
    },
    {
      "cell_type": "code",
      "execution_count": null,
      "metadata": {
        "colab": {
          "base_uri": "https://localhost:8080/",
          "height": 1000
        },
        "id": "2AduKTZsDWVr",
        "outputId": "e3fa70e5-e76a-48c1-cbc1-555f5c2f76d7"
      },
      "outputs": [
        {
          "name": "stderr",
          "output_type": "stream",
          "text": [
            "Config:\n",
            "{'all_joints': [[0], [1], [2], [3]],\n",
            " 'all_joints_names': ['bodypart1', 'bodypart2', 'bodypart3', 'objectA'],\n",
            " 'alpha_r': 0.02,\n",
            " 'apply_prob': 0.5,\n",
            " 'batch_size': 1,\n",
            " 'clahe': True,\n",
            " 'claheratio': 0.1,\n",
            " 'crop_pad': 0,\n",
            " 'cropratio': 0.4,\n",
            " 'dataset': 'training-datasets/iteration-0/UnaugmentedDataSet_all_combined_trackerJun22/all_combined_tracker_jic95shuffle1.mat',\n",
            " 'dataset_type': 'imgaug',\n",
            " 'decay_steps': 30000,\n",
            " 'deterministic': False,\n",
            " 'display_iters': 1000,\n",
            " 'edge': False,\n",
            " 'emboss': {'alpha': [0.0, 1.0], 'embossratio': 0.1, 'strength': [0.5, 1.5]},\n",
            " 'fg_fraction': 0.25,\n",
            " 'global_scale': 0.8,\n",
            " 'histeq': True,\n",
            " 'histeqratio': 0.1,\n",
            " 'init_weights': '/content/drive/My '\n",
            "                 'Drive/Projects/DeepLabCut/all_combined_tracker-aes-2022-06-22/dlc-models/iteration-0/all_combined_trackerJun22-trainset95shuffle1/snapshot-292000',\n",
            " 'intermediate_supervision': False,\n",
            " 'intermediate_supervision_layer': 12,\n",
            " 'location_refinement': True,\n",
            " 'locref_huber_loss': True,\n",
            " 'locref_loss_weight': 0.05,\n",
            " 'locref_stdev': 7.2801,\n",
            " 'log_dir': 'log',\n",
            " 'lr_init': 0.0005,\n",
            " 'max_input_size': 1500,\n",
            " 'mean_pixel': [123.68, 116.779, 103.939],\n",
            " 'metadataset': 'training-datasets/iteration-0/UnaugmentedDataSet_all_combined_trackerJun22/Documentation_data-all_combined_tracker_95shuffle1.pickle',\n",
            " 'min_input_size': 64,\n",
            " 'mirror': False,\n",
            " 'multi_stage': False,\n",
            " 'multi_step': [[0.005, 10000],\n",
            "                [0.02, 430000],\n",
            "                [0.002, 730000],\n",
            "                [0.001, 1030000]],\n",
            " 'net_type': 'resnet_50',\n",
            " 'num_joints': 4,\n",
            " 'optimizer': 'sgd',\n",
            " 'pairwise_huber_loss': False,\n",
            " 'pairwise_predict': False,\n",
            " 'partaffinityfield_predict': False,\n",
            " 'pos_dist_thresh': 17,\n",
            " 'project_path': '/content/drive/My '\n",
            "                 'Drive/Projects/DeepLabCut/all_combined_tracker-aes-2022-06-22',\n",
            " 'regularize': False,\n",
            " 'rotation': 25,\n",
            " 'rotratio': 0.4,\n",
            " 'save_iters': 50000,\n",
            " 'scale_jitter_lo': 0.5,\n",
            " 'scale_jitter_up': 1.25,\n",
            " 'scoremap_dir': 'test',\n",
            " 'sharpen': False,\n",
            " 'sharpenratio': 0.3,\n",
            " 'shuffle': True,\n",
            " 'snapshot_prefix': '/content/drive/My '\n",
            "                    'Drive/Projects/DeepLabCut/all_combined_tracker-aes-2022-06-22/dlc-models/iteration-0/all_combined_trackerJun22-trainset95shuffle1/train/snapshot',\n",
            " 'stride': 8.0,\n",
            " 'weigh_negatives': False,\n",
            " 'weigh_only_present_joints': False,\n",
            " 'weigh_part_predictions': False,\n",
            " 'weight_decay': 0.0001}\n"
          ]
        },
        {
          "name": "stdout",
          "output_type": "stream",
          "text": [
            "Selecting single-animal trainer\n",
            "Batch Size is 1\n",
            "Loading already trained DLC with backbone: resnet_50\n"
          ]
        },
        {
          "ename": "ValueError",
          "evalue": "ignored",
          "output_type": "error",
          "traceback": [
            "\u001b[0;31m---------------------------------------------------------------------------\u001b[0m",
            "\u001b[0;31mValueError\u001b[0m                                Traceback (most recent call last)",
            "\u001b[0;32m<ipython-input-6-abed0cd29d15>\u001b[0m in \u001b[0;36m<module>\u001b[0;34m()\u001b[0m\n\u001b[0;32m----> 1\u001b[0;31m \u001b[0mdeeplabcut\u001b[0m\u001b[0;34m.\u001b[0m\u001b[0mtrain_network\u001b[0m\u001b[0;34m(\u001b[0m\u001b[0mpath_config_file\u001b[0m\u001b[0;34m,\u001b[0m \u001b[0mshuffle\u001b[0m\u001b[0;34m=\u001b[0m\u001b[0;36m1\u001b[0m\u001b[0;34m,\u001b[0m\u001b[0mdisplayiters\u001b[0m\u001b[0;34m=\u001b[0m\u001b[0;36m100\u001b[0m\u001b[0;34m,\u001b[0m\u001b[0msaveiters\u001b[0m\u001b[0;34m=\u001b[0m\u001b[0;36m2000\u001b[0m\u001b[0;34m)\u001b[0m\u001b[0;34m\u001b[0m\u001b[0;34m\u001b[0m\u001b[0m\n\u001b[0m",
            "\u001b[0;32m/usr/local/lib/python3.7/dist-packages/deeplabcut/pose_estimation_tensorflow/training.py\u001b[0m in \u001b[0;36mtrain_network\u001b[0;34m(config, shuffle, trainingsetindex, max_snapshots_to_keep, displayiters, saveiters, maxiters, allow_growth, gputouse, autotune, keepdeconvweights, modelprefix)\u001b[0m\n\u001b[1;32m    216\u001b[0m \u001b[0;34m\u001b[0m\u001b[0m\n\u001b[1;32m    217\u001b[0m     \u001b[0;32mexcept\u001b[0m \u001b[0mBaseException\u001b[0m \u001b[0;32mas\u001b[0m \u001b[0me\u001b[0m\u001b[0;34m:\u001b[0m\u001b[0;34m\u001b[0m\u001b[0;34m\u001b[0m\u001b[0m\n\u001b[0;32m--> 218\u001b[0;31m         \u001b[0;32mraise\u001b[0m \u001b[0me\u001b[0m\u001b[0;34m\u001b[0m\u001b[0;34m\u001b[0m\u001b[0m\n\u001b[0m\u001b[1;32m    219\u001b[0m     \u001b[0;32mfinally\u001b[0m\u001b[0;34m:\u001b[0m\u001b[0;34m\u001b[0m\u001b[0;34m\u001b[0m\u001b[0m\n\u001b[1;32m    220\u001b[0m         \u001b[0mos\u001b[0m\u001b[0;34m.\u001b[0m\u001b[0mchdir\u001b[0m\u001b[0;34m(\u001b[0m\u001b[0mstr\u001b[0m\u001b[0;34m(\u001b[0m\u001b[0mstart_path\u001b[0m\u001b[0;34m)\u001b[0m\u001b[0;34m)\u001b[0m\u001b[0;34m\u001b[0m\u001b[0;34m\u001b[0m\u001b[0m\n",
            "\u001b[0;32m/usr/local/lib/python3.7/dist-packages/deeplabcut/pose_estimation_tensorflow/training.py\u001b[0m in \u001b[0;36mtrain_network\u001b[0;34m(config, shuffle, trainingsetindex, max_snapshots_to_keep, displayiters, saveiters, maxiters, allow_growth, gputouse, autotune, keepdeconvweights, modelprefix)\u001b[0m\n\u001b[1;32m    212\u001b[0m                 \u001b[0mmax_to_keep\u001b[0m\u001b[0;34m=\u001b[0m\u001b[0mmax_snapshots_to_keep\u001b[0m\u001b[0;34m,\u001b[0m\u001b[0;34m\u001b[0m\u001b[0;34m\u001b[0m\u001b[0m\n\u001b[1;32m    213\u001b[0m                 \u001b[0mkeepdeconvweights\u001b[0m\u001b[0;34m=\u001b[0m\u001b[0mkeepdeconvweights\u001b[0m\u001b[0;34m,\u001b[0m\u001b[0;34m\u001b[0m\u001b[0;34m\u001b[0m\u001b[0m\n\u001b[0;32m--> 214\u001b[0;31m                 \u001b[0mallow_growth\u001b[0m\u001b[0;34m=\u001b[0m\u001b[0mallow_growth\u001b[0m\u001b[0;34m,\u001b[0m\u001b[0;34m\u001b[0m\u001b[0;34m\u001b[0m\u001b[0m\n\u001b[0m\u001b[1;32m    215\u001b[0m             )  # pass on path and file name for pose_cfg.yaml!\n\u001b[1;32m    216\u001b[0m \u001b[0;34m\u001b[0m\u001b[0m\n",
            "\u001b[0;32m/usr/local/lib/python3.7/dist-packages/deeplabcut/pose_estimation_tensorflow/core/train.py\u001b[0m in \u001b[0;36mtrain\u001b[0;34m(config_yaml, displayiters, saveiters, maxiters, max_to_keep, keepdeconvweights, allow_growth)\u001b[0m\n\u001b[1;32m    231\u001b[0m \u001b[0;34m\u001b[0m\u001b[0m\n\u001b[1;32m    232\u001b[0m     \u001b[0;31m# Restore variables from disk.\u001b[0m\u001b[0;34m\u001b[0m\u001b[0;34m\u001b[0m\u001b[0;34m\u001b[0m\u001b[0m\n\u001b[0;32m--> 233\u001b[0;31m     \u001b[0mrestorer\u001b[0m\u001b[0;34m.\u001b[0m\u001b[0mrestore\u001b[0m\u001b[0;34m(\u001b[0m\u001b[0msess\u001b[0m\u001b[0;34m,\u001b[0m \u001b[0mcfg\u001b[0m\u001b[0;34m[\u001b[0m\u001b[0;34m\"init_weights\"\u001b[0m\u001b[0;34m]\u001b[0m\u001b[0;34m)\u001b[0m\u001b[0;34m\u001b[0m\u001b[0;34m\u001b[0m\u001b[0m\n\u001b[0m\u001b[1;32m    234\u001b[0m     \u001b[0;32mif\u001b[0m \u001b[0mmaxiters\u001b[0m \u001b[0;32mis\u001b[0m \u001b[0;32mNone\u001b[0m\u001b[0;34m:\u001b[0m\u001b[0;34m\u001b[0m\u001b[0;34m\u001b[0m\u001b[0m\n\u001b[1;32m    235\u001b[0m         \u001b[0mmax_iter\u001b[0m \u001b[0;34m=\u001b[0m \u001b[0mint\u001b[0m\u001b[0;34m(\u001b[0m\u001b[0mcfg\u001b[0m\u001b[0;34m[\u001b[0m\u001b[0;34m\"multi_step\"\u001b[0m\u001b[0;34m]\u001b[0m\u001b[0;34m[\u001b[0m\u001b[0;34m-\u001b[0m\u001b[0;36m1\u001b[0m\u001b[0;34m]\u001b[0m\u001b[0;34m[\u001b[0m\u001b[0;36m1\u001b[0m\u001b[0;34m]\u001b[0m\u001b[0;34m)\u001b[0m\u001b[0;34m\u001b[0m\u001b[0;34m\u001b[0m\u001b[0m\n",
            "\u001b[0;32m/tensorflow-1.15.2/python3.7/tensorflow_core/python/training/saver.py\u001b[0m in \u001b[0;36mrestore\u001b[0;34m(self, sess, save_path)\u001b[0m\n\u001b[1;32m   1280\u001b[0m     \u001b[0;32mif\u001b[0m \u001b[0;32mnot\u001b[0m \u001b[0mcheckpoint_management\u001b[0m\u001b[0;34m.\u001b[0m\u001b[0mcheckpoint_exists_internal\u001b[0m\u001b[0;34m(\u001b[0m\u001b[0mcheckpoint_prefix\u001b[0m\u001b[0;34m)\u001b[0m\u001b[0;34m:\u001b[0m\u001b[0;34m\u001b[0m\u001b[0;34m\u001b[0m\u001b[0m\n\u001b[1;32m   1281\u001b[0m       raise ValueError(\"The passed save_path is not a valid checkpoint: \" +\n\u001b[0;32m-> 1282\u001b[0;31m                        checkpoint_prefix)\n\u001b[0m\u001b[1;32m   1283\u001b[0m \u001b[0;34m\u001b[0m\u001b[0m\n\u001b[1;32m   1284\u001b[0m     \u001b[0mlogging\u001b[0m\u001b[0;34m.\u001b[0m\u001b[0minfo\u001b[0m\u001b[0;34m(\u001b[0m\u001b[0;34m\"Restoring parameters from %s\"\u001b[0m\u001b[0;34m,\u001b[0m \u001b[0mcheckpoint_prefix\u001b[0m\u001b[0;34m)\u001b[0m\u001b[0;34m\u001b[0m\u001b[0;34m\u001b[0m\u001b[0m\n",
            "\u001b[0;31mValueError\u001b[0m: The passed save_path is not a valid checkpoint: /content/drive/My Drive/Projects/DeepLabCut/all_combined_tracker-aes-2022-06-22/dlc-models/iteration-0/all_combined_trackerJun22-trainset95shuffle1/snapshot-292000"
          ]
        }
      ],
      "source": [
        "deeplabcut.train_network(path_config_file, shuffle=1,displayiters=100,saveiters=2000)"
      ]
    },
    {
      "cell_type": "markdown",
      "metadata": {
        "id": "Q_ZZU4TemajC"
      },
      "source": [
        "# PUT THAT NETWORK TO WORK!!"
      ]
    },
    {
      "cell_type": "markdown",
      "metadata": {
        "id": "t-WFK7zAmYra"
      },
      "source": [
        "You did it! Really! If you made it this far, your network should be working nicely. If not, repeat the last two blocks until you are happy with the way it is working. Once you are happy with it, now you can use the following commands to label your videos. . .\n",
        "\n",
        "If you're wondering if it is working well, try the following lines out. Look at the labeled videos and analyze the csv file coordinates. If the video is accurately labelled and the coordinates in the csv file are stable (i.e., don't jump around) then your network is likely working well! Just watch for when the rat does strange things, the networks struggle most with these. . . "
      ]
    },
    {
      "cell_type": "markdown",
      "metadata": {
        "id": "K7EdyGryoJ5g"
      },
      "source": [
        "**Instructions**:\n",
        "\n",
        "\n",
        "*   Put your videos that you want analyzed into the folder pointed to by 'testVideo_path'. This is likely the folder called 'videos' in your project folder. \n",
        "*   Call the following two commands. Technically, only the first is required. This creates the csv file that matlab will use to analyze the data. The second, however, is useful if you want to preview how well the network labeled the video: it will re-create the video with little dots superimposed on it showing where the network thought each body part was.\n",
        "\n",
        "*   These commands will put their output files (the csv and labeled video) into the same folder as where you put your videos to be analyzed. \n",
        "*    Once each video has been processed, you can remove them from the Google Drive folder and put them back in the appropriate place on the Dropbox file system (e.g., in your project folder or with the original video)."
      ]
    },
    {
      "cell_type": "code",
      "execution_count": null,
      "metadata": {
        "id": "g7O4r32i7fTa"
      },
      "outputs": [],
      "source": [
        "%matplotlib notebook\n",
        "deeplabcut.evaluate_network(path_config_file,plotting=False)"
      ]
    },
    {
      "cell_type": "code",
      "execution_count": null,
      "metadata": {
        "colab": {
          "base_uri": "https://localhost:8080/",
          "height": 1000
        },
        "id": "joSkxuFMn2Si",
        "outputId": "da615775-8dc0-4c2e-9d16-f5d65c16696c"
      },
      "outputs": [
        {
          "name": "stdout",
          "output_type": "stream",
          "text": [
            "Using snapshot-1030000 for model /content/drive/My Drive/Projects/DeepLabCut/rear2tracker-jic-2022-01-26/dlc-models/iteration-1/rear2trackerJan26-trainset95shuffle1\n",
            "Analyzing all the videos in the directory...\n",
            "Starting to analyze %  /content/drive/My Drive/Projects/DeepLabCut/rear2tracker-jic-2022-01-26/videos/Rear2 10.11.2021 (1of2) Trial-Stim.mp4\n",
            "Loading  /content/drive/My Drive/Projects/DeepLabCut/rear2tracker-jic-2022-01-26/videos/Rear2 10.11.2021 (1of2) Trial-Stim.mp4\n",
            "Duration of video [s]:  266.0 , recorded with  29.98 fps!\n",
            "Overall # of frames:  7974  found with (before cropping) frame dimensions:  1920 1080\n",
            "Starting to extract posture\n"
          ]
        },
        {
          "name": "stderr",
          "output_type": "stream",
          "text": [
            " 99%|█████████▉| 7900/7974 [12:03<00:06, 10.92it/s]\n"
          ]
        },
        {
          "name": "stdout",
          "output_type": "stream",
          "text": [
            "Saving results in /content/drive/My Drive/Projects/DeepLabCut/rear2tracker-jic-2022-01-26/videos...\n",
            "Saving csv poses!\n",
            "The videos are analyzed. Now your research can truly start! \n",
            " You can create labeled videos with 'create_labeled_video'\n",
            "If the tracking is not satisfactory for some videos, consider expanding the training set. You can use the function 'extract_outlier_frames' to extract a few representative outlier frames.\n"
          ]
        },
        {
          "data": {
            "application/vnd.google.colaboratory.intrinsic+json": {
              "type": "string"
            },
            "text/plain": [
              "'DLC_resnet50_rear2trackerJan26shuffle1_1030000'"
            ]
          },
          "execution_count": 8,
          "metadata": {},
          "output_type": "execute_result"
        }
      ],
      "source": [
        "deeplabcut.analyze_videos(path_config_file,testVideo_path, videotype='mp4', save_as_csv=True)\n",
        "#deeplabcut.create_labeled_video(path_config_file,testVideo_path, videotype='mp4',draw_skeleton=False,save_frames=False)"
      ]
    },
    {
      "cell_type": "code",
      "execution_count": null,
      "metadata": {
        "id": "J2JjL0GJi6YT"
      },
      "outputs": [],
      "source": [
        "#Analyzing frames from new animals, produces machine labels\n",
        "#Change \"FolderName\" to specific Project Folder if analyzing videos from multiple projects at once\n",
        "\n",
        "FolderName = 'msopto22tracker-jic-2022-02-17'\n",
        "\n",
        "new_videos = ['/content/drive/My Drive/Projects/DeepLabCut/'+FolderName+'/videos/MS opto 22 07.30.2021 retrain (1 of 2)', '/content/drive/My Drive/Projects/DeepLabCut/'+FolderName+'/videos/MsOpto 22 02.08.2021 (1of2)', \n",
        "              '/content/drive/My Drive/Projects/DeepLabCut/'+FolderName+'/videos/MsOpto 22 03.11.2021 (1of2)', '/content/drive/My Drive/Projects/DeepLabCut/'+FolderName+'/videos/MsOpto 22 06.14.2021 (1of2)']\n",
        "\n",
        "deeplabcut.analyze_videos(path_config_file,new_videos, videotype='mp4', save_as_csv=True)"
      ]
    },
    {
      "cell_type": "code",
      "execution_count": null,
      "metadata": {
        "id": "tHU08G6KE30Q"
      },
      "outputs": [],
      "source": [
        "deeplabcut.create_labeled_video(path_config_file,new_videos, videotype='mp4',draw_skeleton=False,save_frames=False)"
      ]
    }
  ],
  "metadata": {
    "accelerator": "GPU",
    "colab": {
      "collapsed_sections": [],
      "name": "all_combined_tracker_RearingAnalyzer_220615.ipynb",
      "provenance": []
    },
    "kernelspec": {
      "display_name": "Python 3",
      "name": "python3"
    },
    "language_info": {
      "name": "python"
    }
  },
  "nbformat": 4,
  "nbformat_minor": 0
}
